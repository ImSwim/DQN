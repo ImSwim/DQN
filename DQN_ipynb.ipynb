{
  "cells": [
    {
      "cell_type": "code",
      "source": [
        "! pip install python_tsp"
      ],
      "metadata": {
        "colab": {
          "base_uri": "https://localhost:8080/"
        },
        "id": "h2pXGa-ArJGs",
        "outputId": "36d39008-7885-405a-c085-7222074c5f44"
      },
      "execution_count": 85,
      "outputs": [
        {
          "output_type": "stream",
          "name": "stdout",
          "text": [
            "Requirement already satisfied: python_tsp in /usr/local/lib/python3.10/dist-packages (0.4.0)\n",
            "Requirement already satisfied: numpy<2.0.0,>=1.23.5 in /usr/local/lib/python3.10/dist-packages (from python_tsp) (1.23.5)\n",
            "Requirement already satisfied: requests<3.0.0,>=2.28.0 in /usr/local/lib/python3.10/dist-packages (from python_tsp) (2.31.0)\n",
            "Requirement already satisfied: tsplib95<0.8.0,>=0.7.1 in /usr/local/lib/python3.10/dist-packages (from python_tsp) (0.7.1)\n",
            "Requirement already satisfied: charset-normalizer<4,>=2 in /usr/local/lib/python3.10/dist-packages (from requests<3.0.0,>=2.28.0->python_tsp) (3.3.2)\n",
            "Requirement already satisfied: idna<4,>=2.5 in /usr/local/lib/python3.10/dist-packages (from requests<3.0.0,>=2.28.0->python_tsp) (3.6)\n",
            "Requirement already satisfied: urllib3<3,>=1.21.1 in /usr/local/lib/python3.10/dist-packages (from requests<3.0.0,>=2.28.0->python_tsp) (2.0.7)\n",
            "Requirement already satisfied: certifi>=2017.4.17 in /usr/local/lib/python3.10/dist-packages (from requests<3.0.0,>=2.28.0->python_tsp) (2023.11.17)\n",
            "Requirement already satisfied: Click>=6.0 in /usr/local/lib/python3.10/dist-packages (from tsplib95<0.8.0,>=0.7.1->python_tsp) (8.1.7)\n",
            "Requirement already satisfied: Deprecated~=1.2.9 in /usr/local/lib/python3.10/dist-packages (from tsplib95<0.8.0,>=0.7.1->python_tsp) (1.2.14)\n",
            "Requirement already satisfied: networkx~=2.1 in /usr/local/lib/python3.10/dist-packages (from tsplib95<0.8.0,>=0.7.1->python_tsp) (2.8.8)\n",
            "Requirement already satisfied: tabulate~=0.8.7 in /usr/local/lib/python3.10/dist-packages (from tsplib95<0.8.0,>=0.7.1->python_tsp) (0.8.10)\n",
            "Requirement already satisfied: wrapt<2,>=1.10 in /usr/local/lib/python3.10/dist-packages (from Deprecated~=1.2.9->tsplib95<0.8.0,>=0.7.1->python_tsp) (1.14.1)\n"
          ]
        }
      ]
    },
    {
      "cell_type": "code",
      "execution_count": 86,
      "metadata": {
        "colab": {
          "base_uri": "https://localhost:8080/"
        },
        "id": "s__le6b4xzmS",
        "outputId": "f275da3d-0d8a-4b30-d5e7-98d8da263630"
      },
      "outputs": [
        {
          "output_type": "stream",
          "name": "stdout",
          "text": [
            "1/1 [==============================] - 1s 688ms/step - loss: 0.9700\n",
            "1/1 [==============================] - 0s 60ms/step\n",
            "[[1.2476184  1.18904    1.2200441  1.7473732  1.5378778  1.2865838\n",
            "  0.94348234 1.2788025  0.799048   1.0779693 ]]\n"
          ]
        }
      ],
      "source": [
        "import numpy as np\n",
        "from collections import deque\n",
        "import random\n",
        "import copy\n",
        "import math\n",
        "import tensorflow as tf\n",
        "import keras\n",
        "from python_tsp.exact import solve_tsp_dynamic_programming\n",
        "import numpy as np\n",
        "\n",
        "# Modeling\n",
        "def QNet(input_shape, output_shape):\n",
        "  optimizer = tf.keras.optimizers.Adam(learning_rate=0.01)\n",
        "  criterion = tf.losses.MeanSquaredError()\n",
        "  Qnet = tf.keras.Sequential([\n",
        "         tf.keras.layers.Dense(units=256, activation='relu', input_shape=(input_shape,)),\n",
        "         tf.keras.layers.Dense(units=256, activation='relu'),\n",
        "         tf.keras.layers.Dense(units=output_shape, activation='linear')\n",
        "        ])\n",
        "  Qnet.compile(optimizer=optimizer, loss=criterion)\n",
        "\n",
        "  return Qnet\n",
        "\n",
        "# 예시 데이터\n",
        "\n",
        "input_shape = 10  # 예시 입력 차원\n",
        "output_shape = 10  # 예시 출력 차원\n",
        "input_data = tf.constant([[1.0] * input_shape], dtype=tf.float32)\n",
        "\n",
        "# 학습 예시\n",
        "model = QNet(input_shape, output_shape)\n",
        "model.fit(input_data, input_data, batch_size=1)\n",
        "\n",
        "# 예측 예시\n",
        "output_data = model.predict(input_data)\n",
        "print(output_data)"
      ]
    },
    {
      "cell_type": "code",
      "execution_count": 87,
      "metadata": {
        "id": "b3ACvr5YYxpj"
      },
      "outputs": [],
      "source": [
        "def cal_dist(point1, point2):\n",
        "    return math.sqrt((point1[0] - point2[0]) ** 2 + (point1[1] - point2[1]) ** 2)\n",
        "\n",
        "def TSPDistcost(points):\n",
        "    num_points = len(points)\n",
        "    distance_matrix = [[0] * num_points for _ in range(num_points)]\n",
        "\n",
        "    for i in range(num_points):\n",
        "        for j in range(i + 1, num_points):\n",
        "            distance = cal_dist(points[i], points[j])\n",
        "            distance_matrix[i][j] = distance\n",
        "            distance_matrix[j][i] = distance\n",
        "    return distance_matrix\n",
        "\n",
        "def randcoord(numnodes, maxvalue):\n",
        "    nodes = np.random.rand(numnodes, 2) * maxvalue\n",
        "    return nodes\n",
        "\n",
        "def Findoptsol(distance_matrix):\n",
        "    permutation, distance = solve_tsp_dynamic_programming(np.array(distance_matrix))\n",
        "    return permutation, distance"
      ]
    },
    {
      "cell_type": "code",
      "execution_count": 88,
      "metadata": {
        "id": "bvga1VJKYUiJ"
      },
      "outputs": [],
      "source": [
        "class Env():\n",
        "    def __init__(self, points):\n",
        "        self.nodes = points\n",
        "        self.n_stops = len(points)\n",
        "        self.dist_matrix = TSPDistcost(points)\n",
        "        self.start = 0\n",
        "        self.togo = [x for x in range(1, len(points))]\n",
        "        self.visited = [0]\n",
        "        self.done = False\n",
        "\n",
        "    def reset(self):\n",
        "        self.start = 0\n",
        "        self.togo = [x for x in range(1, len(self.nodes))]\n",
        "        self.visited = [0]\n",
        "        self.done = False\n",
        "        return self.start\n",
        "\n",
        "    def step(self, s, a):\n",
        "        s_next = a\n",
        "        re = -self.dist_matrix[s][s_next]\n",
        "        if s_next in self.togo:\n",
        "            k = self.togo.index(s_next)\n",
        "            self.togo.pop(k)\n",
        "            self.visited.append(s_next)\n",
        "        if len(self.togo) == 0:\n",
        "            self.done = True\n",
        "        return s_next, re, self.done"
      ]
    },
    {
      "cell_type": "code",
      "execution_count": 89,
      "metadata": {
        "id": "heQlQEvUYF4w"
      },
      "outputs": [],
      "source": [
        "def create_one_hot_list(length, indices):\n",
        "    one_hot_list = [0] * length\n",
        "\n",
        "    for index in indices:\n",
        "        if 0 <= index < length:\n",
        "            one_hot_list[index] = 1\n",
        "\n",
        "    return one_hot_list\n",
        "\n",
        "def trans(s, visit, length):\n",
        "    currentnode = np.identity(length)[s]\n",
        "    visitednodes = create_one_hot_list(length, visit)\n",
        "    input = np.concatenate([currentnode, visitednodes], axis=0)\n",
        "    return input"
      ]
    },
    {
      "cell_type": "code",
      "execution_count": 90,
      "metadata": {
        "id": "MxJbyM7sYNZd"
      },
      "outputs": [],
      "source": [
        "class Agent():\n",
        "    def __init__(self, states_size, actions_size, buffer_limit=20, batch_size=10, \\\n",
        "                 epsilon_min=0.01, epsilon_decay=0.99, gamma=0.95, lr=0.01, C=10):\n",
        "        self.states_size = states_size\n",
        "        self.actions_size = actions_size\n",
        "        self.batch_size = batch_size\n",
        "        self.buffer_limit = buffer_limit\n",
        "        self.epsilon = 1\n",
        "        self.epsilon_min = epsilon_min\n",
        "        self.epsilon_decay = epsilon_decay\n",
        "        self.gamma = gamma\n",
        "        self.lr = lr\n",
        "        self.C = C\n",
        "        self.Qnet = QNet(states_size, actions_size)\n",
        "        self.Tnet = copy.deepcopy(self.Qnet)\n",
        "        self.buffer = deque(maxlen=buffer_limit)\n",
        "\n",
        "    def reset_memory(self):\n",
        "        self.buffer = deque(maxlen=self.buffer_limit)\n",
        "\n",
        "    def act(self, input):\n",
        "        input = input.reshape(1,-1)\n",
        "        q = self.Qnet.predict(input, verbose=0)\n",
        "        if np.random.rand() > self.epsilon:\n",
        "            a = np.argmax(q)\n",
        "        else:\n",
        "            a = np.random.randint(self.actions_size)\n",
        "        return a\n",
        "\n",
        "    def put(self, s, visit, a, r, s_next):\n",
        "        self.buffer.append((s, visit, a, r, s_next))\n",
        "\n",
        "    def sample(self):\n",
        "        mini_batch = random.sample(self.buffer, self.batch_size)\n",
        "        input_lst, a_lst, r_lst, input_next_lst = [], [], [], []\n",
        "\n",
        "        for transition in mini_batch:\n",
        "            s, visit, a, r, s_next = transition\n",
        "\n",
        "            # s input setting for Q(s,a)\n",
        "            input = trans(s, visit, self.actions_size)\n",
        "            input_lst.append(input)\n",
        "\n",
        "            # s' input setting for max(Q(s_next,a'))\n",
        "            visit.append(s_next)\n",
        "            input_next = trans(s_next, visit, self.actions_size)\n",
        "            input_next_lst.append(input_next)\n",
        "\n",
        "            a_lst.append(a)\n",
        "            r_lst.append(r)\n",
        "\n",
        "        return np.array(input_lst), np.array(a_lst), np.array(r_lst), np.array(input_next_lst)\n",
        "\n",
        "    def train(self):\n",
        "        input_lst, a_lst, r_lst, input_next_lst = self.sample()\n",
        "        print(input_lst.shape, input_next_lst.shape)\n",
        "        y_hat = np.max(self.Qnet.predict(input_lst.T, verbose=0), axis=1)\n",
        "        y = r_lst + self.gamma * np.max(self.Tnet.predict(input_next_lst.T, verbose=0), axis=1)\n",
        "        for i in range(10):\n",
        "          self.Qnet.fit(y_hat[i], y[i], verbose=0)\n",
        "\n",
        "        if self.epsilon > self.epsilon_min:\n",
        "            self.epsilon *= self.epsilon_decay\n",
        "\n",
        "    def netsynch(self):\n",
        "        self.Tnet = copy.deepcopy(self.Qnet)"
      ]
    },
    {
      "cell_type": "code",
      "source": [
        "def run_episode(env, agent, num_episodes, verbose=1):\n",
        "    s = env.reset()\n",
        "    agent.reset_memory()\n",
        "    max_step = env.n_stops\n",
        "    episode_reward = 0\n",
        "\n",
        "    i = 0\n",
        "    while i < max_step:\n",
        "        # Choose an Action\n",
        "        input_data = trans(s, env.visited, max_step)\n",
        "        a = agent.act(input_data)  # e-greedy policy\n",
        "\n",
        "        # Take the action, and get the reward from environment\n",
        "        if a in env.togo:\n",
        "            s_next, r, done = env.step(s, a)\n",
        "\n",
        "            if verbose:\n",
        "                print(s_next, r, done)\n",
        "\n",
        "            # Update Model\n",
        "            # Experience Replay\n",
        "            # put sample\n",
        "            agent.put(s, env.visited, a, r, s_next)\n",
        "            # train Qnet(PredictedNetwork) using a batch of samples in the buffer\n",
        "            if len(agent.buffer) > agent.batch_size:\n",
        "               agent.train()\n",
        "\n",
        "            # TargetNetwork synchronizing with PredictionNetwork\n",
        "            if num_episodes % agent.C == 0 and num_episodes != 0:\n",
        "                agent.netsynch()\n",
        "\n",
        "            # Update the caches\n",
        "            episode_reward += r\n",
        "            s = s_next\n",
        "        else:\n",
        "            r = -500\n",
        "            agent.put(s, env.visited, a, r, a)\n",
        "            episode_reward += r\n",
        "            done = False\n",
        "        # one step is terminated, check if the episode is terminated\n",
        "        i += 1\n",
        "        if done:\n",
        "            env.visited.append(0)\n",
        "            r = 500\n",
        "            agent.put(s, env.visited, a, r, 0)\n",
        "            episode_reward += r\n",
        "            break\n",
        "\n",
        "    return env, agent, episode_reward"
      ],
      "metadata": {
        "id": "mhUgZ2AMq6R0"
      },
      "execution_count": 91,
      "outputs": []
    },
    {
      "cell_type": "code",
      "execution_count": 92,
      "metadata": {
        "colab": {
          "base_uri": "https://localhost:8080/"
        },
        "id": "o3crsZckaSuB",
        "outputId": "e35a9439-d4c6-4ec1-e18e-0f07e0d30ac6"
      },
      "outputs": [
        {
          "metadata": {
            "tags": null
          },
          "name": "stderr",
          "output_type": "stream",
          "text": [
            "WARNING:absl:Skipping variable loading for optimizer 'Adam', because it has 13 variables whereas the saved optimizer has 1 variables. \n"
          ]
        },
        {
          "metadata": {
            "tags": null
          },
          "name": "stdout",
          "output_type": "stream",
          "text": [
            "5 -1.9895625089960105 False\n",
            "3 -4.905091251117594 False\n",
            "6 -6.75623719662853 False\n",
            "2 -8.093492715402329 False\n",
            "1 -7.620784652302808 False\n",
            "7 -8.63933616755769 False\n",
            "Episode 1, Total Reward: -2038.004504492005\n",
            "4 -10.843880223714587 False\n",
            "3 -6.980965374268762 False\n",
            "1 -8.062794569850828 False\n",
            "7 -8.63933616755769 False\n",
            "6 -9.189377103453513 False\n",
            "2 -8.093492715402329 False\n",
            "Episode 2, Total Reward: -2051.8098461542477\n",
            "5 -1.9895625089960105 False\n",
            "6 -2.5146136553162997 False\n",
            "8 -5.004577401674917 False\n",
            "7 -9.21539248558825 False\n",
            "1 -8.63933616755769 False\n",
            "3 -8.062794569850828 False\n",
            "Episode 3, Total Reward: -2035.426276788984\n",
            "9 -8.579293986144062 False\n",
            "3 -5.895412073873364 False\n",
            "4 -6.980965374268762 False\n",
            "8 -9.351745191179539 False\n",
            "7 -9.21539248558825 False\n",
            "5 -6.890753875802023 False\n",
            "1 -3.2013328857401957 False\n",
            "Episode 4, Total Reward: -1550.114895872596\n",
            "7 -8.756186467218008 False\n",
            "4 -4.250813147599771 False\n",
            "8 -9.351745191179539 False\n",
            "1 -6.742121402603406 False\n",
            "Episode 5, Total Reward: -3029.1008662086006\n",
            "9 -8.579293986144062 False\n",
            "5 -6.591803321334266 False\n",
            "7 -6.890753875802023 False\n",
            "1 -8.63933616755769 False\n",
            "4 -11.509995892926003 False\n",
            "2 -4.585675628012074 False\n",
            "Episode 6, Total Reward: -2046.796858871776\n",
            "3 -6.226340755216833 False\n",
            "4 -6.980965374268762 False\n",
            "5 -8.86012987256621 False\n",
            "1 -3.2013328857401957 False\n",
            "9 -9.070180154761154 False\n",
            "8 -7.853704773177191 False\n",
            "Episode 7, Total Reward: -2042.1926538157304\n",
            "5 -1.9895625089960105 False\n",
            "9 -6.591803321334266 False\n",
            "2 -2.2550833802954076 False\n",
            "1 -7.620784652302808 False\n",
            "Episode 8, Total Reward: -3018.4572338629287\n",
            "1 -2.2601094764485308 False\n",
            "4 -11.509995892926003 False\n",
            "2 -4.585675628012074 False\n",
            "3 -6.841918956903541 False\n",
            "9 -5.895412073873364 False\n",
            "5 -6.591803321334266 False\n",
            "8 -4.071101157390693 False\n",
            "Episode 9, Total Reward: -1541.7560165068885\n",
            "6 -0.557563640416601 False\n",
            "5 -2.5146136553162997 False\n",
            "9 -6.591803321334266 False\n",
            "7 -2.3673957673885857 False\n",
            "2 -1.1138456925079876 False\n",
            "Episode 10, Total Reward: -2513.145222076964\n",
            "8 -4.569044986778715 False\n"
          ]
        },
        {
          "metadata": {
            "tags": null
          },
          "name": "stderr",
          "output_type": "stream",
          "text": [
            "WARNING:absl:Skipping variable loading for optimizer 'Adam', because it has 13 variables whereas the saved optimizer has 1 variables. \n",
            "WARNING:absl:Skipping variable loading for optimizer 'Adam', because it has 13 variables whereas the saved optimizer has 1 variables. \n"
          ]
        },
        {
          "metadata": {
            "tags": null
          },
          "name": "stdout",
          "output_type": "stream",
          "text": [
            "7 -9.21539248558825 False\n"
          ]
        },
        {
          "metadata": {
            "tags": null
          },
          "name": "stderr",
          "output_type": "stream",
          "text": [
            "WARNING:absl:Skipping variable loading for optimizer 'Adam', because it has 13 variables whereas the saved optimizer has 1 variables. \n"
          ]
        },
        {
          "metadata": {
            "tags": null
          },
          "name": "stdout",
          "output_type": "stream",
          "text": [
            "3 -7.705775893101598 False\n",
            "4 -6.980965374268762 False\n"
          ]
        },
        {
          "metadata": {
            "tags": null
          },
          "name": "stderr",
          "output_type": "stream",
          "text": [
            "WARNING:absl:Skipping variable loading for optimizer 'Adam', because it has 13 variables whereas the saved optimizer has 1 variables. \n",
            "WARNING:absl:Skipping variable loading for optimizer 'Adam', because it has 13 variables whereas the saved optimizer has 1 variables. \n"
          ]
        },
        {
          "metadata": {
            "tags": null
          },
          "name": "stdout",
          "output_type": "stream",
          "text": [
            "2 -4.585675628012074 False\n"
          ]
        },
        {
          "metadata": {
            "tags": null
          },
          "name": "stderr",
          "output_type": "stream",
          "text": [
            "WARNING:absl:Skipping variable loading for optimizer 'Adam', because it has 13 variables whereas the saved optimizer has 1 variables. \n"
          ]
        },
        {
          "metadata": {
            "tags": null
          },
          "name": "stdout",
          "output_type": "stream",
          "text": [
            "5 -5.77799343429354 False\n",
            "Episode 11, Total Reward: -2038.834847802043\n",
            "1 -2.2601094764485308 False\n",
            "4 -11.509995892926003 False\n",
            "8 -9.351745191179539 False\n",
            "6 -5.004577401674917 False\n",
            "7 -9.189377103453513 False\n",
            "3 -7.705775893101598 False\n",
            "Episode 12, Total Reward: -2045.0215809587842\n",
            "3 -6.226340755216833 False\n",
            "8 -2.6150299035155595 False\n",
            "2 -8.192416453410834 False\n",
            "6 -8.093492715402329 False\n",
            "7 -9.189377103453513 False\n",
            "9 -2.3673957673885857 False\n",
            "Episode 13, Total Reward: -2036.6840526983879\n",
            "8 -4.569044986778715 False\n",
            "1 -6.742121402603406 False\n",
            "4 -11.509995892926003 False\n",
            "3 -6.980965374268762 False\n",
            "2 -6.841918956903541 False\n",
            "9 -2.2550833802954076 False\n",
            "5 -6.591803321334266 False\n",
            "Episode 14, Total Reward: -1545.4909333151102\n",
            "5 -1.9895625089960105 False\n",
            "7 -6.890753875802023 False\n",
            "3 -7.705775893101598 False\n",
            "9 -5.895412073873364 False\n",
            "Episode 15, Total Reward: -3022.481504351773\n",
            "1 -2.2601094764485308 False\n",
            "2 -7.620784652302808 False\n",
            "9 -2.2550833802954076 False\n",
            "8 -7.853704773177191 False\n",
            "Episode 16, Total Reward: -3019.989682282224\n",
            "4 -10.843880223714587 False\n",
            "2 -4.585675628012074 False\n",
            "6 -8.093492715402329 False\n",
            "9 -9.089599829761081 False\n",
            "5 -6.591803321334266 False\n",
            "1 -3.2013328857401957 False\n",
            "8 -6.742121402603406 False\n",
            "Episode 17, Total Reward: -1549.147906006568\n",
            "3 -6.226340755216833 False\n",
            "6 -6.75623719662853 False\n",
            "1 -2.0415606574273 False\n",
            "4 -11.509995892926003 False\n",
            "8 -9.351745191179539 False\n",
            "7 -9.21539248558825 False\n",
            "2 -1.1138456925079876 False\n",
            "Episode 18, Total Reward: -1546.2151178714746\n",
            "2 -7.653020649610424 False\n",
            "4 -4.585675628012074 False\n",
            "9 -2.4969092474766588 False\n",
            "8 -7.853704773177191 False\n",
            "3 -2.6150299035155595 False\n",
            "7 -7.705775893101598 False\n",
            "Episode 19, Total Reward: -2032.9101160948935\n",
            "3 -6.226340755216833 False\n",
            "2 -6.841918956903541 False\n",
            "1 -7.620784652302808 False\n",
            "4 -11.509995892926003 False\n",
            "6 -11.374743052916678 False\n"
          ]
        },
        {
          "metadata": {
            "tags": null
          },
          "name": "stderr",
          "output_type": "stream",
          "text": [
            "WARNING:absl:Skipping variable loading for optimizer 'Adam', because it has 13 variables whereas the saved optimizer has 1 variables. \n"
          ]
        },
        {
          "metadata": {
            "tags": null
          },
          "name": "stdout",
          "output_type": "stream",
          "text": [
            "7 -9.189377103453513 False\n",
            "Episode 20, Total Reward: -2052.7631604137196\n",
            "6 -0.557563640416601 False\n"
          ]
        },
        {
          "metadata": {
            "tags": null
          },
          "name": "stderr",
          "output_type": "stream",
          "text": [
            "WARNING:absl:Skipping variable loading for optimizer 'Adam', because it has 13 variables whereas the saved optimizer has 1 variables. \n"
          ]
        },
        {
          "metadata": {
            "tags": null
          },
          "name": "stdout",
          "output_type": "stream",
          "text": [
            "7 -9.189377103453513 False\n",
            "5 -6.890753875802023 False\n"
          ]
        },
        {
          "metadata": {
            "tags": null
          },
          "name": "stderr",
          "output_type": "stream",
          "text": [
            "WARNING:absl:Skipping variable loading for optimizer 'Adam', because it has 13 variables whereas the saved optimizer has 1 variables. \n",
            "WARNING:absl:Skipping variable loading for optimizer 'Adam', because it has 13 variables whereas the saved optimizer has 1 variables. \n"
          ]
        },
        {
          "metadata": {
            "tags": null
          },
          "name": "stdout",
          "output_type": "stream",
          "text": [
            "3 -4.905091251117594 False\n",
            "1 -8.062794569850828 False\n"
          ]
        },
        {
          "metadata": {
            "tags": null
          },
          "name": "stderr",
          "output_type": "stream",
          "text": [
            "WARNING:absl:Skipping variable loading for optimizer 'Adam', because it has 13 variables whereas the saved optimizer has 1 variables. \n",
            "WARNING:absl:Skipping variable loading for optimizer 'Adam', because it has 13 variables whereas the saved optimizer has 1 variables. \n"
          ]
        },
        {
          "metadata": {
            "tags": null
          },
          "name": "stdout",
          "output_type": "stream",
          "text": [
            "8 -6.742121402603406 False\n",
            "Episode 21, Total Reward: -2036.347701843244\n",
            "7 -8.756186467218008 False\n",
            "9 -2.3673957673885857 False\n",
            "4 -2.4969092474766588 False\n",
            "6 -11.374743052916678 False\n",
            "Episode 22, Total Reward: -3024.995234535\n",
            "7 -8.756186467218008 False\n",
            "3 -7.705775893101598 False\n",
            "1 -8.062794569850828 False\n",
            "6 -2.0415606574273 False\n",
            "9 -9.089599829761081 False\n",
            "4 -2.4969092474766588 False\n",
            "Episode 23, Total Reward: -2038.1528266648354\n",
            "9 -8.579293986144062 False\n",
            "6 -9.089599829761081 False\n",
            "3 -6.75623719662853 False\n",
            "5 -4.905091251117594 False\n",
            "7 -6.890753875802023 False\n",
            "2 -1.1138456925079876 False\n",
            "8 -8.192416453410834 False\n",
            "Episode 24, Total Reward: -1545.5272382853723\n",
            "7 -8.756186467218008 False\n",
            "9 -2.3673957673885857 False\n",
            "3 -5.895412073873364 False\n",
            "1 -8.062794569850828 False\n",
            "6 -2.0415606574273 False\n",
            "2 -8.093492715402329 False\n",
            "4 -4.585675628012074 False\n",
            "Episode 25, Total Reward: -1539.8025178791725\n",
            "1 -2.2601094764485308 False\n",
            "5 -3.2013328857401957 False\n",
            "3 -4.905091251117594 False\n",
            "2 -6.841918956903541 False\n",
            "4 -4.585675628012074 False\n",
            "8 -9.351745191179539 False\n",
            "Episode 26, Total Reward: -2031.1458733894015\n",
            "1 -2.2601094764485308 False\n",
            "9 -9.070180154761154 False\n",
            "2 -2.2550833802954076 False\n",
            "5 -5.77799343429354 False\n",
            "7 -6.890753875802023 False\n",
            "8 -9.21539248558825 False\n",
            "Episode 27, Total Reward: -2035.4695128071887\n",
            "3 -6.226340755216833 False\n",
            "7 -7.705775893101598 False\n",
            "4 -4.250813147599771 False\n",
            "9 -2.4969092474766588 False\n",
            "2 -2.2550833802954076 False\n",
            "5 -5.77799343429354 False\n",
            "8 -4.071101157390693 False\n",
            "Episode 28, Total Reward: -1532.7840170153747\n",
            "6 -0.557563640416601 False\n",
            "1 -2.0415606574273 False\n",
            "8 -6.742121402603406 False\n",
            "4 -9.351745191179539 False\n",
            "5 -8.86012987256621 False\n",
            "7 -6.890753875802023 False\n",
            "9 -2.3673957673885857 False\n",
            "Episode 29, Total Reward: -1536.8112704073835\n",
            "8 -4.569044986778715 False\n",
            "7 -9.21539248558825 False\n",
            "4 -4.250813147599771 False\n",
            "2 -4.585675628012074 False\n",
            "3 -6.841918956903541 False\n",
            "5 -4.905091251117594 False\n",
            "Episode 30, Total Reward: -2034.3679364559998\n",
            "4 -10.843880223714587 False\n"
          ]
        },
        {
          "metadata": {
            "tags": null
          },
          "name": "stderr",
          "output_type": "stream",
          "text": [
            "WARNING:absl:Skipping variable loading for optimizer 'Adam', because it has 13 variables whereas the saved optimizer has 1 variables. \n",
            "WARNING:absl:Skipping variable loading for optimizer 'Adam', because it has 13 variables whereas the saved optimizer has 1 variables. \n"
          ]
        },
        {
          "metadata": {
            "tags": null
          },
          "name": "stdout",
          "output_type": "stream",
          "text": [
            "2 -4.585675628012074 False\n",
            "7 -1.1138456925079876 False\n"
          ]
        },
        {
          "metadata": {
            "tags": null
          },
          "name": "stderr",
          "output_type": "stream",
          "text": [
            "WARNING:absl:Skipping variable loading for optimizer 'Adam', because it has 13 variables whereas the saved optimizer has 1 variables. \n",
            "WARNING:absl:Skipping variable loading for optimizer 'Adam', because it has 13 variables whereas the saved optimizer has 1 variables. \n"
          ]
        },
        {
          "metadata": {
            "tags": null
          },
          "name": "stdout",
          "output_type": "stream",
          "text": [
            "3 -7.705775893101598 False\n",
            "5 -4.905091251117594 False\n"
          ]
        },
        {
          "metadata": {
            "tags": null
          },
          "name": "stderr",
          "output_type": "stream",
          "text": [
            "WARNING:absl:Skipping variable loading for optimizer 'Adam', because it has 13 variables whereas the saved optimizer has 1 variables. \n",
            "WARNING:absl:Skipping variable loading for optimizer 'Adam', because it has 13 variables whereas the saved optimizer has 1 variables. \n"
          ]
        },
        {
          "metadata": {
            "tags": null
          },
          "name": "stdout",
          "output_type": "stream",
          "text": [
            "8 -4.071101157390693 False\n"
          ]
        },
        {
          "metadata": {
            "tags": null
          },
          "name": "stderr",
          "output_type": "stream",
          "text": [
            "WARNING:absl:Skipping variable loading for optimizer 'Adam', because it has 13 variables whereas the saved optimizer has 1 variables. \n"
          ]
        },
        {
          "metadata": {
            "tags": null
          },
          "name": "stdout",
          "output_type": "stream",
          "text": [
            "9 -7.853704773177191 False\n",
            "Episode 31, Total Reward: -1541.0790746190216\n",
            "1 -2.2601094764485308 False\n",
            "7 -8.63933616755769 False\n",
            "9 -2.3673957673885857 False\n",
            "3 -5.895412073873364 False\n",
            "Episode 32, Total Reward: -3019.1622534852686\n",
            "4 -10.843880223714587 False\n",
            "1 -11.509995892926003 False\n",
            "7 -8.63933616755769 False\n",
            "9 -2.3673957673885857 False\n",
            "3 -5.895412073873364 False\n",
            "6 -6.75623719662853 False\n",
            "Episode 33, Total Reward: -2046.0122573220888\n",
            "7 -8.756186467218008 False\n",
            "6 -9.189377103453513 False\n",
            "4 -11.374743052916678 False\n",
            "1 -11.509995892926003 False\n",
            "3 -8.062794569850828 False\n",
            "2 -6.841918956903541 False\n",
            "9 -2.2550833802954076 False\n",
            "8 -7.853704773177191 False\n",
            "Episode 34, Total Reward: -1065.8438041967413\n",
            "6 -0.557563640416601 False\n",
            "7 -9.189377103453513 False\n",
            "4 -4.250813147599771 False\n",
            "2 -4.585675628012074 False\n",
            "3 -6.841918956903541 False\n",
            "8 -2.6150299035155595 False\n",
            "Episode 35, Total Reward: -2028.040378379901\n",
            "8 -4.569044986778715 False\n",
            "6 -5.004577401674917 False\n",
            "5 -2.5146136553162997 False\n",
            "7 -6.890753875802023 False\n",
            "9 -2.3673957673885857 False\n",
            "4 -2.4969092474766588 False\n",
            "Episode 36, Total Reward: -2023.8432949344374\n",
            "3 -6.226340755216833 False\n",
            "2 -6.841918956903541 False\n",
            "8 -8.192416453410834 False\n",
            "9 -7.853704773177191 False\n",
            "6 -9.089599829761081 False\n",
            "Episode 37, Total Reward: -2538.2039807684696\n",
            "7 -8.756186467218008 False\n",
            "9 -2.3673957673885857 False\n",
            "5 -6.591803321334266 False\n",
            "6 -2.5146136553162997 False\n",
            "1 -2.0415606574273 False\n",
            "Episode 38, Total Reward: -2522.2715598686846\n",
            "5 -1.9895625089960105 False\n",
            "6 -2.5146136553162997 False\n",
            "3 -6.75623719662853 False\n",
            "7 -7.705775893101598 False\n",
            "8 -9.21539248558825 False\n",
            "4 -9.351745191179539 False\n",
            "1 -11.509995892926003 False\n",
            "Episode 39, Total Reward: -1549.0433228237364\n",
            "9 -8.579293986144062 False\n",
            "7 -2.3673957673885857 False\n",
            "6 -9.189377103453513 False\n",
            "1 -2.0415606574273 False\n",
            "3 -8.062794569850828 False\n",
            "2 -6.841918956903541 False\n",
            "Episode 40, Total Reward: -2037.0823410411679\n",
            "9 -8.579293986144062 False\n"
          ]
        },
        {
          "metadata": {
            "tags": null
          },
          "name": "stderr",
          "output_type": "stream",
          "text": [
            "WARNING:absl:Skipping variable loading for optimizer 'Adam', because it has 13 variables whereas the saved optimizer has 1 variables. \n",
            "WARNING:absl:Skipping variable loading for optimizer 'Adam', because it has 13 variables whereas the saved optimizer has 1 variables. \n"
          ]
        },
        {
          "metadata": {
            "tags": null
          },
          "name": "stdout",
          "output_type": "stream",
          "text": [
            "5 -6.591803321334266 False\n",
            "7 -6.890753875802023 False\n"
          ]
        },
        {
          "metadata": {
            "tags": null
          },
          "name": "stderr",
          "output_type": "stream",
          "text": [
            "WARNING:absl:Skipping variable loading for optimizer 'Adam', because it has 13 variables whereas the saved optimizer has 1 variables. \n",
            "WARNING:absl:Skipping variable loading for optimizer 'Adam', because it has 13 variables whereas the saved optimizer has 1 variables. \n"
          ]
        },
        {
          "metadata": {
            "tags": null
          },
          "name": "stdout",
          "output_type": "stream",
          "text": [
            "6 -9.189377103453513 False\n"
          ]
        },
        {
          "metadata": {
            "tags": null
          },
          "name": "stderr",
          "output_type": "stream",
          "text": [
            "WARNING:absl:Skipping variable loading for optimizer 'Adam', because it has 13 variables whereas the saved optimizer has 1 variables. \n"
          ]
        },
        {
          "metadata": {
            "tags": null
          },
          "name": "stdout",
          "output_type": "stream",
          "text": [
            "1 -2.0415606574273 False\n",
            "3 -8.062794569850828 False\n"
          ]
        },
        {
          "metadata": {
            "tags": null
          },
          "name": "stderr",
          "output_type": "stream",
          "text": [
            "WARNING:absl:Skipping variable loading for optimizer 'Adam', because it has 13 variables whereas the saved optimizer has 1 variables. \n"
          ]
        },
        {
          "metadata": {
            "tags": null
          },
          "name": "stdout",
          "output_type": "stream",
          "text": [
            "Episode 41, Total Reward: -2041.3555835140119\n",
            "1 -2.2601094764485308 False\n",
            "7 -8.63933616755769 False\n",
            "9 -2.3673957673885857 False\n",
            "8 -7.853704773177191 False\n",
            "5 -4.071101157390693 False\n",
            "3 -4.905091251117594 False\n",
            "Episode 42, Total Reward: -2030.0967385930803\n",
            "7 -8.756186467218008 False\n",
            "9 -2.3673957673885857 False\n",
            "4 -2.4969092474766588 False\n",
            "2 -4.585675628012074 False\n",
            "8 -8.192416453410834 False\n",
            "Episode 43, Total Reward: -2526.3985835635062\n",
            "2 -7.653020649610424 False\n",
            "3 -6.841918956903541 False\n",
            "4 -6.980965374268762 False\n",
            "6 -11.374743052916678 False\n",
            "Episode 44, Total Reward: -3032.850648033699\n",
            "5 -1.9895625089960105 False\n",
            "4 -8.86012987256621 False\n",
            "9 -2.4969092474766588 False\n",
            "3 -5.895412073873364 False\n",
            "6 -6.75623719662853 False\n",
            "7 -9.189377103453513 False\n",
            "Episode 45, Total Reward: -2035.1876280029942\n",
            "1 -2.2601094764485308 False\n",
            "5 -3.2013328857401957 False\n",
            "4 -8.86012987256621 False\n",
            "6 -11.374743052916678 False\n",
            "Episode 46, Total Reward: -3025.6963152876715\n",
            "4 -10.843880223714587 False\n",
            "7 -4.250813147599771 False\n",
            "8 -9.21539248558825 False\n",
            "6 -5.004577401674917 False\n",
            "Episode 47, Total Reward: -3029.3146632585776\n",
            "9 -8.579293986144062 False\n",
            "5 -6.591803321334266 False\n",
            "4 -8.86012987256621 False\n",
            "1 -11.509995892926003 False\n",
            "6 -2.0415606574273 False\n",
            "3 -6.75623719662853 False\n",
            "2 -6.841918956903541 False\n",
            "8 -8.192416453410834 False\n",
            "Episode 48, Total Reward: -1059.373356337341\n",
            "4 -10.843880223714587 False\n",
            "7 -4.250813147599771 False\n",
            "9 -2.3673957673885857 False\n",
            "1 -9.070180154761154 False\n",
            "3 -8.062794569850828 False\n",
            "8 -2.6150299035155595 False\n",
            "2 -8.192416453410834 False\n",
            "Episode 49, Total Reward: -1545.4025102202413\n",
            "8 -4.569044986778715 False\n",
            "4 -9.351745191179539 False\n",
            "7 -4.250813147599771 False\n",
            "2 -1.1138456925079876 False\n",
            "5 -5.77799343429354 False\n",
            "1 -3.2013328857401957 False\n",
            "6 -2.0415606574273 False\n",
            "Episode 50, Total Reward: -1530.306335995527\n",
            "7 -8.756186467218008 False\n"
          ]
        },
        {
          "metadata": {
            "tags": null
          },
          "name": "stderr",
          "output_type": "stream",
          "text": [
            "WARNING:absl:Skipping variable loading for optimizer 'Adam', because it has 13 variables whereas the saved optimizer has 1 variables. \n",
            "WARNING:absl:Skipping variable loading for optimizer 'Adam', because it has 13 variables whereas the saved optimizer has 1 variables. \n"
          ]
        },
        {
          "metadata": {
            "tags": null
          },
          "name": "stdout",
          "output_type": "stream",
          "text": [
            "6 -9.189377103453513 False\n"
          ]
        },
        {
          "metadata": {
            "tags": null
          },
          "name": "stderr",
          "output_type": "stream",
          "text": [
            "WARNING:absl:Skipping variable loading for optimizer 'Adam', because it has 13 variables whereas the saved optimizer has 1 variables. \n"
          ]
        },
        {
          "metadata": {
            "tags": null
          },
          "name": "stdout",
          "output_type": "stream",
          "text": [
            "1 -2.0415606574273 False\n"
          ]
        },
        {
          "metadata": {
            "tags": null
          },
          "name": "stderr",
          "output_type": "stream",
          "text": [
            "WARNING:absl:Skipping variable loading for optimizer 'Adam', because it has 13 variables whereas the saved optimizer has 1 variables. \n"
          ]
        },
        {
          "metadata": {
            "tags": null
          },
          "name": "stdout",
          "output_type": "stream",
          "text": [
            "5 -3.2013328857401957 False\n"
          ]
        },
        {
          "metadata": {
            "tags": null
          },
          "name": "stderr",
          "output_type": "stream",
          "text": [
            "WARNING:absl:Skipping variable loading for optimizer 'Adam', because it has 13 variables whereas the saved optimizer has 1 variables. \n"
          ]
        },
        {
          "metadata": {
            "tags": null
          },
          "name": "stdout",
          "output_type": "stream",
          "text": [
            "3 -4.905091251117594 False\n"
          ]
        },
        {
          "metadata": {
            "tags": null
          },
          "name": "stderr",
          "output_type": "stream",
          "text": [
            "WARNING:absl:Skipping variable loading for optimizer 'Adam', because it has 13 variables whereas the saved optimizer has 1 variables. \n"
          ]
        },
        {
          "metadata": {
            "tags": null
          },
          "name": "stdout",
          "output_type": "stream",
          "text": [
            "8 -2.6150299035155595 False\n"
          ]
        },
        {
          "metadata": {
            "tags": null
          },
          "name": "stderr",
          "output_type": "stream",
          "text": [
            "WARNING:absl:Skipping variable loading for optimizer 'Adam', because it has 13 variables whereas the saved optimizer has 1 variables. \n"
          ]
        },
        {
          "metadata": {
            "tags": null
          },
          "name": "stdout",
          "output_type": "stream",
          "text": [
            "9 -7.853704773177191 False\n",
            "Episode 51, Total Reward: -1538.5622830416492\n",
            "8 -4.569044986778715 False\n",
            "4 -9.351745191179539 False\n",
            "6 -11.374743052916678 False\n",
            "2 -8.093492715402329 False\n",
            "7 -1.1138456925079876 False\n",
            "5 -6.890753875802023 False\n",
            "1 -3.2013328857401957 False\n",
            "Episode 52, Total Reward: -1544.5949584003274\n",
            "1 -2.2601094764485308 False\n",
            "8 -6.742121402603406 False\n",
            "3 -2.6150299035155595 False\n",
            "2 -6.841918956903541 False\n",
            "Episode 53, Total Reward: -3018.459179739471\n",
            "1 -2.2601094764485308 False\n",
            "7 -8.63933616755769 False\n",
            "9 -2.3673957673885857 False\n",
            "2 -2.2550833802954076 False\n",
            "6 -8.093492715402329 False\n",
            "5 -2.5146136553162997 False\n",
            "Episode 54, Total Reward: -2026.1300311624086\n",
            "3 -6.226340755216833 False\n",
            "6 -6.75623719662853 False\n",
            "2 -8.093492715402329 False\n",
            "7 -1.1138456925079876 False\n",
            "1 -8.63933616755769 False\n",
            "9 -9.070180154761154 False\n",
            "8 -7.853704773177191 False\n",
            "Episode 55, Total Reward: -1547.7531374552516\n",
            "3 -6.226340755216833 False\n",
            "9 -5.895412073873364 False\n",
            "6 -9.089599829761081 False\n",
            "7 -9.189377103453513 False\n",
            "1 -8.63933616755769 False\n",
            "Episode 56, Total Reward: -2539.0400659298625\n",
            "5 -1.9895625089960105 False\n",
            "7 -6.890753875802023 False\n",
            "3 -7.705775893101598 False\n",
            "9 -5.895412073873364 False\n",
            "8 -7.853704773177191 False\n",
            "1 -6.742121402603406 False\n",
            "2 -7.620784652302808 False\n",
            "Episode 57, Total Reward: -1544.6981151798564\n",
            "4 -10.843880223714587 False\n",
            "3 -6.980965374268762 False\n",
            "6 -6.75623719662853 False\n",
            "2 -8.093492715402329 False\n",
            "1 -7.620784652302808 False\n",
            "Episode 58, Total Reward: -2540.295360162317\n",
            "7 -8.756186467218008 False\n",
            "6 -9.189377103453513 False\n",
            "8 -5.004577401674917 False\n",
            "9 -7.853704773177191 False\n",
            "5 -6.591803321334266 False\n",
            "4 -8.86012987256621 False\n",
            "Episode 59, Total Reward: -2046.255778939424\n",
            "1 -2.2601094764485308 False\n",
            "8 -6.742121402603406 False\n",
            "3 -2.6150299035155595 False\n",
            "9 -5.895412073873364 False\n",
            "5 -6.591803321334266 False\n",
            "6 -2.5146136553162997 False\n",
            "2 -8.093492715402329 False\n",
            "Episode 60, Total Reward: -1534.7125825484936\n"
          ]
        },
        {
          "metadata": {
            "tags": null
          },
          "name": "stderr",
          "output_type": "stream",
          "text": [
            "WARNING:absl:Skipping variable loading for optimizer 'Adam', because it has 13 variables whereas the saved optimizer has 1 variables. \n"
          ]
        },
        {
          "metadata": {
            "tags": null
          },
          "name": "stdout",
          "output_type": "stream",
          "text": [
            "4 -10.843880223714587 False\n",
            "2 -4.585675628012074 False\n"
          ]
        },
        {
          "metadata": {
            "tags": null
          },
          "name": "stderr",
          "output_type": "stream",
          "text": [
            "WARNING:absl:Skipping variable loading for optimizer 'Adam', because it has 13 variables whereas the saved optimizer has 1 variables. \n",
            "WARNING:absl:Skipping variable loading for optimizer 'Adam', because it has 13 variables whereas the saved optimizer has 1 variables. \n"
          ]
        },
        {
          "metadata": {
            "tags": null
          },
          "name": "stdout",
          "output_type": "stream",
          "text": [
            "5 -5.77799343429354 False\n",
            "7 -6.890753875802023 False\n"
          ]
        },
        {
          "metadata": {
            "tags": null
          },
          "name": "stderr",
          "output_type": "stream",
          "text": [
            "WARNING:absl:Skipping variable loading for optimizer 'Adam', because it has 13 variables whereas the saved optimizer has 1 variables. \n",
            "WARNING:absl:Skipping variable loading for optimizer 'Adam', because it has 13 variables whereas the saved optimizer has 1 variables. \n"
          ]
        },
        {
          "metadata": {
            "tags": null
          },
          "name": "stdout",
          "output_type": "stream",
          "text": [
            "3 -7.705775893101598 False\n"
          ]
        },
        {
          "metadata": {
            "tags": null
          },
          "name": "stderr",
          "output_type": "stream",
          "text": [
            "WARNING:absl:Skipping variable loading for optimizer 'Adam', because it has 13 variables whereas the saved optimizer has 1 variables. \n"
          ]
        },
        {
          "metadata": {
            "tags": null
          },
          "name": "stdout",
          "output_type": "stream",
          "text": [
            "9 -5.895412073873364 False\n",
            "Episode 61, Total Reward: -2041.6994911287973\n",
            "1 -2.2601094764485308 False\n",
            "7 -8.63933616755769 False\n",
            "9 -2.3673957673885857 False\n",
            "2 -2.2550833802954076 False\n",
            "4 -4.585675628012074 False\n",
            "5 -8.86012987256621 False\n",
            "8 -4.071101157390693 False\n",
            "Episode 62, Total Reward: -1533.0388314496593\n",
            "8 -4.569044986778715 False\n",
            "7 -9.21539248558825 False\n",
            "1 -8.63933616755769 False\n",
            "9 -9.070180154761154 False\n",
            "2 -2.2550833802954076 False\n",
            "6 -8.093492715402329 False\n",
            "5 -2.5146136553162997 False\n",
            "4 -8.86012987256621 False\n",
            "Episode 63, Total Reward: -1053.217273418266\n",
            "6 -0.557563640416601 False\n",
            "8 -5.004577401674917 False\n",
            "7 -9.21539248558825 False\n",
            "9 -2.3673957673885857 False\n",
            "4 -2.4969092474766588 False\n",
            "1 -11.509995892926003 False\n",
            "Episode 64, Total Reward: -2031.1518344354708\n",
            "8 -4.569044986778715 False\n",
            "9 -7.853704773177191 False\n",
            "2 -2.2550833802954076 False\n",
            "7 -1.1138456925079876 False\n",
            "1 -8.63933616755769 False\n",
            "Episode 65, Total Reward: -2524.431015000317\n",
            "9 -8.579293986144062 False\n",
            "1 -9.070180154761154 False\n",
            "7 -8.63933616755769 False\n",
            "2 -1.1138456925079876 False\n",
            "4 -4.585675628012074 False\n",
            "8 -9.351745191179539 False\n",
            "5 -4.071101157390693 False\n",
            "Episode 66, Total Reward: -1545.4111779775533\n",
            "7 -8.756186467218008 False\n",
            "4 -4.250813147599771 False\n",
            "8 -9.351745191179539 False\n",
            "5 -4.071101157390693 False\n",
            "Episode 67, Total Reward: -3026.4298459633883\n",
            "8 -4.569044986778715 False\n",
            "1 -6.742121402603406 False\n",
            "7 -8.63933616755769 False\n",
            "5 -6.890753875802023 False\n",
            "3 -4.905091251117594 False\n",
            "Episode 68, Total Reward: -2531.7463476838593\n",
            "8 -4.569044986778715 False\n",
            "6 -5.004577401674917 False\n",
            "4 -11.374743052916678 False\n",
            "3 -6.980965374268762 False\n",
            "2 -6.841918956903541 False\n",
            "5 -5.77799343429354 False\n",
            "7 -6.890753875802023 False\n",
            "Episode 69, Total Reward: -1547.4399970826382\n",
            "3 -6.226340755216833 False\n",
            "7 -7.705775893101598 False\n",
            "5 -6.890753875802023 False\n",
            "6 -2.5146136553162997 False\n",
            "9 -9.089599829761081 False\n",
            "4 -2.4969092474766588 False\n",
            "2 -4.585675628012074 False\n",
            "Episode 70, Total Reward: -1539.5096688846866\n",
            "1 -2.2601094764485308 False\n"
          ]
        },
        {
          "metadata": {
            "tags": null
          },
          "name": "stderr",
          "output_type": "stream",
          "text": [
            "WARNING:absl:Skipping variable loading for optimizer 'Adam', because it has 13 variables whereas the saved optimizer has 1 variables. \n",
            "WARNING:absl:Skipping variable loading for optimizer 'Adam', because it has 13 variables whereas the saved optimizer has 1 variables. \n"
          ]
        },
        {
          "metadata": {
            "tags": null
          },
          "name": "stdout",
          "output_type": "stream",
          "text": [
            "3 -8.062794569850828 False\n"
          ]
        },
        {
          "metadata": {
            "tags": null
          },
          "name": "stderr",
          "output_type": "stream",
          "text": [
            "WARNING:absl:Skipping variable loading for optimizer 'Adam', because it has 13 variables whereas the saved optimizer has 1 variables. \n"
          ]
        },
        {
          "metadata": {
            "tags": null
          },
          "name": "stdout",
          "output_type": "stream",
          "text": [
            "4 -6.980965374268762 False\n"
          ]
        },
        {
          "metadata": {
            "tags": null
          },
          "name": "stderr",
          "output_type": "stream",
          "text": [
            "WARNING:absl:Skipping variable loading for optimizer 'Adam', because it has 13 variables whereas the saved optimizer has 1 variables. \n"
          ]
        },
        {
          "metadata": {
            "tags": null
          },
          "name": "stdout",
          "output_type": "stream",
          "text": [
            "5 -8.86012987256621 False\n"
          ]
        },
        {
          "metadata": {
            "tags": null
          },
          "name": "stderr",
          "output_type": "stream",
          "text": [
            "WARNING:absl:Skipping variable loading for optimizer 'Adam', because it has 13 variables whereas the saved optimizer has 1 variables. \n"
          ]
        },
        {
          "metadata": {
            "tags": null
          },
          "name": "stdout",
          "output_type": "stream",
          "text": [
            "6 -2.5146136553162997 False\n"
          ]
        },
        {
          "metadata": {
            "tags": null
          },
          "name": "stderr",
          "output_type": "stream",
          "text": [
            "WARNING:absl:Skipping variable loading for optimizer 'Adam', because it has 13 variables whereas the saved optimizer has 1 variables. \n"
          ]
        },
        {
          "metadata": {
            "tags": null
          },
          "name": "stdout",
          "output_type": "stream",
          "text": [
            "2 -8.093492715402329 False\n",
            "Episode 71, Total Reward: -2036.772105663853\n",
            "9 -8.579293986144062 False\n",
            "4 -2.4969092474766588 False\n",
            "7 -4.250813147599771 False\n",
            "6 -9.189377103453513 False\n",
            "3 -6.75623719662853 False\n",
            "8 -2.6150299035155595 False\n",
            "Episode 72, Total Reward: -2033.887660584818\n",
            "2 -7.653020649610424 False\n",
            "5 -5.77799343429354 False\n",
            "3 -4.905091251117594 False\n",
            "4 -6.980965374268762 False\n",
            "8 -9.351745191179539 False\n",
            "6 -5.004577401674917 False\n",
            "1 -2.0415606574273 False\n",
            "9 -9.070180154761154 False\n",
            "Episode 73, Total Reward: -1050.7851341143332\n",
            "9 -8.579293986144062 False\n",
            "8 -7.853704773177191 False\n",
            "2 -8.192416453410834 False\n",
            "4 -4.585675628012074 False\n",
            "Episode 74, Total Reward: -3029.2110908407444\n",
            "2 -7.653020649610424 False\n",
            "3 -6.841918956903541 False\n",
            "9 -5.895412073873364 False\n",
            "1 -9.070180154761154 False\n",
            "6 -2.0415606574273 False\n",
            "8 -5.004577401674917 False\n",
            "5 -4.071101157390693 False\n",
            "Episode 75, Total Reward: -1540.5777710516413\n",
            "6 -0.557563640416601 False\n",
            "3 -6.75623719662853 False\n",
            "7 -7.705775893101598 False\n",
            "1 -8.63933616755769 False\n",
            "5 -3.2013328857401957 False\n",
            "Episode 76, Total Reward: -2526.860245783445\n",
            "4 -10.843880223714587 False\n",
            "3 -6.980965374268762 False\n",
            "8 -2.6150299035155595 False\n",
            "9 -7.853704773177191 False\n",
            "6 -9.089599829761081 False\n",
            "5 -2.5146136553162997 False\n",
            "7 -6.890753875802023 False\n",
            "1 -8.63933616755769 False\n",
            "Episode 77, Total Reward: -1055.4278838031132\n",
            "9 -8.579293986144062 False\n",
            "8 -7.853704773177191 False\n",
            "5 -4.071101157390693 False\n",
            "6 -2.5146136553162997 False\n",
            "7 -9.189377103453513 False\n",
            "2 -1.1138456925079876 False\n",
            "Episode 78, Total Reward: -2033.3219363679898\n",
            "8 -4.569044986778715 False\n",
            "7 -9.21539248558825 False\n",
            "3 -7.705775893101598 False\n",
            "5 -4.905091251117594 False\n",
            "9 -6.591803321334266 False\n",
            "2 -2.2550833802954076 False\n",
            "Episode 79, Total Reward: -2035.2421913182159\n",
            "8 -4.569044986778715 False\n",
            "4 -9.351745191179539 False\n",
            "1 -11.509995892926003 False\n",
            "6 -2.0415606574273 False\n",
            "5 -2.5146136553162997 False\n"
          ]
        },
        {
          "metadata": {
            "tags": null
          },
          "name": "stderr",
          "output_type": "stream",
          "text": [
            "WARNING:absl:Skipping variable loading for optimizer 'Adam', because it has 13 variables whereas the saved optimizer has 1 variables. \n"
          ]
        },
        {
          "metadata": {
            "tags": null
          },
          "name": "stdout",
          "output_type": "stream",
          "text": [
            "9 -6.591803321334266 False\n",
            "Episode 80, Total Reward: -2036.578763704962\n",
            "4 -10.843880223714587 False\n"
          ]
        },
        {
          "metadata": {
            "tags": null
          },
          "name": "stderr",
          "output_type": "stream",
          "text": [
            "WARNING:absl:Skipping variable loading for optimizer 'Adam', because it has 13 variables whereas the saved optimizer has 1 variables. \n"
          ]
        },
        {
          "metadata": {
            "tags": null
          },
          "name": "stdout",
          "output_type": "stream",
          "text": [
            "1 -11.509995892926003 False\n",
            "2 -7.620784652302808 False\n"
          ]
        },
        {
          "metadata": {
            "tags": null
          },
          "name": "stderr",
          "output_type": "stream",
          "text": [
            "WARNING:absl:Skipping variable loading for optimizer 'Adam', because it has 13 variables whereas the saved optimizer has 1 variables. \n",
            "WARNING:absl:Skipping variable loading for optimizer 'Adam', because it has 13 variables whereas the saved optimizer has 1 variables. \n"
          ]
        },
        {
          "metadata": {
            "tags": null
          },
          "name": "stdout",
          "output_type": "stream",
          "text": [
            "5 -5.77799343429354 False\n"
          ]
        },
        {
          "metadata": {
            "tags": null
          },
          "name": "stderr",
          "output_type": "stream",
          "text": [
            "WARNING:absl:Skipping variable loading for optimizer 'Adam', because it has 13 variables whereas the saved optimizer has 1 variables. \n"
          ]
        },
        {
          "metadata": {
            "tags": null
          },
          "name": "stdout",
          "output_type": "stream",
          "text": [
            "3 -4.905091251117594 False\n",
            "9 -5.895412073873364 False\n"
          ]
        },
        {
          "metadata": {
            "tags": null
          },
          "name": "stderr",
          "output_type": "stream",
          "text": [
            "WARNING:absl:Skipping variable loading for optimizer 'Adam', because it has 13 variables whereas the saved optimizer has 1 variables. \n"
          ]
        },
        {
          "metadata": {
            "tags": null
          },
          "name": "stdout",
          "output_type": "stream",
          "text": [
            "Episode 81, Total Reward: -2046.5531575282278\n",
            "6 -0.557563640416601 False\n",
            "3 -6.75623719662853 False\n",
            "7 -7.705775893101598 False\n",
            "2 -1.1138456925079876 False\n",
            "4 -4.585675628012074 False\n",
            "Episode 82, Total Reward: -2520.7190980506666\n",
            "4 -10.843880223714587 False\n",
            "9 -2.4969092474766588 False\n",
            "3 -5.895412073873364 False\n",
            "2 -6.841918956903541 False\n",
            "5 -5.77799343429354 False\n",
            "Episode 83, Total Reward: -2531.856113936262\n",
            "5 -1.9895625089960105 False\n",
            "3 -4.905091251117594 False\n",
            "6 -6.75623719662853 False\n",
            "2 -8.093492715402329 False\n",
            "9 -2.2550833802954076 False\n",
            "7 -2.3673957673885857 False\n",
            "Episode 84, Total Reward: -2026.3668628198286\n",
            "3 -6.226340755216833 False\n",
            "4 -6.980965374268762 False\n",
            "8 -9.351745191179539 False\n",
            "2 -8.192416453410834 False\n",
            "5 -5.77799343429354 False\n",
            "Episode 85, Total Reward: -2536.5294612083694\n",
            "2 -7.653020649610424 False\n",
            "5 -5.77799343429354 False\n",
            "3 -4.905091251117594 False\n",
            "1 -8.062794569850828 False\n",
            "6 -2.0415606574273 False\n",
            "Episode 86, Total Reward: -2528.4404605622994\n",
            "8 -4.569044986778715 False\n",
            "4 -9.351745191179539 False\n",
            "9 -2.4969092474766588 False\n",
            "7 -2.3673957673885857 False\n",
            "6 -9.189377103453513 False\n",
            "5 -2.5146136553162997 False\n",
            "Episode 87, Total Reward: -2030.4890859515933\n",
            "5 -1.9895625089960105 False\n",
            "9 -6.591803321334266 False\n",
            "8 -7.853704773177191 False\n",
            "1 -6.742121402603406 False\n",
            "4 -11.509995892926003 False\n",
            "Episode 88, Total Reward: -2534.687187899037\n",
            "4 -10.843880223714587 False\n",
            "7 -4.250813147599771 False\n",
            "2 -1.1138456925079876 False\n",
            "6 -8.093492715402329 False\n",
            "9 -9.089599829761081 False\n",
            "1 -9.070180154761154 False\n",
            "Episode 89, Total Reward: -2042.461811763747\n",
            "4 -10.843880223714587 False\n",
            "9 -2.4969092474766588 False\n",
            "1 -9.070180154761154 False\n",
            "3 -8.062794569850828 False\n",
            "8 -2.6150299035155595 False\n"
          ]
        },
        {
          "metadata": {
            "tags": null
          },
          "name": "stderr",
          "output_type": "stream",
          "text": [
            "WARNING:absl:Skipping variable loading for optimizer 'Adam', because it has 13 variables whereas the saved optimizer has 1 variables. \n"
          ]
        },
        {
          "metadata": {
            "tags": null
          },
          "name": "stdout",
          "output_type": "stream",
          "text": [
            "6 -5.004577401674917 False\n",
            "Episode 90, Total Reward: -2038.0933715009937\n",
            "3 -6.226340755216833 False\n"
          ]
        },
        {
          "metadata": {
            "tags": null
          },
          "name": "stderr",
          "output_type": "stream",
          "text": [
            "WARNING:absl:Skipping variable loading for optimizer 'Adam', because it has 13 variables whereas the saved optimizer has 1 variables. \n"
          ]
        },
        {
          "metadata": {
            "tags": null
          },
          "name": "stdout",
          "output_type": "stream",
          "text": [
            "9 -5.895412073873364 False\n"
          ]
        },
        {
          "metadata": {
            "tags": null
          },
          "name": "stderr",
          "output_type": "stream",
          "text": [
            "WARNING:absl:Skipping variable loading for optimizer 'Adam', because it has 13 variables whereas the saved optimizer has 1 variables. \n"
          ]
        },
        {
          "metadata": {
            "tags": null
          },
          "name": "stdout",
          "output_type": "stream",
          "text": [
            "6 -9.089599829761081 False\n"
          ]
        },
        {
          "metadata": {
            "tags": null
          },
          "name": "stderr",
          "output_type": "stream",
          "text": [
            "WARNING:absl:Skipping variable loading for optimizer 'Adam', because it has 13 variables whereas the saved optimizer has 1 variables. \n"
          ]
        },
        {
          "metadata": {
            "tags": null
          },
          "name": "stdout",
          "output_type": "stream",
          "text": [
            "1 -2.0415606574273 False\n"
          ]
        },
        {
          "metadata": {
            "tags": null
          },
          "name": "stderr",
          "output_type": "stream",
          "text": [
            "WARNING:absl:Skipping variable loading for optimizer 'Adam', because it has 13 variables whereas the saved optimizer has 1 variables. \n"
          ]
        },
        {
          "metadata": {
            "tags": null
          },
          "name": "stdout",
          "output_type": "stream",
          "text": [
            "4 -11.509995892926003 False\n"
          ]
        },
        {
          "metadata": {
            "tags": null
          },
          "name": "stderr",
          "output_type": "stream",
          "text": [
            "WARNING:absl:Skipping variable loading for optimizer 'Adam', because it has 13 variables whereas the saved optimizer has 1 variables. \n"
          ]
        },
        {
          "metadata": {
            "tags": null
          },
          "name": "stdout",
          "output_type": "stream",
          "text": [
            "5 -8.86012987256621 False\n",
            "Episode 91, Total Reward: -2043.6230390817707\n",
            "2 -7.653020649610424 False\n",
            "4 -4.585675628012074 False\n",
            "6 -11.374743052916678 False\n",
            "8 -5.004577401674917 False\n",
            "7 -9.21539248558825 False\n",
            "3 -7.705775893101598 False\n",
            "Episode 92, Total Reward: -2045.5391851109039\n",
            "8 -4.569044986778715 False\n",
            "7 -9.21539248558825 False\n",
            "6 -9.189377103453513 False\n",
            "5 -2.5146136553162997 False\n",
            "4 -8.86012987256621 False\n",
            "2 -4.585675628012074 False\n",
            "Episode 93, Total Reward: -2038.934233731715\n",
            "6 -0.557563640416601 False\n",
            "1 -2.0415606574273 False\n",
            "3 -8.062794569850828 False\n",
            "2 -6.841918956903541 False\n",
            "Episode 94, Total Reward: -3017.503837824598\n",
            "5 -1.9895625089960105 False\n",
            "2 -5.77799343429354 False\n",
            "9 -2.2550833802954076 False\n",
            "4 -2.4969092474766588 False\n",
            "7 -4.250813147599771 False\n",
            "6 -9.189377103453513 False\n",
            "Episode 95, Total Reward: -2025.9597388221148\n",
            "1 -2.2601094764485308 False\n",
            "8 -6.742121402603406 False\n",
            "9 -7.853704773177191 False\n",
            "4 -2.4969092474766588 False\n",
            "3 -6.980965374268762 False\n",
            "Episode 96, Total Reward: -2526.3338102739744\n",
            "4 -10.843880223714587 False\n",
            "9 -2.4969092474766588 False\n",
            "2 -2.2550833802954076 False\n",
            "8 -8.192416453410834 False\n",
            "5 -4.071101157390693 False\n",
            "3 -4.905091251117594 False\n",
            "6 -6.75623719662853 False\n",
            "Episode 97, Total Reward: -1539.5207189100342\n",
            "4 -10.843880223714587 False\n",
            "2 -4.585675628012074 False\n",
            "7 -1.1138456925079876 False\n",
            "1 -8.63933616755769 False\n",
            "6 -2.0415606574273 False\n",
            "5 -2.5146136553162997 False\n",
            "3 -4.905091251117594 False\n",
            "Episode 98, Total Reward: -1534.6440032756534\n",
            "5 -1.9895625089960105 False\n",
            "4 -8.86012987256621 False\n",
            "3 -6.980965374268762 False\n",
            "9 -5.895412073873364 False\n",
            "7 -2.3673957673885857 False\n",
            "6 -9.189377103453513 False\n",
            "Episode 99, Total Reward: -2035.2828427005463\n",
            "7 -8.756186467218008 False\n",
            "4 -4.250813147599771 False\n",
            "3 -6.980965374268762 False\n",
            "2 -6.841918956903541 False\n",
            "9 -2.2550833802954076 False\n",
            "6 -9.089599829761081 False\n",
            "Episode 100, Total Reward: -2038.1745671560466\n"
          ]
        },
        {
          "metadata": {
            "tags": null
          },
          "name": "stderr",
          "output_type": "stream",
          "text": [
            "WARNING:absl:Skipping variable loading for optimizer 'Adam', because it has 13 variables whereas the saved optimizer has 1 variables. \n"
          ]
        },
        {
          "metadata": {
            "tags": null
          },
          "name": "stdout",
          "output_type": "stream",
          "text": [
            "8 -4.569044986778715 False\n",
            "1 -6.742121402603406 False\n"
          ]
        },
        {
          "metadata": {
            "tags": null
          },
          "name": "stderr",
          "output_type": "stream",
          "text": [
            "WARNING:absl:Skipping variable loading for optimizer 'Adam', because it has 13 variables whereas the saved optimizer has 1 variables. \n",
            "WARNING:absl:Skipping variable loading for optimizer 'Adam', because it has 13 variables whereas the saved optimizer has 1 variables. \n"
          ]
        },
        {
          "metadata": {
            "tags": null
          },
          "name": "stdout",
          "output_type": "stream",
          "text": [
            "9 -9.070180154761154 False\n",
            "5 -6.591803321334266 False\n"
          ]
        },
        {
          "metadata": {
            "tags": null
          },
          "name": "stderr",
          "output_type": "stream",
          "text": [
            "WARNING:absl:Skipping variable loading for optimizer 'Adam', because it has 13 variables whereas the saved optimizer has 1 variables. \n",
            "WARNING:absl:Skipping variable loading for optimizer 'Adam', because it has 13 variables whereas the saved optimizer has 1 variables. \n"
          ]
        },
        {
          "metadata": {
            "tags": null
          },
          "name": "stdout",
          "output_type": "stream",
          "text": [
            "6 -2.5146136553162997 False\n",
            "Episode 101, Total Reward: -2529.487763520794\n",
            "3 -6.226340755216833 False\n",
            "5 -4.905091251117594 False\n",
            "6 -2.5146136553162997 False\n",
            "8 -5.004577401674917 False\n",
            "2 -8.192416453410834 False\n",
            "4 -4.585675628012074 False\n",
            "Episode 102, Total Reward: -2031.4287151447484\n",
            "3 -6.226340755216833 False\n",
            "9 -5.895412073873364 False\n",
            "2 -2.2550833802954076 False\n",
            "Episode 103, Total Reward: -3514.3768362093856\n",
            "4 -10.843880223714587 False\n",
            "5 -8.86012987256621 False\n",
            "9 -6.591803321334266 False\n",
            "2 -2.2550833802954076 False\n",
            "7 -1.1138456925079876 False\n",
            "3 -7.705775893101598 False\n",
            "Episode 104, Total Reward: -2037.37051838352\n",
            "6 -0.557563640416601 False\n",
            "3 -6.75623719662853 False\n",
            "4 -6.980965374268762 False\n",
            "8 -9.351745191179539 False\n",
            "1 -6.742121402603406 False\n",
            "5 -3.2013328857401957 False\n",
            "7 -6.890753875802023 False\n",
            "Episode 105, Total Reward: -1540.480719566639\n",
            "7 -8.756186467218008 False\n",
            "3 -7.705775893101598 False\n",
            "2 -6.841918956903541 False\n",
            "4 -4.585675628012074 False\n",
            "1 -11.509995892926003 False\n",
            "9 -9.070180154761154 False\n",
            "Episode 106, Total Reward: -2048.4697329929227\n",
            "7 -8.756186467218008 False\n",
            "9 -2.3673957673885857 False\n",
            "5 -6.591803321334266 False\n",
            "1 -3.2013328857401957 False\n",
            "2 -7.620784652302808 False\n",
            "6 -8.093492715402329 False\n",
            "4 -11.374743052916678 False\n",
            "Episode 107, Total Reward: -1548.0057388623031\n",
            "8 -4.569044986778715 False\n",
            "6 -5.004577401674917 False\n",
            "1 -2.0415606574273 False\n",
            "9 -9.070180154761154 False\n",
            "2 -2.2550833802954076 False\n",
            "Episode 108, Total Reward: -2522.9404465809375\n",
            "4 -10.843880223714587 False\n",
            "1 -11.509995892926003 False\n",
            "5 -3.2013328857401957 False\n",
            "2 -5.77799343429354 False\n",
            "7 -1.1138456925079876 False\n",
            "Episode 109, Total Reward: -2532.4470481291823\n",
            "1 -2.2601094764485308 False\n",
            "3 -8.062794569850828 False\n",
            "7 -7.705775893101598 False\n",
            "5 -6.890753875802023 False\n",
            "Episode 110, Total Reward: -3024.919433815203\n",
            "1 -2.2601094764485308 False\n"
          ]
        },
        {
          "metadata": {
            "tags": null
          },
          "name": "stderr",
          "output_type": "stream",
          "text": [
            "WARNING:absl:Skipping variable loading for optimizer 'Adam', because it has 13 variables whereas the saved optimizer has 1 variables. \n",
            "WARNING:absl:Skipping variable loading for optimizer 'Adam', because it has 13 variables whereas the saved optimizer has 1 variables. \n"
          ]
        },
        {
          "metadata": {
            "tags": null
          },
          "name": "stdout",
          "output_type": "stream",
          "text": [
            "6 -2.0415606574273 False\n"
          ]
        },
        {
          "metadata": {
            "tags": null
          },
          "name": "stderr",
          "output_type": "stream",
          "text": [
            "WARNING:absl:Skipping variable loading for optimizer 'Adam', because it has 13 variables whereas the saved optimizer has 1 variables. \n"
          ]
        },
        {
          "metadata": {
            "tags": null
          },
          "name": "stdout",
          "output_type": "stream",
          "text": [
            "7 -9.189377103453513 False\n"
          ]
        },
        {
          "metadata": {
            "tags": null
          },
          "name": "stderr",
          "output_type": "stream",
          "text": [
            "WARNING:absl:Skipping variable loading for optimizer 'Adam', because it has 13 variables whereas the saved optimizer has 1 variables. \n"
          ]
        },
        {
          "metadata": {
            "tags": null
          },
          "name": "stdout",
          "output_type": "stream",
          "text": [
            "5 -6.890753875802023 False\n"
          ]
        },
        {
          "metadata": {
            "tags": null
          },
          "name": "stderr",
          "output_type": "stream",
          "text": [
            "WARNING:absl:Skipping variable loading for optimizer 'Adam', because it has 13 variables whereas the saved optimizer has 1 variables. \n"
          ]
        },
        {
          "metadata": {
            "tags": null
          },
          "name": "stdout",
          "output_type": "stream",
          "text": [
            "8 -4.071101157390693 False\n",
            "Episode 111, Total Reward: -2524.452902270522\n",
            "6 -0.557563640416601 False\n",
            "3 -6.75623719662853 False\n",
            "2 -6.841918956903541 False\n",
            "7 -1.1138456925079876 False\n",
            "4 -4.250813147599771 False\n",
            "1 -11.509995892926003 False\n",
            "5 -3.2013328857401957 False\n",
            "Episode 112, Total Reward: -1534.2317074127227\n",
            "1 -2.2601094764485308 False\n",
            "7 -8.63933616755769 False\n",
            "5 -6.890753875802023 False\n",
            "2 -5.77799343429354 False\n",
            "4 -4.585675628012074 False\n",
            "6 -11.374743052916678 False\n",
            "Episode 113, Total Reward: -2039.5286116350305\n",
            "9 -8.579293986144062 False\n",
            "7 -2.3673957673885857 False\n",
            "3 -7.705775893101598 False\n",
            "1 -8.062794569850828 False\n",
            "5 -3.2013328857401957 False\n",
            "6 -2.5146136553162997 False\n",
            "2 -8.093492715402329 False\n",
            "Episode 114, Total Reward: -1540.524699472944\n",
            "9 -8.579293986144062 False\n",
            "2 -2.2550833802954076 False\n",
            "5 -5.77799343429354 False\n",
            "3 -4.905091251117594 False\n",
            "Episode 115, Total Reward: -3021.5174620518505\n",
            "6 -0.557563640416601 False\n",
            "3 -6.75623719662853 False\n",
            "5 -4.905091251117594 False\n",
            "4 -8.86012987256621 False\n",
            "1 -11.509995892926003 False\n",
            "Episode 116, Total Reward: -2532.5890178536547\n",
            "2 -7.653020649610424 False\n",
            "6 -8.093492715402329 False\n",
            "4 -11.374743052916678 False\n",
            "3 -6.980965374268762 False\n",
            "1 -8.062794569850828 False\n",
            "Episode 117, Total Reward: -2542.165016362049\n",
            "8 -4.569044986778715 False\n",
            "6 -5.004577401674917 False\n",
            "1 -2.0415606574273 False\n",
            "7 -8.63933616755769 False\n",
            "9 -2.3673957673885857 False\n",
            "5 -6.591803321334266 False\n",
            "2 -5.77799343429354 False\n",
            "Episode 118, Total Reward: -1534.991711736455\n",
            "6 -0.557563640416601 False\n",
            "4 -11.374743052916678 False\n",
            "1 -11.509995892926003 False\n",
            "3 -8.062794569850828 False\n",
            "8 -2.6150299035155595 False\n",
            "5 -4.071101157390693 False\n",
            "Episode 119, Total Reward: -2038.1912282170163\n",
            "3 -6.226340755216833 False\n",
            "2 -6.841918956903541 False\n",
            "1 -7.620784652302808 False\n",
            "4 -11.509995892926003 False\n"
          ]
        },
        {
          "metadata": {
            "tags": null
          },
          "name": "stderr",
          "output_type": "stream",
          "text": [
            "WARNING:absl:Skipping variable loading for optimizer 'Adam', because it has 13 variables whereas the saved optimizer has 1 variables. \n"
          ]
        },
        {
          "metadata": {
            "tags": null
          },
          "name": "stdout",
          "output_type": "stream",
          "text": [
            "6 -11.374743052916678 False\n",
            "Episode 120, Total Reward: -2543.5737833102658\n",
            "3 -6.226340755216833 False\n"
          ]
        },
        {
          "metadata": {
            "tags": null
          },
          "name": "stderr",
          "output_type": "stream",
          "text": [
            "WARNING:absl:Skipping variable loading for optimizer 'Adam', because it has 13 variables whereas the saved optimizer has 1 variables. \n"
          ]
        },
        {
          "metadata": {
            "tags": null
          },
          "name": "stdout",
          "output_type": "stream",
          "text": [
            "1 -8.062794569850828 False\n",
            "5 -3.2013328857401957 False\n"
          ]
        },
        {
          "metadata": {
            "tags": null
          },
          "name": "stderr",
          "output_type": "stream",
          "text": [
            "WARNING:absl:Skipping variable loading for optimizer 'Adam', because it has 13 variables whereas the saved optimizer has 1 variables. \n",
            "WARNING:absl:Skipping variable loading for optimizer 'Adam', because it has 13 variables whereas the saved optimizer has 1 variables. \n"
          ]
        },
        {
          "metadata": {
            "tags": null
          },
          "name": "stdout",
          "output_type": "stream",
          "text": [
            "4 -8.86012987256621 False\n",
            "Episode 121, Total Reward: -3026.3505980833743\n",
            "4 -10.843880223714587 False\n",
            "9 -2.4969092474766588 False\n",
            "6 -9.089599829761081 False\n",
            "7 -9.189377103453513 False\n",
            "2 -1.1138456925079876 False\n",
            "8 -8.192416453410834 False\n",
            "5 -4.071101157390693 False\n",
            "Episode 122, Total Reward: -1544.9971297077154\n",
            "9 -8.579293986144062 False\n",
            "2 -2.2550833802954076 False\n",
            "3 -6.841918956903541 False\n",
            "1 -8.062794569850828 False\n",
            "7 -8.63933616755769 False\n",
            "4 -4.250813147599771 False\n",
            "8 -9.351745191179539 False\n",
            "Episode 123, Total Reward: -1547.9809853995307\n",
            "6 -0.557563640416601 False\n",
            "1 -2.0415606574273 False\n",
            "7 -8.63933616755769 False\n",
            "3 -7.705775893101598 False\n",
            "5 -4.905091251117594 False\n",
            "Episode 124, Total Reward: -2523.8493276096206\n",
            "6 -0.557563640416601 False\n",
            "9 -9.089599829761081 False\n",
            "5 -6.591803321334266 False\n",
            "4 -8.86012987256621 False\n",
            "3 -6.980965374268762 False\n",
            "1 -8.062794569850828 False\n",
            "2 -7.620784652302808 False\n",
            "Episode 125, Total Reward: -1547.7636412605004\n",
            "9 -8.579293986144062 False\n",
            "1 -9.070180154761154 False\n",
            "8 -6.742121402603406 False\n",
            "2 -8.192416453410834 False\n",
            "4 -4.585675628012074 False\n",
            "7 -4.250813147599771 False\n",
            "Episode 126, Total Reward: -2041.420500772531\n",
            "3 -6.226340755216833 False\n",
            "6 -6.75623719662853 False\n",
            "4 -11.374743052916678 False\n",
            "9 -2.4969092474766588 False\n",
            "2 -2.2550833802954076 False\n",
            "5 -5.77799343429354 False\n",
            "Episode 127, Total Reward: -2034.8873070668278\n",
            "3 -6.226340755216833 False\n",
            "5 -4.905091251117594 False\n",
            "1 -3.2013328857401957 False\n",
            "6 -2.0415606574273 False\n",
            "4 -11.374743052916678 False\n",
            "8 -9.351745191179539 False\n",
            "Episode 128, Total Reward: -2037.1008137935983\n",
            "8 -4.569044986778715 False\n",
            "9 -7.853704773177191 False\n",
            "5 -6.591803321334266 False\n",
            "1 -3.2013328857401957 False\n",
            "4 -11.509995892926003 False\n",
            "Episode 129, Total Reward: -2533.7258818599566\n",
            "5 -1.9895625089960105 False\n",
            "8 -4.071101157390693 False\n",
            "2 -8.192416453410834 False\n",
            "4 -4.585675628012074 False\n",
            "7 -4.250813147599771 False\n",
            "1 -8.63933616755769 False\n",
            "9 -9.070180154761154 False\n",
            "Episode 130, Total Reward: -1540.7990852177281\n"
          ]
        },
        {
          "metadata": {
            "tags": null
          },
          "name": "stderr",
          "output_type": "stream",
          "text": [
            "WARNING:absl:Skipping variable loading for optimizer 'Adam', because it has 13 variables whereas the saved optimizer has 1 variables. \n"
          ]
        },
        {
          "metadata": {
            "tags": null
          },
          "name": "stdout",
          "output_type": "stream",
          "text": [
            "4 -10.843880223714587 False\n"
          ]
        },
        {
          "metadata": {
            "tags": null
          },
          "name": "stderr",
          "output_type": "stream",
          "text": [
            "WARNING:absl:Skipping variable loading for optimizer 'Adam', because it has 13 variables whereas the saved optimizer has 1 variables. \n"
          ]
        },
        {
          "metadata": {
            "tags": null
          },
          "name": "stdout",
          "output_type": "stream",
          "text": [
            "2 -4.585675628012074 False\n"
          ]
        },
        {
          "metadata": {
            "tags": null
          },
          "name": "stderr",
          "output_type": "stream",
          "text": [
            "WARNING:absl:Skipping variable loading for optimizer 'Adam', because it has 13 variables whereas the saved optimizer has 1 variables. \n"
          ]
        },
        {
          "metadata": {
            "tags": null
          },
          "name": "stdout",
          "output_type": "stream",
          "text": [
            "7 -1.1138456925079876 False\n"
          ]
        },
        {
          "metadata": {
            "tags": null
          },
          "name": "stderr",
          "output_type": "stream",
          "text": [
            "WARNING:absl:Skipping variable loading for optimizer 'Adam', because it has 13 variables whereas the saved optimizer has 1 variables. \n"
          ]
        },
        {
          "metadata": {
            "tags": null
          },
          "name": "stdout",
          "output_type": "stream",
          "text": [
            "9 -2.3673957673885857 False\n"
          ]
        },
        {
          "metadata": {
            "tags": null
          },
          "name": "stderr",
          "output_type": "stream",
          "text": [
            "WARNING:absl:Skipping variable loading for optimizer 'Adam', because it has 13 variables whereas the saved optimizer has 1 variables. \n"
          ]
        },
        {
          "metadata": {
            "tags": null
          },
          "name": "stdout",
          "output_type": "stream",
          "text": [
            "6 -9.089599829761081 False\n"
          ]
        },
        {
          "metadata": {
            "tags": null
          },
          "name": "stderr",
          "output_type": "stream",
          "text": [
            "WARNING:absl:Skipping variable loading for optimizer 'Adam', because it has 13 variables whereas the saved optimizer has 1 variables. \n"
          ]
        },
        {
          "metadata": {
            "tags": null
          },
          "name": "stdout",
          "output_type": "stream",
          "text": [
            "5 -2.5146136553162997 False\n"
          ]
        },
        {
          "metadata": {
            "tags": null
          },
          "name": "stderr",
          "output_type": "stream",
          "text": [
            "WARNING:absl:Skipping variable loading for optimizer 'Adam', because it has 13 variables whereas the saved optimizer has 1 variables. \n"
          ]
        },
        {
          "metadata": {
            "tags": null
          },
          "name": "stdout",
          "output_type": "stream",
          "text": [
            "3 -4.905091251117594 False\n",
            "Episode 131, Total Reward: -1535.420102047818\n",
            "6 -0.557563640416601 False\n",
            "7 -9.189377103453513 False\n",
            "8 -9.21539248558825 False\n",
            "1 -6.742121402603406 False\n",
            "5 -3.2013328857401957 False\n",
            "3 -4.905091251117594 False\n",
            "2 -6.841918956903541 False\n",
            "Episode 132, Total Reward: -1540.6527977258231\n",
            "7 -8.756186467218008 False\n",
            "5 -6.890753875802023 False\n",
            "2 -5.77799343429354 False\n",
            "8 -8.192416453410834 False\n",
            "1 -6.742121402603406 False\n",
            "Episode 133, Total Reward: -2536.359471633328\n",
            "2 -7.653020649610424 False\n",
            "6 -8.093492715402329 False\n",
            "4 -11.374743052916678 False\n",
            "5 -8.86012987256621 False\n",
            "Episode 134, Total Reward: -3035.9813862904957\n",
            "8 -4.569044986778715 False\n",
            "7 -9.21539248558825 False\n",
            "9 -2.3673957673885857 False\n",
            "1 -9.070180154761154 False\n",
            "3 -8.062794569850828 False\n",
            "Episode 135, Total Reward: -2533.2848079643672\n",
            "5 -1.9895625089960105 False\n",
            "2 -5.77799343429354 False\n",
            "8 -8.192416453410834 False\n",
            "1 -6.742121402603406 False\n",
            "6 -2.0415606574273 False\n",
            "Episode 136, Total Reward: -2524.743654456731\n",
            "5 -1.9895625089960105 False\n",
            "8 -4.071101157390693 False\n",
            "2 -8.192416453410834 False\n",
            "3 -6.841918956903541 False\n",
            "6 -6.75623719662853 False\n",
            "7 -9.189377103453513 False\n",
            "1 -8.63933616755769 False\n",
            "Episode 137, Total Reward: -1545.6799495443408\n",
            "9 -8.579293986144062 False\n",
            "6 -9.089599829761081 False\n",
            "2 -8.093492715402329 False\n",
            "5 -5.77799343429354 False\n",
            "8 -4.071101157390693 False\n",
            "1 -6.742121402603406 False\n",
            "Episode 138, Total Reward: -2042.353602525595\n",
            "7 -8.756186467218008 False\n",
            "6 -9.189377103453513 False\n",
            "5 -2.5146136553162997 False\n",
            "1 -3.2013328857401957 False\n",
            "9 -9.070180154761154 False\n",
            "8 -7.853704773177191 False\n",
            "2 -8.192416453410834 False\n",
            "Episode 139, Total Reward: -1548.7778114930773\n",
            "3 -6.226340755216833 False\n",
            "2 -6.841918956903541 False\n",
            "6 -8.093492715402329 False\n",
            "5 -2.5146136553162997 False\n",
            "8 -4.071101157390693 False\n",
            "9 -7.853704773177191 False\n"
          ]
        },
        {
          "metadata": {
            "tags": null
          },
          "name": "stderr",
          "output_type": "stream",
          "text": [
            "WARNING:absl:Skipping variable loading for optimizer 'Adam', because it has 13 variables whereas the saved optimizer has 1 variables. \n"
          ]
        },
        {
          "metadata": {
            "tags": null
          },
          "name": "stdout",
          "output_type": "stream",
          "text": [
            "7 -2.3673957673885857 False\n",
            "Episode 140, Total Reward: -1537.9685677807956\n",
            "2 -7.653020649610424 False\n"
          ]
        },
        {
          "metadata": {
            "tags": null
          },
          "name": "stderr",
          "output_type": "stream",
          "text": [
            "WARNING:absl:Skipping variable loading for optimizer 'Adam', because it has 13 variables whereas the saved optimizer has 1 variables. \n"
          ]
        },
        {
          "metadata": {
            "tags": null
          },
          "name": "stdout",
          "output_type": "stream",
          "text": [
            "1 -7.620784652302808 False\n"
          ]
        },
        {
          "metadata": {
            "tags": null
          },
          "name": "stderr",
          "output_type": "stream",
          "text": [
            "WARNING:absl:Skipping variable loading for optimizer 'Adam', because it has 13 variables whereas the saved optimizer has 1 variables. \n"
          ]
        },
        {
          "metadata": {
            "tags": null
          },
          "name": "stdout",
          "output_type": "stream",
          "text": [
            "4 -11.509995892926003 False\n",
            "3 -6.980965374268762 False\n"
          ]
        },
        {
          "metadata": {
            "tags": null
          },
          "name": "stderr",
          "output_type": "stream",
          "text": [
            "WARNING:absl:Skipping variable loading for optimizer 'Adam', because it has 13 variables whereas the saved optimizer has 1 variables. \n",
            "WARNING:absl:Skipping variable loading for optimizer 'Adam', because it has 13 variables whereas the saved optimizer has 1 variables. \n"
          ]
        },
        {
          "metadata": {
            "tags": null
          },
          "name": "stdout",
          "output_type": "stream",
          "text": [
            "7 -7.705775893101598 False\n",
            "5 -6.890753875802023 False\n"
          ]
        },
        {
          "metadata": {
            "tags": null
          },
          "name": "stderr",
          "output_type": "stream",
          "text": [
            "WARNING:absl:Skipping variable loading for optimizer 'Adam', because it has 13 variables whereas the saved optimizer has 1 variables. \n",
            "WARNING:absl:Skipping variable loading for optimizer 'Adam', because it has 13 variables whereas the saved optimizer has 1 variables. \n"
          ]
        },
        {
          "metadata": {
            "tags": null
          },
          "name": "stdout",
          "output_type": "stream",
          "text": [
            "9 -6.591803321334266 False\n",
            "Episode 141, Total Reward: -1554.9530996593462\n",
            "4 -10.843880223714587 False\n",
            "6 -11.374743052916678 False\n",
            "8 -5.004577401674917 False\n",
            "7 -9.21539248558825 False\n",
            "3 -7.705775893101598 False\n",
            "2 -6.841918956903541 False\n",
            "Episode 142, Total Reward: -2050.9862880138994\n",
            "2 -7.653020649610424 False\n",
            "8 -8.192416453410834 False\n",
            "5 -4.071101157390693 False\n",
            "4 -8.86012987256621 False\n",
            "6 -11.374743052916678 False\n",
            "Episode 143, Total Reward: -2540.1514111858946\n",
            "9 -8.579293986144062 False\n",
            "4 -2.4969092474766588 False\n",
            "3 -6.980965374268762 False\n",
            "5 -4.905091251117594 False\n",
            "8 -4.071101157390693 False\n",
            "Episode 144, Total Reward: -2527.033361016398\n",
            "5 -1.9895625089960105 False\n",
            "4 -8.86012987256621 False\n",
            "8 -9.351745191179539 False\n",
            "3 -2.6150299035155595 False\n",
            "1 -8.062794569850828 False\n",
            "9 -9.070180154761154 False\n",
            "2 -2.2550833802954076 False\n",
            "Episode 145, Total Reward: -1542.2045255811647\n",
            "8 -4.569044986778715 False\n",
            "2 -8.192416453410834 False\n",
            "9 -2.2550833802954076 False\n",
            "3 -5.895412073873364 False\n",
            "6 -6.75623719662853 False\n",
            "7 -9.189377103453513 False\n",
            "1 -8.63933616755769 False\n",
            "Episode 146, Total Reward: -1545.4969073619982\n",
            "9 -8.579293986144062 False\n",
            "8 -7.853704773177191 False\n",
            "6 -5.004577401674917 False\n",
            "2 -8.093492715402329 False\n",
            "3 -6.841918956903541 False\n",
            "Episode 147, Total Reward: -2536.3729878333024\n",
            "3 -6.226340755216833 False\n",
            "7 -7.705775893101598 False\n",
            "5 -6.890753875802023 False\n",
            "4 -8.86012987256621 False\n",
            "8 -9.351745191179539 False\n",
            "Episode 148, Total Reward: -2539.0347455878664\n",
            "7 -8.756186467218008 False\n",
            "2 -1.1138456925079876 False\n",
            "3 -6.841918956903541 False\n",
            "1 -8.062794569850828 False\n",
            "8 -6.742121402603406 False\n",
            "Episode 149, Total Reward: -2531.516867089084\n",
            "3 -6.226340755216833 False\n",
            "1 -8.062794569850828 False\n",
            "8 -6.742121402603406 False\n",
            "5 -4.071101157390693 False\n",
            "6 -2.5146136553162997 False\n",
            "Episode 150, Total Reward: -2527.616971540378\n",
            "6 -0.557563640416601 False\n"
          ]
        },
        {
          "metadata": {
            "tags": null
          },
          "name": "stderr",
          "output_type": "stream",
          "text": [
            "WARNING:absl:Skipping variable loading for optimizer 'Adam', because it has 13 variables whereas the saved optimizer has 1 variables. \n",
            "WARNING:absl:Skipping variable loading for optimizer 'Adam', because it has 13 variables whereas the saved optimizer has 1 variables. \n"
          ]
        },
        {
          "metadata": {
            "tags": null
          },
          "name": "stdout",
          "output_type": "stream",
          "text": [
            "2 -8.093492715402329 False\n",
            "7 -1.1138456925079876 False\n"
          ]
        },
        {
          "metadata": {
            "tags": null
          },
          "name": "stderr",
          "output_type": "stream",
          "text": [
            "WARNING:absl:Skipping variable loading for optimizer 'Adam', because it has 13 variables whereas the saved optimizer has 1 variables. \n",
            "WARNING:absl:Skipping variable loading for optimizer 'Adam', because it has 13 variables whereas the saved optimizer has 1 variables. \n"
          ]
        },
        {
          "metadata": {
            "tags": null
          },
          "name": "stdout",
          "output_type": "stream",
          "text": [
            "3 -7.705775893101598 False\n"
          ]
        },
        {
          "metadata": {
            "tags": null
          },
          "name": "stderr",
          "output_type": "stream",
          "text": [
            "WARNING:absl:Skipping variable loading for optimizer 'Adam', because it has 13 variables whereas the saved optimizer has 1 variables. \n"
          ]
        },
        {
          "metadata": {
            "tags": null
          },
          "name": "stdout",
          "output_type": "stream",
          "text": [
            "5 -4.905091251117594 False\n",
            "4 -8.86012987256621 False\n"
          ]
        },
        {
          "metadata": {
            "tags": null
          },
          "name": "stderr",
          "output_type": "stream",
          "text": [
            "WARNING:absl:Skipping variable loading for optimizer 'Adam', because it has 13 variables whereas the saved optimizer has 1 variables. \n",
            "WARNING:absl:Skipping variable loading for optimizer 'Adam', because it has 13 variables whereas the saved optimizer has 1 variables. \n"
          ]
        },
        {
          "metadata": {
            "tags": null
          },
          "name": "stdout",
          "output_type": "stream",
          "text": [
            "1 -11.509995892926003 False\n",
            "Episode 151, Total Reward: -1542.7458949580384\n",
            "9 -8.579293986144062 False\n",
            "5 -6.591803321334266 False\n",
            "8 -4.071101157390693 False\n",
            "6 -5.004577401674917 False\n",
            "4 -11.374743052916678 False\n",
            "2 -4.585675628012074 False\n",
            "7 -1.1138456925079876 False\n",
            "Episode 152, Total Reward: -1541.3210402399807\n",
            "5 -1.9895625089960105 False\n",
            "8 -4.071101157390693 False\n",
            "2 -8.192416453410834 False\n",
            "3 -6.841918956903541 False\n",
            "6 -6.75623719662853 False\n",
            "7 -9.189377103453513 False\n",
            "Episode 153, Total Reward: -2037.0406133767833\n",
            "4 -10.843880223714587 False\n",
            "7 -4.250813147599771 False\n",
            "5 -6.890753875802023 False\n",
            "2 -5.77799343429354 False\n",
            "1 -7.620784652302808 False\n",
            "3 -8.062794569850828 False\n",
            "Episode 154, Total Reward: -2043.4470199035636\n",
            "6 -0.557563640416601 False\n",
            "7 -9.189377103453513 False\n",
            "4 -4.250813147599771 False\n",
            "3 -6.980965374268762 False\n",
            "8 -2.6150299035155595 False\n",
            "1 -6.742121402603406 False\n",
            "Episode 155, Total Reward: -2030.3358705718576\n",
            "2 -7.653020649610424 False\n",
            "6 -8.093492715402329 False\n",
            "8 -5.004577401674917 False\n",
            "5 -4.071101157390693 False\n",
            "9 -6.591803321334266 False\n",
            "3 -5.895412073873364 False\n",
            "Episode 156, Total Reward: -2037.3094073192858\n",
            "1 -2.2601094764485308 False\n",
            "9 -9.070180154761154 False\n",
            "3 -5.895412073873364 False\n",
            "6 -6.75623719662853 False\n",
            "2 -8.093492715402329 False\n",
            "5 -5.77799343429354 False\n",
            "8 -4.071101157390693 False\n",
            "7 -9.21539248558825 False\n",
            "Episode 157, Total Reward: -1051.1399186943863\n",
            "9 -8.579293986144062 False\n",
            "3 -5.895412073873364 False\n",
            "7 -7.705775893101598 False\n",
            "2 -1.1138456925079876 False\n",
            "6 -8.093492715402329 False\n",
            "Episode 158, Total Reward: -2531.3878203610293\n",
            "9 -8.579293986144062 False\n",
            "8 -7.853704773177191 False\n",
            "6 -5.004577401674917 False\n",
            "3 -6.75623719662853 False\n",
            "2 -6.841918956903541 False\n",
            "1 -7.620784652302808 False\n",
            "Episode 159, Total Reward: -2042.6565169668308\n",
            "5 -1.9895625089960105 False\n",
            "3 -4.905091251117594 False\n",
            "6 -6.75623719662853 False\n",
            "4 -11.374743052916678 False\n",
            "1 -11.509995892926003 False\n",
            "7 -8.63933616755769 False\n",
            "Episode 160, Total Reward: -2045.1749660701428\n",
            "4 -10.843880223714587 False\n"
          ]
        },
        {
          "metadata": {
            "tags": null
          },
          "name": "stderr",
          "output_type": "stream",
          "text": [
            "WARNING:absl:Skipping variable loading for optimizer 'Adam', because it has 13 variables whereas the saved optimizer has 1 variables. \n",
            "WARNING:absl:Skipping variable loading for optimizer 'Adam', because it has 13 variables whereas the saved optimizer has 1 variables. \n"
          ]
        },
        {
          "metadata": {
            "tags": null
          },
          "name": "stdout",
          "output_type": "stream",
          "text": [
            "6 -11.374743052916678 False\n",
            "5 -2.5146136553162997 False\n"
          ]
        },
        {
          "metadata": {
            "tags": null
          },
          "name": "stderr",
          "output_type": "stream",
          "text": [
            "WARNING:absl:Skipping variable loading for optimizer 'Adam', because it has 13 variables whereas the saved optimizer has 1 variables. \n",
            "WARNING:absl:Skipping variable loading for optimizer 'Adam', because it has 13 variables whereas the saved optimizer has 1 variables. \n"
          ]
        },
        {
          "metadata": {
            "tags": null
          },
          "name": "stdout",
          "output_type": "stream",
          "text": [
            "1 -3.2013328857401957 False\n",
            "9 -9.070180154761154 False\n"
          ]
        },
        {
          "metadata": {
            "tags": null
          },
          "name": "stderr",
          "output_type": "stream",
          "text": [
            "WARNING:absl:Skipping variable loading for optimizer 'Adam', because it has 13 variables whereas the saved optimizer has 1 variables. \n",
            "WARNING:absl:Skipping variable loading for optimizer 'Adam', because it has 13 variables whereas the saved optimizer has 1 variables. \n"
          ]
        },
        {
          "metadata": {
            "tags": null
          },
          "name": "stdout",
          "output_type": "stream",
          "text": [
            "7 -2.3673957673885857 False\n",
            "3 -7.705775893101598 False\n"
          ]
        },
        {
          "metadata": {
            "tags": null
          },
          "name": "stderr",
          "output_type": "stream",
          "text": [
            "WARNING:absl:Skipping variable loading for optimizer 'Adam', because it has 13 variables whereas the saved optimizer has 1 variables. \n"
          ]
        },
        {
          "metadata": {
            "tags": null
          },
          "name": "stdout",
          "output_type": "stream",
          "text": [
            "Episode 161, Total Reward: -1547.0779216329393\n",
            "5 -1.9895625089960105 False\n",
            "8 -4.071101157390693 False\n",
            "6 -5.004577401674917 False\n",
            "4 -11.374743052916678 False\n",
            "3 -6.980965374268762 False\n",
            "2 -6.841918956903541 False\n",
            "9 -2.2550833802954076 False\n",
            "Episode 162, Total Reward: -1538.5179518324462\n",
            "7 -8.756186467218008 False\n",
            "6 -9.189377103453513 False\n",
            "3 -6.75623719662853 False\n",
            "2 -6.841918956903541 False\n",
            "8 -8.192416453410834 False\n",
            "Episode 163, Total Reward: -2539.7361361776143\n",
            "5 -1.9895625089960105 False\n",
            "4 -8.86012987256621 False\n",
            "7 -4.250813147599771 False\n",
            "2 -1.1138456925079876 False\n",
            "3 -6.841918956903541 False\n",
            "8 -2.6150299035155595 False\n",
            "6 -5.004577401674917 False\n",
            "Episode 164, Total Reward: -1530.6758774837638\n",
            "7 -8.756186467218008 False\n",
            "9 -2.3673957673885857 False\n",
            "3 -5.895412073873364 False\n",
            "2 -6.841918956903541 False\n",
            "8 -8.192416453410834 False\n",
            "4 -9.351745191179539 False\n",
            "Episode 165, Total Reward: -2041.405074909974\n",
            "2 -7.653020649610424 False\n",
            "1 -7.620784652302808 False\n",
            "8 -6.742121402603406 False\n",
            "7 -9.21539248558825 False\n",
            "3 -7.705775893101598 False\n",
            "Episode 166, Total Reward: -2538.9370950832063\n",
            "9 -8.579293986144062 False\n",
            "8 -7.853704773177191 False\n",
            "4 -9.351745191179539 False\n",
            "7 -4.250813147599771 False\n",
            "5 -6.890753875802023 False\n",
            "1 -3.2013328857401957 False\n",
            "Episode 167, Total Reward: -2040.1276438596428\n",
            "5 -1.9895625089960105 False\n",
            "7 -6.890753875802023 False\n",
            "3 -7.705775893101598 False\n",
            "9 -5.895412073873364 False\n",
            "2 -2.2550833802954076 False\n",
            "8 -8.192416453410834 False\n",
            "4 -9.351745191179539 False\n",
            "Episode 168, Total Reward: -1542.2807493766588\n",
            "2 -7.653020649610424 False\n",
            "3 -6.841918956903541 False\n",
            "9 -5.895412073873364 False\n",
            "7 -2.3673957673885857 False\n",
            "4 -4.250813147599771 False\n",
            "Episode 169, Total Reward: -2527.0085605953755\n",
            "2 -7.653020649610424 False\n",
            "4 -4.585675628012074 False\n",
            "3 -6.980965374268762 False\n",
            "5 -4.905091251117594 False\n",
            "8 -4.071101157390693 False\n"
          ]
        },
        {
          "metadata": {
            "tags": null
          },
          "name": "stderr",
          "output_type": "stream",
          "text": [
            "WARNING:absl:Skipping variable loading for optimizer 'Adam', because it has 13 variables whereas the saved optimizer has 1 variables. \n"
          ]
        },
        {
          "metadata": {
            "tags": null
          },
          "name": "stdout",
          "output_type": "stream",
          "text": [
            "6 -5.004577401674917 False\n",
            "Episode 170, Total Reward: -2033.2004314620744\n",
            "7 -8.756186467218008 False\n"
          ]
        },
        {
          "metadata": {
            "tags": null
          },
          "name": "stderr",
          "output_type": "stream",
          "text": [
            "WARNING:absl:Skipping variable loading for optimizer 'Adam', because it has 13 variables whereas the saved optimizer has 1 variables. \n"
          ]
        },
        {
          "metadata": {
            "tags": null
          },
          "name": "stdout",
          "output_type": "stream",
          "text": [
            "5 -6.890753875802023 False\n",
            "8 -4.071101157390693 False\n"
          ]
        },
        {
          "metadata": {
            "tags": null
          },
          "name": "stderr",
          "output_type": "stream",
          "text": [
            "WARNING:absl:Skipping variable loading for optimizer 'Adam', because it has 13 variables whereas the saved optimizer has 1 variables. \n",
            "WARNING:absl:Skipping variable loading for optimizer 'Adam', because it has 13 variables whereas the saved optimizer has 1 variables. \n"
          ]
        },
        {
          "metadata": {
            "tags": null
          },
          "name": "stdout",
          "output_type": "stream",
          "text": [
            "2 -8.192416453410834 False\n",
            "Episode 171, Total Reward: -3027.9104579538216\n",
            "6 -0.557563640416601 False\n",
            "1 -2.0415606574273 False\n",
            "3 -8.062794569850828 False\n",
            "9 -5.895412073873364 False\n",
            "8 -7.853704773177191 False\n",
            "7 -9.21539248558825 False\n",
            "Episode 172, Total Reward: -2033.6264282003335\n",
            "4 -10.843880223714587 False\n",
            "6 -11.374743052916678 False\n",
            "5 -2.5146136553162997 False\n",
            "8 -4.071101157390693 False\n",
            "1 -6.742121402603406 False\n",
            "Episode 173, Total Reward: -2535.5464594919417\n",
            "4 -10.843880223714587 False\n",
            "9 -2.4969092474766588 False\n",
            "3 -5.895412073873364 False\n",
            "2 -6.841918956903541 False\n",
            "6 -8.093492715402329 False\n",
            "Episode 174, Total Reward: -2534.17161321737\n",
            "3 -6.226340755216833 False\n",
            "7 -7.705775893101598 False\n",
            "8 -9.21539248558825 False\n",
            "2 -8.192416453410834 False\n",
            "6 -8.093492715402329 False\n",
            "Episode 175, Total Reward: -2539.43341830272\n",
            "9 -8.579293986144062 False\n",
            "1 -9.070180154761154 False\n",
            "7 -8.63933616755769 False\n",
            "2 -1.1138456925079876 False\n",
            "4 -4.585675628012074 False\n",
            "3 -6.980965374268762 False\n",
            "5 -4.905091251117594 False\n",
            "6 -2.5146136553162997 False\n",
            "Episode 176, Total Reward: -1046.3890019096857\n",
            "9 -8.579293986144062 False\n",
            "2 -2.2550833802954076 False\n",
            "1 -7.620784652302808 False\n",
            "3 -8.062794569850828 False\n",
            "5 -4.905091251117594 False\n",
            "Episode 177, Total Reward: -2531.4230478397103\n",
            "2 -7.653020649610424 False\n",
            "8 -8.192416453410834 False\n",
            "1 -6.742121402603406 False\n",
            "3 -8.062794569850828 False\n",
            "9 -5.895412073873364 False\n",
            "4 -2.4969092474766588 False\n",
            "7 -4.250813147599771 False\n",
            "Episode 178, Total Reward: -1543.2934875444253\n",
            "7 -8.756186467218008 False\n",
            "6 -9.189377103453513 False\n",
            "9 -9.089599829761081 False\n",
            "1 -9.070180154761154 False\n",
            "4 -11.509995892926003 False\n",
            "2 -4.585675628012074 False\n",
            "3 -6.841918956903541 False\n",
            "Episode 179, Total Reward: -1559.0429340330354\n",
            "6 -0.557563640416601 False\n",
            "9 -9.089599829761081 False\n",
            "1 -9.070180154761154 False\n",
            "5 -3.2013328857401957 False\n",
            "2 -5.77799343429354 False\n",
            "3 -6.841918956903541 False\n",
            "8 -2.6150299035155595 False\n",
            "Episode 180, Total Reward: -1537.1536188053917\n"
          ]
        },
        {
          "metadata": {
            "tags": null
          },
          "name": "stderr",
          "output_type": "stream",
          "text": [
            "WARNING:absl:Skipping variable loading for optimizer 'Adam', because it has 13 variables whereas the saved optimizer has 1 variables. \n"
          ]
        },
        {
          "metadata": {
            "tags": null
          },
          "name": "stdout",
          "output_type": "stream",
          "text": [
            "6 -0.557563640416601 False\n"
          ]
        },
        {
          "metadata": {
            "tags": null
          },
          "name": "stderr",
          "output_type": "stream",
          "text": [
            "WARNING:absl:Skipping variable loading for optimizer 'Adam', because it has 13 variables whereas the saved optimizer has 1 variables. \n"
          ]
        },
        {
          "metadata": {
            "tags": null
          },
          "name": "stdout",
          "output_type": "stream",
          "text": [
            "8 -5.004577401674917 False\n",
            "5 -4.071101157390693 False\n"
          ]
        },
        {
          "metadata": {
            "tags": null
          },
          "name": "stderr",
          "output_type": "stream",
          "text": [
            "WARNING:absl:Skipping variable loading for optimizer 'Adam', because it has 13 variables whereas the saved optimizer has 1 variables. \n",
            "WARNING:absl:Skipping variable loading for optimizer 'Adam', because it has 13 variables whereas the saved optimizer has 1 variables. \n"
          ]
        },
        {
          "metadata": {
            "tags": null
          },
          "name": "stdout",
          "output_type": "stream",
          "text": [
            "3 -4.905091251117594 False\n"
          ]
        },
        {
          "metadata": {
            "tags": null
          },
          "name": "stderr",
          "output_type": "stream",
          "text": [
            "WARNING:absl:Skipping variable loading for optimizer 'Adam', because it has 13 variables whereas the saved optimizer has 1 variables. \n"
          ]
        },
        {
          "metadata": {
            "tags": null
          },
          "name": "stdout",
          "output_type": "stream",
          "text": [
            "7 -7.705775893101598 False\n"
          ]
        },
        {
          "metadata": {
            "tags": null
          },
          "name": "stderr",
          "output_type": "stream",
          "text": [
            "WARNING:absl:Skipping variable loading for optimizer 'Adam', because it has 13 variables whereas the saved optimizer has 1 variables. \n"
          ]
        },
        {
          "metadata": {
            "tags": null
          },
          "name": "stdout",
          "output_type": "stream",
          "text": [
            "2 -1.1138456925079876 False\n",
            "Episode 181, Total Reward: -2023.3579550362094\n",
            "3 -6.226340755216833 False\n",
            "8 -2.6150299035155595 False\n",
            "5 -4.071101157390693 False\n",
            "9 -6.591803321334266 False\n",
            "1 -9.070180154761154 False\n",
            "6 -2.0415606574273 False\n",
            "Episode 182, Total Reward: -2030.6160159496458\n",
            "6 -0.557563640416601 False\n",
            "9 -9.089599829761081 False\n",
            "1 -9.070180154761154 False\n",
            "7 -8.63933616755769 False\n",
            "4 -4.250813147599771 False\n",
            "3 -6.980965374268762 False\n",
            "Episode 183, Total Reward: -2038.5884583143652\n",
            "2 -7.653020649610424 False\n",
            "9 -2.2550833802954076 False\n",
            "5 -6.591803321334266 False\n",
            "1 -3.2013328857401957 False\n",
            "3 -8.062794569850828 False\n",
            "8 -2.6150299035155595 False\n",
            "Episode 184, Total Reward: -2030.3790647103467\n",
            "4 -10.843880223714587 False\n",
            "1 -11.509995892926003 False\n",
            "9 -9.070180154761154 False\n",
            "8 -7.853704773177191 False\n",
            "6 -5.004577401674917 False\n",
            "2 -8.093492715402329 False\n",
            "5 -5.77799343429354 False\n",
            "Episode 185, Total Reward: -1558.15382459595\n",
            "6 -0.557563640416601 False\n",
            "4 -11.374743052916678 False\n",
            "7 -4.250813147599771 False\n",
            "2 -1.1138456925079876 False\n",
            "3 -6.841918956903541 False\n",
            "Episode 186, Total Reward: -2524.138884490345\n",
            "9 -8.579293986144062 False\n",
            "8 -7.853704773177191 False\n",
            "2 -8.192416453410834 False\n",
            "3 -6.841918956903541 False\n",
            "4 -6.980965374268762 False\n",
            "1 -11.509995892926003 False\n",
            "7 -8.63933616755769 False\n",
            "6 -9.189377103453513 False\n",
            "Episode 187, Total Reward: -1067.7870087078416\n",
            "1 -2.2601094764485308 False\n",
            "6 -2.0415606574273 False\n",
            "9 -9.089599829761081 False\n",
            "4 -2.4969092474766588 False\n",
            "7 -4.250813147599771 False\n",
            "Episode 188, Total Reward: -2520.138992358713\n",
            "4 -10.843880223714587 False\n",
            "7 -4.250813147599771 False\n",
            "9 -2.3673957673885857 False\n",
            "2 -2.2550833802954076 False\n",
            "1 -7.620784652302808 False\n",
            "Episode 189, Total Reward: -2527.3379571713012\n",
            "7 -8.756186467218008 False\n",
            "2 -1.1138456925079876 False\n",
            "9 -2.2550833802954076 False\n",
            "6 -9.089599829761081 False\n",
            "3 -6.75623719662853 False\n",
            "Episode 190, Total Reward: -2527.970952566411\n"
          ]
        },
        {
          "metadata": {
            "tags": null
          },
          "name": "stderr",
          "output_type": "stream",
          "text": [
            "WARNING:absl:Skipping variable loading for optimizer 'Adam', because it has 13 variables whereas the saved optimizer has 1 variables. \n"
          ]
        },
        {
          "metadata": {
            "tags": null
          },
          "name": "stdout",
          "output_type": "stream",
          "text": [
            "9 -8.579293986144062 False\n",
            "5 -6.591803321334266 False\n"
          ]
        },
        {
          "metadata": {
            "tags": null
          },
          "name": "stderr",
          "output_type": "stream",
          "text": [
            "WARNING:absl:Skipping variable loading for optimizer 'Adam', because it has 13 variables whereas the saved optimizer has 1 variables. \n",
            "WARNING:absl:Skipping variable loading for optimizer 'Adam', because it has 13 variables whereas the saved optimizer has 1 variables. \n"
          ]
        },
        {
          "metadata": {
            "tags": null
          },
          "name": "stdout",
          "output_type": "stream",
          "text": [
            "1 -3.2013328857401957 False\n"
          ]
        },
        {
          "metadata": {
            "tags": null
          },
          "name": "stderr",
          "output_type": "stream",
          "text": [
            "WARNING:absl:Skipping variable loading for optimizer 'Adam', because it has 13 variables whereas the saved optimizer has 1 variables. \n"
          ]
        },
        {
          "metadata": {
            "tags": null
          },
          "name": "stdout",
          "output_type": "stream",
          "text": [
            "3 -8.062794569850828 False\n"
          ]
        },
        {
          "metadata": {
            "tags": null
          },
          "name": "stderr",
          "output_type": "stream",
          "text": [
            "WARNING:absl:Skipping variable loading for optimizer 'Adam', because it has 13 variables whereas the saved optimizer has 1 variables. \n"
          ]
        },
        {
          "metadata": {
            "tags": null
          },
          "name": "stdout",
          "output_type": "stream",
          "text": [
            "7 -7.705775893101598 False\n",
            "6 -9.189377103453513 False\n"
          ]
        },
        {
          "metadata": {
            "tags": null
          },
          "name": "stderr",
          "output_type": "stream",
          "text": [
            "WARNING:absl:Skipping variable loading for optimizer 'Adam', because it has 13 variables whereas the saved optimizer has 1 variables. \n"
          ]
        },
        {
          "metadata": {
            "tags": null
          },
          "name": "stdout",
          "output_type": "stream",
          "text": [
            "Episode 191, Total Reward: -2043.3303777596245\n",
            "3 -6.226340755216833 False\n",
            "4 -6.980965374268762 False\n",
            "9 -2.4969092474766588 False\n",
            "1 -9.070180154761154 False\n",
            "Episode 192, Total Reward: -3024.7743955317237\n",
            "5 -1.9895625089960105 False\n",
            "9 -6.591803321334266 False\n",
            "3 -5.895412073873364 False\n",
            "8 -2.6150299035155595 False\n",
            "2 -8.192416453410834 False\n",
            "1 -7.620784652302808 False\n",
            "Episode 193, Total Reward: -2032.9050089134328\n",
            "1 -2.2601094764485308 False\n",
            "2 -7.620784652302808 False\n",
            "6 -8.093492715402329 False\n",
            "8 -5.004577401674917 False\n",
            "3 -2.6150299035155595 False\n",
            "Episode 194, Total Reward: -2525.5939941493443\n",
            "6 -0.557563640416601 False\n",
            "7 -9.189377103453513 False\n",
            "1 -8.63933616755769 False\n",
            "8 -6.742121402603406 False\n",
            "2 -8.192416453410834 False\n",
            "5 -5.77799343429354 False\n",
            "Episode 195, Total Reward: -2039.0988082017357\n",
            "3 -6.226340755216833 False\n",
            "9 -5.895412073873364 False\n",
            "8 -7.853704773177191 False\n",
            "1 -6.742121402603406 False\n",
            "2 -7.620784652302808 False\n",
            "4 -4.585675628012074 False\n",
            "Episode 196, Total Reward: -2038.9240392851857\n",
            "6 -0.557563640416601 False\n",
            "3 -6.75623719662853 False\n",
            "7 -7.705775893101598 False\n",
            "1 -8.63933616755769 False\n",
            "5 -3.2013328857401957 False\n",
            "Episode 197, Total Reward: -2526.8602457834445\n",
            "3 -6.226340755216833 False\n",
            "5 -4.905091251117594 False\n",
            "7 -6.890753875802023 False\n",
            "8 -9.21539248558825 False\n",
            "Episode 198, Total Reward: -3027.237578367725\n",
            "1 -2.2601094764485308 False\n",
            "4 -11.509995892926003 False\n",
            "8 -9.351745191179539 False\n",
            "3 -2.6150299035155595 False\n",
            "5 -4.905091251117594 False\n",
            "6 -2.5146136553162997 False\n",
            "Episode 199, Total Reward: -2033.1565853705035\n",
            "5 -1.9895625089960105 False\n",
            "6 -2.5146136553162997 False\n",
            "4 -11.374743052916678 False\n",
            "7 -4.250813147599771 False\n",
            "3 -7.705775893101598 False\n",
            "8 -2.6150299035155595 False\n",
            "Episode 200, Total Reward: -2030.4505381614458\n",
            "8 -4.569044986778715 False\n"
          ]
        },
        {
          "metadata": {
            "tags": null
          },
          "name": "stderr",
          "output_type": "stream",
          "text": [
            "WARNING:absl:Skipping variable loading for optimizer 'Adam', because it has 13 variables whereas the saved optimizer has 1 variables. \n",
            "WARNING:absl:Skipping variable loading for optimizer 'Adam', because it has 13 variables whereas the saved optimizer has 1 variables. \n"
          ]
        },
        {
          "metadata": {
            "tags": null
          },
          "name": "stdout",
          "output_type": "stream",
          "text": [
            "7 -9.21539248558825 False\n"
          ]
        },
        {
          "metadata": {
            "tags": null
          },
          "name": "stderr",
          "output_type": "stream",
          "text": [
            "WARNING:absl:Skipping variable loading for optimizer 'Adam', because it has 13 variables whereas the saved optimizer has 1 variables. \n"
          ]
        },
        {
          "metadata": {
            "tags": null
          },
          "name": "stdout",
          "output_type": "stream",
          "text": [
            "2 -1.1138456925079876 False\n",
            "4 -4.585675628012074 False\n"
          ]
        },
        {
          "metadata": {
            "tags": null
          },
          "name": "stderr",
          "output_type": "stream",
          "text": [
            "WARNING:absl:Skipping variable loading for optimizer 'Adam', because it has 13 variables whereas the saved optimizer has 1 variables. \n",
            "WARNING:absl:Skipping variable loading for optimizer 'Adam', because it has 13 variables whereas the saved optimizer has 1 variables. \n"
          ]
        },
        {
          "metadata": {
            "tags": null
          },
          "name": "stdout",
          "output_type": "stream",
          "text": [
            "3 -6.980965374268762 False\n"
          ]
        },
        {
          "metadata": {
            "tags": null
          },
          "name": "stderr",
          "output_type": "stream",
          "text": [
            "WARNING:absl:Skipping variable loading for optimizer 'Adam', because it has 13 variables whereas the saved optimizer has 1 variables. \n"
          ]
        },
        {
          "metadata": {
            "tags": null
          },
          "name": "stdout",
          "output_type": "stream",
          "text": [
            "9 -5.895412073873364 False\n"
          ]
        },
        {
          "metadata": {
            "tags": null
          },
          "name": "stderr",
          "output_type": "stream",
          "text": [
            "WARNING:absl:Skipping variable loading for optimizer 'Adam', because it has 13 variables whereas the saved optimizer has 1 variables. \n"
          ]
        },
        {
          "metadata": {
            "tags": null
          },
          "name": "stdout",
          "output_type": "stream",
          "text": [
            "5 -6.591803321334266 False\n",
            "Episode 201, Total Reward: -1538.9521395623633\n",
            "8 -4.569044986778715 False\n",
            "2 -8.192416453410834 False\n",
            "6 -8.093492715402329 False\n",
            "4 -11.374743052916678 False\n",
            "Episode 202, Total Reward: -3032.2296972085087\n",
            "9 -8.579293986144062 False\n",
            "6 -9.089599829761081 False\n",
            "4 -11.374743052916678 False\n",
            "2 -4.585675628012074 False\n",
            "1 -7.620784652302808 False\n",
            "3 -8.062794569850828 False\n",
            "7 -7.705775893101598 False\n",
            "Episode 203, Total Reward: -1557.018667612089\n",
            "6 -0.557563640416601 False\n",
            "8 -5.004577401674917 False\n",
            "9 -7.853704773177191 False\n",
            "3 -5.895412073873364 False\n",
            "5 -4.905091251117594 False\n",
            "4 -8.86012987256621 False\n",
            "7 -4.250813147599771 False\n",
            "1 -8.63933616755769 False\n",
            "Episode 204, Total Reward: -1045.9666283279835\n",
            "8 -4.569044986778715 False\n",
            "1 -6.742121402603406 False\n",
            "5 -3.2013328857401957 False\n",
            "3 -4.905091251117594 False\n",
            "7 -7.705775893101598 False\n",
            "2 -1.1138456925079876 False\n",
            "Episode 205, Total Reward: -2028.2372121118494\n",
            "9 -8.579293986144062 False\n",
            "1 -9.070180154761154 False\n",
            "7 -8.63933616755769 False\n",
            "4 -4.250813147599771 False\n",
            "5 -8.86012987256621 False\n",
            "Episode 206, Total Reward: -2539.399753328629\n",
            "1 -2.2601094764485308 False\n",
            "9 -9.070180154761154 False\n",
            "7 -2.3673957673885857 False\n",
            "6 -9.189377103453513 False\n",
            "4 -11.374743052916678 False\n",
            "5 -8.86012987256621 False\n",
            "3 -4.905091251117594 False\n",
            "Episode 207, Total Reward: -1548.027026678652\n",
            "8 -4.569044986778715 False\n",
            "6 -5.004577401674917 False\n",
            "9 -9.089599829761081 False\n",
            "4 -2.4969092474766588 False\n",
            "1 -11.509995892926003 False\n",
            "Episode 208, Total Reward: -2532.6701273586177\n",
            "6 -0.557563640416601 False\n",
            "1 -2.0415606574273 False\n",
            "4 -11.509995892926003 False\n",
            "8 -9.351745191179539 False\n",
            "5 -4.071101157390693 False\n",
            "2 -5.77799343429354 False\n",
            "Episode 209, Total Reward: -2033.3099599736338\n",
            "5 -1.9895625089960105 False\n",
            "2 -5.77799343429354 False\n",
            "4 -4.585675628012074 False\n",
            "6 -11.374743052916678 False\n",
            "8 -5.004577401674917 False\n"
          ]
        },
        {
          "metadata": {
            "tags": null
          },
          "name": "stderr",
          "output_type": "stream",
          "text": [
            "WARNING:absl:Skipping variable loading for optimizer 'Adam', because it has 13 variables whereas the saved optimizer has 1 variables. \n"
          ]
        },
        {
          "metadata": {
            "tags": null
          },
          "name": "stdout",
          "output_type": "stream",
          "text": [
            "7 -9.21539248558825 False\n",
            "Episode 210, Total Reward: -2037.9479445114814\n",
            "7 -8.756186467218008 False\n"
          ]
        },
        {
          "metadata": {
            "tags": null
          },
          "name": "stderr",
          "output_type": "stream",
          "text": [
            "WARNING:absl:Skipping variable loading for optimizer 'Adam', because it has 13 variables whereas the saved optimizer has 1 variables. \n"
          ]
        },
        {
          "metadata": {
            "tags": null
          },
          "name": "stdout",
          "output_type": "stream",
          "text": [
            "9 -2.3673957673885857 False\n",
            "5 -6.591803321334266 False\n"
          ]
        },
        {
          "metadata": {
            "tags": null
          },
          "name": "stderr",
          "output_type": "stream",
          "text": [
            "WARNING:absl:Skipping variable loading for optimizer 'Adam', because it has 13 variables whereas the saved optimizer has 1 variables. \n",
            "WARNING:absl:Skipping variable loading for optimizer 'Adam', because it has 13 variables whereas the saved optimizer has 1 variables. \n"
          ]
        },
        {
          "metadata": {
            "tags": null
          },
          "name": "stdout",
          "output_type": "stream",
          "text": [
            "1 -3.2013328857401957 False\n"
          ]
        },
        {
          "metadata": {
            "tags": null
          },
          "name": "stderr",
          "output_type": "stream",
          "text": [
            "WARNING:absl:Skipping variable loading for optimizer 'Adam', because it has 13 variables whereas the saved optimizer has 1 variables. \n"
          ]
        },
        {
          "metadata": {
            "tags": null
          },
          "name": "stdout",
          "output_type": "stream",
          "text": [
            "3 -8.062794569850828 False\n",
            "6 -6.75623719662853 False\n"
          ]
        },
        {
          "metadata": {
            "tags": null
          },
          "name": "stderr",
          "output_type": "stream",
          "text": [
            "WARNING:absl:Skipping variable loading for optimizer 'Adam', because it has 13 variables whereas the saved optimizer has 1 variables. \n"
          ]
        },
        {
          "metadata": {
            "tags": null
          },
          "name": "stdout",
          "output_type": "stream",
          "text": [
            "Episode 211, Total Reward: -2035.7357502081604\n",
            "7 -8.756186467218008 False\n",
            "4 -4.250813147599771 False\n",
            "8 -9.351745191179539 False\n",
            "9 -7.853704773177191 False\n",
            "1 -9.070180154761154 False\n",
            "2 -7.620784652302808 False\n",
            "Episode 212, Total Reward: -2046.9034143862384\n",
            "3 -6.226340755216833 False\n",
            "6 -6.75623719662853 False\n",
            "9 -9.089599829761081 False\n",
            "2 -2.2550833802954076 False\n",
            "8 -8.192416453410834 False\n",
            "Episode 213, Total Reward: -2532.5196776153125\n",
            "5 -1.9895625089960105 False\n",
            "3 -4.905091251117594 False\n",
            "1 -8.062794569850828 False\n",
            "2 -7.620784652302808 False\n",
            "4 -4.585675628012074 False\n",
            "7 -4.250813147599771 False\n",
            "Episode 214, Total Reward: -2031.414721757879\n",
            "7 -8.756186467218008 False\n",
            "9 -2.3673957673885857 False\n",
            "6 -9.089599829761081 False\n",
            "1 -2.0415606574273 False\n",
            "4 -11.509995892926003 False\n",
            "Episode 215, Total Reward: -2533.764738614721\n",
            "5 -1.9895625089960105 False\n",
            "8 -4.071101157390693 False\n",
            "7 -9.21539248558825 False\n",
            "9 -2.3673957673885857 False\n",
            "6 -9.089599829761081 False\n",
            "Episode 216, Total Reward: -2526.733051749125\n",
            "9 -8.579293986144062 False\n",
            "5 -6.591803321334266 False\n",
            "3 -4.905091251117594 False\n",
            "6 -6.75623719662853 False\n",
            "2 -8.093492715402329 False\n",
            "Episode 217, Total Reward: -2534.925918470627\n",
            "9 -8.579293986144062 False\n",
            "2 -2.2550833802954076 False\n",
            "5 -5.77799343429354 False\n",
            "6 -2.5146136553162997 False\n",
            "Episode 218, Total Reward: -3019.1269844560493\n",
            "5 -1.9895625089960105 False\n",
            "6 -2.5146136553162997 False\n",
            "3 -6.75623719662853 False\n",
            "7 -7.705775893101598 False\n",
            "1 -8.63933616755769 False\n",
            "9 -9.070180154761154 False\n",
            "Episode 219, Total Reward: -2036.6757055763615\n",
            "4 -10.843880223714587 False\n",
            "6 -11.374743052916678 False\n",
            "8 -5.004577401674917 False\n",
            "7 -9.21539248558825 False\n",
            "1 -8.63933616755769 False\n",
            "Episode 220, Total Reward: -2545.077929331452\n"
          ]
        },
        {
          "metadata": {
            "tags": null
          },
          "name": "stderr",
          "output_type": "stream",
          "text": [
            "WARNING:absl:Skipping variable loading for optimizer 'Adam', because it has 13 variables whereas the saved optimizer has 1 variables. \n"
          ]
        },
        {
          "metadata": {
            "tags": null
          },
          "name": "stdout",
          "output_type": "stream",
          "text": [
            "3 -6.226340755216833 False\n"
          ]
        },
        {
          "metadata": {
            "tags": null
          },
          "name": "stderr",
          "output_type": "stream",
          "text": [
            "WARNING:absl:Skipping variable loading for optimizer 'Adam', because it has 13 variables whereas the saved optimizer has 1 variables. \n"
          ]
        },
        {
          "metadata": {
            "tags": null
          },
          "name": "stdout",
          "output_type": "stream",
          "text": [
            "4 -6.980965374268762 False\n",
            "8 -9.351745191179539 False\n"
          ]
        },
        {
          "metadata": {
            "tags": null
          },
          "name": "stderr",
          "output_type": "stream",
          "text": [
            "WARNING:absl:Skipping variable loading for optimizer 'Adam', because it has 13 variables whereas the saved optimizer has 1 variables. \n",
            "WARNING:absl:Skipping variable loading for optimizer 'Adam', because it has 13 variables whereas the saved optimizer has 1 variables. \n"
          ]
        },
        {
          "metadata": {
            "tags": null
          },
          "name": "stdout",
          "output_type": "stream",
          "text": [
            "9 -7.853704773177191 False\n",
            "5 -6.591803321334266 False\n"
          ]
        },
        {
          "metadata": {
            "tags": null
          },
          "name": "stderr",
          "output_type": "stream",
          "text": [
            "WARNING:absl:Skipping variable loading for optimizer 'Adam', because it has 13 variables whereas the saved optimizer has 1 variables. \n",
            "WARNING:absl:Skipping variable loading for optimizer 'Adam', because it has 13 variables whereas the saved optimizer has 1 variables. \n"
          ]
        },
        {
          "metadata": {
            "tags": null
          },
          "name": "stdout",
          "output_type": "stream",
          "text": [
            "6 -2.5146136553162997 False\n",
            "Episode 221, Total Reward: -2039.5191730704928\n",
            "6 -0.557563640416601 False\n",
            "2 -8.093492715402329 False\n",
            "3 -6.841918956903541 False\n",
            "7 -7.705775893101598 False\n",
            "5 -6.890753875802023 False\n",
            "9 -6.591803321334266 False\n",
            "8 -7.853704773177191 False\n",
            "Episode 222, Total Reward: -1544.5350131761377\n",
            "9 -8.579293986144062 False\n",
            "3 -5.895412073873364 False\n",
            "4 -6.980965374268762 False\n",
            "1 -11.509995892926003 False\n",
            "8 -6.742121402603406 False\n",
            "7 -9.21539248558825 False\n",
            "6 -9.189377103453513 False\n",
            "Episode 223, Total Reward: -1558.1125583188575\n",
            "8 -4.569044986778715 False\n",
            "5 -4.071101157390693 False\n",
            "7 -6.890753875802023 False\n",
            "4 -4.250813147599771 False\n",
            "2 -4.585675628012074 False\n",
            "6 -8.093492715402329 False\n",
            "Episode 224, Total Reward: -2032.4608815109855\n",
            "3 -6.226340755216833 False\n",
            "6 -6.75623719662853 False\n",
            "5 -2.5146136553162997 False\n",
            "9 -6.591803321334266 False\n",
            "Episode 225, Total Reward: -3022.088994928496\n",
            "6 -0.557563640416601 False\n",
            "9 -9.089599829761081 False\n",
            "1 -9.070180154761154 False\n",
            "3 -8.062794569850828 False\n",
            "4 -6.980965374268762 False\n",
            "8 -9.351745191179539 False\n",
            "Episode 226, Total Reward: -2043.1128487602382\n",
            "5 -1.9895625089960105 False\n",
            "6 -2.5146136553162997 False\n",
            "3 -6.75623719662853 False\n",
            "9 -5.895412073873364 False\n",
            "2 -2.2550833802954076 False\n",
            "1 -7.620784652302808 False\n",
            "7 -8.63933616755769 False\n",
            "Episode 227, Total Reward: -1535.6710296349702\n",
            "8 -4.569044986778715 False\n",
            "9 -7.853704773177191 False\n",
            "3 -5.895412073873364 False\n",
            "4 -6.980965374268762 False\n",
            "7 -4.250813147599771 False\n",
            "2 -1.1138456925079876 False\n",
            "1 -7.620784652302808 False\n",
            "6 -2.0415606574273 False\n",
            "Episode 228, Total Reward: -1040.326131357936\n",
            "8 -4.569044986778715 False\n",
            "4 -9.351745191179539 False\n",
            "3 -6.980965374268762 False\n",
            "9 -5.895412073873364 False\n",
            "5 -6.591803321334266 False\n",
            "1 -3.2013328857401957 False\n",
            "7 -8.63933616755769 False\n",
            "2 -1.1138456925079876 False\n",
            "Episode 229, Total Reward: -1046.3434856932406\n",
            "6 -0.557563640416601 False\n",
            "7 -9.189377103453513 False\n",
            "3 -7.705775893101598 False\n",
            "2 -6.841918956903541 False\n",
            "8 -8.192416453410834 False\n",
            "9 -7.853704773177191 False\n",
            "Episode 230, Total Reward: -2040.3407568204634\n"
          ]
        },
        {
          "metadata": {
            "tags": null
          },
          "name": "stderr",
          "output_type": "stream",
          "text": [
            "WARNING:absl:Skipping variable loading for optimizer 'Adam', because it has 13 variables whereas the saved optimizer has 1 variables. \n"
          ]
        },
        {
          "metadata": {
            "tags": null
          },
          "name": "stdout",
          "output_type": "stream",
          "text": [
            "8 -4.569044986778715 False\n"
          ]
        },
        {
          "metadata": {
            "tags": null
          },
          "name": "stderr",
          "output_type": "stream",
          "text": [
            "WARNING:absl:Skipping variable loading for optimizer 'Adam', because it has 13 variables whereas the saved optimizer has 1 variables. \n"
          ]
        },
        {
          "metadata": {
            "tags": null
          },
          "name": "stdout",
          "output_type": "stream",
          "text": [
            "4 -9.351745191179539 False\n"
          ]
        },
        {
          "metadata": {
            "tags": null
          },
          "name": "stderr",
          "output_type": "stream",
          "text": [
            "WARNING:absl:Skipping variable loading for optimizer 'Adam', because it has 13 variables whereas the saved optimizer has 1 variables. \n"
          ]
        },
        {
          "metadata": {
            "tags": null
          },
          "name": "stdout",
          "output_type": "stream",
          "text": [
            "9 -2.4969092474766588 False\n",
            "6 -9.089599829761081 False\n"
          ]
        },
        {
          "metadata": {
            "tags": null
          },
          "name": "stderr",
          "output_type": "stream",
          "text": [
            "WARNING:absl:Skipping variable loading for optimizer 'Adam', because it has 13 variables whereas the saved optimizer has 1 variables. \n",
            "WARNING:absl:Skipping variable loading for optimizer 'Adam', because it has 13 variables whereas the saved optimizer has 1 variables. \n"
          ]
        },
        {
          "metadata": {
            "tags": null
          },
          "name": "stdout",
          "output_type": "stream",
          "text": [
            "7 -9.189377103453513 False\n"
          ]
        },
        {
          "metadata": {
            "tags": null
          },
          "name": "stderr",
          "output_type": "stream",
          "text": [
            "WARNING:absl:Skipping variable loading for optimizer 'Adam', because it has 13 variables whereas the saved optimizer has 1 variables. \n"
          ]
        },
        {
          "output_type": "stream",
          "name": "stdout",
          "text": [
            "2 -1.1138456925079876 False\n",
            "Episode 231, Total Reward: -2035.8105220511575\n",
            "8 -4.569044986778715 False\n",
            "4 -9.351745191179539 False\n",
            "2 -4.585675628012074 False\n",
            "7 -1.1138456925079876 False\n",
            "1 -8.63933616755769 False\n",
            "9 -9.070180154761154 False\n",
            "Episode 232, Total Reward: -2037.3298278207972\n",
            "4 -10.843880223714587 False\n",
            "2 -4.585675628012074 False\n",
            "7 -1.1138456925079876 False\n",
            "5 -6.890753875802023 False\n",
            "1 -3.2013328857401957 False\n",
            "8 -6.742121402603406 False\n",
            "6 -5.004577401674917 False\n",
            "Episode 233, Total Reward: -1538.3821871100552\n",
            "6 -0.557563640416601 False\n",
            "4 -11.374743052916678 False\n",
            "2 -4.585675628012074 False\n",
            "5 -5.77799343429354 False\n",
            "9 -6.591803321334266 False\n",
            "7 -2.3673957673885857 False\n",
            "8 -9.21539248558825 False\n",
            "Episode 234, Total Reward: -1540.47056732995\n",
            "9 -8.579293986144062 False\n",
            "1 -9.070180154761154 False\n",
            "5 -3.2013328857401957 False\n",
            "2 -5.77799343429354 False\n",
            "3 -6.841918956903541 False\n",
            "8 -2.6150299035155595 False\n",
            "7 -9.21539248558825 False\n",
            "Episode 235, Total Reward: -1545.3011418069461\n",
            "9 -8.579293986144062 False\n",
            "1 -9.070180154761154 False\n",
            "4 -11.509995892926003 False\n",
            "5 -8.86012987256621 False\n",
            "2 -5.77799343429354 False\n",
            "Episode 236, Total Reward: -2543.797593340691\n",
            "4 -10.843880223714587 False\n",
            "6 -11.374743052916678 False\n",
            "2 -8.093492715402329 False\n",
            "7 -1.1138456925079876 False\n",
            "5 -6.890753875802023 False\n",
            "8 -4.071101157390693 False\n",
            "1 -6.742121402603406 False\n",
            "Episode 237, Total Reward: -1549.1299381203376\n",
            "8 -4.569044986778715 False\n",
            "3 -2.6150299035155595 False\n",
            "4 -6.980965374268762 False\n",
            "9 -2.4969092474766588 False\n",
            "5 -6.591803321334266 False\n",
            "6 -2.5146136553162997 False\n",
            "Episode 238, Total Reward: -2025.7683664886902\n",
            "4 -10.843880223714587 False\n",
            "9 -2.4969092474766588 False\n",
            "3 -5.895412073873364 False\n",
            "1 -8.062794569850828 False\n",
            "7 -8.63933616755769 False\n",
            "Episode 239, Total Reward: -2535.9383322824733\n",
            "2 -7.653020649610424 False\n",
            "7 -1.1138456925079876 False\n",
            "5 -6.890753875802023 False\n",
            "1 -3.2013328857401957 False\n",
            "9 -9.070180154761154 False\n",
            "Episode 240, Total Reward: -2527.9291332584216\n"
          ]
        },
        {
          "output_type": "stream",
          "name": "stderr",
          "text": [
            "WARNING:absl:Skipping variable loading for optimizer 'Adam', because it has 13 variables whereas the saved optimizer has 1 variables. \n"
          ]
        },
        {
          "output_type": "stream",
          "name": "stdout",
          "text": [
            "9 -8.579293986144062 False\n"
          ]
        },
        {
          "output_type": "stream",
          "name": "stderr",
          "text": [
            "WARNING:absl:Skipping variable loading for optimizer 'Adam', because it has 13 variables whereas the saved optimizer has 1 variables. \n"
          ]
        },
        {
          "output_type": "stream",
          "name": "stdout",
          "text": [
            "5 -6.591803321334266 False\n"
          ]
        },
        {
          "output_type": "stream",
          "name": "stderr",
          "text": [
            "WARNING:absl:Skipping variable loading for optimizer 'Adam', because it has 13 variables whereas the saved optimizer has 1 variables. \n"
          ]
        },
        {
          "output_type": "stream",
          "name": "stdout",
          "text": [
            "7 -6.890753875802023 False\n"
          ]
        },
        {
          "output_type": "stream",
          "name": "stderr",
          "text": [
            "WARNING:absl:Skipping variable loading for optimizer 'Adam', because it has 13 variables whereas the saved optimizer has 1 variables. \n"
          ]
        },
        {
          "output_type": "stream",
          "name": "stdout",
          "text": [
            "3 -7.705775893101598 False\n",
            "Episode 241, Total Reward: -3029.7676270763823\n",
            "6 -0.557563640416601 False\n",
            "1 -2.0415606574273 False\n",
            "8 -6.742121402603406 False\n",
            "5 -4.071101157390693 False\n",
            "9 -6.591803321334266 False\n",
            "Episode 242, Total Reward: -2520.0041501791725\n",
            "8 -4.569044986778715 False\n",
            "1 -6.742121402603406 False\n",
            "2 -7.620784652302808 False\n",
            "5 -5.77799343429354 False\n",
            "6 -2.5146136553162997 False\n",
            "3 -6.75623719662853 False\n",
            "Episode 243, Total Reward: -2033.9807953279233\n",
            "6 -0.557563640416601 False\n",
            "4 -11.374743052916678 False\n",
            "7 -4.250813147599771 False\n",
            "3 -7.705775893101598 False\n",
            "8 -2.6150299035155595 False\n",
            "Episode 244, Total Reward: -2526.5039256375503\n",
            "2 -7.653020649610424 False\n",
            "6 -8.093492715402329 False\n",
            "7 -9.189377103453513 False\n",
            "3 -7.705775893101598 False\n",
            "4 -6.980965374268762 False\n",
            "1 -11.509995892926003 False\n",
            "9 -9.070180154761154 False\n",
            "5 -6.591803321334266 False\n",
            "Episode 245, Total Reward: -1066.7946111048582\n",
            "4 -10.843880223714587 False\n",
            "2 -4.585675628012074 False\n",
            "1 -7.620784652302808 False\n",
            "3 -8.062794569850828 False\n",
            "5 -4.905091251117594 False\n",
            "7 -6.890753875802023 False\n",
            "Episode 246, Total Reward: -2042.9089802008\n",
            "5 -1.9895625089960105 False\n",
            "7 -6.890753875802023 False\n",
            "9 -2.3673957673885857 False\n",
            "8 -7.853704773177191 False\n",
            "1 -6.742121402603406 False\n",
            "6 -2.0415606574273 False\n",
            "3 -6.75623719662853 False\n",
            "Episode 247, Total Reward: -1534.6413361820232\n",
            "7 -8.756186467218008 False\n",
            "1 -8.63933616755769 False\n",
            "2 -7.620784652302808 False\n",
            "3 -6.841918956903541 False\n",
            "5 -4.905091251117594 False\n",
            "Episode 248, Total Reward: -2536.7633174950997\n",
            "1 -2.2601094764485308 False\n",
            "6 -2.0415606574273 False\n",
            "5 -2.5146136553162997 False\n",
            "8 -4.071101157390693 False\n",
            "9 -7.853704773177191 False\n",
            "4 -2.4969092474766588 False\n",
            "3 -6.980965374268762 False\n",
            "Episode 249, Total Reward: -1528.2189643415056\n",
            "5 -1.9895625089960105 False\n",
            "6 -2.5146136553162997 False\n",
            "2 -8.093492715402329 False\n",
            "3 -6.841918956903541 False\n",
            "8 -2.6150299035155595 False\n",
            "Episode 250, Total Reward: -2522.054617740134\n"
          ]
        },
        {
          "output_type": "stream",
          "name": "stderr",
          "text": [
            "WARNING:absl:Skipping variable loading for optimizer 'Adam', because it has 13 variables whereas the saved optimizer has 1 variables. \n"
          ]
        },
        {
          "output_type": "stream",
          "name": "stdout",
          "text": [
            "7 -8.756186467218008 False\n",
            "6 -9.189377103453513 False\n"
          ]
        },
        {
          "output_type": "stream",
          "name": "stderr",
          "text": [
            "WARNING:absl:Skipping variable loading for optimizer 'Adam', because it has 13 variables whereas the saved optimizer has 1 variables. \n",
            "WARNING:absl:Skipping variable loading for optimizer 'Adam', because it has 13 variables whereas the saved optimizer has 1 variables. \n"
          ]
        },
        {
          "output_type": "stream",
          "name": "stdout",
          "text": [
            "9 -9.089599829761081 False\n",
            "4 -2.4969092474766588 False\n"
          ]
        },
        {
          "output_type": "stream",
          "name": "stderr",
          "text": [
            "WARNING:absl:Skipping variable loading for optimizer 'Adam', because it has 13 variables whereas the saved optimizer has 1 variables. \n",
            "WARNING:absl:Skipping variable loading for optimizer 'Adam', because it has 13 variables whereas the saved optimizer has 1 variables. \n"
          ]
        },
        {
          "output_type": "stream",
          "name": "stdout",
          "text": [
            "8 -9.351745191179539 False\n",
            "1 -6.742121402603406 False\n"
          ]
        },
        {
          "output_type": "stream",
          "name": "stderr",
          "text": [
            "WARNING:absl:Skipping variable loading for optimizer 'Adam', because it has 13 variables whereas the saved optimizer has 1 variables. \n",
            "WARNING:absl:Skipping variable loading for optimizer 'Adam', because it has 13 variables whereas the saved optimizer has 1 variables. \n"
          ]
        },
        {
          "output_type": "stream",
          "name": "stdout",
          "text": [
            "3 -8.062794569850828 False\n",
            "Episode 251, Total Reward: -1553.6887338115432\n",
            "9 -8.579293986144062 False\n",
            "1 -9.070180154761154 False\n",
            "5 -3.2013328857401957 False\n",
            "3 -4.905091251117594 False\n",
            "6 -6.75623719662853 False\n",
            "2 -8.093492715402329 False\n",
            "Episode 252, Total Reward: -2040.6056281897938\n",
            "8 -4.569044986778715 False\n",
            "2 -8.192416453410834 False\n",
            "9 -2.2550833802954076 False\n",
            "5 -6.591803321334266 False\n",
            "7 -6.890753875802023 False\n",
            "Episode 253, Total Reward: -2528.499102017621\n",
            "9 -8.579293986144062 False\n",
            "4 -2.4969092474766588 False\n",
            "8 -9.351745191179539 False\n",
            "3 -2.6150299035155595 False\n",
            "7 -7.705775893101598 False\n",
            "Episode 254, Total Reward: -2530.7487542214176\n",
            "2 -7.653020649610424 False\n",
            "8 -8.192416453410834 False\n",
            "6 -5.004577401674917 False\n",
            "3 -6.75623719662853 False\n",
            "9 -5.895412073873364 False\n",
            "5 -6.591803321334266 False\n",
            "7 -6.890753875802023 False\n",
            "Episode 255, Total Reward: -1546.9842209723342\n",
            "2 -7.653020649610424 False\n",
            "4 -4.585675628012074 False\n",
            "7 -4.250813147599771 False\n",
            "9 -2.3673957673885857 False\n",
            "8 -7.853704773177191 False\n",
            "6 -5.004577401674917 False\n",
            "Episode 256, Total Reward: -2031.715187367463\n",
            "9 -8.579293986144062 False\n",
            "4 -2.4969092474766588 False\n",
            "1 -11.509995892926003 False\n",
            "7 -8.63933616755769 False\n",
            "5 -6.890753875802023 False\n",
            "6 -2.5146136553162997 False\n",
            "3 -6.75623719662853 False\n",
            "Episode 257, Total Reward: -1547.3871400218513\n",
            "9 -8.579293986144062 False\n",
            "1 -9.070180154761154 False\n",
            "4 -11.509995892926003 False\n",
            "6 -11.374743052916678 False\n",
            "2 -8.093492715402329 False\n",
            "8 -8.192416453410834 False\n",
            "Episode 258, Total Reward: -2056.820122255561\n",
            "9 -8.579293986144062 False\n",
            "2 -2.2550833802954076 False\n",
            "5 -5.77799343429354 False\n",
            "3 -4.905091251117594 False\n",
            "6 -6.75623719662853 False\n",
            "7 -9.189377103453513 False\n",
            "4 -4.250813147599771 False\n",
            "Episode 259, Total Reward: -1541.7138894995323\n",
            "3 -6.226340755216833 False\n",
            "4 -6.980965374268762 False\n",
            "9 -2.4969092474766588 False\n",
            "2 -2.2550833802954076 False\n"
          ]
        },
        {
          "output_type": "stream",
          "name": "stderr",
          "text": [
            "WARNING:absl:Skipping variable loading for optimizer 'Adam', because it has 13 variables whereas the saved optimizer has 1 variables. \n"
          ]
        },
        {
          "output_type": "stream",
          "name": "stdout",
          "text": [
            "7 -1.1138456925079876 False\n",
            "Episode 260, Total Reward: -2519.0731444497656\n",
            "1 -2.2601094764485308 False\n"
          ]
        },
        {
          "output_type": "stream",
          "name": "stderr",
          "text": [
            "WARNING:absl:Skipping variable loading for optimizer 'Adam', because it has 13 variables whereas the saved optimizer has 1 variables. \n"
          ]
        },
        {
          "output_type": "stream",
          "name": "stdout",
          "text": [
            "9 -9.070180154761154 False\n"
          ]
        },
        {
          "output_type": "stream",
          "name": "stderr",
          "text": [
            "WARNING:absl:Skipping variable loading for optimizer 'Adam', because it has 13 variables whereas the saved optimizer has 1 variables. \n"
          ]
        },
        {
          "output_type": "stream",
          "name": "stdout",
          "text": [
            "5 -6.591803321334266 False\n"
          ]
        },
        {
          "output_type": "stream",
          "name": "stderr",
          "text": [
            "WARNING:absl:Skipping variable loading for optimizer 'Adam', because it has 13 variables whereas the saved optimizer has 1 variables. \n"
          ]
        },
        {
          "output_type": "stream",
          "name": "stdout",
          "text": [
            "2 -5.77799343429354 False\n"
          ]
        },
        {
          "output_type": "stream",
          "name": "stderr",
          "text": [
            "WARNING:absl:Skipping variable loading for optimizer 'Adam', because it has 13 variables whereas the saved optimizer has 1 variables. \n"
          ]
        },
        {
          "output_type": "stream",
          "name": "stdout",
          "text": [
            "3 -6.841918956903541 False\n",
            "6 -6.75623719662853 False\n"
          ]
        },
        {
          "output_type": "stream",
          "name": "stderr",
          "text": [
            "WARNING:absl:Skipping variable loading for optimizer 'Adam', because it has 13 variables whereas the saved optimizer has 1 variables. \n",
            "WARNING:absl:Skipping variable loading for optimizer 'Adam', because it has 13 variables whereas the saved optimizer has 1 variables. \n"
          ]
        },
        {
          "output_type": "stream",
          "name": "stdout",
          "text": [
            "7 -9.189377103453513 False\n",
            "Episode 261, Total Reward: -1546.487619643823\n",
            "2 -7.653020649610424 False\n",
            "5 -5.77799343429354 False\n",
            "4 -8.86012987256621 False\n",
            "1 -11.509995892926003 False\n",
            "6 -2.0415606574273 False\n",
            "9 -9.089599829761081 False\n",
            "Episode 262, Total Reward: -2044.9323003365844\n",
            "1 -2.2601094764485308 False\n",
            "6 -2.0415606574273 False\n",
            "3 -6.75623719662853 False\n",
            "7 -7.705775893101598 False\n",
            "5 -6.890753875802023 False\n",
            "4 -8.86012987256621 False\n",
            "Episode 263, Total Reward: -2034.514566971974\n",
            "6 -0.557563640416601 False\n",
            "7 -9.189377103453513 False\n",
            "9 -2.3673957673885857 False\n",
            "4 -2.4969092474766588 False\n",
            "2 -4.585675628012074 False\n",
            "Episode 264, Total Reward: -2519.1969213867474\n",
            "7 -8.756186467218008 False\n",
            "6 -9.189377103453513 False\n",
            "9 -9.089599829761081 False\n",
            "8 -7.853704773177191 False\n",
            "3 -2.6150299035155595 False\n",
            "4 -6.980965374268762 False\n",
            "2 -4.585675628012074 False\n",
            "Episode 265, Total Reward: -1549.0705390794062\n",
            "5 -1.9895625089960105 False\n",
            "2 -5.77799343429354 False\n",
            "1 -7.620784652302808 False\n",
            "7 -8.63933616755769 False\n",
            "4 -4.250813147599771 False\n",
            "8 -9.351745191179539 False\n",
            "6 -5.004577401674917 False\n",
            "Episode 266, Total Reward: -1542.634812503604\n",
            "8 -4.569044986778715 False\n",
            "4 -9.351745191179539 False\n",
            "3 -6.980965374268762 False\n",
            "6 -6.75623719662853 False\n",
            "1 -2.0415606574273 False\n",
            "Episode 267, Total Reward: -2529.699553406283\n",
            "7 -8.756186467218008 False\n",
            "3 -7.705775893101598 False\n",
            "9 -5.895412073873364 False\n",
            "5 -6.591803321334266 False\n",
            "8 -4.071101157390693 False\n",
            "2 -8.192416453410834 False\n",
            "Episode 268, Total Reward: -2041.2126953663287\n",
            "9 -8.579293986144062 False\n",
            "3 -5.895412073873364 False\n",
            "8 -2.6150299035155595 False\n",
            "2 -8.192416453410834 False\n",
            "5 -5.77799343429354 False\n",
            "7 -6.890753875802023 False\n",
            "4 -4.250813147599771 False\n",
            "Episode 269, Total Reward: -1542.2017128746393\n",
            "5 -1.9895625089960105 False\n",
            "8 -4.071101157390693 False\n",
            "3 -2.6150299035155595 False\n",
            "1 -8.062794569850828 False\n",
            "2 -7.620784652302808 False\n",
            "6 -8.093492715402329 False\n",
            "Episode 270, Total Reward: -2032.452765507458\n",
            "9 -8.579293986144062 False\n"
          ]
        },
        {
          "output_type": "stream",
          "name": "stderr",
          "text": [
            "WARNING:absl:Skipping variable loading for optimizer 'Adam', because it has 13 variables whereas the saved optimizer has 1 variables. \n",
            "WARNING:absl:Skipping variable loading for optimizer 'Adam', because it has 13 variables whereas the saved optimizer has 1 variables. \n"
          ]
        },
        {
          "output_type": "stream",
          "name": "stdout",
          "text": [
            "1 -9.070180154761154 False\n",
            "7 -8.63933616755769 False\n"
          ]
        },
        {
          "output_type": "stream",
          "name": "stderr",
          "text": [
            "WARNING:absl:Skipping variable loading for optimizer 'Adam', because it has 13 variables whereas the saved optimizer has 1 variables. \n",
            "WARNING:absl:Skipping variable loading for optimizer 'Adam', because it has 13 variables whereas the saved optimizer has 1 variables. \n"
          ]
        },
        {
          "output_type": "stream",
          "name": "stdout",
          "text": [
            "5 -6.890753875802023 False\n"
          ]
        },
        {
          "output_type": "stream",
          "name": "stderr",
          "text": [
            "WARNING:absl:Skipping variable loading for optimizer 'Adam', because it has 13 variables whereas the saved optimizer has 1 variables. \n"
          ]
        },
        {
          "output_type": "stream",
          "name": "stdout",
          "text": [
            "4 -8.86012987256621 False\n",
            "6 -11.374743052916678 False\n"
          ]
        },
        {
          "output_type": "stream",
          "name": "stderr",
          "text": [
            "WARNING:absl:Skipping variable loading for optimizer 'Adam', because it has 13 variables whereas the saved optimizer has 1 variables. \n",
            "WARNING:absl:Skipping variable loading for optimizer 'Adam', because it has 13 variables whereas the saved optimizer has 1 variables. \n"
          ]
        },
        {
          "output_type": "stream",
          "name": "stdout",
          "text": [
            "3 -6.75623719662853 False\n",
            "Episode 271, Total Reward: -1560.1706743063764\n",
            "1 -2.2601094764485308 False\n",
            "4 -11.509995892926003 False\n",
            "3 -6.980965374268762 False\n",
            "7 -7.705775893101598 False\n",
            "9 -2.3673957673885857 False\n",
            "6 -9.089599829761081 False\n",
            "Episode 272, Total Reward: -2039.9138422338945\n",
            "5 -1.9895625089960105 False\n",
            "8 -4.071101157390693 False\n",
            "1 -6.742121402603406 False\n",
            "6 -2.0415606574273 False\n",
            "4 -11.374743052916678 False\n",
            "2 -4.585675628012074 False\n",
            "7 -1.1138456925079876 False\n",
            "3 -7.705775893101598 False\n",
            "Episode 273, Total Reward: -1039.6243859929557\n",
            "8 -4.569044986778715 False\n",
            "6 -5.004577401674917 False\n",
            "5 -2.5146136553162997 False\n",
            "7 -6.890753875802023 False\n",
            "1 -8.63933616755769 False\n",
            "3 -8.062794569850828 False\n",
            "Episode 274, Total Reward: -2035.6811206569805\n",
            "3 -6.226340755216833 False\n",
            "1 -8.062794569850828 False\n",
            "9 -9.070180154761154 False\n",
            "4 -2.4969092474766588 False\n",
            "2 -4.585675628012074 False\n",
            "5 -5.77799343429354 False\n",
            "Episode 275, Total Reward: -2036.219893789611\n",
            "6 -0.557563640416601 False\n",
            "7 -9.189377103453513 False\n",
            "1 -8.63933616755769 False\n",
            "9 -9.070180154761154 False\n",
            "3 -5.895412073873364 False\n",
            "2 -6.841918956903541 False\n",
            "Episode 276, Total Reward: -2040.1937880969658\n",
            "6 -0.557563640416601 False\n",
            "5 -2.5146136553162997 False\n",
            "8 -4.071101157390693 False\n",
            "7 -9.21539248558825 False\n",
            "3 -7.705775893101598 False\n",
            "9 -5.895412073873364 False\n",
            "Episode 277, Total Reward: -2029.9598589056868\n",
            "2 -7.653020649610424 False\n",
            "9 -2.2550833802954076 False\n",
            "5 -6.591803321334266 False\n",
            "8 -4.071101157390693 False\n",
            "6 -5.004577401674917 False\n",
            "Episode 278, Total Reward: -2525.575585910306\n",
            "8 -4.569044986778715 False\n",
            "9 -7.853704773177191 False\n",
            "2 -2.2550833802954076 False\n",
            "1 -7.620784652302808 False\n",
            "6 -2.0415606574273 False\n",
            "7 -9.189377103453513 False\n",
            "Episode 279, Total Reward: -2033.5295555534349\n",
            "5 -1.9895625089960105 False\n",
            "8 -4.071101157390693 False\n",
            "9 -7.853704773177191 False\n",
            "3 -5.895412073873364 False\n",
            "7 -7.705775893101598 False\n",
            "Episode 280, Total Reward: -2527.515556406539\n",
            "5 -1.9895625089960105 False\n"
          ]
        },
        {
          "output_type": "stream",
          "name": "stderr",
          "text": [
            "WARNING:absl:Skipping variable loading for optimizer 'Adam', because it has 13 variables whereas the saved optimizer has 1 variables. \n",
            "WARNING:absl:Skipping variable loading for optimizer 'Adam', because it has 13 variables whereas the saved optimizer has 1 variables. \n"
          ]
        },
        {
          "output_type": "stream",
          "name": "stdout",
          "text": [
            "3 -4.905091251117594 False\n"
          ]
        },
        {
          "output_type": "stream",
          "name": "stderr",
          "text": [
            "WARNING:absl:Skipping variable loading for optimizer 'Adam', because it has 13 variables whereas the saved optimizer has 1 variables. \n"
          ]
        },
        {
          "output_type": "stream",
          "name": "stdout",
          "text": [
            "4 -6.980965374268762 False\n",
            "1 -11.509995892926003 False\n"
          ]
        },
        {
          "output_type": "stream",
          "name": "stderr",
          "text": [
            "WARNING:absl:Skipping variable loading for optimizer 'Adam', because it has 13 variables whereas the saved optimizer has 1 variables. \n",
            "WARNING:absl:Skipping variable loading for optimizer 'Adam', because it has 13 variables whereas the saved optimizer has 1 variables. \n"
          ]
        },
        {
          "output_type": "stream",
          "name": "stdout",
          "text": [
            "8 -6.742121402603406 False\n",
            "2 -8.192416453410834 False\n"
          ]
        },
        {
          "output_type": "stream",
          "name": "stderr",
          "text": [
            "WARNING:absl:Skipping variable loading for optimizer 'Adam', because it has 13 variables whereas the saved optimizer has 1 variables. \n"
          ]
        },
        {
          "output_type": "stream",
          "name": "stdout",
          "text": [
            "Episode 281, Total Reward: -2040.3201528833229\n",
            "5 -1.9895625089960105 False\n",
            "6 -2.5146136553162997 False\n",
            "4 -11.374743052916678 False\n",
            "3 -6.980965374268762 False\n",
            "1 -8.062794569850828 False\n",
            "7 -8.63933616755769 False\n",
            "Episode 282, Total Reward: -2039.5620153289062\n",
            "1 -2.2601094764485308 False\n",
            "9 -9.070180154761154 False\n",
            "4 -2.4969092474766588 False\n",
            "8 -9.351745191179539 False\n",
            "2 -8.192416453410834 False\n",
            "5 -5.77799343429354 False\n",
            "Episode 283, Total Reward: -2037.1493539575704\n",
            "2 -7.653020649610424 False\n",
            "8 -8.192416453410834 False\n",
            "1 -6.742121402603406 False\n",
            "6 -2.0415606574273 False\n",
            "4 -11.374743052916678 False\n",
            "Episode 284, Total Reward: -2536.0038622159686\n",
            "1 -2.2601094764485308 False\n",
            "9 -9.070180154761154 False\n",
            "7 -2.3673957673885857 False\n",
            "5 -6.890753875802023 False\n",
            "2 -5.77799343429354 False\n",
            "Episode 285, Total Reward: -2526.3664327086935\n",
            "1 -2.2601094764485308 False\n",
            "9 -9.070180154761154 False\n",
            "3 -5.895412073873364 False\n",
            "5 -4.905091251117594 False\n",
            "6 -2.5146136553162997 False\n",
            "Episode 286, Total Reward: -2524.645406611517\n",
            "2 -7.653020649610424 False\n",
            "3 -6.841918956903541 False\n",
            "6 -6.75623719662853 False\n",
            "4 -11.374743052916678 False\n",
            "8 -9.351745191179539 False\n",
            "Episode 287, Total Reward: -2541.9776650472386\n",
            "9 -8.579293986144062 False\n",
            "1 -9.070180154761154 False\n",
            "4 -11.509995892926003 False\n",
            "6 -11.374743052916678 False\n",
            "7 -9.189377103453513 False\n",
            "3 -7.705775893101598 False\n",
            "Episode 288, Total Reward: -2057.4293660833027\n",
            "2 -7.653020649610424 False\n",
            "7 -1.1138456925079876 False\n",
            "3 -7.705775893101598 False\n",
            "8 -2.6150299035155595 False\n",
            "6 -5.004577401674917 False\n",
            "5 -2.5146136553162997 False\n",
            "Episode 289, Total Reward: -2026.6068631957266\n",
            "4 -10.843880223714587 False\n",
            "5 -8.86012987256621 False\n",
            "8 -4.071101157390693 False\n",
            "6 -5.004577401674917 False\n"
          ]
        },
        {
          "output_type": "stream",
          "name": "stderr",
          "text": [
            "WARNING:absl:Skipping variable loading for optimizer 'Adam', because it has 13 variables whereas the saved optimizer has 1 variables. \n"
          ]
        },
        {
          "output_type": "stream",
          "name": "stdout",
          "text": [
            "Episode 290, Total Reward: -3028.7796886553465\n",
            "3 -6.226340755216833 False\n"
          ]
        },
        {
          "output_type": "stream",
          "name": "stderr",
          "text": [
            "WARNING:absl:Skipping variable loading for optimizer 'Adam', because it has 13 variables whereas the saved optimizer has 1 variables. \n"
          ]
        },
        {
          "output_type": "stream",
          "name": "stdout",
          "text": [
            "1 -8.062794569850828 False\n",
            "2 -7.620784652302808 False\n"
          ]
        },
        {
          "output_type": "stream",
          "name": "stderr",
          "text": [
            "WARNING:absl:Skipping variable loading for optimizer 'Adam', because it has 13 variables whereas the saved optimizer has 1 variables. \n",
            "WARNING:absl:Skipping variable loading for optimizer 'Adam', because it has 13 variables whereas the saved optimizer has 1 variables. \n"
          ]
        },
        {
          "output_type": "stream",
          "name": "stdout",
          "text": [
            "9 -2.2550833802954076 False\n",
            "5 -6.591803321334266 False\n"
          ]
        },
        {
          "output_type": "stream",
          "name": "stderr",
          "text": [
            "WARNING:absl:Skipping variable loading for optimizer 'Adam', because it has 13 variables whereas the saved optimizer has 1 variables. \n",
            "WARNING:absl:Skipping variable loading for optimizer 'Adam', because it has 13 variables whereas the saved optimizer has 1 variables. \n"
          ]
        },
        {
          "output_type": "stream",
          "name": "stdout",
          "text": [
            "8 -4.071101157390693 False\n",
            "Episode 291, Total Reward: -2034.827907836391\n",
            "8 -4.569044986778715 False\n",
            "6 -5.004577401674917 False\n",
            "5 -2.5146136553162997 False\n",
            "2 -5.77799343429354 False\n",
            "3 -6.841918956903541 False\n",
            "7 -7.705775893101598 False\n",
            "Episode 292, Total Reward: -2032.4139243280688\n",
            "6 -0.557563640416601 False\n",
            "7 -9.189377103453513 False\n",
            "3 -7.705775893101598 False\n",
            "8 -2.6150299035155595 False\n",
            "Episode 293, Total Reward: -3020.0677465404874\n",
            "2 -7.653020649610424 False\n",
            "8 -8.192416453410834 False\n",
            "7 -9.21539248558825 False\n",
            "1 -8.63933616755769 False\n",
            "5 -3.2013328857401957 False\n",
            "9 -6.591803321334266 False\n",
            "Episode 294, Total Reward: -2043.4933019632417\n",
            "4 -10.843880223714587 False\n",
            "8 -9.351745191179539 False\n",
            "3 -2.6150299035155595 False\n",
            "7 -7.705775893101598 False\n",
            "2 -1.1138456925079876 False\n",
            "1 -7.620784652302808 False\n",
            "5 -3.2013328857401957 False\n",
            "Episode 295, Total Reward: -1542.4523944420623\n",
            "4 -10.843880223714587 False\n",
            "8 -9.351745191179539 False\n",
            "9 -7.853704773177191 False\n",
            "7 -2.3673957673885857 False\n",
            "1 -8.63933616755769 False\n",
            "6 -2.0415606574273 False\n",
            "Episode 296, Total Reward: -2041.0976227804447\n",
            "6 -0.557563640416601 False\n",
            "3 -6.75623719662853 False\n",
            "2 -6.841918956903541 False\n",
            "9 -2.2550833802954076 False\n",
            "8 -7.853704773177191 False\n",
            "4 -9.351745191179539 False\n",
            "5 -8.86012987256621 False\n",
            "Episode 297, Total Reward: -1542.4763830111672\n",
            "9 -8.579293986144062 False\n",
            "5 -6.591803321334266 False\n",
            "1 -3.2013328857401957 False\n",
            "3 -8.062794569850828 False\n",
            "2 -6.841918956903541 False\n",
            "7 -1.1138456925079876 False\n",
            "Episode 298, Total Reward: -2034.3909894124808\n",
            "3 -6.226340755216833 False\n",
            "8 -2.6150299035155595 False\n",
            "1 -6.742121402603406 False\n",
            "6 -2.0415606574273 False\n",
            "9 -9.089599829761081 False\n",
            "2 -2.2550833802954076 False\n",
            "Episode 299, Total Reward: -2028.9697359288195\n",
            "5 -1.9895625089960105 False\n",
            "1 -3.2013328857401957 False\n",
            "7 -8.63933616755769 False\n",
            "8 -9.21539248558825 False\n",
            "4 -9.351745191179539 False\n",
            "3 -6.980965374268762 False\n",
            "Episode 300, Total Reward: -2039.3783346133305\n"
          ]
        },
        {
          "output_type": "stream",
          "name": "stderr",
          "text": [
            "WARNING:absl:Skipping variable loading for optimizer 'Adam', because it has 13 variables whereas the saved optimizer has 1 variables. \n"
          ]
        },
        {
          "output_type": "stream",
          "name": "stdout",
          "text": [
            "1 -2.2601094764485308 False\n",
            "3 -8.062794569850828 False\n"
          ]
        },
        {
          "output_type": "stream",
          "name": "stderr",
          "text": [
            "WARNING:absl:Skipping variable loading for optimizer 'Adam', because it has 13 variables whereas the saved optimizer has 1 variables. \n",
            "WARNING:absl:Skipping variable loading for optimizer 'Adam', because it has 13 variables whereas the saved optimizer has 1 variables. \n"
          ]
        },
        {
          "output_type": "stream",
          "name": "stdout",
          "text": [
            "4 -6.980965374268762 False\n"
          ]
        },
        {
          "output_type": "stream",
          "name": "stderr",
          "text": [
            "WARNING:absl:Skipping variable loading for optimizer 'Adam', because it has 13 variables whereas the saved optimizer has 1 variables. \n"
          ]
        },
        {
          "output_type": "stream",
          "name": "stdout",
          "text": [
            "6 -11.374743052916678 False\n",
            "9 -9.089599829761081 False\n"
          ]
        },
        {
          "output_type": "stream",
          "name": "stderr",
          "text": [
            "WARNING:absl:Skipping variable loading for optimizer 'Adam', because it has 13 variables whereas the saved optimizer has 1 variables. \n"
          ]
        },
        {
          "output_type": "stream",
          "name": "stdout",
          "text": [
            "Episode 301, Total Reward: -2537.7682123032455\n",
            "1 -2.2601094764485308 False\n",
            "2 -7.620784652302808 False\n",
            "7 -1.1138456925079876 False\n",
            "6 -9.189377103453513 False\n",
            "3 -6.75623719662853 False\n",
            "9 -5.895412073873364 False\n",
            "Episode 302, Total Reward: -2032.8357661952148\n",
            "9 -8.579293986144062 False\n",
            "6 -9.089599829761081 False\n",
            "8 -5.004577401674917 False\n",
            "3 -2.6150299035155595 False\n",
            "7 -7.705775893101598 False\n",
            "Episode 303, Total Reward: -2532.994277014197\n",
            "1 -2.2601094764485308 False\n",
            "2 -7.620784652302808 False\n",
            "8 -8.192416453410834 False\n",
            "4 -9.351745191179539 False\n",
            "6 -11.374743052916678 False\n",
            "5 -2.5146136553162997 False\n",
            "Episode 304, Total Reward: -2041.314412481575\n",
            "3 -6.226340755216833 False\n",
            "7 -7.705775893101598 False\n",
            "1 -8.63933616755769 False\n",
            "5 -3.2013328857401957 False\n",
            "4 -8.86012987256621 False\n",
            "Episode 305, Total Reward: -2534.6329155741823\n",
            "3 -6.226340755216833 False\n",
            "6 -6.75623719662853 False\n",
            "2 -8.093492715402329 False\n",
            "9 -2.2550833802954076 False\n",
            "7 -2.3673957673885857 False\n",
            "8 -9.21539248558825 False\n",
            "1 -6.742121402603406 False\n",
            "Episode 306, Total Reward: -1541.6560637031234\n",
            "1 -2.2601094764485308 False\n",
            "5 -3.2013328857401957 False\n",
            "6 -2.5146136553162997 False\n",
            "8 -5.004577401674917 False\n",
            "2 -8.192416453410834 False\n",
            "4 -4.585675628012074 False\n",
            "Episode 307, Total Reward: -2025.7587255006028\n",
            "7 -8.756186467218008 False\n",
            "6 -9.189377103453513 False\n",
            "8 -5.004577401674917 False\n",
            "1 -6.742121402603406 False\n",
            "3 -8.062794569850828 False\n",
            "9 -5.895412073873364 False\n",
            "4 -2.4969092474766588 False\n",
            "5 -8.86012987256621 False\n",
            "Episode 308, Total Reward: -1055.0075081387167\n",
            "4 -10.843880223714587 False\n",
            "5 -8.86012987256621 False\n",
            "3 -4.905091251117594 False\n",
            "8 -2.6150299035155595 False\n",
            "2 -8.192416453410834 False\n",
            "Episode 309, Total Reward: -2535.416547704325\n",
            "7 -8.756186467218008 False\n",
            "2 -1.1138456925079876 False\n",
            "4 -4.585675628012074 False\n",
            "8 -9.351745191179539 False\n",
            "5 -4.071101157390693 False\n"
          ]
        },
        {
          "output_type": "stream",
          "name": "stderr",
          "text": [
            "WARNING:absl:Skipping variable loading for optimizer 'Adam', because it has 13 variables whereas the saved optimizer has 1 variables. \n"
          ]
        },
        {
          "output_type": "stream",
          "name": "stdout",
          "text": [
            "6 -2.5146136553162997 False\n",
            "Episode 310, Total Reward: -2030.3931677916246\n",
            "6 -0.557563640416601 False\n"
          ]
        },
        {
          "output_type": "stream",
          "name": "stderr",
          "text": [
            "WARNING:absl:Skipping variable loading for optimizer 'Adam', because it has 13 variables whereas the saved optimizer has 1 variables. \n"
          ]
        },
        {
          "output_type": "stream",
          "name": "stdout",
          "text": [
            "2 -8.093492715402329 False\n",
            "8 -8.192416453410834 False\n"
          ]
        },
        {
          "output_type": "stream",
          "name": "stderr",
          "text": [
            "WARNING:absl:Skipping variable loading for optimizer 'Adam', because it has 13 variables whereas the saved optimizer has 1 variables. \n",
            "WARNING:absl:Skipping variable loading for optimizer 'Adam', because it has 13 variables whereas the saved optimizer has 1 variables. \n"
          ]
        },
        {
          "output_type": "stream",
          "name": "stdout",
          "text": [
            "7 -9.21539248558825 False\n"
          ]
        },
        {
          "output_type": "stream",
          "name": "stderr",
          "text": [
            "WARNING:absl:Skipping variable loading for optimizer 'Adam', because it has 13 variables whereas the saved optimizer has 1 variables. \n"
          ]
        },
        {
          "output_type": "stream",
          "name": "stdout",
          "text": [
            "4 -4.250813147599771 False\n"
          ]
        },
        {
          "output_type": "stream",
          "name": "stderr",
          "text": [
            "WARNING:absl:Skipping variable loading for optimizer 'Adam', because it has 13 variables whereas the saved optimizer has 1 variables. \n"
          ]
        },
        {
          "output_type": "stream",
          "name": "stdout",
          "text": [
            "1 -11.509995892926003 False\n",
            "Episode 311, Total Reward: -2041.8196743353437\n",
            "3 -6.226340755216833 False\n",
            "1 -8.062794569850828 False\n",
            "4 -11.509995892926003 False\n",
            "7 -4.250813147599771 False\n",
            "6 -9.189377103453513 False\n",
            "Episode 312, Total Reward: -2539.239321469047\n",
            "4 -10.843880223714587 False\n",
            "5 -8.86012987256621 False\n",
            "3 -4.905091251117594 False\n",
            "6 -6.75623719662853 False\n",
            "7 -9.189377103453513 False\n",
            "9 -2.3673957673885857 False\n",
            "Episode 313, Total Reward: -2042.922111414869\n",
            "5 -1.9895625089960105 False\n",
            "4 -8.86012987256621 False\n",
            "7 -4.250813147599771 False\n",
            "9 -2.3673957673885857 False\n",
            "6 -9.089599829761081 False\n",
            "1 -2.0415606574273 False\n",
            "2 -7.620784652302808 False\n",
            "Episode 314, Total Reward: -1536.2198464360417\n",
            "6 -0.557563640416601 False\n",
            "8 -5.004577401674917 False\n",
            "9 -7.853704773177191 False\n",
            "1 -9.070180154761154 False\n",
            "7 -8.63933616755769 False\n",
            "2 -1.1138456925079876 False\n",
            "Episode 315, Total Reward: -2032.2392078300957\n",
            "5 -1.9895625089960105 False\n",
            "1 -3.2013328857401957 False\n",
            "8 -6.742121402603406 False\n",
            "2 -8.192416453410834 False\n",
            "9 -2.2550833802954076 False\n",
            "7 -2.3673957673885857 False\n",
            "4 -4.250813147599771 False\n",
            "Episode 316, Total Reward: -1528.9987255460342\n",
            "9 -8.579293986144062 False\n",
            "1 -9.070180154761154 False\n",
            "8 -6.742121402603406 False\n",
            "2 -8.192416453410834 False\n",
            "3 -6.841918956903541 False\n",
            "Episode 317, Total Reward: -2539.425930953823\n",
            "5 -1.9895625089960105 False\n",
            "1 -3.2013328857401957 False\n",
            "9 -9.070180154761154 False\n",
            "8 -7.853704773177191 False\n",
            "4 -9.351745191179539 False\n",
            "Episode 318, Total Reward: -2531.466525513854\n",
            "3 -6.226340755216833 False\n",
            "6 -6.75623719662853 False\n",
            "4 -11.374743052916678 False\n",
            "1 -11.509995892926003 False\n",
            "9 -9.070180154761154 False\n",
            "5 -6.591803321334266 False\n",
            "Episode 319, Total Reward: -2051.5293003737834\n",
            "5 -1.9895625089960105 False\n",
            "2 -5.77799343429354 False\n",
            "1 -7.620784652302808 False\n"
          ]
        },
        {
          "output_type": "stream",
          "name": "stderr",
          "text": [
            "WARNING:absl:Skipping variable loading for optimizer 'Adam', because it has 13 variables whereas the saved optimizer has 1 variables. \n"
          ]
        },
        {
          "output_type": "stream",
          "name": "stdout",
          "text": [
            "8 -6.742121402603406 False\n",
            "Episode 320, Total Reward: -3022.130461998196\n",
            "4 -10.843880223714587 False\n"
          ]
        },
        {
          "output_type": "stream",
          "name": "stderr",
          "text": [
            "WARNING:absl:Skipping variable loading for optimizer 'Adam', because it has 13 variables whereas the saved optimizer has 1 variables. \n"
          ]
        },
        {
          "output_type": "stream",
          "name": "stdout",
          "text": [
            "3 -6.980965374268762 False\n",
            "5 -4.905091251117594 False\n"
          ]
        },
        {
          "output_type": "stream",
          "name": "stderr",
          "text": [
            "WARNING:absl:Skipping variable loading for optimizer 'Adam', because it has 13 variables whereas the saved optimizer has 1 variables. \n",
            "WARNING:absl:Skipping variable loading for optimizer 'Adam', because it has 13 variables whereas the saved optimizer has 1 variables. \n"
          ]
        },
        {
          "output_type": "stream",
          "name": "stdout",
          "text": [
            "9 -6.591803321334266 False\n"
          ]
        },
        {
          "output_type": "stream",
          "name": "stderr",
          "text": [
            "WARNING:absl:Skipping variable loading for optimizer 'Adam', because it has 13 variables whereas the saved optimizer has 1 variables. \n"
          ]
        },
        {
          "output_type": "stream",
          "name": "stdout",
          "text": [
            "6 -9.089599829761081 False\n",
            "8 -5.004577401674917 False\n"
          ]
        },
        {
          "output_type": "stream",
          "name": "stderr",
          "text": [
            "WARNING:absl:Skipping variable loading for optimizer 'Adam', because it has 13 variables whereas the saved optimizer has 1 variables. \n"
          ]
        },
        {
          "output_type": "stream",
          "name": "stdout",
          "text": [
            "Episode 321, Total Reward: -2043.415917401871\n",
            "6 -0.557563640416601 False\n",
            "2 -8.093492715402329 False\n",
            "5 -5.77799343429354 False\n",
            "4 -8.86012987256621 False\n",
            "8 -9.351745191179539 False\n",
            "9 -7.853704773177191 False\n",
            "3 -5.895412073873364 False\n",
            "Episode 322, Total Reward: -1546.3900417009088\n",
            "9 -8.579293986144062 False\n",
            "2 -2.2550833802954076 False\n",
            "7 -1.1138456925079876 False\n",
            "3 -7.705775893101598 False\n",
            "1 -8.062794569850828 False\n",
            "8 -6.742121402603406 False\n",
            "Episode 323, Total Reward: -2034.4589149245035\n",
            "9 -8.579293986144062 False\n",
            "7 -2.3673957673885857 False\n",
            "8 -9.21539248558825 False\n",
            "2 -8.192416453410834 False\n",
            "4 -4.585675628012074 False\n",
            "6 -11.374743052916678 False\n",
            "5 -2.5146136553162997 False\n",
            "Episode 324, Total Reward: -1546.8295310287767\n",
            "7 -8.756186467218008 False\n",
            "1 -8.63933616755769 False\n",
            "5 -3.2013328857401957 False\n",
            "3 -4.905091251117594 False\n",
            "6 -6.75623719662853 False\n",
            "2 -8.093492715402329 False\n",
            "8 -8.192416453410834 False\n",
            "9 -7.853704773177191 False\n",
            "Episode 325, Total Reward: -1056.3977979102524\n",
            "1 -2.2601094764485308 False\n",
            "5 -3.2013328857401957 False\n",
            "6 -2.5146136553162997 False\n",
            "7 -9.189377103453513 False\n",
            "9 -2.3673957673885857 False\n",
            "8 -7.853704773177191 False\n",
            "Episode 326, Total Reward: -2027.3865336615243\n",
            "7 -8.756186467218008 False\n",
            "2 -1.1138456925079876 False\n",
            "9 -2.2550833802954076 False\n",
            "8 -7.853704773177191 False\n",
            "1 -6.742121402603406 False\n",
            "3 -8.062794569850828 False\n",
            "Episode 327, Total Reward: -2034.783736285653\n",
            "1 -2.2601094764485308 False\n",
            "9 -9.070180154761154 False\n",
            "8 -7.853704773177191 False\n",
            "7 -9.21539248558825 False\n",
            "3 -7.705775893101598 False\n",
            "Episode 328, Total Reward: -2536.1051627830766\n",
            "3 -6.226340755216833 False\n",
            "8 -2.6150299035155595 False\n",
            "5 -4.071101157390693 False\n",
            "9 -6.591803321334266 False\n",
            "6 -9.089599829761081 False\n",
            "Episode 329, Total Reward: -2528.5938749672187\n",
            "8 -4.569044986778715 False\n",
            "6 -5.004577401674917 False\n",
            "1 -2.0415606574273 False\n",
            "4 -11.509995892926003 False\n",
            "3 -6.980965374268762 False\n",
            "7 -7.705775893101598 False\n",
            "2 -1.1138456925079876 False\n",
            "Episode 330, Total Reward: -1538.9257658986853\n",
            "2 -7.653020649610424 False\n"
          ]
        },
        {
          "output_type": "stream",
          "name": "stderr",
          "text": [
            "WARNING:absl:Skipping variable loading for optimizer 'Adam', because it has 13 variables whereas the saved optimizer has 1 variables. \n",
            "WARNING:absl:Skipping variable loading for optimizer 'Adam', because it has 13 variables whereas the saved optimizer has 1 variables. \n"
          ]
        },
        {
          "output_type": "stream",
          "name": "stdout",
          "text": [
            "5 -5.77799343429354 False\n",
            "8 -4.071101157390693 False\n"
          ]
        },
        {
          "output_type": "stream",
          "name": "stderr",
          "text": [
            "WARNING:absl:Skipping variable loading for optimizer 'Adam', because it has 13 variables whereas the saved optimizer has 1 variables. \n",
            "WARNING:absl:Skipping variable loading for optimizer 'Adam', because it has 13 variables whereas the saved optimizer has 1 variables. \n"
          ]
        },
        {
          "output_type": "stream",
          "name": "stdout",
          "text": [
            "7 -9.21539248558825 False\n",
            "4 -4.250813147599771 False\n"
          ]
        },
        {
          "output_type": "stream",
          "name": "stderr",
          "text": [
            "WARNING:absl:Skipping variable loading for optimizer 'Adam', because it has 13 variables whereas the saved optimizer has 1 variables. \n",
            "WARNING:absl:Skipping variable loading for optimizer 'Adam', because it has 13 variables whereas the saved optimizer has 1 variables. \n"
          ]
        },
        {
          "output_type": "stream",
          "name": "stdout",
          "text": [
            "1 -11.509995892926003 False\n",
            "Episode 331, Total Reward: -2042.4783167674088\n",
            "3 -6.226340755216833 False\n",
            "8 -2.6150299035155595 False\n",
            "4 -9.351745191179539 False\n",
            "2 -4.585675628012074 False\n",
            "6 -8.093492715402329 False\n",
            "Episode 332, Total Reward: -2530.872284193326\n",
            "3 -6.226340755216833 False\n",
            "6 -6.75623719662853 False\n",
            "8 -5.004577401674917 False\n",
            "7 -9.21539248558825 False\n",
            "2 -1.1138456925079876 False\n",
            "5 -5.77799343429354 False\n",
            "Episode 333, Total Reward: -2034.0943869659102\n",
            "9 -8.579293986144062 False\n",
            "4 -2.4969092474766588 False\n",
            "1 -11.509995892926003 False\n",
            "3 -8.062794569850828 False\n",
            "2 -6.841918956903541 False\n",
            "Episode 334, Total Reward: -2537.490912653301\n",
            "8 -4.569044986778715 False\n",
            "9 -7.853704773177191 False\n",
            "2 -2.2550833802954076 False\n",
            "4 -4.585675628012074 False\n",
            "5 -8.86012987256621 False\n",
            "3 -4.905091251117594 False\n",
            "Episode 335, Total Reward: -2033.028729891947\n",
            "2 -7.653020649610424 False\n",
            "8 -8.192416453410834 False\n",
            "4 -9.351745191179539 False\n",
            "9 -2.4969092474766588 False\n",
            "7 -2.3673957673885857 False\n",
            "5 -6.890753875802023 False\n",
            "1 -3.2013328857401957 False\n",
            "Episode 336, Total Reward: -1540.153574070608\n",
            "4 -10.843880223714587 False\n",
            "6 -11.374743052916678 False\n",
            "1 -2.0415606574273 False\n",
            "2 -7.620784652302808 False\n",
            "8 -8.192416453410834 False\n",
            "Episode 337, Total Reward: -2540.0733850397723\n",
            "5 -1.9895625089960105 False\n",
            "1 -3.2013328857401957 False\n",
            "4 -11.509995892926003 False\n",
            "2 -4.585675628012074 False\n",
            "8 -8.192416453410834 False\n",
            "3 -2.6150299035155595 False\n",
            "Episode 338, Total Reward: -2032.0940132726007\n",
            "9 -8.579293986144062 False\n",
            "5 -6.591803321334266 False\n",
            "1 -3.2013328857401957 False\n",
            "2 -7.620784652302808 False\n",
            "6 -8.093492715402329 False\n",
            "Episode 339, Total Reward: -2534.0867075609235\n",
            "2 -7.653020649610424 False\n",
            "7 -1.1138456925079876 False\n",
            "3 -7.705775893101598 False\n",
            "9 -5.895412073873364 False\n",
            "8 -7.853704773177191 False\n",
            "1 -6.742121402603406 False\n",
            "Episode 340, Total Reward: -2036.9638804848742\n",
            "1 -2.2601094764485308 False\n"
          ]
        },
        {
          "output_type": "stream",
          "name": "stderr",
          "text": [
            "WARNING:absl:Skipping variable loading for optimizer 'Adam', because it has 13 variables whereas the saved optimizer has 1 variables. \n",
            "WARNING:absl:Skipping variable loading for optimizer 'Adam', because it has 13 variables whereas the saved optimizer has 1 variables. \n"
          ]
        },
        {
          "output_type": "stream",
          "name": "stdout",
          "text": [
            "8 -6.742121402603406 False\n",
            "5 -4.071101157390693 False\n"
          ]
        },
        {
          "output_type": "stream",
          "name": "stderr",
          "text": [
            "WARNING:absl:Skipping variable loading for optimizer 'Adam', because it has 13 variables whereas the saved optimizer has 1 variables. \n",
            "WARNING:absl:Skipping variable loading for optimizer 'Adam', because it has 13 variables whereas the saved optimizer has 1 variables. \n"
          ]
        },
        {
          "output_type": "stream",
          "name": "stdout",
          "text": [
            "4 -8.86012987256621 False\n",
            "3 -6.980965374268762 False\n"
          ]
        },
        {
          "output_type": "stream",
          "name": "stderr",
          "text": [
            "WARNING:absl:Skipping variable loading for optimizer 'Adam', because it has 13 variables whereas the saved optimizer has 1 variables. \n",
            "WARNING:absl:Skipping variable loading for optimizer 'Adam', because it has 13 variables whereas the saved optimizer has 1 variables. \n"
          ]
        },
        {
          "output_type": "stream",
          "name": "stdout",
          "text": [
            "6 -6.75623719662853 False\n",
            "9 -9.089599829761081 False\n"
          ]
        },
        {
          "output_type": "stream",
          "name": "stderr",
          "text": [
            "WARNING:absl:Skipping variable loading for optimizer 'Adam', because it has 13 variables whereas the saved optimizer has 1 variables. \n"
          ]
        },
        {
          "output_type": "stream",
          "name": "stdout",
          "text": [
            "Episode 341, Total Reward: -1544.760264309667\n",
            "4 -10.843880223714587 False\n",
            "5 -8.86012987256621 False\n",
            "1 -3.2013328857401957 False\n",
            "7 -8.63933616755769 False\n",
            "3 -7.705775893101598 False\n",
            "Episode 342, Total Reward: -2539.25045504268\n",
            "1 -2.2601094764485308 False\n",
            "7 -8.63933616755769 False\n",
            "5 -6.890753875802023 False\n",
            "6 -2.5146136553162997 False\n",
            "2 -8.093492715402329 False\n",
            "4 -4.585675628012074 False\n",
            "3 -6.980965374268762 False\n",
            "Episode 343, Total Reward: -1539.9649468928078\n",
            "7 -8.756186467218008 False\n",
            "8 -9.21539248558825 False\n",
            "9 -7.853704773177191 False\n",
            "3 -5.895412073873364 False\n",
            "6 -6.75623719662853 False\n",
            "Episode 344, Total Reward: -2538.4769329964856\n",
            "2 -7.653020649610424 False\n",
            "3 -6.841918956903541 False\n",
            "5 -4.905091251117594 False\n",
            "7 -6.890753875802023 False\n",
            "8 -9.21539248558825 False\n",
            "1 -6.742121402603406 False\n",
            "Episode 345, Total Reward: -2042.2482986216253\n",
            "2 -7.653020649610424 False\n",
            "7 -1.1138456925079876 False\n",
            "3 -7.705775893101598 False\n",
            "8 -2.6150299035155595 False\n",
            "1 -6.742121402603406 False\n",
            "4 -11.509995892926003 False\n",
            "5 -8.86012987256621 False\n",
            "Episode 346, Total Reward: -1546.1999193068311\n",
            "3 -6.226340755216833 False\n",
            "6 -6.75623719662853 False\n",
            "8 -5.004577401674917 False\n",
            "1 -6.742121402603406 False\n",
            "4 -11.509995892926003 False\n",
            "2 -4.585675628012074 False\n",
            "Episode 347, Total Reward: -2040.8249482770618\n",
            "7 -8.756186467218008 False\n",
            "4 -4.250813147599771 False\n",
            "5 -8.86012987256621 False\n",
            "8 -4.071101157390693 False\n",
            "3 -2.6150299035155595 False\n",
            "Episode 348, Total Reward: -2528.5532605482904\n",
            "3 -6.226340755216833 False\n",
            "8 -2.6150299035155595 False\n",
            "1 -6.742121402603406 False\n",
            "6 -2.0415606574273 False\n",
            "4 -11.374743052916678 False\n",
            "7 -4.250813147599771 False\n",
            "2 -1.1138456925079876 False\n",
            "Episode 349, Total Reward: -1534.3644546117876\n",
            "4 -10.843880223714587 False\n",
            "2 -4.585675628012074 False\n",
            "6 -8.093492715402329 False\n"
          ]
        },
        {
          "output_type": "stream",
          "name": "stderr",
          "text": [
            "WARNING:absl:Skipping variable loading for optimizer 'Adam', because it has 13 variables whereas the saved optimizer has 1 variables. \n"
          ]
        },
        {
          "output_type": "stream",
          "name": "stdout",
          "text": [
            "Episode 350, Total Reward: -3523.523048567129\n",
            "4 -10.843880223714587 False\n",
            "1 -11.509995892926003 False\n"
          ]
        },
        {
          "output_type": "stream",
          "name": "stderr",
          "text": [
            "WARNING:absl:Skipping variable loading for optimizer 'Adam', because it has 13 variables whereas the saved optimizer has 1 variables. \n",
            "WARNING:absl:Skipping variable loading for optimizer 'Adam', because it has 13 variables whereas the saved optimizer has 1 variables. \n"
          ]
        },
        {
          "output_type": "stream",
          "name": "stdout",
          "text": [
            "2 -7.620784652302808 False\n"
          ]
        },
        {
          "output_type": "stream",
          "name": "stderr",
          "text": [
            "WARNING:absl:Skipping variable loading for optimizer 'Adam', because it has 13 variables whereas the saved optimizer has 1 variables. \n"
          ]
        },
        {
          "output_type": "stream",
          "name": "stdout",
          "text": [
            "6 -8.093492715402329 False\n",
            "Episode 351, Total Reward: -3038.068153484346\n",
            "9 -8.579293986144062 False\n",
            "1 -9.070180154761154 False\n",
            "6 -2.0415606574273 False\n",
            "3 -6.75623719662853 False\n",
            "7 -7.705775893101598 False\n",
            "5 -6.890753875802023 False\n",
            "Episode 352, Total Reward: -2041.0438017638646\n",
            "8 -4.569044986778715 False\n",
            "6 -5.004577401674917 False\n",
            "2 -8.093492715402329 False\n",
            "7 -1.1138456925079876 False\n",
            "Episode 353, Total Reward: -3018.780960796364\n",
            "6 -0.557563640416601 False\n",
            "3 -6.75623719662853 False\n",
            "9 -5.895412073873364 False\n",
            "4 -2.4969092474766588 False\n",
            "Episode 354, Total Reward: -3015.7061221583954\n",
            "8 -4.569044986778715 False\n",
            "2 -8.192416453410834 False\n",
            "4 -4.585675628012074 False\n",
            "3 -6.980965374268762 False\n",
            "1 -8.062794569850828 False\n",
            "Episode 355, Total Reward: -2532.390897012321\n",
            "1 -2.2601094764485308 False\n",
            "5 -3.2013328857401957 False\n",
            "4 -8.86012987256621 False\n",
            "3 -6.980965374268762 False\n",
            "8 -2.6150299035155595 False\n",
            "2 -8.192416453410834 False\n",
            "Episode 356, Total Reward: -2032.1099839659503\n",
            "3 -6.226340755216833 False\n",
            "8 -2.6150299035155595 False\n",
            "2 -8.192416453410834 False\n",
            "7 -1.1138456925079876 False\n",
            "4 -4.250813147599771 False\n",
            "6 -11.374743052916678 False\n",
            "Episode 357, Total Reward: -2033.7731890051678\n",
            "2 -7.653020649610424 False\n",
            "6 -8.093492715402329 False\n",
            "3 -6.75623719662853 False\n",
            "5 -4.905091251117594 False\n",
            "9 -6.591803321334266 False\n",
            "4 -2.4969092474766588 False\n",
            "Episode 358, Total Reward: -2036.4965543815697\n",
            "8 -4.569044986778715 False\n",
            "6 -5.004577401674917 False\n",
            "5 -2.5146136553162997 False\n",
            "Episode 359, Total Reward: -3512.08823604377\n",
            "4 -10.843880223714587 False\n",
            "5 -8.86012987256621 False\n",
            "1 -3.2013328857401957 False\n",
            "2 -7.620784652302808 False\n",
            "9 -2.2550833802954076 False\n",
            "6 -9.089599829761081 False\n",
            "3 -6.75623719662853 False\n",
            "Episode 360, Total Reward: -1548.6270480410087\n",
            "3 -6.226340755216833 False\n"
          ]
        },
        {
          "output_type": "stream",
          "name": "stderr",
          "text": [
            "WARNING:absl:Skipping variable loading for optimizer 'Adam', because it has 13 variables whereas the saved optimizer has 1 variables. \n",
            "WARNING:absl:Skipping variable loading for optimizer 'Adam', because it has 13 variables whereas the saved optimizer has 1 variables. \n"
          ]
        },
        {
          "output_type": "stream",
          "name": "stdout",
          "text": [
            "8 -2.6150299035155595 False\n",
            "4 -9.351745191179539 False\n"
          ]
        },
        {
          "output_type": "stream",
          "name": "stderr",
          "text": [
            "WARNING:absl:Skipping variable loading for optimizer 'Adam', because it has 13 variables whereas the saved optimizer has 1 variables. \n",
            "WARNING:absl:Skipping variable loading for optimizer 'Adam', because it has 13 variables whereas the saved optimizer has 1 variables. \n"
          ]
        },
        {
          "output_type": "stream",
          "name": "stdout",
          "text": [
            "1 -11.509995892926003 False\n",
            "7 -8.63933616755769 False\n"
          ]
        },
        {
          "output_type": "stream",
          "name": "stderr",
          "text": [
            "WARNING:absl:Skipping variable loading for optimizer 'Adam', because it has 13 variables whereas the saved optimizer has 1 variables. \n"
          ]
        },
        {
          "output_type": "stream",
          "name": "stdout",
          "text": [
            "Episode 361, Total Reward: -2538.3424479103955\n",
            "2 -7.653020649610424 False\n",
            "4 -4.585675628012074 False\n",
            "6 -11.374743052916678 False\n",
            "3 -6.75623719662853 False\n",
            "8 -2.6150299035155595 False\n",
            "9 -7.853704773177191 False\n",
            "Episode 362, Total Reward: -2040.8384112038605\n",
            "7 -8.756186467218008 False\n",
            "4 -4.250813147599771 False\n",
            "9 -2.4969092474766588 False\n",
            "1 -9.070180154761154 False\n",
            "5 -3.2013328857401957 False\n",
            "Episode 363, Total Reward: -2527.7754219027956\n",
            "9 -8.579293986144062 False\n",
            "3 -5.895412073873364 False\n",
            "5 -4.905091251117594 False\n",
            "2 -5.77799343429354 False\n",
            "Episode 364, Total Reward: -3025.1577907454284\n",
            "7 -8.756186467218008 False\n",
            "5 -6.890753875802023 False\n",
            "8 -4.071101157390693 False\n",
            "9 -7.853704773177191 False\n",
            "2 -2.2550833802954076 False\n",
            "4 -4.585675628012074 False\n",
            "Episode 365, Total Reward: -2034.4125052818954\n",
            "2 -7.653020649610424 False\n",
            "6 -8.093492715402329 False\n",
            "7 -9.189377103453513 False\n",
            "5 -6.890753875802023 False\n",
            "3 -4.905091251117594 False\n",
            "9 -5.895412073873364 False\n",
            "4 -2.4969092474766588 False\n",
            "Episode 366, Total Reward: -1545.1240569167358\n",
            "7 -8.756186467218008 False\n",
            "3 -7.705775893101598 False\n",
            "4 -6.980965374268762 False\n",
            "8 -9.351745191179539 False\n",
            "5 -4.071101157390693 False\n",
            "6 -2.5146136553162997 False\n",
            "1 -2.0415606574273 False\n",
            "Episode 367, Total Reward: -1541.421948395902\n",
            "3 -6.226340755216833 False\n",
            "5 -4.905091251117594 False\n",
            "6 -2.5146136553162997 False\n",
            "4 -11.374743052916678 False\n",
            "7 -4.250813147599771 False\n",
            "8 -9.21539248558825 False\n",
            "Episode 368, Total Reward: -2038.4869943477554\n",
            "1 -2.2601094764485308 False\n",
            "8 -6.742121402603406 False\n",
            "2 -8.192416453410834 False\n",
            "9 -2.2550833802954076 False\n",
            "7 -2.3673957673885857 False\n",
            "4 -4.250813147599771 False\n",
            "3 -6.980965374268762 False\n",
            "Episode 369, Total Reward: -1533.0489050020153\n",
            "9 -8.579293986144062 False\n",
            "8 -7.853704773177191 False\n",
            "7 -9.21539248558825 False\n",
            "6 -9.189377103453513 False\n",
            "1 -2.0415606574273 False\n",
            "Episode 370, Total Reward: -2536.8793290057906\n",
            "2 -7.653020649610424 False\n"
          ]
        },
        {
          "output_type": "stream",
          "name": "stderr",
          "text": [
            "WARNING:absl:Skipping variable loading for optimizer 'Adam', because it has 13 variables whereas the saved optimizer has 1 variables. \n",
            "WARNING:absl:Skipping variable loading for optimizer 'Adam', because it has 13 variables whereas the saved optimizer has 1 variables. \n"
          ]
        },
        {
          "output_type": "stream",
          "name": "stdout",
          "text": [
            "5 -5.77799343429354 False\n"
          ]
        },
        {
          "output_type": "stream",
          "name": "stderr",
          "text": [
            "WARNING:absl:Skipping variable loading for optimizer 'Adam', because it has 13 variables whereas the saved optimizer has 1 variables. \n"
          ]
        },
        {
          "output_type": "stream",
          "name": "stdout",
          "text": [
            "8 -4.071101157390693 False\n"
          ]
        },
        {
          "output_type": "stream",
          "name": "stderr",
          "text": [
            "WARNING:absl:Skipping variable loading for optimizer 'Adam', because it has 13 variables whereas the saved optimizer has 1 variables. \n"
          ]
        },
        {
          "output_type": "stream",
          "name": "stdout",
          "text": [
            "4 -9.351745191179539 False\n"
          ]
        },
        {
          "output_type": "stream",
          "name": "stderr",
          "text": [
            "WARNING:absl:Skipping variable loading for optimizer 'Adam', because it has 13 variables whereas the saved optimizer has 1 variables. \n"
          ]
        },
        {
          "output_type": "stream",
          "name": "stdout",
          "text": [
            "1 -11.509995892926003 False\n"
          ]
        },
        {
          "output_type": "stream",
          "name": "stderr",
          "text": [
            "WARNING:absl:Skipping variable loading for optimizer 'Adam', because it has 13 variables whereas the saved optimizer has 1 variables. \n"
          ]
        },
        {
          "output_type": "stream",
          "name": "stdout",
          "text": [
            "6 -2.0415606574273 False\n",
            "Episode 371, Total Reward: -2040.4054169828275\n",
            "7 -8.756186467218008 False\n",
            "9 -2.3673957673885857 False\n",
            "8 -7.853704773177191 False\n",
            "1 -6.742121402603406 False\n",
            "5 -3.2013328857401957 False\n",
            "6 -2.5146136553162997 False\n",
            "4 -11.374743052916678 False\n",
            "Episode 372, Total Reward: -1542.8100980043605\n",
            "9 -8.579293986144062 False\n",
            "8 -7.853704773177191 False\n",
            "3 -2.6150299035155595 False\n",
            "6 -6.75623719662853 False\n",
            "2 -8.093492715402329 False\n",
            "5 -5.77799343429354 False\n",
            "Episode 373, Total Reward: -2039.6757520091612\n",
            "9 -8.579293986144062 False\n",
            "1 -9.070180154761154 False\n",
            "5 -3.2013328857401957 False\n",
            "3 -4.905091251117594 False\n",
            "4 -6.980965374268762 False\n",
            "7 -4.250813147599771 False\n",
            "8 -9.21539248558825 False\n",
            "2 -8.192416453410834 False\n",
            "Episode 374, Total Reward: -1054.3954857386307\n",
            "2 -7.653020649610424 False\n",
            "5 -5.77799343429354 False\n",
            "4 -8.86012987256621 False\n",
            "1 -11.509995892926003 False\n",
            "8 -6.742121402603406 False\n",
            "3 -2.6150299035155595 False\n",
            "Episode 375, Total Reward: -2043.1582911555151\n",
            "6 -0.557563640416601 False\n",
            "3 -6.75623719662853 False\n",
            "4 -6.980965374268762 False\n",
            "9 -2.4969092474766588 False\n",
            "5 -6.591803321334266 False\n",
            "Episode 376, Total Reward: -2523.3834787801247\n",
            "2 -7.653020649610424 False\n",
            "1 -7.620784652302808 False\n",
            "8 -6.742121402603406 False\n",
            "9 -7.853704773177191 False\n",
            "4 -2.4969092474766588 False\n",
            "3 -6.980965374268762 False\n",
            "Episode 377, Total Reward: -2039.3475060994394\n",
            "5 -1.9895625089960105 False\n",
            "7 -6.890753875802023 False\n",
            "1 -8.63933616755769 False\n",
            "6 -2.0415606574273 False\n",
            "9 -9.089599829761081 False\n",
            "Episode 378, Total Reward: -2528.650813039544\n",
            "4 -10.843880223714587 False\n",
            "1 -11.509995892926003 False\n",
            "9 -9.070180154761154 False\n",
            "5 -6.591803321334266 False\n",
            "6 -2.5146136553162997 False\n",
            "8 -5.004577401674917 False\n",
            "Episode 379, Total Reward: -2045.535050649727\n",
            "9 -8.579293986144062 False\n",
            "6 -9.089599829761081 False\n",
            "1 -2.0415606574273 False\n",
            "3 -8.062794569850828 False\n",
            "8 -2.6150299035155595 False\n",
            "5 -4.071101157390693 False\n",
            "Episode 380, Total Reward: -2034.4593801040894\n",
            "5 -1.9895625089960105 False\n"
          ]
        },
        {
          "output_type": "stream",
          "name": "stderr",
          "text": [
            "WARNING:absl:Skipping variable loading for optimizer 'Adam', because it has 13 variables whereas the saved optimizer has 1 variables. \n",
            "WARNING:absl:Skipping variable loading for optimizer 'Adam', because it has 13 variables whereas the saved optimizer has 1 variables. \n"
          ]
        },
        {
          "output_type": "stream",
          "name": "stdout",
          "text": [
            "2 -5.77799343429354 False\n"
          ]
        },
        {
          "output_type": "stream",
          "name": "stderr",
          "text": [
            "WARNING:absl:Skipping variable loading for optimizer 'Adam', because it has 13 variables whereas the saved optimizer has 1 variables. \n"
          ]
        },
        {
          "output_type": "stream",
          "name": "stdout",
          "text": [
            "9 -2.2550833802954076 False\n",
            "6 -9.089599829761081 False\n"
          ]
        },
        {
          "output_type": "stream",
          "name": "stderr",
          "text": [
            "WARNING:absl:Skipping variable loading for optimizer 'Adam', because it has 13 variables whereas the saved optimizer has 1 variables. \n",
            "WARNING:absl:Skipping variable loading for optimizer 'Adam', because it has 13 variables whereas the saved optimizer has 1 variables. \n"
          ]
        },
        {
          "output_type": "stream",
          "name": "stdout",
          "text": [
            "4 -11.374743052916678 False\n",
            "7 -4.250813147599771 False\n"
          ]
        },
        {
          "output_type": "stream",
          "name": "stderr",
          "text": [
            "WARNING:absl:Skipping variable loading for optimizer 'Adam', because it has 13 variables whereas the saved optimizer has 1 variables. \n"
          ]
        },
        {
          "output_type": "stream",
          "name": "stdout",
          "text": [
            "Episode 381, Total Reward: -2034.7377953538626\n",
            "8 -4.569044986778715 False\n",
            "4 -9.351745191179539 False\n",
            "5 -8.86012987256621 False\n",
            "9 -6.591803321334266 False\n",
            "2 -2.2550833802954076 False\n",
            "6 -8.093492715402329 False\n",
            "1 -2.0415606574273 False\n",
            "Episode 382, Total Reward: -1541.7628601249837\n",
            "2 -7.653020649610424 False\n",
            "6 -8.093492715402329 False\n",
            "3 -6.75623719662853 False\n",
            "9 -5.895412073873364 False\n",
            "1 -9.070180154761154 False\n",
            "4 -11.509995892926003 False\n",
            "8 -9.351745191179539 False\n",
            "5 -4.071101157390693 False\n",
            "Episode 383, Total Reward: -1062.401185031772\n",
            "3 -6.226340755216833 False\n",
            "9 -5.895412073873364 False\n",
            "8 -7.853704773177191 False\n",
            "6 -5.004577401674917 False\n",
            "7 -9.189377103453513 False\n",
            "Episode 384, Total Reward: -2534.169412107396\n",
            "3 -6.226340755216833 False\n",
            "6 -6.75623719662853 False\n",
            "5 -2.5146136553162997 False\n",
            "9 -6.591803321334266 False\n",
            "8 -7.853704773177191 False\n",
            "2 -8.192416453410834 False\n",
            "1 -7.620784652302808 False\n",
            "4 -11.509995892926003 False\n",
            "Episode 385, Total Reward: -1057.2658967003129\n",
            "3 -6.226340755216833 False\n",
            "9 -5.895412073873364 False\n",
            "7 -2.3673957673885857 False\n",
            "1 -8.63933616755769 False\n",
            "Episode 386, Total Reward: -3023.1284847640363\n",
            "6 -0.557563640416601 False\n",
            "2 -8.093492715402329 False\n",
            "4 -4.585675628012074 False\n",
            "8 -9.351745191179539 False\n",
            "Episode 387, Total Reward: -3022.5884771750107\n",
            "2 -7.653020649610424 False\n",
            "8 -8.192416453410834 False\n",
            "7 -9.21539248558825 False\n",
            "1 -8.63933616755769 False\n",
            "6 -2.0415606574273 False\n",
            "5 -2.5146136553162997 False\n",
            "Episode 388, Total Reward: -2038.2563400689107\n",
            "9 -8.579293986144062 False\n",
            "8 -7.853704773177191 False\n",
            "7 -9.21539248558825 False\n",
            "2 -1.1138456925079876 False\n",
            "6 -8.093492715402329 False\n",
            "1 -2.0415606574273 False\n",
            "4 -11.509995892926003 False\n",
            "Episode 389, Total Reward: -1548.4072862031733\n",
            "2 -7.653020649610424 False\n",
            "9 -2.2550833802954076 False\n",
            "4 -2.4969092474766588 False\n",
            "6 -11.374743052916678 False\n",
            "8 -5.004577401674917 False\n",
            "5 -4.071101157390693 False\n",
            "Episode 390, Total Reward: -2032.855434889365\n"
          ]
        },
        {
          "output_type": "stream",
          "name": "stderr",
          "text": [
            "WARNING:absl:Skipping variable loading for optimizer 'Adam', because it has 13 variables whereas the saved optimizer has 1 variables. \n"
          ]
        },
        {
          "output_type": "stream",
          "name": "stdout",
          "text": [
            "4 -10.843880223714587 False\n",
            "8 -9.351745191179539 False\n"
          ]
        },
        {
          "output_type": "stream",
          "name": "stderr",
          "text": [
            "WARNING:absl:Skipping variable loading for optimizer 'Adam', because it has 13 variables whereas the saved optimizer has 1 variables. \n",
            "WARNING:absl:Skipping variable loading for optimizer 'Adam', because it has 13 variables whereas the saved optimizer has 1 variables. \n"
          ]
        },
        {
          "output_type": "stream",
          "name": "stdout",
          "text": [
            "7 -9.21539248558825 False\n",
            "5 -6.890753875802023 False\n"
          ]
        },
        {
          "output_type": "stream",
          "name": "stderr",
          "text": [
            "WARNING:absl:Skipping variable loading for optimizer 'Adam', because it has 13 variables whereas the saved optimizer has 1 variables. \n",
            "WARNING:absl:Skipping variable loading for optimizer 'Adam', because it has 13 variables whereas the saved optimizer has 1 variables. \n"
          ]
        },
        {
          "output_type": "stream",
          "name": "stdout",
          "text": [
            "9 -6.591803321334266 False\n",
            "6 -9.089599829761081 False\n"
          ]
        },
        {
          "output_type": "stream",
          "name": "stderr",
          "text": [
            "WARNING:absl:Skipping variable loading for optimizer 'Adam', because it has 13 variables whereas the saved optimizer has 1 variables. \n"
          ]
        },
        {
          "output_type": "stream",
          "name": "stdout",
          "text": [
            "Episode 391, Total Reward: -2051.98317492738\n",
            "6 -0.557563640416601 False\n",
            "2 -8.093492715402329 False\n",
            "9 -2.2550833802954076 False\n",
            "5 -6.591803321334266 False\n",
            "1 -3.2013328857401957 False\n",
            "4 -11.509995892926003 False\n",
            "Episode 392, Total Reward: -2032.2092718361148\n",
            "4 -10.843880223714587 False\n",
            "3 -6.980965374268762 False\n",
            "9 -5.895412073873364 False\n",
            "6 -9.089599829761081 False\n",
            "5 -2.5146136553162997 False\n",
            "1 -3.2013328857401957 False\n",
            "Episode 393, Total Reward: -2038.5258040426743\n",
            "4 -10.843880223714587 False\n",
            "9 -2.4969092474766588 False\n",
            "1 -9.070180154761154 False\n",
            "5 -3.2013328857401957 False\n",
            "3 -4.905091251117594 False\n",
            "8 -2.6150299035155595 False\n",
            "2 -8.192416453410834 False\n",
            "Episode 394, Total Reward: -1541.3248401197366\n",
            "2 -7.653020649610424 False\n",
            "5 -5.77799343429354 False\n",
            "4 -8.86012987256621 False\n",
            "1 -11.509995892926003 False\n",
            "7 -8.63933616755769 False\n",
            "8 -9.21539248558825 False\n",
            "Episode 395, Total Reward: -2051.655868502542\n",
            "7 -8.756186467218008 False\n",
            "6 -9.189377103453513 False\n",
            "3 -6.75623719662853 False\n",
            "9 -5.895412073873364 False\n",
            "2 -2.2550833802954076 False\n",
            "4 -4.585675628012074 False\n",
            "Episode 396, Total Reward: -2037.4379718494808\n",
            "4 -10.843880223714587 False\n",
            "8 -9.351745191179539 False\n",
            "7 -9.21539248558825 False\n",
            "3 -7.705775893101598 False\n",
            "Episode 397, Total Reward: -3037.116793793584\n",
            "5 -1.9895625089960105 False\n",
            "8 -4.071101157390693 False\n",
            "7 -9.21539248558825 False\n",
            "3 -7.705775893101598 False\n",
            "4 -6.980965374268762 False\n",
            "2 -4.585675628012074 False\n",
            "Episode 398, Total Reward: -2034.5484730473574\n",
            "7 -8.756186467218008 False\n",
            "6 -9.189377103453513 False\n",
            "9 -9.089599829761081 False\n",
            "4 -2.4969092474766588 False\n",
            "1 -11.509995892926003 False\n",
            "3 -8.062794569850828 False\n",
            "Episode 399, Total Reward: -2049.104863110686\n",
            "6 -0.557563640416601 False\n",
            "1 -2.0415606574273 False\n",
            "2 -7.620784652302808 False\n",
            "9 -2.2550833802954076 False\n"
          ]
        },
        {
          "output_type": "stream",
          "name": "stderr",
          "text": [
            "WARNING:absl:Skipping variable loading for optimizer 'Adam', because it has 13 variables whereas the saved optimizer has 1 variables. \n"
          ]
        },
        {
          "output_type": "stream",
          "name": "stdout",
          "text": [
            "Episode 400, Total Reward: -3012.474992330442\n",
            "8 -4.569044986778715 False\n"
          ]
        },
        {
          "output_type": "stream",
          "name": "stderr",
          "text": [
            "WARNING:absl:Skipping variable loading for optimizer 'Adam', because it has 13 variables whereas the saved optimizer has 1 variables. \n"
          ]
        },
        {
          "output_type": "stream",
          "name": "stdout",
          "text": [
            "5 -4.071101157390693 False\n",
            "9 -6.591803321334266 False\n"
          ]
        },
        {
          "output_type": "stream",
          "name": "stderr",
          "text": [
            "WARNING:absl:Skipping variable loading for optimizer 'Adam', because it has 13 variables whereas the saved optimizer has 1 variables. \n",
            "WARNING:absl:Skipping variable loading for optimizer 'Adam', because it has 13 variables whereas the saved optimizer has 1 variables. \n"
          ]
        },
        {
          "output_type": "stream",
          "name": "stdout",
          "text": [
            "4 -2.4969092474766588 False\n",
            "7 -4.250813147599771"
          ]
        },
        {
          "output_type": "stream",
          "name": "stderr",
          "text": [
            "WARNING:absl:Skipping variable loading for optimizer 'Adam', because it has 13 variables whereas the saved optimizer has 1 variables. \n"
          ]
        },
        {
          "output_type": "stream",
          "name": "stdout",
          "text": [
            " False\n",
            "Episode 401, Total Reward: -2521.9796718605803\n",
            "6 -0.557563640416601 False\n",
            "2 -8.093492715402329 False\n",
            "3 -6.841918956903541 False\n",
            "4 -6.980965374268762 False\n",
            "1 -11.509995892926003 False\n",
            "Episode 402, Total Reward: -2533.983936579917\n",
            "2 -7.653020649610424 False\n",
            "9 -2.2550833802954076 False\n",
            "3 -5.895412073873364 False\n",
            "4 -6.980965374268762 False\n",
            "6 -11.374743052916678 False\n",
            "8 -5.004577401674917 False\n",
            "5 -4.071101157390693 False\n",
            "7 -6.890753875802023 False\n",
            "Episode 403, Total Reward: -1050.1256569658321\n",
            "7 -8.756186467218008 False\n",
            "9 -2.3673957673885857 False\n",
            "3 -5.895412073873364 False\n",
            "1 -8.062794569850828 False\n",
            "2 -7.620784652302808 False\n",
            "4 -4.585675628012074 False\n",
            "5 -8.86012987256621 False\n",
            "Episode 404, Total Reward: -1546.1483790312118\n",
            "5 -1.9895625089960105 False\n",
            "2 -5.77799343429354 False\n",
            "3 -6.841918956903541 False\n",
            "9 -5.895412073873364 False\n",
            "1 -9.070180154761154 False\n",
            "4 -11.509995892926003 False\n",
            "Episode 405, Total Reward: -2041.0850630217537\n",
            "4 -10.843880223714587 False\n",
            "7 -4.250813147599771 False\n",
            "2 -1.1138456925079876 False\n",
            "6 -8.093492715402329 False\n",
            "5 -2.5146136553162997 False\n",
            "9 -6.591803321334266 False\n",
            "Episode 406, Total Reward: -2033.4084487558753\n",
            "8 -4.569044986778715 False\n",
            "1 -6.742121402603406 False\n",
            "4 -11.509995892926003 False\n",
            "7 -4.250813147599771 False\n",
            "Episode 407, Total Reward: -3027.071975429908\n",
            "5 -1.9895625089960105 False\n",
            "7 -6.890753875802023 False\n",
            "2 -1.1138456925079876 False\n",
            "1 -7.620784652302808 False\n",
            "4 -11.509995892926003 False\n",
            "9 -2.4969092474766588 False\n",
            "Episode 408, Total Reward: -2031.6218518700116\n",
            "5 -1.9895625089960105 False\n",
            "4 -8.86012987256621 False\n",
            "8 -9.351745191179539 False\n",
            "2 -8.192416453410834 False\n",
            "1 -7.620784652302808 False\n",
            "7 -8.63933616755769 False\n",
            "3 -7.705775893101598 False\n",
            "Episode 409, Total Reward: -1552.3597507391146\n",
            "3 -6.226340755216833 False\n",
            "7 -7.705775893101598 False\n",
            "6 -9.189377103453513 False\n",
            "5 -2.5146136553162997 False\n",
            "8 -4.071101157390693 False\n",
            "4 -9.351745191179539 False\n",
            "Episode 410, Total Reward: -2039.0589537556586\n"
          ]
        },
        {
          "output_type": "stream",
          "name": "stderr",
          "text": [
            "WARNING:absl:Skipping variable loading for optimizer 'Adam', because it has 13 variables whereas the saved optimizer has 1 variables. \n"
          ]
        },
        {
          "output_type": "stream",
          "name": "stdout",
          "text": [
            "1 -2.2601094764485308 False\n",
            "9 -9.070180154761154 False\n"
          ]
        },
        {
          "output_type": "stream",
          "name": "stderr",
          "text": [
            "WARNING:absl:Skipping variable loading for optimizer 'Adam', because it has 13 variables whereas the saved optimizer has 1 variables. \n",
            "WARNING:absl:Skipping variable loading for optimizer 'Adam', because it has 13 variables whereas the saved optimizer has 1 variables. \n"
          ]
        },
        {
          "output_type": "stream",
          "name": "stdout",
          "text": [
            "4 -2.4969092474766588 False\n",
            "5 -8.86012987256621 False\n"
          ]
        },
        {
          "output_type": "stream",
          "name": "stderr",
          "text": [
            "WARNING:absl:Skipping variable loading for optimizer 'Adam', because it has 13 variables whereas the saved optimizer has 1 variables. \n",
            "WARNING:absl:Skipping variable loading for optimizer 'Adam', because it has 13 variables whereas the saved optimizer has 1 variables. \n"
          ]
        },
        {
          "output_type": "stream",
          "name": "stdout",
          "text": [
            "3 -4.905091251117594 False\n",
            "2 -6.841918956903541 False\n"
          ]
        },
        {
          "output_type": "stream",
          "name": "stderr",
          "text": [
            "WARNING:absl:Skipping variable loading for optimizer 'Adam', because it has 13 variables whereas the saved optimizer has 1 variables. \n",
            "WARNING:absl:Skipping variable loading for optimizer 'Adam', because it has 13 variables whereas the saved optimizer has 1 variables. \n"
          ]
        },
        {
          "output_type": "stream",
          "name": "stdout",
          "text": [
            "8 -8.192416453410834 False\n",
            "Episode 411, Total Reward: -1542.6267554126846\n",
            "4 -10.843880223714587 False\n",
            "1 -11.509995892926003 False\n",
            "2 -7.620784652302808 False\n",
            "3 -6.841918956903541 False\n",
            "9 -5.895412073873364 False\n",
            "Episode 412, Total Reward: -2542.71199179972\n",
            "6 -0.557563640416601 False\n",
            "4 -11.374743052916678 False\n",
            "2 -4.585675628012074 False\n",
            "8 -8.192416453410834 False\n",
            "5 -4.071101157390693 False\n",
            "9 -6.591803321334266 False\n",
            "Episode 413, Total Reward: -2035.373303253481\n",
            "1 -2.2601094764485308 False\n",
            "5 -3.2013328857401957 False\n",
            "8 -4.071101157390693 False\n",
            "7 -9.21539248558825 False\n",
            "3 -7.705775893101598 False\n",
            "4 -6.980965374268762 False\n",
            "Episode 414, Total Reward: -2033.434677272538\n",
            "9 -8.579293986144062 False\n",
            "8 -7.853704773177191 False\n",
            "5 -4.071101157390693 False\n",
            "1 -3.2013328857401957 False\n",
            "6 -2.0415606574273 False\n",
            "Episode 415, Total Reward: -2525.7469934598794\n",
            "9 -8.579293986144062 False\n",
            "6 -9.089599829761081 False\n",
            "8 -5.004577401674917 False\n",
            "1 -6.742121402603406 False\n",
            "2 -7.620784652302808 False\n",
            "7 -1.1138456925079876 False\n",
            "5 -6.890753875802023 False\n",
            "Episode 416, Total Reward: -1545.0409768407962\n",
            "4 -10.843880223714587 False\n",
            "8 -9.351745191179539 False\n",
            "7 -9.21539248558825 False\n",
            "6 -9.189377103453513 False\n",
            "9 -9.089599829761081 False\n",
            "3 -5.895412073873364 False\n",
            "2 -6.841918956903541 False\n",
            "Episode 417, Total Reward: -1560.427325864474\n",
            "8 -4.569044986778715 False\n",
            "6 -5.004577401674917 False\n",
            "9 -9.089599829761081 False\n",
            "2 -2.2550833802954076 False\n",
            "5 -5.77799343429354 False\n",
            "4 -8.86012987256621 False\n",
            "Episode 418, Total Reward: -2035.55642890537\n",
            "4 -10.843880223714587 False\n",
            "1 -11.509995892926003 False\n",
            "5 -3.2013328857401957 False\n",
            "2 -5.77799343429354 False\n",
            "Episode 419, Total Reward: -3031.333202436674\n",
            "4 -10.843880223714587 False\n",
            "8 -9.351745191179539 False\n",
            "7 -9.21539248558825 False\n",
            "3 -7.705775893101598 False\n",
            "1 -8.062794569850828 False\n",
            "Episode 420, Total Reward: -2545.179588363435\n",
            "5 -1.9895625089960105 False\n"
          ]
        },
        {
          "output_type": "stream",
          "name": "stderr",
          "text": [
            "WARNING:absl:Skipping variable loading for optimizer 'Adam', because it has 13 variables whereas the saved optimizer has 1 variables. \n",
            "WARNING:absl:Skipping variable loading for optimizer 'Adam', because it has 13 variables whereas the saved optimizer has 1 variables. \n"
          ]
        },
        {
          "output_type": "stream",
          "name": "stdout",
          "text": [
            "9 -6.591803321334266 False\n",
            "1 -9.070180154761154 False\n"
          ]
        },
        {
          "output_type": "stream",
          "name": "stderr",
          "text": [
            "WARNING:absl:Skipping variable loading for optimizer 'Adam', because it has 13 variables whereas the saved optimizer has 1 variables. \n",
            "WARNING:absl:Skipping variable loading for optimizer 'Adam', because it has 13 variables whereas the saved optimizer has 1 variables. \n"
          ]
        },
        {
          "output_type": "stream",
          "name": "stdout",
          "text": [
            "8 -6.742121402603406 False\n",
            "2 -8.192416453410834 False\n"
          ]
        },
        {
          "output_type": "stream",
          "name": "stderr",
          "text": [
            "WARNING:absl:Skipping variable loading for optimizer 'Adam', because it has 13 variables whereas the saved optimizer has 1 variables. \n",
            "WARNING:absl:Skipping variable loading for optimizer 'Adam', because it has 13 variables whereas the saved optimizer has 1 variables. \n"
          ]
        },
        {
          "output_type": "stream",
          "name": "stdout",
          "text": [
            "6 -8.093492715402329 False\n"
          ]
        },
        {
          "output_type": "stream",
          "name": "stderr",
          "text": [
            "WARNING:absl:Skipping variable loading for optimizer 'Adam', because it has 13 variables whereas the saved optimizer has 1 variables. \n"
          ]
        },
        {
          "output_type": "stream",
          "name": "stdout",
          "text": [
            "7 -9.189377103453513 False\n",
            "Episode 421, Total Reward: -1549.8689536599616\n",
            "3 -6.226340755216833 False\n",
            "6 -6.75623719662853 False\n",
            "5 -2.5146136553162997 False\n",
            "9 -6.591803321334266 False\n",
            "4 -2.4969092474766588 False\n",
            "Episode 422, Total Reward: -2524.5859041759727\n",
            "4 -10.843880223714587 False\n",
            "2 -4.585675628012074 False\n",
            "8 -8.192416453410834 False\n",
            "1 -6.742121402603406 False\n",
            "3 -8.062794569850828 False\n",
            "Episode 423, Total Reward: -2538.426888277592\n",
            "7 -8.756186467218008 False\n",
            "4 -4.250813147599771 False\n",
            "2 -4.585675628012074 False\n",
            "8 -8.192416453410834 False\n",
            "3 -2.6150299035155595 False\n",
            "Episode 424, Total Reward: -2528.400121599756\n",
            "7 -8.756186467218008 False\n",
            "1 -8.63933616755769 False\n",
            "4 -11.509995892926003 False\n",
            "5 -8.86012987256621 False\n",
            "3 -4.905091251117594 False\n",
            "Episode 425, Total Reward: -2542.6707396513852\n",
            "3 -6.226340755216833 False\n",
            "5 -4.905091251117594 False\n",
            "8 -4.071101157390693 False\n",
            "4 -9.351745191179539 False\n",
            "1 -11.509995892926003 False\n",
            "7 -8.63933616755769 False\n",
            "Episode 426, Total Reward: -2044.7036104153885\n",
            "7 -8.756186467218008 False\n",
            "1 -8.63933616755769 False\n",
            "9 -9.070180154761154 False\n",
            "8 -7.853704773177191 False\n",
            "4 -9.351745191179539 False\n",
            "Episode 427, Total Reward: -2543.6711527538937\n",
            "5 -1.9895625089960105 False\n",
            "9 -6.591803321334266 False\n",
            "1 -9.070180154761154 False\n",
            "4 -11.509995892926003 False\n",
            "2 -4.585675628012074 False\n",
            "3 -6.841918956903541 False\n",
            "Episode 428, Total Reward: -2040.589136462933\n",
            "5 -1.9895625089960105 False\n",
            "9 -6.591803321334266 False\n",
            "8 -7.853704773177191 False\n",
            "3 -2.6150299035155595 False\n",
            "Episode 429, Total Reward: -3019.050100507023\n",
            "4 -10.843880223714587 False\n",
            "5 -8.86012987256621 False\n",
            "9 -6.591803321334266 False\n",
            "1 -9.070180154761154 False\n",
            "2 -7.620784652302808 False\n",
            "6 -8.093492715402329 False\n",
            "Episode 430, Total Reward: -2051.0802709400814\n"
          ]
        },
        {
          "output_type": "stream",
          "name": "stderr",
          "text": [
            "WARNING:absl:Skipping variable loading for optimizer 'Adam', because it has 13 variables whereas the saved optimizer has 1 variables. \n"
          ]
        },
        {
          "output_type": "stream",
          "name": "stdout",
          "text": [
            "9 -8.579293986144062 False\n",
            "5 -6.591803321334266 False\n"
          ]
        },
        {
          "output_type": "stream",
          "name": "stderr",
          "text": [
            "WARNING:absl:Skipping variable loading for optimizer 'Adam', because it has 13 variables whereas the saved optimizer has 1 variables. \n",
            "WARNING:absl:Skipping variable loading for optimizer 'Adam', because it has 13 variables whereas the saved optimizer has 1 variables. \n"
          ]
        },
        {
          "output_type": "stream",
          "name": "stdout",
          "text": [
            "8 -4.071101157390693 False\n",
            "6 -5.004577401674917 False\n"
          ]
        },
        {
          "output_type": "stream",
          "name": "stderr",
          "text": [
            "WARNING:absl:Skipping variable loading for optimizer 'Adam', because it has 13 variables whereas the saved optimizer has 1 variables. \n",
            "WARNING:absl:Skipping variable loading for optimizer 'Adam', because it has 13 variables whereas the saved optimizer has 1 variables. \n"
          ]
        },
        {
          "output_type": "stream",
          "name": "stdout",
          "text": [
            "7 -9.189377103453513 False\n",
            "4 -4.250813147599771 False\n"
          ]
        },
        {
          "output_type": "stream",
          "name": "stderr",
          "text": [
            "WARNING:absl:Skipping variable loading for optimizer 'Adam', because it has 13 variables whereas the saved optimizer has 1 variables. \n"
          ]
        },
        {
          "output_type": "stream",
          "name": "stdout",
          "text": [
            "Episode 431, Total Reward: -2037.6869661175972\n",
            "3 -6.226340755216833 False\n",
            "4 -6.980965374268762 False\n",
            "5 -8.86012987256621 False\n",
            "6 -2.5146136553162997 False\n",
            "1 -2.0415606574273 False\n",
            "2 -7.620784652302808 False\n",
            "Episode 432, Total Reward: -2034.2443949670983\n",
            "8 -4.569044986778715 False\n",
            "1 -6.742121402603406 False\n",
            "9 -9.070180154761154 False\n",
            "4 -2.4969092474766588 False\n",
            "6 -11.374743052916678 False\n",
            "Episode 433, Total Reward: -2534.2529988445367\n",
            "4 -10.843880223714587 False\n",
            "2 -4.585675628012074 False\n",
            "7 -1.1138456925079876 False\n",
            "6 -9.189377103453513 False\n",
            "5 -2.5146136553162997 False\n",
            "Episode 434, Total Reward: -2528.2473923030043\n",
            "5 -1.9895625089960105 False\n",
            "3 -4.905091251117594 False\n",
            "8 -2.6150299035155595 False\n",
            "7 -9.21539248558825 False\n",
            "6 -9.189377103453513 False\n",
            "Episode 435, Total Reward: -2527.9144532526707\n",
            "8 -4.569044986778715 False\n",
            "1 -6.742121402603406 False\n",
            "3 -8.062794569850828 False\n",
            "2 -6.841918956903541 False\n",
            "9 -2.2550833802954076 False\n",
            "7 -2.3673957673885857 False\n",
            "Episode 436, Total Reward: -2030.8383590638205\n",
            "9 -8.579293986144062 False\n",
            "1 -9.070180154761154 False\n",
            "6 -2.0415606574273 False\n",
            "8 -5.004577401674917 False\n",
            "7 -9.21539248558825 False\n",
            "2 -1.1138456925079876 False\n",
            "Episode 437, Total Reward: -2035.0248503781036\n",
            "5 -1.9895625089960105 False\n",
            "4 -8.86012987256621 False\n",
            "6 -11.374743052916678 False\n",
            "1 -2.0415606574273 False\n",
            "9 -9.070180154761154 False\n",
            "7 -2.3673957673885857 False\n",
            "Episode 438, Total Reward: -2035.7035720140561\n",
            "4 -10.843880223714587 False\n",
            "5 -8.86012987256621 False\n",
            "2 -5.77799343429354 False\n",
            "1 -7.620784652302808 False\n",
            "3 -8.062794569850828 False\n",
            "9 -5.895412073873364 False\n",
            "Episode 439, Total Reward: -2047.0609948266015\n",
            "2 -7.653020649610424 False\n",
            "9 -2.2550833802954076 False\n",
            "7 -2.3673957673885857 False\n",
            "4 -4.250813147599771 False\n",
            "5 -8.86012987256621 False\n",
            "Episode 440, Total Reward: -2525.38644281746\n",
            "8 -4.569044986778715 False\n"
          ]
        },
        {
          "output_type": "stream",
          "name": "stderr",
          "text": [
            "WARNING:absl:Skipping variable loading for optimizer 'Adam', because it has 13 variables whereas the saved optimizer has 1 variables. \n",
            "WARNING:absl:Skipping variable loading for optimizer 'Adam', because it has 13 variables whereas the saved optimizer has 1 variables. \n"
          ]
        },
        {
          "output_type": "stream",
          "name": "stdout",
          "text": [
            "7 -9.21539248558825 False\n"
          ]
        },
        {
          "output_type": "stream",
          "name": "stderr",
          "text": [
            "WARNING:absl:Skipping variable loading for optimizer 'Adam', because it has 13 variables whereas the saved optimizer has 1 variables. \n"
          ]
        },
        {
          "output_type": "stream",
          "name": "stdout",
          "text": [
            "4 -4.250813147599771 False\n"
          ]
        },
        {
          "output_type": "stream",
          "name": "stderr",
          "text": [
            "WARNING:absl:Skipping variable loading for optimizer 'Adam', because it has 13 variables whereas the saved optimizer has 1 variables. \n"
          ]
        },
        {
          "output_type": "stream",
          "name": "stdout",
          "text": [
            "1 -11.509995892926003 False\n"
          ]
        },
        {
          "output_type": "stream",
          "name": "stderr",
          "text": [
            "WARNING:absl:Skipping variable loading for optimizer 'Adam', because it has 13 variables whereas the saved optimizer has 1 variables. \n"
          ]
        },
        {
          "output_type": "stream",
          "name": "stdout",
          "text": [
            "3 -8.062794569850828 False\n",
            "5 -4.905091251117594 False\n"
          ]
        },
        {
          "output_type": "stream",
          "name": "stderr",
          "text": [
            "WARNING:absl:Skipping variable loading for optimizer 'Adam', because it has 13 variables whereas the saved optimizer has 1 variables. \n"
          ]
        },
        {
          "output_type": "stream",
          "name": "stdout",
          "text": [
            "Episode 441, Total Reward: -2042.513132333861\n",
            "6 -0.557563640416601 False\n",
            "7 -9.189377103453513 False\n",
            "9 -2.3673957673885857 False\n",
            "1 -9.070180154761154 False\n",
            "Episode 442, Total Reward: -3021.1845166660196\n",
            "8 -4.569044986778715 False\n",
            "7 -9.21539248558825 False\n",
            "4 -4.250813147599771 False\n",
            "9 -2.4969092474766588 False\n",
            "3 -5.895412073873364 False\n",
            "2 -6.841918956903541 False\n",
            "6 -8.093492715402329 False\n",
            "Episode 443, Total Reward: -1541.3629836136226\n",
            "9 -8.579293986144062 False\n",
            "3 -5.895412073873364 False\n",
            "5 -4.905091251117594 False\n",
            "8 -4.071101157390693 False\n",
            "6 -5.004577401674917 False\n",
            "7 -9.189377103453513 False\n",
            "1 -8.63933616755769 False\n",
            "4 -11.509995892926003 False\n",
            "Episode 444, Total Reward: -1057.7941850341376\n",
            "9 -8.579293986144062 False\n",
            "4 -2.4969092474766588 False\n",
            "1 -11.509995892926003 False\n",
            "3 -8.062794569850828 False\n",
            "6 -6.75623719662853 False\n",
            "8 -5.004577401674917 False\n",
            "2 -8.192416453410834 False\n",
            "Episode 445, Total Reward: -1550.602224748112\n",
            "1 -2.2601094764485308 False\n",
            "6 -2.0415606574273 False\n",
            "3 -6.75623719662853 False\n",
            "5 -4.905091251117594 False\n",
            "9 -6.591803321334266 False\n",
            "Episode 446, Total Reward: -2522.554801902956\n",
            "4 -10.843880223714587 False\n",
            "6 -11.374743052916678 False\n",
            "8 -5.004577401674917 False\n",
            "5 -4.071101157390693 False\n",
            "9 -6.591803321334266 False\n",
            "Episode 447, Total Reward: -2537.886105157031\n",
            "3 -6.226340755216833 False\n",
            "4 -6.980965374268762 False\n",
            "6 -11.374743052916678 False\n",
            "1 -2.0415606574273 False\n",
            "7 -8.63933616755769 False\n",
            "8 -9.21539248558825 False\n",
            "Episode 448, Total Reward: -2044.4783384929754\n",
            "5 -1.9895625089960105 False\n",
            "7 -6.890753875802023 False\n",
            "9 -2.3673957673885857 False\n",
            "3 -5.895412073873364 False\n",
            "8 -2.6150299035155595 False\n",
            "6 -5.004577401674917 False\n",
            "2 -8.093492715402329 False\n",
            "Episode 449, Total Reward: -1532.8562242466528\n",
            "4 -10.843880223714587 False\n",
            "3 -6.980965374268762 False\n",
            "5 -4.905091251117594 False\n",
            "9 -6.591803321334266 False\n",
            "7 -2.3673957673885857 False\n",
            "1 -8.63933616755769 False\n",
            "6 -2.0415606574273 False\n",
            "Episode 450, Total Reward: -1542.3700327628087\n",
            "7 -8.756186467218008 False\n"
          ]
        },
        {
          "output_type": "stream",
          "name": "stderr",
          "text": [
            "WARNING:absl:Skipping variable loading for optimizer 'Adam', because it has 13 variables whereas the saved optimizer has 1 variables. \n",
            "WARNING:absl:Skipping variable loading for optimizer 'Adam', because it has 13 variables whereas the saved optimizer has 1 variables. \n"
          ]
        },
        {
          "output_type": "stream",
          "name": "stdout",
          "text": [
            "4 -4.250813147599771 False\n",
            "2 -4.585675628012074 False\n"
          ]
        },
        {
          "output_type": "stream",
          "name": "stderr",
          "text": [
            "WARNING:absl:Skipping variable loading for optimizer 'Adam', because it has 13 variables whereas the saved optimizer has 1 variables. \n",
            "WARNING:absl:Skipping variable loading for optimizer 'Adam', because it has 13 variables whereas the saved optimizer has 1 variables. \n"
          ]
        },
        {
          "output_type": "stream",
          "name": "stdout",
          "text": [
            "3 -6.841918956903541 False\n",
            "9 -5.895412073873364 False\n"
          ]
        },
        {
          "output_type": "stream",
          "name": "stderr",
          "text": [
            "WARNING:absl:Skipping variable loading for optimizer 'Adam', because it has 13 variables whereas the saved optimizer has 1 variables. \n",
            "WARNING:absl:Skipping variable loading for optimizer 'Adam', because it has 13 variables whereas the saved optimizer has 1 variables. \n"
          ]
        },
        {
          "output_type": "stream",
          "name": "stdout",
          "text": [
            "8 -7.853704773177191 False\n",
            "1 -6.742121402603406 False\n"
          ]
        },
        {
          "output_type": "stream",
          "name": "stderr",
          "text": [
            "WARNING:absl:Skipping variable loading for optimizer 'Adam', because it has 13 variables whereas the saved optimizer has 1 variables. \n"
          ]
        },
        {
          "output_type": "stream",
          "name": "stdout",
          "text": [
            "Episode 451, Total Reward: -1544.9258324493874\n",
            "6 -0.557563640416601 False\n",
            "3 -6.75623719662853 False\n",
            "1 -8.062794569850828 False\n",
            "8 -6.742121402603406 False\n",
            "5 -4.071101157390693 False\n",
            "9 -6.591803321334266 False\n",
            "Episode 452, Total Reward: -2032.7816212882244\n",
            "1 -2.2601094764485308 False\n",
            "5 -3.2013328857401957 False\n",
            "6 -2.5146136553162997 False\n",
            "8 -5.004577401674917 False\n",
            "9 -7.853704773177191 False\n",
            "3 -5.895412073873364 False\n",
            "2 -6.841918956903541 False\n",
            "Episode 453, Total Reward: -1533.571669223134\n",
            "7 -8.756186467218008 False\n",
            "3 -7.705775893101598 False\n",
            "9 -5.895412073873364 False\n",
            "6 -9.089599829761081 False\n",
            "8 -5.004577401674917 False\n",
            "1 -6.742121402603406 False\n",
            "Episode 454, Total Reward: -2043.1936730682326\n",
            "7 -8.756186467218008 False\n",
            "1 -8.63933616755769 False\n",
            "6 -2.0415606574273 False\n",
            "5 -2.5146136553162997 False\n",
            "3 -4.905091251117594 False\n",
            "9 -5.895412073873364 False\n",
            "4 -2.4969092474766588 False\n",
            "Episode 455, Total Reward: -1535.2491095199869\n",
            "6 -0.557563640416601 False\n",
            "3 -6.75623719662853 False\n",
            "9 -5.895412073873364 False\n",
            "8 -7.853704773177191 False\n",
            "Episode 456, Total Reward: -3021.0629176840957\n",
            "6 -0.557563640416601 False\n",
            "1 -2.0415606574273 False\n",
            "7 -8.63933616755769 False\n",
            "8 -9.21539248558825 False\n",
            "9 -7.853704773177191 False\n",
            "4 -2.4969092474766588 False\n",
            "5 -8.86012987256621 False\n",
            "Episode 457, Total Reward: -1539.6645968442099\n",
            "1 -2.2601094764485308 False\n",
            "3 -8.062794569850828 False\n",
            "7 -7.705775893101598 False\n",
            "5 -6.890753875802023 False\n",
            "6 -2.5146136553162997 False\n",
            "9 -9.089599829761081 False\n",
            "8 -7.853704773177191 False\n",
            "Episode 458, Total Reward: -1544.3773520734576\n",
            "9 -8.579293986144062 False\n",
            "8 -7.853704773177191 False\n",
            "4 -9.351745191179539 False\n",
            "7 -4.250813147599771 False\n",
            "5 -6.890753875802023 False\n",
            "3 -4.905091251117594 False\n",
            "1 -8.062794569850828 False\n",
            "6 -2.0415606574273 False\n",
            "Episode 459, Total Reward: -1051.9357574522983\n",
            "5 -1.9895625089960105 False\n",
            "8 -4.071101157390693 False\n",
            "3 -2.6150299035155595 False\n",
            "9 -5.895412073873364 False\n",
            "4 -2.4969092474766588 False\n",
            "1 -11.509995892926003 False\n",
            "Episode 460, Total Reward: -2028.5780107841783\n",
            "4 -10.843880223714587 False\n"
          ]
        },
        {
          "output_type": "stream",
          "name": "stderr",
          "text": [
            "WARNING:absl:Skipping variable loading for optimizer 'Adam', because it has 13 variables whereas the saved optimizer has 1 variables. \n",
            "WARNING:absl:Skipping variable loading for optimizer 'Adam', because it has 13 variables whereas the saved optimizer has 1 variables. \n"
          ]
        },
        {
          "output_type": "stream",
          "name": "stdout",
          "text": [
            "9 -2.4969092474766588 False\n"
          ]
        },
        {
          "output_type": "stream",
          "name": "stderr",
          "text": [
            "WARNING:absl:Skipping variable loading for optimizer 'Adam', because it has 13 variables whereas the saved optimizer has 1 variables. \n"
          ]
        },
        {
          "output_type": "stream",
          "name": "stdout",
          "text": [
            "3 -5.895412073873364 False\n",
            "8 -2.6150299035155595 False\n"
          ]
        },
        {
          "output_type": "stream",
          "name": "stderr",
          "text": [
            "WARNING:absl:Skipping variable loading for optimizer 'Adam', because it has 13 variables whereas the saved optimizer has 1 variables. \n",
            "WARNING:absl:Skipping variable loading for optimizer 'Adam', because it has 13 variables whereas the saved optimizer has 1 variables. \n"
          ]
        },
        {
          "output_type": "stream",
          "name": "stdout",
          "text": [
            "2 -8.192416453410834 False\n",
            "6 -8.093492715402329 False\n"
          ]
        },
        {
          "output_type": "stream",
          "name": "stderr",
          "text": [
            "WARNING:absl:Skipping variable loading for optimizer 'Adam', because it has 13 variables whereas the saved optimizer has 1 variables. \n",
            "WARNING:absl:Skipping variable loading for optimizer 'Adam', because it has 13 variables whereas the saved optimizer has 1 variables. \n"
          ]
        },
        {
          "output_type": "stream",
          "name": "stdout",
          "text": [
            "5 -2.5146136553162997 False\n",
            "Episode 461, Total Reward: -1540.6517542727097\n",
            "7 -8.756186467218008 False\n",
            "8 -9.21539248558825 False\n",
            "5 -4.071101157390693 False\n",
            "2 -5.77799343429354 False\n",
            "3 -6.841918956903541 False\n",
            "Episode 462, Total Reward: -2534.662592501394\n",
            "5 -1.9895625089960105 False\n",
            "4 -8.86012987256621 False\n",
            "7 -4.250813147599771 False\n",
            "9 -2.3673957673885857 False\n",
            "2 -2.2550833802954076 False\n",
            "1 -7.620784652302808 False\n",
            "6 -2.0415606574273 False\n",
            "Episode 463, Total Reward: -1529.3853299865762\n",
            "1 -2.2601094764485308 False\n",
            "3 -8.062794569850828 False\n",
            "5 -4.905091251117594 False\n",
            "4 -8.86012987256621 False\n",
            "2 -4.585675628012074 False\n",
            "8 -8.192416453410834 False\n",
            "Episode 464, Total Reward: -2036.866217251406\n",
            "8 -4.569044986778715 False\n",
            "7 -9.21539248558825 False\n",
            "2 -1.1138456925079876 False\n",
            "6 -8.093492715402329 False\n",
            "9 -9.089599829761081 False\n",
            "5 -6.591803321334266 False\n",
            "4 -8.86012987256621 False\n",
            "Episode 465, Total Reward: -1547.5333089039389\n",
            "3 -6.226340755216833 False\n",
            "5 -4.905091251117594 False\n",
            "7 -6.890753875802023 False\n",
            "4 -4.250813147599771 False\n",
            "8 -9.351745191179539 False\n",
            "1 -6.742121402603406 False\n",
            "6 -2.0415606574273 False\n",
            "Episode 466, Total Reward: -1540.4084262809465\n",
            "7 -8.756186467218008 False\n",
            "2 -1.1138456925079876 False\n",
            "1 -7.620784652302808 False\n",
            "5 -3.2013328857401957 False\n",
            "4 -8.86012987256621 False\n",
            "Episode 467, Total Reward: -2529.552279570335\n",
            "7 -8.756186467218008 False\n",
            "2 -1.1138456925079876 False\n",
            "9 -2.2550833802954076 False\n",
            "5 -6.591803321334266 False\n",
            "1 -3.2013328857401957 False\n",
            "8 -6.742121402603406 False\n",
            "6 -5.004577401674917 False\n",
            "Episode 468, Total Reward: -1533.6649505513742\n",
            "3 -6.226340755216833 False\n",
            "7 -7.705775893101598 False\n",
            "8 -9.21539248558825 False\n",
            "4 -9.351745191179539 False\n",
            "1 -11.509995892926003 False\n",
            "6 -2.0415606574273 False\n",
            "5 -2.5146136553162997 False\n",
            "Episode 469, Total Reward: -1548.5654245307558\n",
            "9 -8.579293986144062 False\n",
            "5 -6.591803321334266 False\n",
            "6 -2.5146136553162997 False\n",
            "1 -2.0415606574273 False\n",
            "3 -8.062794569850828 False\n",
            "7 -7.705775893101598 False\n",
            "Episode 470, Total Reward: -2035.4958420831742\n",
            "5 -1.9895625089960105 False\n"
          ]
        },
        {
          "output_type": "stream",
          "name": "stderr",
          "text": [
            "WARNING:absl:Skipping variable loading for optimizer 'Adam', because it has 13 variables whereas the saved optimizer has 1 variables. \n",
            "WARNING:absl:Skipping variable loading for optimizer 'Adam', because it has 13 variables whereas the saved optimizer has 1 variables. \n"
          ]
        },
        {
          "output_type": "stream",
          "name": "stdout",
          "text": [
            "6 -2.5146136553162997 False\n",
            "3 -6.75623719662853 False\n"
          ]
        },
        {
          "output_type": "stream",
          "name": "stderr",
          "text": [
            "WARNING:absl:Skipping variable loading for optimizer 'Adam', because it has 13 variables whereas the saved optimizer has 1 variables. \n",
            "WARNING:absl:Skipping variable loading for optimizer 'Adam', because it has 13 variables whereas the saved optimizer has 1 variables. \n"
          ]
        },
        {
          "output_type": "stream",
          "name": "stdout",
          "text": [
            "7 -7.705775893101598 False\n",
            "8 -9.21539248558825 False\n"
          ]
        },
        {
          "output_type": "stream",
          "name": "stderr",
          "text": [
            "WARNING:absl:Skipping variable loading for optimizer 'Adam', because it has 13 variables whereas the saved optimizer has 1 variables. \n",
            "WARNING:absl:Skipping variable loading for optimizer 'Adam', because it has 13 variables whereas the saved optimizer has 1 variables. \n"
          ]
        },
        {
          "output_type": "stream",
          "name": "stdout",
          "text": [
            "1 -6.742121402603406 False\n",
            "2 -7.620784652302808 False\n"
          ]
        },
        {
          "output_type": "stream",
          "name": "stderr",
          "text": [
            "WARNING:absl:Skipping variable loading for optimizer 'Adam', because it has 13 variables whereas the saved optimizer has 1 variables. \n"
          ]
        },
        {
          "output_type": "stream",
          "name": "stdout",
          "text": [
            "Episode 471, Total Reward: -1542.5444877945367\n",
            "4 -10.843880223714587 False\n",
            "7 -4.250813147599771 False\n",
            "9 -2.3673957673885857 False\n",
            "6 -9.089599829761081 False\n",
            "5 -2.5146136553162997 False\n",
            "8 -4.071101157390693 False\n",
            "1 -6.742121402603406 False\n",
            "Episode 472, Total Reward: -1539.8795251837746\n",
            "3 -6.226340755216833 False\n",
            "5 -4.905091251117594 False\n",
            "7 -6.890753875802023 False\n",
            "1 -8.63933616755769 False\n",
            "Episode 473, Total Reward: -3026.661522049694\n",
            "8 -4.569044986778715 False\n",
            "9 -7.853704773177191 False\n",
            "6 -9.089599829761081 False\n",
            "5 -2.5146136553162997 False\n",
            "7 -6.890753875802023 False\n",
            "1 -8.63933616755769 False\n",
            "Episode 474, Total Reward: -2039.557053288393\n",
            "1 -2.2601094764485308 False\n",
            "7 -8.63933616755769 False\n",
            "8 -9.21539248558825 False\n",
            "5 -4.071101157390693 False\n",
            "4 -8.86012987256621 False\n",
            "Episode 475, Total Reward: -2533.0460691595513\n",
            "6 -0.557563640416601 False\n",
            "1 -2.0415606574273 False\n",
            "2 -7.620784652302808 False\n",
            "5 -5.77799343429354 False\n",
            "4 -8.86012987256621 False\n",
            "3 -6.980965374268762 False\n",
            "Episode 476, Total Reward: -2031.8389976312753\n",
            "3 -6.226340755216833 False\n",
            "7 -7.705775893101598 False\n",
            "2 -1.1138456925079876 False\n",
            "8 -8.192416453410834 False\n",
            "5 -4.071101157390693 False\n",
            "Episode 477, Total Reward: -2527.309479951628\n",
            "7 -8.756186467218008 False\n",
            "5 -6.890753875802023 False\n",
            "1 -3.2013328857401957 False\n",
            "8 -6.742121402603406 False\n",
            "2 -8.192416453410834 False\n",
            "6 -8.093492715402329 False\n",
            "Episode 478, Total Reward: -2041.8763038001769\n",
            "6 -0.557563640416601 False\n",
            "8 -5.004577401674917 False\n",
            "2 -8.192416453410834 False\n",
            "7 -1.1138456925079876 False\n",
            "4 -4.250813147599771 False\n",
            "5 -8.86012987256621 False\n",
            "Episode 479, Total Reward: -2027.9793462081764\n",
            "3 -6.226340755216833 False\n",
            "9 -5.895412073873364 False\n",
            "4 -2.4969092474766588 False\n",
            "1 -11.509995892926003 False\n",
            "7 -8.63933616755769 False\n"
          ]
        },
        {
          "output_type": "stream",
          "name": "stderr",
          "text": [
            "WARNING:absl:Skipping variable loading for optimizer 'Adam', because it has 13 variables whereas the saved optimizer has 1 variables. \n"
          ]
        },
        {
          "output_type": "stream",
          "name": "stdout",
          "text": [
            "2 -1.1138456925079876 False\n",
            "Episode 480, Total Reward: -2035.8818398295584\n",
            "5 -1.9895625089960105 False\n",
            "2 -5.77799343429354 False\n"
          ]
        },
        {
          "output_type": "stream",
          "name": "stderr",
          "text": [
            "WARNING:absl:Skipping variable loading for optimizer 'Adam', because it has 13 variables whereas the saved optimizer has 1 variables. \n",
            "WARNING:absl:Skipping variable loading for optimizer 'Adam', because it has 13 variables whereas the saved optimizer has 1 variables. \n"
          ]
        },
        {
          "output_type": "stream",
          "name": "stdout",
          "text": [
            "7 -1.1138456925079876 False\n",
            "4 -4.250813147599771 False\n"
          ]
        },
        {
          "output_type": "stream",
          "name": "stderr",
          "text": [
            "WARNING:absl:Skipping variable loading for optimizer 'Adam', because it has 13 variables whereas the saved optimizer has 1 variables. \n",
            "WARNING:absl:Skipping variable loading for optimizer 'Adam', because it has 13 variables whereas the saved optimizer has 1 variables. \n"
          ]
        },
        {
          "output_type": "stream",
          "name": "stdout",
          "text": [
            "6 -11.374743052916678 False\n"
          ]
        },
        {
          "output_type": "stream",
          "name": "stderr",
          "text": [
            "WARNING:absl:Skipping variable loading for optimizer 'Adam', because it has 13 variables whereas the saved optimizer has 1 variables. \n"
          ]
        },
        {
          "output_type": "stream",
          "name": "stdout",
          "text": [
            "1 -2.0415606574273 False\n",
            "8 -6.742121402603406 False\n"
          ]
        },
        {
          "output_type": "stream",
          "name": "stderr",
          "text": [
            "WARNING:absl:Skipping variable loading for optimizer 'Adam', because it has 13 variables whereas the saved optimizer has 1 variables. \n"
          ]
        },
        {
          "output_type": "stream",
          "name": "stdout",
          "text": [
            "Episode 481, Total Reward: -1533.2906398963448\n",
            "9 -8.579293986144062 False\n",
            "3 -5.895412073873364 False\n",
            "8 -2.6150299035155595 False\n",
            "4 -9.351745191179539 False\n",
            "2 -4.585675628012074 False\n",
            "1 -7.620784652302808 False\n",
            "6 -2.0415606574273 False\n",
            "7 -9.189377103453513 False\n",
            "Episode 482, Total Reward: -1049.8788791959082\n",
            "1 -2.2601094764485308 False\n",
            "3 -8.062794569850828 False\n",
            "4 -6.980965374268762 False\n",
            "8 -9.351745191179539 False\n",
            "9 -7.853704773177191 False\n",
            "6 -9.089599829761081 False\n",
            "Episode 483, Total Reward: -2043.5989192146858\n",
            "8 -4.569044986778715 False\n",
            "6 -5.004577401674917 False\n",
            "3 -6.75623719662853 False\n",
            "9 -5.895412073873364 False\n",
            "7 -2.3673957673885857 False\n",
            "Episode 484, Total Reward: -2524.592667426344\n",
            "5 -1.9895625089960105 False\n",
            "6 -2.5146136553162997 False\n",
            "8 -5.004577401674917 False\n",
            "7 -9.21539248558825 False\n",
            "1 -8.63933616755769 False\n",
            "9 -9.070180154761154 False\n",
            "Episode 485, Total Reward: -2036.4336623738943\n",
            "7 -8.756186467218008 False\n",
            "5 -6.890753875802023 False\n",
            "4 -8.86012987256621 False\n",
            "3 -6.980965374268762 False\n",
            "8 -2.6150299035155595 False\n",
            "1 -6.742121402603406 False\n",
            "Episode 486, Total Reward: -2040.8451868959742\n",
            "4 -10.843880223714587 False\n",
            "8 -9.351745191179539 False\n",
            "9 -7.853704773177191 False\n",
            "3 -5.895412073873364 False\n",
            "1 -8.062794569850828 False\n",
            "Episode 487, Total Reward: -2542.0075368317953\n",
            "5 -1.9895625089960105 False\n",
            "6 -2.5146136553162997 False\n",
            "2 -8.093492715402329 False\n",
            "7 -1.1138456925079876 False\n",
            "9 -2.3673957673885857 False\n",
            "4 -2.4969092474766588 False\n",
            "Episode 488, Total Reward: -2018.575819587088\n",
            "7 -8.756186467218008 False\n",
            "1 -8.63933616755769 False\n",
            "4 -11.509995892926003 False\n",
            "5 -8.86012987256621 False\n",
            "8 -4.071101157390693 False\n",
            "Episode 489, Total Reward: -2541.836749557659\n",
            "2 -7.653020649610424 False\n",
            "3 -6.841918956903541 False\n",
            "1 -8.062794569850828 False\n",
            "7 -8.63933616755769 False\n",
            "6 -9.189377103453513 False\n",
            "4 -11.374743052916678 False\n",
            "8 -9.351745191179539 False\n",
            "9 -7.853704773177191 False\n",
            "Episode 490, Total Reward: -1068.9666404646496\n",
            "4 -10.843880223714587 False\n"
          ]
        },
        {
          "output_type": "stream",
          "name": "stderr",
          "text": [
            "WARNING:absl:Skipping variable loading for optimizer 'Adam', because it has 13 variables whereas the saved optimizer has 1 variables. \n",
            "WARNING:absl:Skipping variable loading for optimizer 'Adam', because it has 13 variables whereas the saved optimizer has 1 variables. \n"
          ]
        },
        {
          "output_type": "stream",
          "name": "stdout",
          "text": [
            "8 -9.351745191179539 False\n"
          ]
        },
        {
          "output_type": "stream",
          "name": "stderr",
          "text": [
            "WARNING:absl:Skipping variable loading for optimizer 'Adam', because it has 13 variables whereas the saved optimizer has 1 variables. \n"
          ]
        },
        {
          "output_type": "stream",
          "name": "stdout",
          "text": [
            "3 -2.6150299035155595 False\n"
          ]
        },
        {
          "output_type": "stream",
          "name": "stderr",
          "text": [
            "WARNING:absl:Skipping variable loading for optimizer 'Adam', because it has 13 variables whereas the saved optimizer has 1 variables. \n"
          ]
        },
        {
          "output_type": "stream",
          "name": "stdout",
          "text": [
            "5 -4.905091251117594 False\n",
            "9 -6.591803321334266 False\n"
          ]
        },
        {
          "output_type": "stream",
          "name": "stderr",
          "text": [
            "WARNING:absl:Skipping variable loading for optimizer 'Adam', because it has 13 variables whereas the saved optimizer has 1 variables. \n",
            "WARNING:absl:Skipping variable loading for optimizer 'Adam', because it has 13 variables whereas the saved optimizer has 1 variables. \n"
          ]
        },
        {
          "output_type": "stream",
          "name": "stdout",
          "text": [
            "2 -2.2550833802954076 False\n",
            "Episode 491, Total Reward: -2036.562633271157\n",
            "1 -2.2601094764485308 False\n",
            "2 -7.620784652302808 False\n",
            "7 -1.1138456925079876 False\n",
            "9 -2.3673957673885857 False\n",
            "5 -6.591803321334266 False\n",
            "Episode 492, Total Reward: -2519.9539389099823\n",
            "5 -1.9895625089960105 False\n",
            "2 -5.77799343429354 False\n",
            "4 -4.585675628012074 False\n",
            "7 -4.250813147599771 False\n",
            "1 -8.63933616755769 False\n",
            "8 -6.742121402603406 False\n",
            "Episode 493, Total Reward: -2031.9855022890624\n",
            "8 -4.569044986778715 False\n",
            "1 -6.742121402603406 False\n",
            "5 -3.2013328857401957 False\n",
            "9 -6.591803321334266 False\n",
            "Episode 494, Total Reward: -3021.1043025964564\n",
            "6 -0.557563640416601 False\n",
            "3 -6.75623719662853 False\n",
            "2 -6.841918956903541 False\n",
            "4 -4.585675628012074 False\n",
            "7 -4.250813147599771 False\n",
            "Episode 495, Total Reward: -2522.9922085695607\n",
            "6 -0.557563640416601 False\n",
            "8 -5.004577401674917 False\n",
            "9 -7.853704773177191 False\n",
            "7 -2.3673957673885857 False\n",
            "5 -6.890753875802023 False\n",
            "Episode 496, Total Reward: -2522.673995458459\n",
            "3 -6.226340755216833 False\n",
            "7 -7.705775893101598 False\n",
            "8 -9.21539248558825 False\n",
            "2 -8.192416453410834 False\n",
            "6 -8.093492715402329 False\n",
            "Episode 497, Total Reward: -2539.43341830272\n",
            "7 -8.756186467218008 False\n",
            "5 -6.890753875802023 False\n",
            "3 -4.905091251117594 False\n",
            "2 -6.841918956903541 False\n",
            "4 -4.585675628012074 False\n",
            "6 -11.374743052916678 False\n",
            "Episode 498, Total Reward: -2043.35436923197\n",
            "8 -4.569044986778715 False\n",
            "5 -4.071101157390693 False\n",
            "1 -3.2013328857401957 False\n",
            "3 -8.062794569850828 False\n",
            "7 -7.705775893101598 False\n",
            "Episode 499, Total Reward: -2527.610049492862\n",
            "9 -8.579293986144062 False\n",
            "2 -2.2550833802954076 False\n",
            "8 -8.192416453410834 False\n",
            "4 -9.351745191179539 False\n",
            "6 -11.374743052916678 False\n",
            "7 -9.189377103453513 False\n"
          ]
        },
        {
          "output_type": "stream",
          "name": "stderr",
          "text": [
            "WARNING:absl:Skipping variable loading for optimizer 'Adam', because it has 13 variables whereas the saved optimizer has 1 variables. \n"
          ]
        },
        {
          "output_type": "stream",
          "name": "stdout",
          "text": [
            "Episode 500, Total Reward: -2048.9426591674\n",
            "2 -7.653020649610424 False\n"
          ]
        },
        {
          "output_type": "stream",
          "name": "stderr",
          "text": [
            "WARNING:absl:Skipping variable loading for optimizer 'Adam', because it has 13 variables whereas the saved optimizer has 1 variables. \n"
          ]
        },
        {
          "output_type": "stream",
          "name": "stdout",
          "text": [
            "9 -2.2550833802954076 False\n",
            "1 -9.070180154761154 False\n"
          ]
        },
        {
          "output_type": "stream",
          "name": "stderr",
          "text": [
            "WARNING:absl:Skipping variable loading for optimizer 'Adam', because it has 13 variables whereas the saved optimizer has 1 variables. \n",
            "WARNING:absl:Skipping variable loading for optimizer 'Adam', because it has 13 variables whereas the saved optimizer has 1 variables. \n"
          ]
        },
        {
          "output_type": "stream",
          "name": "stdout",
          "text": [
            "3 -8.062794569850828 False\n",
            "7 -7.705775893101598 False\n"
          ]
        },
        {
          "output_type": "stream",
          "name": "stderr",
          "text": [
            "WARNING:absl:Skipping variable loading for optimizer 'Adam', because it has 13 variables whereas the saved optimizer has 1 variables. \n",
            "WARNING:absl:Skipping variable loading for optimizer 'Adam', because it has 13 variables whereas the saved optimizer has 1 variables. \n"
          ]
        },
        {
          "output_type": "stream",
          "name": "stdout",
          "text": [
            "5 -6.890753875802023 False\n",
            "Episode 501, Total Reward: -2041.6376085234215\n",
            "5 -1.9895625089960105 False\n",
            "3 -4.905091251117594 False\n",
            "9 -5.895412073873364 False\n",
            "7 -2.3673957673885857 False\n",
            "2 -1.1138456925079876 False\n",
            "4 -4.585675628012074 False\n",
            "Episode 502, Total Reward: -2020.8569829218957\n",
            "9 -8.579293986144062 False\n",
            "3 -5.895412073873364 False\n",
            "8 -2.6150299035155595 False\n",
            "6 -5.004577401674917 False\n",
            "1 -2.0415606574273 False\n",
            "Episode 503, Total Reward: -2524.135874022635\n",
            "6 -0.557563640416601 False\n",
            "7 -9.189377103453513 False\n",
            "8 -9.21539248558825 False\n",
            "3 -2.6150299035155595 False\n",
            "2 -6.841918956903541 False\n",
            "1 -7.620784652302808 False\n",
            "Episode 504, Total Reward: -2036.0400667421802\n",
            "2 -7.653020649610424 False\n",
            "1 -7.620784652302808 False\n",
            "7 -8.63933616755769 False\n",
            "4 -4.250813147599771 False\n",
            "6 -11.374743052916678 False\n",
            "8 -5.004577401674917 False\n",
            "Episode 505, Total Reward: -2044.5432750716623\n",
            "4 -10.843880223714587 False\n",
            "2 -4.585675628012074 False\n",
            "1 -7.620784652302808 False\n",
            "7 -8.63933616755769 False\n",
            "6 -9.189377103453513 False\n",
            "3 -6.75623719662853 False\n",
            "9 -5.895412073873364 False\n",
            "Episode 506, Total Reward: -1553.5307030455426\n",
            "8 -4.569044986778715 False\n",
            "2 -8.192416453410834 False\n",
            "4 -4.585675628012074 False\n",
            "5 -8.86012987256621 False\n",
            "7 -6.890753875802023 False\n",
            "Episode 507, Total Reward: -2533.09802081657\n",
            "3 -6.226340755216833 False\n",
            "7 -7.705775893101598 False\n",
            "8 -9.21539248558825 False\n",
            "6 -5.004577401674917 False\n",
            "2 -8.093492715402329 False\n",
            "Episode 508, Total Reward: -2536.2455792509836\n",
            "7 -8.756186467218008 False\n",
            "9 -2.3673957673885857 False\n",
            "4 -2.4969092474766588 False\n",
            "1 -11.509995892926003 False\n",
            "8 -6.742121402603406 False\n",
            "Episode 509, Total Reward: -2531.8726087776126\n",
            "3 -6.226340755216833 False\n",
            "8 -2.6150299035155595 False\n",
            "9 -7.853704773177191 False\n",
            "1 -9.070180154761154 False\n",
            "6 -2.0415606574273 False\n"
          ]
        },
        {
          "output_type": "stream",
          "name": "stderr",
          "text": [
            "WARNING:absl:Skipping variable loading for optimizer 'Adam', because it has 13 variables whereas the saved optimizer has 1 variables. \n"
          ]
        },
        {
          "output_type": "stream",
          "name": "stdout",
          "text": [
            "4 -11.374743052916678 False\n",
            "Episode 510, Total Reward: -2039.181559297015\n",
            "4 -10.843880223714587 False\n"
          ]
        },
        {
          "output_type": "stream",
          "name": "stderr",
          "text": [
            "WARNING:absl:Skipping variable loading for optimizer 'Adam', because it has 13 variables whereas the saved optimizer has 1 variables. \n"
          ]
        },
        {
          "output_type": "stream",
          "name": "stdout",
          "text": [
            "2 -4.585675628012074 False\n",
            "8 -8.192416453410834 False\n"
          ]
        },
        {
          "output_type": "stream",
          "name": "stderr",
          "text": [
            "WARNING:absl:Skipping variable loading for optimizer 'Adam', because it has 13 variables whereas the saved optimizer has 1 variables. \n",
            "WARNING:absl:Skipping variable loading for optimizer 'Adam', because it has 13 variables whereas the saved optimizer has 1 variables. \n"
          ]
        },
        {
          "output_type": "stream",
          "name": "stdout",
          "text": [
            "9 -7.853704773177191 False\n",
            "7 -2.3673957673885857 False\n"
          ]
        },
        {
          "output_type": "stream",
          "name": "stderr",
          "text": [
            "WARNING:absl:Skipping variable loading for optimizer 'Adam', because it has 13 variables whereas the saved optimizer has 1 variables. \n",
            "WARNING:absl:Skipping variable loading for optimizer 'Adam', because it has 13 variables whereas the saved optimizer has 1 variables. \n"
          ]
        },
        {
          "output_type": "stream",
          "name": "stdout",
          "text": [
            "5 -6.890753875802023 False\n",
            "Episode 511, Total Reward: -2040.7338267215052\n",
            "2 -7.653020649610424 False\n",
            "1 -7.620784652302808 False\n",
            "5 -3.2013328857401957 False\n",
            "6 -2.5146136553162997 False\n",
            "4 -11.374743052916678 False\n",
            "Episode 512, Total Reward: -2532.3644948958863\n",
            "9 -8.579293986144062 False\n",
            "5 -6.591803321334266 False\n",
            "1 -3.2013328857401957 False\n",
            "7 -8.63933616755769 False\n",
            "2 -1.1138456925079876 False\n",
            "Episode 513, Total Reward: -2528.125612053284\n",
            "8 -4.569044986778715 False\n",
            "1 -6.742121402603406 False\n",
            "3 -8.062794569850828 False\n",
            "6 -6.75623719662853 False\n",
            "4 -11.374743052916678 False\n",
            "9 -2.4969092474766588 False\n",
            "Episode 514, Total Reward: -2040.0018504562547\n",
            "1 -2.2601094764485308 False\n",
            "6 -2.0415606574273 False\n",
            "2 -8.093492715402329 False\n",
            "7 -1.1138456925079876 False\n",
            "5 -6.890753875802023 False\n",
            "4 -8.86012987256621 False\n",
            "Episode 515, Total Reward: -2029.259892290154\n",
            "9 -8.579293986144062 False\n",
            "2 -2.2550833802954076 False\n",
            "6 -8.093492715402329 False\n",
            "4 -11.374743052916678 False\n",
            "7 -4.250813147599771 False\n",
            "5 -6.890753875802023 False\n",
            "Episode 516, Total Reward: -2041.4441801581602\n",
            "6 -0.557563640416601 False\n",
            "9 -9.089599829761081 False\n",
            "7 -2.3673957673885857 False\n",
            "8 -9.21539248558825 False\n",
            "5 -4.071101157390693 False\n",
            "1 -3.2013328857401957 False\n",
            "Episode 517, Total Reward: -2028.5023857662854\n",
            "7 -8.756186467218008 False\n",
            "2 -1.1138456925079876 False\n",
            "3 -6.841918956903541 False\n",
            "8 -2.6150299035155595 False\n",
            "4 -9.351745191179539 False\n",
            "Episode 518, Total Reward: -2528.6787262113244\n",
            "6 -0.557563640416601 False\n",
            "4 -11.374743052916678 False\n",
            "5 -8.86012987256621 False\n",
            "8 -4.071101157390693 False\n",
            "2 -8.192416453410834 False\n",
            "Episode 519, Total Reward: -2533.055954176701\n",
            "9 -8.579293986144062 False\n",
            "3 -5.895412073873364 False\n",
            "6 -6.75623719662853 False\n",
            "8 -5.004577401674917 False\n",
            "5 -4.071101157390693 False\n"
          ]
        },
        {
          "output_type": "stream",
          "name": "stderr",
          "text": [
            "WARNING:absl:Skipping variable loading for optimizer 'Adam', because it has 13 variables whereas the saved optimizer has 1 variables. \n"
          ]
        },
        {
          "output_type": "stream",
          "name": "stdout",
          "text": [
            "Episode 520, Total Reward: -2530.306621815712\n",
            "6 -0.557563640416601 False\n"
          ]
        },
        {
          "output_type": "stream",
          "name": "stderr",
          "text": [
            "WARNING:absl:Skipping variable loading for optimizer 'Adam', because it has 13 variables whereas the saved optimizer has 1 variables. \n"
          ]
        },
        {
          "output_type": "stream",
          "name": "stdout",
          "text": [
            "5 -2.5146136553162997 False\n",
            "9 -6.591803321334266 False\n"
          ]
        },
        {
          "output_type": "stream",
          "name": "stderr",
          "text": [
            "WARNING:absl:Skipping variable loading for optimizer 'Adam', because it has 13 variables whereas the saved optimizer has 1 variables. \n",
            "WARNING:absl:Skipping variable loading for optimizer 'Adam', because it has 13 variables whereas the saved optimizer has 1 variables. \n"
          ]
        },
        {
          "output_type": "stream",
          "name": "stdout",
          "text": [
            "7 -2.3673957673885857 False\n"
          ]
        },
        {
          "output_type": "stream",
          "name": "stderr",
          "text": [
            "WARNING:absl:Skipping variable loading for optimizer 'Adam', because it has 13 variables whereas the saved optimizer has 1 variables. \n"
          ]
        },
        {
          "output_type": "stream",
          "name": "stdout",
          "text": [
            "2 -1.1138456925079876 False\n"
          ]
        },
        {
          "output_type": "stream",
          "name": "stderr",
          "text": [
            "WARNING:absl:Skipping variable loading for optimizer 'Adam', because it has 13 variables whereas the saved optimizer has 1 variables. \n"
          ]
        },
        {
          "output_type": "stream",
          "name": "stdout",
          "text": [
            "4 -4.585675628012074 False\n",
            "Episode 521, Total Reward: -2017.7308977049759\n",
            "4 -10.843880223714587 False\n",
            "6 -11.374743052916678 False\n",
            "7 -9.189377103453513 False\n",
            "1 -8.63933616755769 False\n",
            "Episode 522, Total Reward: -3040.0473365476428\n",
            "9 -8.579293986144062 False\n",
            "5 -6.591803321334266 False\n",
            "2 -5.77799343429354 False\n",
            "3 -6.841918956903541 False\n",
            "6 -6.75623719662853 False\n",
            "Episode 523, Total Reward: -2534.547246895304\n",
            "6 -0.557563640416601 False\n",
            "5 -2.5146136553162997 False\n",
            "9 -6.591803321334266 False\n",
            "1 -9.070180154761154 False\n",
            "2 -7.620784652302808 False\n",
            "Episode 524, Total Reward: -2526.354945424131\n",
            "3 -6.226340755216833 False\n",
            "4 -6.980965374268762 False\n",
            "2 -4.585675628012074 False\n",
            "5 -5.77799343429354 False\n",
            "6 -2.5146136553162997 False\n",
            "9 -9.089599829761081 False\n",
            "Episode 525, Total Reward: -2035.1751886768684\n",
            "1 -2.2601094764485308 False\n",
            "4 -11.509995892926003 False\n",
            "5 -8.86012987256621 False\n",
            "3 -4.905091251117594 False\n",
            "6 -6.75623719662853 False\n",
            "2 -8.093492715402329 False\n",
            "8 -8.192416453410834 False\n",
            "9 -7.853704773177191 False\n",
            "Episode 526, Total Reward: -1058.4311776316774\n",
            "5 -1.9895625089960105 False\n",
            "6 -2.5146136553162997 False\n",
            "7 -9.189377103453513 False\n",
            "4 -4.250813147599771 False\n",
            "Episode 527, Total Reward: -3017.944366415366\n",
            "6 -0.557563640416601 False\n",
            "2 -8.093492715402329 False\n",
            "4 -4.585675628012074 False\n",
            "1 -11.509995892926003 False\n",
            "7 -8.63933616755769 False\n",
            "5 -6.890753875802023 False\n",
            "Episode 528, Total Reward: -2040.2768179201166\n",
            "7 -8.756186467218008 False\n",
            "5 -6.890753875802023 False\n",
            "2 -5.77799343429354 False\n",
            "1 -7.620784652302808 False\n",
            "6 -2.0415606574273 False\n",
            "Episode 529, Total Reward: -2531.0872790870435\n",
            "8 -4.569044986778715 False\n",
            "3 -2.6150299035155595 False\n",
            "5 -4.905091251117594 False\n",
            "2 -5.77799343429354 False\n",
            "1 -7.620784652302808 False\n",
            "7 -8.63933616755769 False\n",
            "Episode 530, Total Reward: -2034.127280395566\n",
            "2 -7.653020649610424 False\n"
          ]
        },
        {
          "output_type": "stream",
          "name": "stderr",
          "text": [
            "WARNING:absl:Skipping variable loading for optimizer 'Adam', because it has 13 variables whereas the saved optimizer has 1 variables. \n",
            "WARNING:absl:Skipping variable loading for optimizer 'Adam', because it has 13 variables whereas the saved optimizer has 1 variables. \n"
          ]
        },
        {
          "output_type": "stream",
          "name": "stdout",
          "text": [
            "5 -5.77799343429354 False\n"
          ]
        },
        {
          "output_type": "stream",
          "name": "stderr",
          "text": [
            "WARNING:absl:Skipping variable loading for optimizer 'Adam', because it has 13 variables whereas the saved optimizer has 1 variables. \n"
          ]
        },
        {
          "output_type": "stream",
          "name": "stdout",
          "text": [
            "9 -6.591803321334266 False\n",
            "7 -2.3673957673885857 False\n"
          ]
        },
        {
          "output_type": "stream",
          "name": "stderr",
          "text": [
            "WARNING:absl:Skipping variable loading for optimizer 'Adam', because it has 13 variables whereas the saved optimizer has 1 variables. \n",
            "WARNING:absl:Skipping variable loading for optimizer 'Adam', because it has 13 variables whereas the saved optimizer has 1 variables. \n"
          ]
        },
        {
          "output_type": "stream",
          "name": "stdout",
          "text": [
            "4 -4.250813147599771 False\n"
          ]
        },
        {
          "output_type": "stream",
          "name": "stderr",
          "text": [
            "WARNING:absl:Skipping variable loading for optimizer 'Adam', because it has 13 variables whereas the saved optimizer has 1 variables. \n"
          ]
        },
        {
          "output_type": "stream",
          "name": "stdout",
          "text": [
            "1 -11.509995892926003 False\n",
            "Episode 531, Total Reward: -2038.1510222131526\n",
            "3 -6.226340755216833 False\n",
            "9 -5.895412073873364 False\n",
            "5 -6.591803321334266 False\n",
            "8 -4.071101157390693 False\n",
            "Episode 532, Total Reward: -3022.7846573078155\n",
            "9 -8.579293986144062 False\n",
            "1 -9.070180154761154 False\n",
            "6 -2.0415606574273 False\n",
            "2 -8.093492715402329 False\n",
            "4 -4.585675628012074 False\n",
            "7 -4.250813147599771 False\n",
            "8 -9.21539248558825 False\n",
            "Episode 533, Total Reward: -1545.8364087749349\n",
            "7 -8.756186467218008 False\n",
            "8 -9.21539248558825 False\n",
            "9 -7.853704773177191 False\n",
            "2 -2.2550833802954076 False\n",
            "6 -8.093492715402329 False\n",
            "3 -6.75623719662853 False\n",
            "5 -4.905091251117594 False\n",
            "Episode 534, Total Reward: -1547.8351882694271\n",
            "7 -8.756186467218008 False\n",
            "2 -1.1138456925079876 False\n",
            "3 -6.841918956903541 False\n",
            "6 -6.75623719662853 False\n",
            "1 -2.0415606574273 False\n",
            "9 -9.070180154761154 False\n",
            "4 -2.4969092474766588 False\n",
            "Episode 535, Total Reward: -1537.0768383729232\n",
            "5 -1.9895625089960105 False\n",
            "8 -4.071101157390693 False\n",
            "3 -2.6150299035155595 False\n",
            "9 -5.895412073873364 False\n",
            "6 -9.089599829761081 False\n",
            "4 -11.374743052916678 False\n",
            "Episode 536, Total Reward: -2035.0354485264534\n",
            "7 -8.756186467218008 False\n",
            "1 -8.63933616755769 False\n",
            "9 -9.070180154761154 False\n",
            "3 -5.895412073873364 False\n",
            "8 -2.6150299035155595 False\n",
            "4 -9.351745191179539 False\n",
            "Episode 537, Total Reward: -2044.3278899581053\n",
            "6 -0.557563640416601 False\n",
            "2 -8.093492715402329 False\n",
            "4 -4.585675628012074 False\n",
            "3 -6.980965374268762 False\n",
            "1 -8.062794569850828 False\n",
            "Episode 538, Total Reward: -2528.2804919279506\n",
            "9 -8.579293986144062 False\n",
            "7 -2.3673957673885857 False\n",
            "5 -6.890753875802023 False\n",
            "3 -4.905091251117594 False\n",
            "4 -6.980965374268762 False\n",
            "2 -4.585675628012074 False\n",
            "Episode 539, Total Reward: -2034.3091758827331\n",
            "5 -1.9895625089960105 False\n",
            "1 -3.2013328857401957 False\n",
            "8 -6.742121402603406 False\n",
            "9 -7.853704773177191 False\n",
            "6 -9.089599829761081 False\n",
            "4 -11.374743052916678 False\n",
            "Episode 540, Total Reward: -2040.2510644531947\n",
            "8 -4.569044986778715 False\n"
          ]
        },
        {
          "output_type": "stream",
          "name": "stderr",
          "text": [
            "WARNING:absl:Skipping variable loading for optimizer 'Adam', because it has 13 variables whereas the saved optimizer has 1 variables. \n",
            "WARNING:absl:Skipping variable loading for optimizer 'Adam', because it has 13 variables whereas the saved optimizer has 1 variables. \n"
          ]
        },
        {
          "output_type": "stream",
          "name": "stdout",
          "text": [
            "4 -9.351745191179539 False\n",
            "2 -4.585675628012074 False\n"
          ]
        },
        {
          "output_type": "stream",
          "name": "stderr",
          "text": [
            "WARNING:absl:Skipping variable loading for optimizer 'Adam', because it has 13 variables whereas the saved optimizer has 1 variables. \n",
            "WARNING:absl:Skipping variable loading for optimizer 'Adam', because it has 13 variables whereas the saved optimizer has 1 variables. \n"
          ]
        },
        {
          "output_type": "stream",
          "name": "stdout",
          "text": [
            "7 -1.1138456925079876 False\n",
            "6 -9.189377103453513 False\n"
          ]
        },
        {
          "output_type": "stream",
          "name": "stderr",
          "text": [
            "WARNING:absl:Skipping variable loading for optimizer 'Adam', because it has 13 variables whereas the saved optimizer has 1 variables. \n",
            "WARNING:absl:Skipping variable loading for optimizer 'Adam', because it has 13 variables whereas the saved optimizer has 1 variables. \n"
          ]
        },
        {
          "output_type": "stream",
          "name": "stdout",
          "text": [
            "9 -9.089599829761081 False\n",
            "5 -6.591803321334266 False"
          ]
        },
        {
          "output_type": "stream",
          "name": "stderr",
          "text": [
            "WARNING:absl:Skipping variable loading for optimizer 'Adam', because it has 13 variables whereas the saved optimizer has 1 variables. \n"
          ]
        },
        {
          "output_type": "stream",
          "name": "stdout",
          "text": [
            "\n",
            "Episode 541, Total Reward: -1544.4910917530271\n",
            "9 -8.579293986144062 False\n",
            "7 -2.3673957673885857 False\n",
            "4 -4.250813147599771 False\n",
            "3 -6.980965374268762 False\n",
            "8 -2.6150299035155595 False\n",
            "6 -5.004577401674917 False\n",
            "2 -8.093492715402329 False\n",
            "Episode 542, Total Reward: -1537.891568295994\n",
            "2 -7.653020649610424 False\n",
            "9 -2.2550833802954076 False\n",
            "7 -2.3673957673885857 False\n",
            "8 -9.21539248558825 False\n",
            "6 -5.004577401674917 False\n",
            "1 -2.0415606574273 False\n",
            "5 -3.2013328857401957 False\n",
            "Episode 543, Total Reward: -1531.7383632277251\n",
            "6 -0.557563640416601 False\n",
            "4 -11.374743052916678 False\n",
            "5 -8.86012987256621 False\n",
            "8 -4.071101157390693 False\n",
            "7 -9.21539248558825 False\n",
            "Episode 544, Total Reward: -2534.0789302088783\n",
            "7 -8.756186467218008 False\n",
            "4 -4.250813147599771 False\n",
            "3 -6.980965374268762 False\n",
            "9 -5.895412073873364 False\n",
            "1 -9.070180154761154 False\n",
            "Episode 545, Total Reward: -2534.953557217721\n",
            "2 -7.653020649610424 False\n",
            "4 -4.585675628012074 False\n",
            "3 -6.980965374268762 False\n",
            "1 -8.062794569850828 False\n",
            "8 -6.742121402603406 False\n",
            "Episode 546, Total Reward: -2534.0245776243455\n",
            "8 -4.569044986778715 False\n",
            "9 -7.853704773177191 False\n",
            "3 -5.895412073873364 False\n",
            "2 -6.841918956903541 False\n",
            "1 -7.620784652302808 False\n",
            "7 -8.63933616755769 False\n",
            "5 -6.890753875802023 False\n",
            "Episode 547, Total Reward: -1548.3109554863952\n",
            "5 -1.9895625089960105 False\n",
            "7 -6.890753875802023 False\n",
            "9 -2.3673957673885857 False\n",
            "4 -2.4969092474766588 False\n",
            "2 -4.585675628012074 False\n",
            "Episode 548, Total Reward: -2518.3302970276754\n",
            "5 -1.9895625089960105 False\n",
            "7 -6.890753875802023 False\n",
            "6 -9.189377103453513 False\n",
            "2 -8.093492715402329 False\n",
            "8 -8.192416453410834 False\n",
            "4 -9.351745191179539 False\n",
            "Episode 549, Total Reward: -2043.7073478482444\n",
            "2 -7.653020649610424 False\n",
            "6 -8.093492715402329 False\n",
            "9 -9.089599829761081 False\n",
            "4 -2.4969092474766588 False\n",
            "7 -4.250813147599771 False\n"
          ]
        },
        {
          "output_type": "stream",
          "name": "stderr",
          "text": [
            "WARNING:absl:Skipping variable loading for optimizer 'Adam', because it has 13 variables whereas the saved optimizer has 1 variables. \n"
          ]
        },
        {
          "output_type": "stream",
          "name": "stdout",
          "text": [
            "Episode 550, Total Reward: -2531.5838355898504\n",
            "1 -2.2601094764485308 False\n"
          ]
        },
        {
          "output_type": "stream",
          "name": "stderr",
          "text": [
            "WARNING:absl:Skipping variable loading for optimizer 'Adam', because it has 13 variables whereas the saved optimizer has 1 variables. \n"
          ]
        },
        {
          "output_type": "stream",
          "name": "stdout",
          "text": [
            "6 -2.0415606574273 False\n",
            "7 -9.189377103453513 False\n"
          ]
        },
        {
          "output_type": "stream",
          "name": "stderr",
          "text": [
            "WARNING:absl:Skipping variable loading for optimizer 'Adam', because it has 13 variables whereas the saved optimizer has 1 variables. \n",
            "WARNING:absl:Skipping variable loading for optimizer 'Adam', because it has 13 variables whereas the saved optimizer has 1 variables. \n"
          ]
        },
        {
          "output_type": "stream",
          "name": "stdout",
          "text": [
            "3 -7.705775893101598 False\n",
            "8 -2.6150299035155595 False\n"
          ]
        },
        {
          "output_type": "stream",
          "name": "stderr",
          "text": [
            "WARNING:absl:Skipping variable loading for optimizer 'Adam', because it has 13 variables whereas the saved optimizer has 1 variables. \n",
            "WARNING:absl:Skipping variable loading for optimizer 'Adam', because it has 13 variables whereas the saved optimizer has 1 variables. \n"
          ]
        },
        {
          "output_type": "stream",
          "name": "stdout",
          "text": [
            "5 -4.071101157390693 False\n",
            "9 -6.591803321334266 False\n"
          ]
        },
        {
          "output_type": "stream",
          "name": "stderr",
          "text": [
            "WARNING:absl:Skipping variable loading for optimizer 'Adam', because it has 13 variables whereas the saved optimizer has 1 variables. \n",
            "WARNING:absl:Skipping variable loading for optimizer 'Adam', because it has 13 variables whereas the saved optimizer has 1 variables. \n"
          ]
        },
        {
          "output_type": "stream",
          "name": "stdout",
          "text": [
            "4 -2.4969092474766588 False\n",
            "Episode 551, Total Reward: -1036.971666760148\n",
            "1 -2.2601094764485308 False\n",
            "4 -11.509995892926003 False\n",
            "8 -9.351745191179539 False\n",
            "7 -9.21539248558825 False\n",
            "Episode 552, Total Reward: -3032.3372430461422\n",
            "9 -8.579293986144062 False\n",
            "8 -7.853704773177191 False\n",
            "5 -4.071101157390693 False\n",
            "3 -4.905091251117594 False\n",
            "2 -6.841918956903541 False\n",
            "6 -8.093492715402329 False\n",
            "7 -9.189377103453513 False\n",
            "Episode 553, Total Reward: -1549.533979943589\n",
            "1 -2.2601094764485308 False\n",
            "2 -7.620784652302808 False\n",
            "9 -2.2550833802954076 False\n",
            "5 -6.591803321334266 False\n",
            "4 -8.86012987256621 False\n",
            "Episode 554, Total Reward: -2527.5879107029473\n",
            "2 -7.653020649610424 False\n",
            "7 -1.1138456925079876 False\n",
            "8 -9.21539248558825 False\n",
            "4 -9.351745191179539 False\n",
            "6 -11.374743052916678 False\n",
            "9 -9.089599829761081 False\n",
            "3 -5.895412073873364 False\n",
            "Episode 555, Total Reward: -1553.6937589754373\n",
            "1 -2.2601094764485308 False\n",
            "8 -6.742121402603406 False\n",
            "3 -2.6150299035155595 False\n",
            "2 -6.841918956903541 False\n",
            "4 -4.585675628012074 False\n",
            "9 -2.4969092474766588 False\n",
            "7 -2.3673957673885857 False\n",
            "Episode 556, Total Reward: -1527.9091603823483\n",
            "9 -8.579293986144062 False\n",
            "5 -6.591803321334266 False\n",
            "8 -4.071101157390693 False\n",
            "2 -8.192416453410834 False\n",
            "6 -8.093492715402329 False\n",
            "Episode 557, Total Reward: -2535.5281076336823\n",
            "8 -4.569044986778715 False\n",
            "1 -6.742121402603406 False\n",
            "7 -8.63933616755769 False\n",
            "4 -4.250813147599771 False\n",
            "3 -6.980965374268762 False\n",
            "5 -4.905091251117594 False\n",
            "Episode 558, Total Reward: -2036.087372329926\n",
            "4 -10.843880223714587 False\n",
            "9 -2.4969092474766588 False\n",
            "8 -7.853704773177191 False\n",
            "5 -4.071101157390693 False\n",
            "Episode 559, Total Reward: -3025.2655954017596\n",
            "6 -0.557563640416601 False\n",
            "8 -5.004577401674917 False\n",
            "4 -9.351745191179539 False\n",
            "9 -2.4969092474766588 False\n",
            "5 -6.591803321334266 False\n"
          ]
        },
        {
          "output_type": "stream",
          "name": "stderr",
          "text": [
            "WARNING:absl:Skipping variable loading for optimizer 'Adam', because it has 13 variables whereas the saved optimizer has 1 variables. \n"
          ]
        },
        {
          "output_type": "stream",
          "name": "stdout",
          "text": [
            "Episode 560, Total Reward: -2524.002598802082\n",
            "6 -0.557563640416601 False\n"
          ]
        },
        {
          "output_type": "stream",
          "name": "stderr",
          "text": [
            "WARNING:absl:Skipping variable loading for optimizer 'Adam', because it has 13 variables whereas the saved optimizer has 1 variables. \n"
          ]
        },
        {
          "output_type": "stream",
          "name": "stdout",
          "text": [
            "8 -5.004577401674917 False\n",
            "5 -4.071101157390693 False\n"
          ]
        },
        {
          "output_type": "stream",
          "name": "stderr",
          "text": [
            "WARNING:absl:Skipping variable loading for optimizer 'Adam', because it has 13 variables whereas the saved optimizer has 1 variables. \n",
            "WARNING:absl:Skipping variable loading for optimizer 'Adam', because it has 13 variables whereas the saved optimizer has 1 variables. \n"
          ]
        },
        {
          "output_type": "stream",
          "name": "stdout",
          "text": [
            "4 -8.86012987256621 False\n",
            "9 -2.4969092474766588 False\n"
          ]
        },
        {
          "output_type": "stream",
          "name": "stderr",
          "text": [
            "WARNING:absl:Skipping variable loading for optimizer 'Adam', because it has 13 variables whereas the saved optimizer has 1 variables. \n",
            "WARNING:absl:Skipping variable loading for optimizer 'Adam', because it has 13 variables whereas the saved optimizer has 1 variables. \n"
          ]
        },
        {
          "output_type": "stream",
          "name": "stdout",
          "text": [
            "2 -2.2550833802954076 False\n"
          ]
        },
        {
          "output_type": "stream",
          "name": "stderr",
          "text": [
            "WARNING:absl:Skipping variable loading for optimizer 'Adam', because it has 13 variables whereas the saved optimizer has 1 variables. \n"
          ]
        },
        {
          "output_type": "stream",
          "name": "stdout",
          "text": [
            "3 -6.841918956903541 False\n",
            "Episode 561, Total Reward: -1530.0872836567241\n",
            "4 -10.843880223714587 False\n",
            "8 -9.351745191179539 False\n",
            "3 -2.6150299035155595 False\n",
            "1 -8.062794569850828 False\n",
            "6 -2.0415606574273 False\n",
            "9 -9.089599829761081 False\n",
            "Episode 562, Total Reward: -2042.0046103754487\n",
            "3 -6.226340755216833 False\n",
            "7 -7.705775893101598 False\n",
            "2 -1.1138456925079876 False\n",
            "5 -5.77799343429354 False\n",
            "9 -6.591803321334266 False\n",
            "4 -2.4969092474766588 False\n",
            "6 -11.374743052916678 False\n",
            "Episode 563, Total Reward: -1541.2874113968476\n",
            "3 -6.226340755216833 False\n",
            "7 -7.705775893101598 False\n",
            "6 -9.189377103453513 False\n",
            "2 -8.093492715402329 False\n",
            "Episode 564, Total Reward: -3031.214986467174\n",
            "1 -2.2601094764485308 False\n",
            "3 -8.062794569850828 False\n",
            "5 -4.905091251117594 False\n",
            "7 -6.890753875802023 False\n",
            "2 -1.1138456925079876 False\n",
            "Episode 565, Total Reward: -2523.232594865727\n",
            "4 -10.843880223714587 False\n",
            "5 -8.86012987256621 False\n",
            "1 -3.2013328857401957 False\n",
            "3 -8.062794569850828 False\n",
            "7 -7.705775893101598 False\n",
            "Episode 566, Total Reward: -2538.6739134449736\n",
            "5 -1.9895625089960105 False\n",
            "1 -3.2013328857401957 False\n",
            "8 -6.742121402603406 False\n",
            "2 -8.192416453410834 False\n",
            "3 -6.841918956903541 False\n",
            "9 -5.895412073873364 False\n",
            "Episode 567, Total Reward: -2032.8627642815275\n",
            "9 -8.579293986144062 False\n",
            "1 -9.070180154761154 False\n",
            "6 -2.0415606574273 False\n",
            "3 -6.75623719662853 False\n",
            "8 -2.6150299035155595 False\n",
            "2 -8.192416453410834 False\n",
            "5 -5.77799343429354 False\n",
            "Episode 568, Total Reward: -1543.0327117861812\n",
            "5 -1.9895625089960105 False\n",
            "2 -5.77799343429354 False\n",
            "3 -6.841918956903541 False\n",
            "9 -5.895412073873364 False\n",
            "6 -9.089599829761081 False\n",
            "4 -11.374743052916678 False\n",
            "Episode 569, Total Reward: -2040.9692298567443\n",
            "2 -7.653020649610424 False\n",
            "1 -7.620784652302808 False\n",
            "6 -2.0415606574273 False\n",
            "9 -9.089599829761081 False\n",
            "5 -6.591803321334266 False\n",
            "8 -4.071101157390693 False\n",
            "Episode 570, Total Reward: -2037.0678702678267\n",
            "6 -0.557563640416601 False\n"
          ]
        },
        {
          "output_type": "stream",
          "name": "stderr",
          "text": [
            "WARNING:absl:Skipping variable loading for optimizer 'Adam', because it has 13 variables whereas the saved optimizer has 1 variables. \n",
            "WARNING:absl:Skipping variable loading for optimizer 'Adam', because it has 13 variables whereas the saved optimizer has 1 variables. \n"
          ]
        },
        {
          "output_type": "stream",
          "name": "stdout",
          "text": [
            "2 -8.093492715402329 False\n",
            "4 -4.585675628012074 False\n"
          ]
        },
        {
          "output_type": "stream",
          "name": "stderr",
          "text": [
            "WARNING:absl:Skipping variable loading for optimizer 'Adam', because it has 13 variables whereas the saved optimizer has 1 variables. \n",
            "WARNING:absl:Skipping variable loading for optimizer 'Adam', because it has 13 variables whereas the saved optimizer has 1 variables. \n"
          ]
        },
        {
          "output_type": "stream",
          "name": "stdout",
          "text": [
            "3 -6.980965374268762 False\n",
            "5 -4.905091251117594 False\n"
          ]
        },
        {
          "output_type": "stream",
          "name": "stderr",
          "text": [
            "WARNING:absl:Skipping variable loading for optimizer 'Adam', because it has 13 variables whereas the saved optimizer has 1 variables. \n",
            "WARNING:absl:Skipping variable loading for optimizer 'Adam', because it has 13 variables whereas the saved optimizer has 1 variables. \n"
          ]
        },
        {
          "output_type": "stream",
          "name": "stdout",
          "text": [
            "1 -3.2013328857401957 False\n",
            "8 -6.742121402603406 False\n"
          ]
        },
        {
          "output_type": "stream",
          "name": "stderr",
          "text": [
            "WARNING:absl:Skipping variable loading for optimizer 'Adam', because it has 13 variables whereas the saved optimizer has 1 variables. \n"
          ]
        },
        {
          "output_type": "stream",
          "name": "stdout",
          "text": [
            "Episode 571, Total Reward: -1535.066242897561\n",
            "9 -8.579293986144062 False\n",
            "8 -7.853704773177191 False\n",
            "2 -8.192416453410834 False\n",
            "4 -4.585675628012074 False\n",
            "7 -4.250813147599771 False\n",
            "6 -9.189377103453513 False\n",
            "Episode 572, Total Reward: -2042.6512810917977\n",
            "5 -1.9895625089960105 False\n",
            "8 -4.071101157390693 False\n",
            "4 -9.351745191179539 False\n",
            "9 -2.4969092474766588 False\n",
            "6 -9.089599829761081 False\n",
            "Episode 573, Total Reward: -2526.998917934804\n",
            "3 -6.226340755216833 False\n",
            "4 -6.980965374268762 False\n",
            "2 -4.585675628012074 False\n",
            "5 -5.77799343429354 False\n",
            "9 -6.591803321334266 False\n",
            "8 -7.853704773177191 False\n",
            "6 -5.004577401674917 False\n",
            "Episode 574, Total Reward: -1543.0210606879775\n",
            "9 -8.579293986144062 False\n",
            "4 -2.4969092474766588 False\n",
            "3 -6.980965374268762 False\n",
            "5 -4.905091251117594 False\n",
            "7 -6.890753875802023 False\n",
            "2 -1.1138456925079876 False\n",
            "Episode 575, Total Reward: -2030.966859427317\n",
            "9 -8.579293986144062 False\n",
            "8 -7.853704773177191 False\n",
            "7 -9.21539248558825 False\n",
            "2 -1.1138456925079876 False\n",
            "6 -8.093492715402329 False\n",
            "3 -6.75623719662853 False\n",
            "Episode 576, Total Reward: -2041.6119668494482\n",
            "6 -0.557563640416601 False\n",
            "8 -5.004577401674917 False\n",
            "7 -9.21539248558825 False\n",
            "3 -7.705775893101598 False\n",
            "2 -6.841918956903541 False\n",
            "5 -5.77799343429354 False\n",
            "4 -8.86012987256621 False\n",
            "Episode 577, Total Reward: -1543.963351684545\n",
            "7 -8.756186467218008 False\n",
            "6 -9.189377103453513 False\n",
            "9 -9.089599829761081 False\n",
            "1 -9.070180154761154 False\n",
            "4 -11.509995892926003 False\n",
            "5 -8.86012987256621 False\n",
            "3 -4.905091251117594 False\n",
            "Episode 578, Total Reward: -1561.3805605718035\n",
            "9 -8.579293986144062 False\n",
            "5 -6.591803321334266 False\n",
            "6 -2.5146136553162997 False\n",
            "8 -5.004577401674917 False\n",
            "2 -8.192416453410834 False\n",
            "1 -7.620784652302808 False\n",
            "Episode 579, Total Reward: -2038.503489470183\n",
            "5 -1.9895625089960105 False\n",
            "8 -4.071101157390693 False\n",
            "2 -8.192416453410834 False\n",
            "1 -7.620784652302808 False\n",
            "7 -8.63933616755769 False\n",
            "4 -4.250813147599771 False\n",
            "6 -11.374743052916678 False\n",
            "Episode 580, Total Reward: -1546.1387571401744\n",
            "2 -7.653020649610424 False\n"
          ]
        },
        {
          "output_type": "stream",
          "name": "stderr",
          "text": [
            "WARNING:absl:Skipping variable loading for optimizer 'Adam', because it has 13 variables whereas the saved optimizer has 1 variables. \n",
            "WARNING:absl:Skipping variable loading for optimizer 'Adam', because it has 13 variables whereas the saved optimizer has 1 variables. \n"
          ]
        },
        {
          "output_type": "stream",
          "name": "stdout",
          "text": [
            "3 -6.841918956903541 False\n",
            "1 -8.062794569850828 False\n"
          ]
        },
        {
          "output_type": "stream",
          "name": "stderr",
          "text": [
            "WARNING:absl:Skipping variable loading for optimizer 'Adam', because it has 13 variables whereas the saved optimizer has 1 variables. \n",
            "WARNING:absl:Skipping variable loading for optimizer 'Adam', because it has 13 variables whereas the saved optimizer has 1 variables. \n"
          ]
        },
        {
          "output_type": "stream",
          "name": "stdout",
          "text": [
            "4 -11.509995892926003 False\n"
          ]
        },
        {
          "output_type": "stream",
          "name": "stderr",
          "text": [
            "WARNING:absl:Skipping variable loading for optimizer 'Adam', because it has 13 variables whereas the saved optimizer has 1 variables. \n"
          ]
        },
        {
          "output_type": "stream",
          "name": "stdout",
          "text": [
            "6 -11.374743052916678 False\n",
            "5 -2.5146136553162997 False\n"
          ]
        },
        {
          "output_type": "stream",
          "name": "stderr",
          "text": [
            "WARNING:absl:Skipping variable loading for optimizer 'Adam', because it has 13 variables whereas the saved optimizer has 1 variables. \n"
          ]
        },
        {
          "output_type": "stream",
          "name": "stdout",
          "text": [
            "Episode 581, Total Reward: -2047.9570867775237\n",
            "7 -8.756186467218008 False\n",
            "1 -8.63933616755769 False\n",
            "4 -11.509995892926003 False\n",
            "6 -11.374743052916678 False\n",
            "9 -9.089599829761081 False\n",
            "2 -2.2550833802954076 False\n",
            "Episode 582, Total Reward: -2051.624944790675\n",
            "6 -0.557563640416601 False\n",
            "3 -6.75623719662853 False\n",
            "1 -8.062794569850828 False\n",
            "8 -6.742121402603406 False\n",
            "7 -9.21539248558825 False\n",
            "Episode 583, Total Reward: -2531.3341092950877\n",
            "7 -8.756186467218008 False\n",
            "6 -9.189377103453513 False\n",
            "8 -5.004577401674917 False\n",
            "1 -6.742121402603406 False\n",
            "4 -11.509995892926003 False\n",
            "3 -6.980965374268762 False\n",
            "9 -5.895412073873364 False\n",
            "Episode 584, Total Reward: -1554.078635716018\n",
            "9 -8.579293986144062 False\n",
            "6 -9.089599829761081 False\n",
            "3 -6.75623719662853 False\n",
            "5 -4.905091251117594 False\n",
            "1 -3.2013328857401957 False\n",
            "2 -7.620784652302808 False\n",
            "Episode 585, Total Reward: -2040.1523398016939\n",
            "6 -0.557563640416601 False\n",
            "7 -9.189377103453513 False\n",
            "1 -8.63933616755769 False\n",
            "4 -11.509995892926003 False\n",
            "9 -2.4969092474766588 False\n",
            "Episode 586, Total Reward: -2532.3931820518305\n",
            "6 -0.557563640416601 False\n",
            "9 -9.089599829761081 False\n",
            "2 -2.2550833802954076 False\n",
            "7 -1.1138456925079876 False\n",
            "8 -9.21539248558825 False\n",
            "1 -6.742121402603406 False\n",
            "Episode 587, Total Reward: -2028.9736064311728\n",
            "8 -4.569044986778715 False\n",
            "5 -4.071101157390693 False\n",
            "9 -6.591803321334266 False\n",
            "7 -2.3673957673885857 False\n",
            "1 -8.63933616755769 False\n",
            "6 -2.0415606574273 False\n",
            "4 -11.374743052916678 False\n",
            "Episode 588, Total Reward: -1539.6549851107939\n",
            "8 -4.569044986778715 False\n",
            "7 -9.21539248558825 False\n",
            "9 -2.3673957673885857 False\n",
            "2 -2.2550833802954076 False\n",
            "1 -7.620784652302808 False\n",
            "5 -3.2013328857401957 False\n",
            "6 -2.5146136553162997 False\n",
            "Episode 589, Total Reward: -1531.7436478134102\n",
            "7 -8.756186467218008 False\n",
            "8 -9.21539248558825 False\n",
            "3 -2.6150299035155595 False\n",
            "1 -8.062794569850828 False\n",
            "4 -11.509995892926003 False\n"
          ]
        },
        {
          "output_type": "stream",
          "name": "stderr",
          "text": [
            "WARNING:absl:Skipping variable loading for optimizer 'Adam', because it has 13 variables whereas the saved optimizer has 1 variables. \n"
          ]
        },
        {
          "output_type": "stream",
          "name": "stdout",
          "text": [
            "9 -2.4969092474766588 False\n",
            "Episode 590, Total Reward: -2042.6563085665753\n",
            "6 -0.557563640416601 False\n"
          ]
        },
        {
          "output_type": "stream",
          "name": "stderr",
          "text": [
            "WARNING:absl:Skipping variable loading for optimizer 'Adam', because it has 13 variables whereas the saved optimizer has 1 variables. \n"
          ]
        },
        {
          "output_type": "stream",
          "name": "stdout",
          "text": [
            "7 -9.189377103453513 False\n",
            "4 -4.250813147599771 False\n"
          ]
        },
        {
          "output_type": "stream",
          "name": "stderr",
          "text": [
            "WARNING:absl:Skipping variable loading for optimizer 'Adam', because it has 13 variables whereas the saved optimizer has 1 variables. \n",
            "WARNING:absl:Skipping variable loading for optimizer 'Adam', because it has 13 variables whereas the saved optimizer has 1 variables. \n"
          ]
        },
        {
          "output_type": "stream",
          "name": "stdout",
          "text": [
            "9 -2.4969092474766588 False\n",
            "8 -7.853704773177191 False\n"
          ]
        },
        {
          "output_type": "stream",
          "name": "stderr",
          "text": [
            "WARNING:absl:Skipping variable loading for optimizer 'Adam', because it has 13 variables whereas the saved optimizer has 1 variables. \n",
            "WARNING:absl:Skipping variable loading for optimizer 'Adam', because it has 13 variables whereas the saved optimizer has 1 variables. \n"
          ]
        },
        {
          "output_type": "stream",
          "name": "stdout",
          "text": [
            "2 -8.192416453410834 False\n",
            "Episode 591, Total Reward: -2032.5407843655346\n",
            "7 -8.756186467218008 False\n",
            "3 -7.705775893101598 False\n",
            "8 -2.6150299035155595 False\n",
            "9 -7.853704773177191 False\n",
            "6 -9.089599829761081 False\n",
            "4 -11.374743052916678 False\n",
            "Episode 592, Total Reward: -2047.3950399196901\n",
            "6 -0.557563640416601 False\n",
            "5 -2.5146136553162997 False\n",
            "3 -4.905091251117594 False\n",
            "7 -7.705775893101598 False\n",
            "9 -2.3673957673885857 False\n",
            "2 -2.2550833802954076 False\n",
            "8 -8.192416453410834 False\n",
            "4 -9.351745191179539 False\n",
            "Episode 593, Total Reward: -1037.8496852322266\n",
            "1 -2.2601094764485308 False\n",
            "7 -8.63933616755769 False\n",
            "5 -6.890753875802023 False\n",
            "3 -4.905091251117594 False\n",
            "8 -2.6150299035155595 False\n",
            "4 -9.351745191179539 False\n",
            "Episode 594, Total Reward: -2034.662065865621\n",
            "5 -1.9895625089960105 False\n",
            "1 -3.2013328857401957 False\n",
            "8 -6.742121402603406 False\n",
            "2 -8.192416453410834 False\n",
            "7 -1.1138456925079876 False\n",
            "6 -9.189377103453513 False\n",
            "9 -9.089599829761081 False\n",
            "Episode 595, Total Reward: -1539.518255876473\n",
            "3 -6.226340755216833 False\n",
            "2 -6.841918956903541 False\n",
            "1 -7.620784652302808 False\n",
            "5 -3.2013328857401957 False\n",
            "6 -2.5146136553162997 False\n",
            "9 -9.089599829761081 False\n",
            "8 -7.853704773177191 False\n",
            "4 -9.351745191179539 False\n",
            "Episode 596, Total Reward: -1052.7000406995974\n",
            "7 -8.756186467218008 False\n",
            "6 -9.189377103453513 False\n",
            "4 -11.374743052916678 False\n",
            "3 -6.980965374268762 False\n",
            "8 -2.6150299035155595 False\n",
            "5 -4.071101157390693 False\n",
            "2 -5.77799343429354 False\n",
            "Episode 597, Total Reward: -1548.7653964930566\n",
            "4 -10.843880223714587 False\n",
            "5 -8.86012987256621 False\n",
            "1 -3.2013328857401957 False\n",
            "6 -2.0415606574273 False\n",
            "8 -5.004577401674917 False\n",
            "9 -7.853704773177191 False\n",
            "7 -2.3673957673885857 False\n",
            "Episode 598, Total Reward: -1540.1725815816892\n",
            "3 -6.226340755216833 False\n",
            "8 -2.6150299035155595 False\n",
            "2 -8.192416453410834 False\n",
            "5 -5.77799343429354 False\n",
            "7 -6.890753875802023 False\n",
            "4 -4.250813147599771 False\n",
            "Episode 599, Total Reward: -2033.9533475698386\n",
            "8 -4.569044986778715 False\n",
            "3 -2.6150299035155595 False\n",
            "4 -6.980965374268762 False\n",
            "2 -4.585675628012074 False\n",
            "5 -5.77799343429354 False\n",
            "9 -6.591803321334266 False\n",
            "7 -2.3673957673885857 False\n"
          ]
        },
        {
          "output_type": "stream",
          "name": "stderr",
          "text": [
            "WARNING:absl:Skipping variable loading for optimizer 'Adam', because it has 13 variables whereas the saved optimizer has 1 variables. \n"
          ]
        },
        {
          "output_type": "stream",
          "name": "stdout",
          "text": [
            "Episode 600, Total Reward: -1533.4879084155914\n",
            "3 -6.226340755216833 False\n"
          ]
        },
        {
          "output_type": "stream",
          "name": "stderr",
          "text": [
            "WARNING:absl:Skipping variable loading for optimizer 'Adam', because it has 13 variables whereas the saved optimizer has 1 variables. \n"
          ]
        },
        {
          "output_type": "stream",
          "name": "stdout",
          "text": [
            "7 -7.705775893101598 False\n",
            "4 -4.250813147599771 False\n"
          ]
        },
        {
          "output_type": "stream",
          "name": "stderr",
          "text": [
            "WARNING:absl:Skipping variable loading for optimizer 'Adam', because it has 13 variables whereas the saved optimizer has 1 variables. \n",
            "WARNING:absl:Skipping variable loading for optimizer 'Adam', because it has 13 variables whereas the saved optimizer has 1 variables. \n"
          ]
        },
        {
          "output_type": "stream",
          "name": "stdout",
          "text": [
            "8 -9.351745191179539 False\n",
            "9 -7.853704773177191 False\n"
          ]
        },
        {
          "output_type": "stream",
          "name": "stderr",
          "text": [
            "WARNING:absl:Skipping variable loading for optimizer 'Adam', because it has 13 variables whereas the saved optimizer has 1 variables. \n"
          ]
        },
        {
          "output_type": "stream",
          "name": "stdout",
          "text": [
            "Episode 601, Total Reward: -2535.388379760275\n",
            "2 -7.653020649610424 False\n",
            "7 -1.1138456925079876 False\n",
            "4 -4.250813147599771 False\n",
            "5 -8.86012987256621 False\n",
            "8 -4.071101157390693 False\n",
            "9 -7.853704773177191 False\n",
            "3 -5.895412073873364 False\n",
            "Episode 602, Total Reward: -1539.6980273667257\n",
            "8 -4.569044986778715 False\n",
            "9 -7.853704773177191 False\n",
            "1 -9.070180154761154 False\n",
            "7 -8.63933616755769 False\n",
            "5 -6.890753875802023 False\n",
            "2 -5.77799343429354 False\n",
            "Episode 603, Total Reward: -2042.8010133923704\n",
            "4 -10.843880223714587 False\n",
            "1 -11.509995892926003 False\n",
            "3 -8.062794569850828 False\n",
            "8 -2.6150299035155595 False\n",
            "6 -5.004577401674917 False\n",
            "Episode 604, Total Reward: -2538.036277991682\n",
            "5 -1.9895625089960105 False\n",
            "6 -2.5146136553162997 False\n",
            "9 -9.089599829761081 False\n",
            "3 -5.895412073873364 False\n",
            "7 -7.705775893101598 False\n",
            "Episode 605, Total Reward: -2527.194963961048\n",
            "9 -8.579293986144062 False\n",
            "3 -5.895412073873364 False\n",
            "2 -6.841918956903541 False\n",
            "6 -8.093492715402329 False\n",
            "4 -11.374743052916678 False\n",
            "8 -9.351745191179539 False\n",
            "Episode 606, Total Reward: -2050.1366059764196\n",
            "9 -8.579293986144062 False\n",
            "3 -5.895412073873364 False\n",
            "7 -7.705775893101598 False\n",
            "5 -6.890753875802023 False\n",
            "1 -3.2013328857401957 False\n",
            "Episode 607, Total Reward: -2532.2725687146612\n",
            "5 -1.9895625089960105 False\n",
            "9 -6.591803321334266 False\n",
            "8 -7.853704773177191 False\n",
            "4 -9.351745191179539 False\n",
            "3 -6.980965374268762 False\n",
            "Episode 608, Total Reward: -2532.767781168956\n",
            "2 -7.653020649610424 False\n",
            "3 -6.841918956903541 False\n",
            "9 -5.895412073873364 False\n",
            "1 -9.070180154761154 False\n",
            "4 -11.509995892926003 False\n",
            "8 -9.351745191179539 False\n",
            "Episode 609, Total Reward: -2050.322272919254\n",
            "1 -2.2601094764485308 False\n",
            "3 -8.062794569850828 False\n",
            "9 -5.895412073873364 False\n",
            "5 -6.591803321334266 False\n",
            "2 -5.77799343429354 False\n",
            "Episode 610, Total Reward: -2528.5881128758006\n"
          ]
        },
        {
          "output_type": "stream",
          "name": "stderr",
          "text": [
            "WARNING:absl:Skipping variable loading for optimizer 'Adam', because it has 13 variables whereas the saved optimizer has 1 variables. \n"
          ]
        },
        {
          "output_type": "stream",
          "name": "stdout",
          "text": [
            "2 -7.653020649610424 False\n",
            "3 -6.841918956903541 False\n"
          ]
        },
        {
          "output_type": "stream",
          "name": "stderr",
          "text": [
            "WARNING:absl:Skipping variable loading for optimizer 'Adam', because it has 13 variables whereas the saved optimizer has 1 variables. \n",
            "WARNING:absl:Skipping variable loading for optimizer 'Adam', because it has 13 variables whereas the saved optimizer has 1 variables. \n"
          ]
        },
        {
          "output_type": "stream",
          "name": "stdout",
          "text": [
            "8 -2.6150299035155595 False\n"
          ]
        },
        {
          "output_type": "stream",
          "name": "stderr",
          "text": [
            "WARNING:absl:Skipping variable loading for optimizer 'Adam', because it has 13 variables whereas the saved optimizer has 1 variables. \n"
          ]
        },
        {
          "output_type": "stream",
          "name": "stdout",
          "text": [
            "6 -5.004577401674917 False\n",
            "Episode 611, Total Reward: -3022.1145469117046\n",
            "2 -7.653020649610424 False\n",
            "6 -8.093492715402329 False\n",
            "9 -9.089599829761081 False\n",
            "4 -2.4969092474766588 False\n",
            "7 -4.250813147599771 False\n",
            "3 -7.705775893101598 False\n",
            "1 -8.062794569850828 False\n",
            "8 -6.742121402603406 False\n",
            "Episode 612, Total Reward: -1054.094527455406\n",
            "1 -2.2601094764485308 False\n",
            "7 -8.63933616755769 False\n",
            "5 -6.890753875802023 False\n",
            "8 -4.071101157390693 False\n",
            "Episode 613, Total Reward: -3021.861300677199\n",
            "3 -6.226340755216833 False\n",
            "7 -7.705775893101598 False\n",
            "4 -4.250813147599771 False\n",
            "6 -11.374743052916678 False\n",
            "1 -2.0415606574273 False\n",
            "5 -3.2013328857401957 False\n",
            "2 -5.77799343429354 False\n",
            "Episode 614, Total Reward: -1540.578559826296\n",
            "5 -1.9895625089960105 False\n",
            "1 -3.2013328857401957 False\n",
            "9 -9.070180154761154 False\n",
            "6 -9.089599829761081 False\n",
            "2 -8.093492715402329 False\n",
            "3 -6.841918956903541 False\n",
            "4 -6.980965374268762 False\n",
            "Episode 615, Total Reward: -1545.267052425833\n",
            "8 -4.569044986778715 False\n",
            "9 -7.853704773177191 False\n",
            "1 -9.070180154761154 False\n",
            "5 -3.2013328857401957 False\n",
            "2 -5.77799343429354 False\n",
            "7 -1.1138456925079876 False\n",
            "6 -9.189377103453513 False\n",
            "3 -6.75623719662853 False\n",
            "Episode 616, Total Reward: -1047.5317162273407\n",
            "7 -8.756186467218008 False\n",
            "6 -9.189377103453513 False\n",
            "9 -9.089599829761081 False\n",
            "8 -7.853704773177191 False\n",
            "4 -9.351745191179539 False\n",
            "5 -8.86012987256621 False\n",
            "Episode 617, Total Reward: -2053.1007432373553\n",
            "8 -4.569044986778715 False\n",
            "2 -8.192416453410834 False\n",
            "5 -5.77799343429354 False\n",
            "9 -6.591803321334266 False\n",
            "3 -5.895412073873364 False\n",
            "4 -6.980965374268762 False\n",
            "6 -11.374743052916678 False\n",
            "Episode 618, Total Reward: -1549.3823786968762\n",
            "2 -7.653020649610424 False\n",
            "8 -8.192416453410834 False\n",
            "5 -4.071101157390693 False\n",
            "7 -6.890753875802023 False\n",
            "6 -9.189377103453513 False\n",
            "4 -11.374743052916678 False\n",
            "1 -11.509995892926003 False\n",
            "Episode 619, Total Reward: -1558.88140818551\n",
            "1 -2.2601094764485308 False\n",
            "6 -2.0415606574273 False\n",
            "4 -11.374743052916678 False\n",
            "9 -2.4969092474766588 False\n"
          ]
        },
        {
          "output_type": "stream",
          "name": "stderr",
          "text": [
            "WARNING:absl:Skipping variable loading for optimizer 'Adam', because it has 13 variables whereas the saved optimizer has 1 variables. \n"
          ]
        },
        {
          "output_type": "stream",
          "name": "stdout",
          "text": [
            "7 -2.3673957673885857 False\n",
            "Episode 620, Total Reward: -2520.540718201658\n",
            "6 -0.557563640416601 False\n"
          ]
        },
        {
          "output_type": "stream",
          "name": "stderr",
          "text": [
            "WARNING:absl:Skipping variable loading for optimizer 'Adam', because it has 13 variables whereas the saved optimizer has 1 variables. \n"
          ]
        },
        {
          "output_type": "stream",
          "name": "stdout",
          "text": [
            "4 -11.374743052916678 False\n",
            "2 -4.585675628012074 False\n"
          ]
        },
        {
          "output_type": "stream",
          "name": "stderr",
          "text": [
            "WARNING:absl:Skipping variable loading for optimizer 'Adam', because it has 13 variables whereas the saved optimizer has 1 variables. \n",
            "WARNING:absl:Skipping variable loading for optimizer 'Adam', because it has 13 variables whereas the saved optimizer has 1 variables. \n"
          ]
        },
        {
          "output_type": "stream",
          "name": "stdout",
          "text": [
            "1 -7.620784652302808 False\n",
            "8 -6.742121402603406 False\n"
          ]
        },
        {
          "output_type": "stream",
          "name": "stderr",
          "text": [
            "WARNING:absl:Skipping variable loading for optimizer 'Adam', because it has 13 variables whereas the saved optimizer has 1 variables. \n"
          ]
        },
        {
          "output_type": "stream",
          "name": "stdout",
          "text": [
            "Episode 621, Total Reward: -2530.8808883762513\n",
            "2 -7.653020649610424 False\n",
            "7 -1.1138456925079876 False\n",
            "9 -2.3673957673885857 False\n",
            "6 -9.089599829761081 False\n",
            "3 -6.75623719662853 False\n",
            "4 -6.980965374268762 False\n",
            "Episode 622, Total Reward: -2033.9610645101652\n",
            "8 -4.569044986778715 False\n",
            "6 -5.004577401674917 False\n",
            "3 -6.75623719662853 False\n",
            "2 -6.841918956903541 False\n",
            "4 -4.585675628012074 False\n",
            "1 -11.509995892926003 False\n",
            "Episode 623, Total Reward: -2039.267450062924\n",
            "6 -0.557563640416601 False\n",
            "1 -2.0415606574273 False\n",
            "4 -11.509995892926003 False\n",
            "8 -9.351745191179539 False\n",
            "9 -7.853704773177191 False\n",
            "2 -2.2550833802954076 False\n",
            "Episode 624, Total Reward: -2033.569653535422\n",
            "2 -7.653020649610424 False\n",
            "3 -6.841918956903541 False\n",
            "8 -2.6150299035155595 False\n",
            "9 -7.853704773177191 False\n",
            "4 -2.4969092474766588 False\n",
            "Episode 625, Total Reward: -2527.4605835306834\n",
            "6 -0.557563640416601 False\n",
            "4 -11.374743052916678 False\n",
            "5 -8.86012987256621 False\n",
            "7 -6.890753875802023 False\n",
            "3 -7.705775893101598 False\n",
            "9 -5.895412073873364 False\n",
            "Episode 626, Total Reward: -2041.2843784086763\n",
            "4 -10.843880223714587 False\n",
            "6 -11.374743052916678 False\n",
            "2 -8.093492715402329 False\n",
            "9 -2.2550833802954076 False\n",
            "1 -9.070180154761154 False\n",
            "8 -6.742121402603406 False\n",
            "5 -4.071101157390693 False\n",
            "Episode 627, Total Reward: -1552.4506020870842\n",
            "7 -8.756186467218008 False\n",
            "3 -7.705775893101598 False\n",
            "9 -5.895412073873364 False\n",
            "1 -9.070180154761154 False\n",
            "6 -2.0415606574273 False\n",
            "5 -2.5146136553162997 False\n",
            "2 -5.77799343429354 False\n",
            "Episode 628, Total Reward: -1541.7617223359914\n",
            "1 -2.2601094764485308 False\n",
            "3 -8.062794569850828 False\n",
            "8 -2.6150299035155595 False\n",
            "7 -9.21539248558825 False\n",
            "9 -2.3673957673885857 False\n",
            "6 -9.089599829761081 False\n",
            "Episode 629, Total Reward: -2033.6103220325529\n",
            "4 -10.843880223714587 False\n",
            "1 -11.509995892926003 False\n",
            "8 -6.742121402603406 False\n",
            "2 -8.192416453410834 False\n",
            "3 -6.841918956903541 False\n",
            "7 -7.705775893101598 False\n"
          ]
        },
        {
          "output_type": "stream",
          "name": "stderr",
          "text": [
            "WARNING:absl:Skipping variable loading for optimizer 'Adam', because it has 13 variables whereas the saved optimizer has 1 variables. \n"
          ]
        },
        {
          "output_type": "stream",
          "name": "stdout",
          "text": [
            "5 -6.890753875802023 False\n",
            "Episode 630, Total Reward: -1558.726862698462\n",
            "7 -8.756186467218008 False\n"
          ]
        },
        {
          "output_type": "stream",
          "name": "stderr",
          "text": [
            "WARNING:absl:Skipping variable loading for optimizer 'Adam', because it has 13 variables whereas the saved optimizer has 1 variables. \n"
          ]
        },
        {
          "output_type": "stream",
          "name": "stdout",
          "text": [
            "1 -8.63933616755769 False\n",
            "4 -11.509995892926003 False\n"
          ]
        },
        {
          "output_type": "stream",
          "name": "stderr",
          "text": [
            "WARNING:absl:Skipping variable loading for optimizer 'Adam', because it has 13 variables whereas the saved optimizer has 1 variables. \n",
            "WARNING:absl:Skipping variable loading for optimizer 'Adam', because it has 13 variables whereas the saved optimizer has 1 variables. \n"
          ]
        },
        {
          "output_type": "stream",
          "name": "stdout",
          "text": [
            "6 -11.374743052916678 False\n",
            "5 -2.5146136553162997 False\n"
          ]
        },
        {
          "output_type": "stream",
          "name": "stderr",
          "text": [
            "WARNING:absl:Skipping variable loading for optimizer 'Adam', because it has 13 variables whereas the saved optimizer has 1 variables. \n"
          ]
        },
        {
          "output_type": "stream",
          "name": "stdout",
          "text": [
            "Episode 631, Total Reward: -2542.7948752359343\n",
            "9 -8.579293986144062 False\n",
            "5 -6.591803321334266 False\n",
            "6 -2.5146136553162997 False\n",
            "2 -8.093492715402329 False\n",
            "4 -4.585675628012074 False\n",
            "7 -4.250813147599771 False\n",
            "Episode 632, Total Reward: -2034.6156924538088\n",
            "3 -6.226340755216833 False\n",
            "8 -2.6150299035155595 False\n",
            "1 -6.742121402603406 False\n",
            "4 -11.509995892926003 False\n",
            "7 -4.250813147599771 False\n",
            "5 -6.890753875802023 False\n",
            "9 -6.591803321334266 False\n",
            "2 -2.2550833802954076 False\n",
            "6 -8.093492715402329 True\n",
            "Episode 633, Total Reward: -555.7329980351122\n",
            "7 -8.756186467218008 False\n",
            "3 -7.705775893101598 False\n",
            "5 -4.905091251117594 False\n",
            "1 -3.2013328857401957 False\n",
            "2 -7.620784652302808 False\n",
            "4 -4.585675628012074 False\n",
            "Episode 634, Total Reward: -2036.7748467774923\n",
            "2 -7.653020649610424 False\n",
            "8 -8.192416453410834 False\n",
            "7 -9.21539248558825 False\n",
            "5 -6.890753875802023 False\n",
            "4 -8.86012987256621 False\n",
            "9 -2.4969092474766588 False\n",
            "Episode 635, Total Reward: -2043.3086225844543\n",
            "1 -2.2601094764485308 False\n",
            "7 -8.63933616755769 False\n",
            "5 -6.890753875802023 False\n",
            "8 -4.071101157390693 False\n",
            "4 -9.351745191179539 False\n",
            "3 -6.980965374268762 False\n",
            "Episode 636, Total Reward: -2038.1940112426473\n",
            "4 -10.843880223714587 False\n",
            "2 -4.585675628012074 False\n",
            "3 -6.841918956903541 False\n",
            "8 -2.6150299035155595 False\n",
            "9 -7.853704773177191 False\n",
            "6 -9.089599829761081 False\n",
            "Episode 637, Total Reward: -2041.8298093150838\n",
            "8 -4.569044986778715 False\n",
            "1 -6.742121402603406 False\n",
            "2 -7.620784652302808 False\n",
            "3 -6.841918956903541 False\n",
            "5 -4.905091251117594 False\n",
            "9 -6.591803321334266 False\n",
            "4 -2.4969092474766588 False\n",
            "7 -4.250813147599771 False\n",
            "Episode 638, Total Reward: -1044.0184869661166\n",
            "8 -4.569044986778715 False\n",
            "6 -5.004577401674917 False\n",
            "1 -2.0415606574273 False\n",
            "4 -11.509995892926003 False\n",
            "7 -4.250813147599771 False\n",
            "Episode 639, Total Reward: -2527.3759920864068\n",
            "5 -1.9895625089960105 False\n",
            "8 -4.071101157390693 False\n",
            "7 -9.21539248558825 False\n",
            "4 -4.250813147599771 False\n",
            "6 -11.374743052916678 False\n",
            "Episode 640, Total Reward: -2530.9016123524916\n",
            "6 -0.557563640416601 False\n"
          ]
        },
        {
          "output_type": "stream",
          "name": "stderr",
          "text": [
            "WARNING:absl:Skipping variable loading for optimizer 'Adam', because it has 13 variables whereas the saved optimizer has 1 variables. \n",
            "WARNING:absl:Skipping variable loading for optimizer 'Adam', because it has 13 variables whereas the saved optimizer has 1 variables. \n"
          ]
        },
        {
          "output_type": "stream",
          "name": "stdout",
          "text": [
            "3 -6.75623719662853 False\n"
          ]
        },
        {
          "output_type": "stream",
          "name": "stderr",
          "text": [
            "WARNING:absl:Skipping variable loading for optimizer 'Adam', because it has 13 variables whereas the saved optimizer has 1 variables. \n"
          ]
        },
        {
          "output_type": "stream",
          "name": "stdout",
          "text": [
            "4 -6.980965374268762 False\n"
          ]
        },
        {
          "output_type": "stream",
          "name": "stderr",
          "text": [
            "WARNING:absl:Skipping variable loading for optimizer 'Adam', because it has 13 variables whereas the saved optimizer has 1 variables. \n"
          ]
        },
        {
          "output_type": "stream",
          "name": "stdout",
          "text": [
            "7 -4.250813147599771 False\n",
            "Episode 641, Total Reward: -3018.5455793589135\n",
            "2 -7.653020649610424 False\n",
            "3 -6.841918956903541 False\n",
            "8 -2.6150299035155595 False\n",
            "9 -7.853704773177191 False\n",
            "Episode 642, Total Reward: -3024.9636742832063\n",
            "8 -4.569044986778715 False\n",
            "3 -2.6150299035155595 False\n",
            "5 -4.905091251117594 False\n",
            "6 -2.5146136553162997 False\n",
            "9 -9.089599829761081 False\n",
            "2 -2.2550833802954076 False\n",
            "1 -7.620784652302808 False\n",
            "Episode 643, Total Reward: -1533.5692476590873\n",
            "7 -8.756186467218008 False\n",
            "6 -9.189377103453513 False\n",
            "1 -2.0415606574273 False\n",
            "4 -11.509995892926003 False\n",
            "Episode 644, Total Reward: -3031.4971201210246\n",
            "2 -7.653020649610424 False\n",
            "1 -7.620784652302808 False\n",
            "7 -8.63933616755769 False\n",
            "9 -2.3673957673885857 False\n",
            "6 -9.089599829761081 False\n",
            "4 -11.374743052916678 False\n",
            "Episode 645, Total Reward: -2046.7448801195374\n",
            "5 -1.9895625089960105 False\n",
            "9 -6.591803321334266 False\n",
            "2 -2.2550833802954076 False\n",
            "8 -8.192416453410834 False\n",
            "7 -9.21539248558825 False\n",
            "1 -8.63933616755769 False\n",
            "3 -8.062794569850828 False\n",
            "Episode 646, Total Reward: -1544.9463888870332\n",
            "2 -7.653020649610424 False\n",
            "8 -8.192416453410834 False\n",
            "6 -5.004577401674917 False\n",
            "1 -2.0415606574273 False\n",
            "5 -3.2013328857401957 False\n",
            "Episode 647, Total Reward: -2526.0929080478636\n",
            "8 -4.569044986778715 False\n",
            "3 -2.6150299035155595 False\n",
            "9 -5.895412073873364 False\n",
            "5 -6.591803321334266 False\n",
            "7 -6.890753875802023 False\n",
            "Episode 648, Total Reward: -2526.5620441613037\n",
            "3 -6.226340755216833 False\n",
            "1 -8.062794569850828 False\n",
            "4 -11.509995892926003 False\n",
            "7 -4.250813147599771 False\n",
            "2 -1.1138456925079876 False\n",
            "Episode 649, Total Reward: -2531.1637900581013\n",
            "7 -8.756186467218008 False\n",
            "8 -9.21539248558825 False\n",
            "4 -9.351745191179539 False\n",
            "1 -11.509995892926003 False\n",
            "9 -9.070180154761154 False\n",
            "3 -5.895412073873364 False\n",
            "5 -4.905091251117594 False\n",
            "Episode 650, Total Reward: -1558.7040035166638\n",
            "1 -2.2601094764485308 False\n"
          ]
        },
        {
          "output_type": "stream",
          "name": "stderr",
          "text": [
            "WARNING:absl:Skipping variable loading for optimizer 'Adam', because it has 13 variables whereas the saved optimizer has 1 variables. \n",
            "WARNING:absl:Skipping variable loading for optimizer 'Adam', because it has 13 variables whereas the saved optimizer has 1 variables. \n"
          ]
        },
        {
          "output_type": "stream",
          "name": "stdout",
          "text": [
            "9 -9.070180154761154 False\n"
          ]
        },
        {
          "output_type": "stream",
          "name": "stderr",
          "text": [
            "WARNING:absl:Skipping variable loading for optimizer 'Adam', because it has 13 variables whereas the saved optimizer has 1 variables. \n"
          ]
        },
        {
          "output_type": "stream",
          "name": "stdout",
          "text": [
            "7 -2.3673957673885857 False\n",
            "8 -9.21539248558825 False\n"
          ]
        },
        {
          "output_type": "stream",
          "name": "stderr",
          "text": [
            "WARNING:absl:Skipping variable loading for optimizer 'Adam', because it has 13 variables whereas the saved optimizer has 1 variables. \n",
            "WARNING:absl:Skipping variable loading for optimizer 'Adam', because it has 13 variables whereas the saved optimizer has 1 variables. \n"
          ]
        },
        {
          "output_type": "stream",
          "name": "stdout",
          "text": [
            "4 -9.351745191179539 False\n",
            "Episode 651, Total Reward: -2532.264823075366\n",
            "3 -6.226340755216833 False\n",
            "2 -6.841918956903541 False\n",
            "1 -7.620784652302808 False\n",
            "7 -8.63933616755769 False\n",
            "9 -2.3673957673885857 False\n",
            "5 -6.591803321334266 False\n",
            "8 -4.071101157390693 False\n",
            "4 -9.351745191179539 False\n",
            "Episode 652, Total Reward: -1051.710425969274\n",
            "5 -1.9895625089960105 False\n",
            "3 -4.905091251117594 False\n",
            "8 -2.6150299035155595 False\n",
            "4 -9.351745191179539 False\n",
            "Episode 653, Total Reward: -3018.8614288548088\n",
            "2 -7.653020649610424 False\n",
            "5 -5.77799343429354 False\n",
            "8 -4.071101157390693 False\n",
            "4 -9.351745191179539 False\n",
            "3 -6.980965374268762 False\n",
            "9 -5.895412073873364 False\n",
            "Episode 654, Total Reward: -2039.7302378806164\n",
            "3 -6.226340755216833 False\n",
            "1 -8.062794569850828 False\n",
            "2 -7.620784652302808 False\n",
            "5 -5.77799343429354 False\n",
            "8 -4.071101157390693 False\n",
            "7 -9.21539248558825 False\n",
            "9 -2.3673957673885857 False\n",
            "6 -9.089599829761081 False\n",
            "Episode 655, Total Reward: -1052.4314026517925\n",
            "5 -1.9895625089960105 False\n",
            "7 -6.890753875802023 False\n",
            "8 -9.21539248558825 False\n",
            "4 -9.351745191179539 False\n",
            "6 -11.374743052916678 False\n",
            "2 -8.093492715402329 False\n",
            "Episode 656, Total Reward: -2046.915689829885\n",
            "5 -1.9895625089960105 False\n",
            "2 -5.77799343429354 False\n",
            "6 -8.093492715402329 False\n",
            "1 -2.0415606574273 False\n",
            "4 -11.509995892926003 False\n",
            "Episode 657, Total Reward: -2529.412605209045\n",
            "7 -8.756186467218008 False\n",
            "4 -4.250813147599771 False\n",
            "2 -4.585675628012074 False\n",
            "5 -5.77799343429354 False\n",
            "9 -6.591803321334266 False\n",
            "Episode 658, Total Reward: -2529.9624719984577\n",
            "9 -8.579293986144062 False\n",
            "6 -9.089599829761081 False\n",
            "3 -6.75623719662853 False\n",
            "8 -2.6150299035155595 False\n",
            "4 -9.351745191179539 False\n",
            "Episode 659, Total Reward: -2536.3919061072284\n",
            "7 -8.756186467218008 False\n",
            "2 -1.1138456925079876 False\n",
            "1 -7.620784652302808 False\n",
            "4 -11.509995892926003 False\n",
            "8 -9.351745191179539 False\n",
            "3 -2.6150299035155595 False\n",
            "6 -6.75623719662853 False\n"
          ]
        },
        {
          "output_type": "stream",
          "name": "stderr",
          "text": [
            "WARNING:absl:Skipping variable loading for optimizer 'Adam', because it has 13 variables whereas the saved optimizer has 1 variables. \n"
          ]
        },
        {
          "output_type": "stream",
          "name": "stdout",
          "text": [
            "Episode 660, Total Reward: -1547.7238249962784\n",
            "9 -8.579293986144062 False\n"
          ]
        },
        {
          "output_type": "stream",
          "name": "stderr",
          "text": [
            "WARNING:absl:Skipping variable loading for optimizer 'Adam', because it has 13 variables whereas the saved optimizer has 1 variables. \n"
          ]
        },
        {
          "output_type": "stream",
          "name": "stdout",
          "text": [
            "3 -5.895412073873364 False\n",
            "2 -6.841918956903541 False\n"
          ]
        },
        {
          "output_type": "stream",
          "name": "stderr",
          "text": [
            "WARNING:absl:Skipping variable loading for optimizer 'Adam', because it has 13 variables whereas the saved optimizer has 1 variables. \n",
            "WARNING:absl:Skipping variable loading for optimizer 'Adam', because it has 13 variables whereas the saved optimizer has 1 variables. \n"
          ]
        },
        {
          "output_type": "stream",
          "name": "stdout",
          "text": [
            "5 -5.77799343429354 False\n"
          ]
        },
        {
          "output_type": "stream",
          "name": "stderr",
          "text": [
            "WARNING:absl:Skipping variable loading for optimizer 'Adam', because it has 13 variables whereas the saved optimizer has 1 variables. \n"
          ]
        },
        {
          "output_type": "stream",
          "name": "stdout",
          "text": [
            "7 -6.890753875802023 False\n",
            "Episode 661, Total Reward: -2533.985372327016\n",
            "7 -8.756186467218008 False\n",
            "8 -9.21539248558825 False\n",
            "5 -4.071101157390693 False\n",
            "2 -5.77799343429354 False\n",
            "4 -4.585675628012074 False\n",
            "6 -11.374743052916678 False\n",
            "Episode 662, Total Reward: -2043.7810922254193\n",
            "7 -8.756186467218008 False\n",
            "9 -2.3673957673885857 False\n",
            "8 -7.853704773177191 False\n",
            "2 -8.192416453410834 False\n",
            "5 -5.77799343429354 False\n",
            "4 -8.86012987256621 False\n",
            "Episode 663, Total Reward: -2041.8078267680546\n",
            "8 -4.569044986778715 False\n",
            "3 -2.6150299035155595 False\n",
            "7 -7.705775893101598 False\n",
            "4 -4.250813147599771 False\n",
            "9 -2.4969092474766588 False\n",
            "1 -9.070180154761154 False\n",
            "Episode 664, Total Reward: -2030.7077533332335\n",
            "2 -7.653020649610424 False\n",
            "9 -2.2550833802954076 False\n",
            "1 -9.070180154761154 False\n",
            "4 -11.509995892926003 False\n",
            "3 -6.980965374268762 False\n",
            "6 -6.75623719662853 False\n",
            "Episode 665, Total Reward: -2044.2254826484905\n",
            "1 -2.2601094764485308 False\n",
            "9 -9.070180154761154 False\n",
            "7 -2.3673957673885857 False\n",
            "3 -7.705775893101598 False\n",
            "6 -6.75623719662853 False\n",
            "8 -5.004577401674917 False\n",
            "5 -4.071101157390693 False\n",
            "Episode 666, Total Reward: -1537.2353770473942\n",
            "1 -2.2601094764485308 False\n",
            "9 -9.070180154761154 False\n",
            "7 -2.3673957673885857 False\n",
            "3 -7.705775893101598 False\n",
            "6 -6.75623719662853 False\n",
            "5 -2.5146136553162997 False\n",
            "Episode 667, Total Reward: -2030.6743121436448\n",
            "4 -10.843880223714587 False\n",
            "5 -8.86012987256621 False\n",
            "1 -3.2013328857401957 False\n",
            "7 -8.63933616755769 False\n",
            "6 -9.189377103453513 False\n",
            "Episode 668, Total Reward: -2540.734056253032\n",
            "1 -2.2601094764485308 False\n",
            "3 -8.062794569850828 False\n",
            "7 -7.705775893101598 False\n",
            "9 -2.3673957673885857 False\n",
            "8 -7.853704773177191 False\n",
            "5 -4.071101157390693 False\n",
            "4 -8.86012987256621 False\n",
            "Episode 669, Total Reward: -1541.1810115099236\n",
            "1 -2.2601094764485308 False\n",
            "2 -7.620784652302808 False\n",
            "5 -5.77799343429354 False\n",
            "3 -4.905091251117594 False\n",
            "9 -5.895412073873364 False\n",
            "8 -7.853704773177191 False\n",
            "6 -5.004577401674917 False\n",
            "Episode 670, Total Reward: -1539.317673062888\n",
            "3 -6.226340755216833 False\n"
          ]
        },
        {
          "output_type": "stream",
          "name": "stderr",
          "text": [
            "WARNING:absl:Skipping variable loading for optimizer 'Adam', because it has 13 variables whereas the saved optimizer has 1 variables. \n",
            "WARNING:absl:Skipping variable loading for optimizer 'Adam', because it has 13 variables whereas the saved optimizer has 1 variables. \n"
          ]
        },
        {
          "output_type": "stream",
          "name": "stdout",
          "text": [
            "1 -8.062794569850828 False\n",
            "2 -7.620784652302808 False\n"
          ]
        },
        {
          "output_type": "stream",
          "name": "stderr",
          "text": [
            "WARNING:absl:Skipping variable loading for optimizer 'Adam', because it has 13 variables whereas the saved optimizer has 1 variables. \n",
            "WARNING:absl:Skipping variable loading for optimizer 'Adam', because it has 13 variables whereas the saved optimizer has 1 variables. \n"
          ]
        },
        {
          "output_type": "stream",
          "name": "stdout",
          "text": [
            "5 -5.77799343429354 False\n"
          ]
        },
        {
          "output_type": "stream",
          "name": "stderr",
          "text": [
            "WARNING:absl:Skipping variable loading for optimizer 'Adam', because it has 13 variables whereas the saved optimizer has 1 variables. \n"
          ]
        },
        {
          "output_type": "stream",
          "name": "stdout",
          "text": [
            "7 -6.890753875802023 False\n",
            "Episode 671, Total Reward: -2534.5786672874656\n",
            "8 -4.569044986778715 False\n",
            "5 -4.071101157390693 False\n",
            "9 -6.591803321334266 False\n",
            "3 -5.895412073873364 False\n",
            "2 -6.841918956903541 False\n",
            "6 -8.093492715402329 False\n",
            "Episode 672, Total Reward: -2036.062773211683\n",
            "4 -10.843880223714587 False\n",
            "9 -2.4969092474766588 False\n",
            "1 -9.070180154761154 False\n",
            "Episode 673, Total Reward: -3522.4109696259525\n",
            "4 -10.843880223714587 False\n",
            "8 -9.351745191179539 False\n",
            "5 -4.071101157390693 False\n",
            "2 -5.77799343429354 False\n",
            "6 -8.093492715402329 False\n",
            "1 -2.0415606574273 False\n",
            "9 -9.070180154761154 False\n",
            "7 -2.3673957673885857 False\n",
            "Episode 674, Total Reward: -1051.6173493015576\n",
            "4 -10.843880223714587 False\n",
            "7 -4.250813147599771 False\n",
            "5 -6.890753875802023 False\n",
            "6 -2.5146136553162997 False\n",
            "9 -9.089599829761081 False\n",
            "1 -9.070180154761154 False\n",
            "Episode 675, Total Reward: -2042.659840886955\n",
            "7 -8.756186467218008 False\n",
            "8 -9.21539248558825 False\n",
            "6 -5.004577401674917 False\n",
            "5 -2.5146136553162997 False\n",
            "1 -3.2013328857401957 False\n",
            "Episode 676, Total Reward: -2528.6921028955376\n",
            "8 -4.569044986778715 False\n",
            "5 -4.071101157390693 False\n",
            "2 -5.77799343429354 False\n",
            "1 -7.620784652302808 False\n",
            "6 -2.0415606574273 False\n",
            "7 -9.189377103453513 False\n",
            "4 -4.250813147599771 False\n",
            "Episode 677, Total Reward: -1537.5206751392461\n",
            "9 -8.579293986144062 False\n",
            "6 -9.089599829761081 False\n",
            "5 -2.5146136553162997 False\n",
            "4 -8.86012987256621 False\n",
            "7 -4.250813147599771 False\n",
            "3 -7.705775893101598 False\n",
            "2 -6.841918956903541 False\n",
            "1 -7.620784652302808 False\n",
            "Episode 678, Total Reward: -1055.4629299936955\n",
            "2 -7.653020649610424 False\n",
            "6 -8.093492715402329 False\n",
            "1 -2.0415606574273 False\n",
            "4 -11.509995892926003 False\n",
            "7 -4.250813147599771 False\n",
            "Episode 679, Total Reward: -2533.5488830629656\n",
            "4 -10.843880223714587 False\n",
            "9 -2.4969092474766588 False\n",
            "5 -6.591803321334266 False\n",
            "1 -3.2013328857401957 False\n",
            "2 -7.620784652302808 False\n",
            "6 -8.093492715402329 False\n",
            "7 -9.189377103453513 False\n",
            "Episode 680, Total Reward: -1548.0375801494245\n"
          ]
        },
        {
          "output_type": "stream",
          "name": "stderr",
          "text": [
            "WARNING:absl:Skipping variable loading for optimizer 'Adam', because it has 13 variables whereas the saved optimizer has 1 variables. \n"
          ]
        },
        {
          "output_type": "stream",
          "name": "stdout",
          "text": [
            "7 -8.756186467218008 False\n",
            "2 -1.1138456925079876 False\n"
          ]
        },
        {
          "output_type": "stream",
          "name": "stderr",
          "text": [
            "WARNING:absl:Skipping variable loading for optimizer 'Adam', because it has 13 variables whereas the saved optimizer has 1 variables. \n",
            "WARNING:absl:Skipping variable loading for optimizer 'Adam', because it has 13 variables whereas the saved optimizer has 1 variables. \n"
          ]
        },
        {
          "output_type": "stream",
          "name": "stdout",
          "text": [
            "5 -5.77799343429354 False\n",
            "9 -6.591803321334266 False\n"
          ]
        },
        {
          "output_type": "stream",
          "name": "stderr",
          "text": [
            "WARNING:absl:Skipping variable loading for optimizer 'Adam', because it has 13 variables whereas the saved optimizer has 1 variables. \n",
            "WARNING:absl:Skipping variable loading for optimizer 'Adam', because it has 13 variables whereas the saved optimizer has 1 variables. \n"
          ]
        },
        {
          "output_type": "stream",
          "name": "stdout",
          "text": [
            "4 -2.4969092474766588 False\n"
          ]
        },
        {
          "output_type": "stream",
          "name": "stderr",
          "text": [
            "WARNING:absl:Skipping variable loading for optimizer 'Adam', because it has 13 variables whereas the saved optimizer has 1 variables. \n"
          ]
        },
        {
          "output_type": "stream",
          "name": "stdout",
          "text": [
            "1 -11.509995892926003 False\n",
            "Episode 681, Total Reward: -2036.2467340557566\n",
            "2 -7.653020649610424 False\n",
            "7 -1.1138456925079876 False\n",
            "3 -7.705775893101598 False\n",
            "4 -6.980965374268762 False\n",
            "9 -2.4969092474766588 False\n",
            "6 -9.089599829761081 False\n",
            "5 -2.5146136553162997 False\n",
            "Episode 682, Total Reward: -1537.5547303420428\n",
            "1 -2.2601094764485308 False\n",
            "5 -3.2013328857401957 False\n",
            "4 -8.86012987256621 False\n",
            "6 -11.374743052916678 False\n",
            "3 -6.75623719662853 False\n",
            "9 -5.895412073873364 False\n",
            "Episode 683, Total Reward: -2038.3479645581735\n",
            "1 -2.2601094764485308 False\n",
            "8 -6.742121402603406 False\n",
            "6 -5.004577401674917 False\n",
            "2 -8.093492715402329 False\n",
            "5 -5.77799343429354 False\n",
            "Episode 684, Total Reward: -2527.878294430423\n",
            "2 -7.653020649610424 False\n",
            "6 -8.093492715402329 False\n",
            "1 -2.0415606574273 False\n",
            "7 -8.63933616755769 False\n",
            "9 -2.3673957673885857 False\n",
            "4 -2.4969092474766588 False\n",
            "Episode 685, Total Reward: -2031.291715204863\n",
            "4 -10.843880223714587 False\n",
            "7 -4.250813147599771 False\n",
            "5 -6.890753875802023 False\n",
            "2 -5.77799343429354 False\n",
            "1 -7.620784652302808 False\n",
            "3 -8.062794569850828 False\n",
            "Episode 686, Total Reward: -2043.4470199035636\n",
            "7 -8.756186467218008 False\n",
            "2 -1.1138456925079876 False\n",
            "8 -8.192416453410834 False\n",
            "4 -9.351745191179539 False\n",
            "1 -11.509995892926003 False\n",
            "Episode 687, Total Reward: -2538.9241896972426\n",
            "9 -8.579293986144062 False\n",
            "1 -9.070180154761154 False\n",
            "2 -7.620784652302808 False\n",
            "8 -8.192416453410834 False\n",
            "3 -2.6150299035155595 False\n",
            "7 -7.705775893101598 False\n",
            "4 -4.250813147599771 False\n",
            "Episode 688, Total Reward: -1548.0342941908357\n",
            "6 -0.557563640416601 False\n",
            "5 -2.5146136553162997 False\n",
            "1 -3.2013328857401957 False\n",
            "7 -8.63933616755769 False\n",
            "9 -2.3673957673885857 False\n",
            "Episode 689, Total Reward: -2517.2802421164192\n",
            "5 -1.9895625089960105 False\n",
            "1 -3.2013328857401957 False\n",
            "7 -8.63933616755769 False\n",
            "4 -4.250813147599771 False\n",
            "3 -6.980965374268762 False\n"
          ]
        },
        {
          "output_type": "stream",
          "name": "stderr",
          "text": [
            "WARNING:absl:Skipping variable loading for optimizer 'Adam', because it has 13 variables whereas the saved optimizer has 1 variables. \n"
          ]
        },
        {
          "output_type": "stream",
          "name": "stdout",
          "text": [
            "Episode 690, Total Reward: -2525.0620100841625\n",
            "5 -1.9895625089960105 False\n"
          ]
        },
        {
          "output_type": "stream",
          "name": "stderr",
          "text": [
            "WARNING:absl:Skipping variable loading for optimizer 'Adam', because it has 13 variables whereas the saved optimizer has 1 variables. \n"
          ]
        },
        {
          "output_type": "stream",
          "name": "stdout",
          "text": [
            "1 -3.2013328857401957 False\n",
            "8 -6.742121402603406 False\n"
          ]
        },
        {
          "output_type": "stream",
          "name": "stderr",
          "text": [
            "WARNING:absl:Skipping variable loading for optimizer 'Adam', because it has 13 variables whereas the saved optimizer has 1 variables. \n",
            "WARNING:absl:Skipping variable loading for optimizer 'Adam', because it has 13 variables whereas the saved optimizer has 1 variables. \n"
          ]
        },
        {
          "output_type": "stream",
          "name": "stdout",
          "text": [
            "9 -7.853704773177191 False\n",
            "Episode 691, Total Reward: -3019.7867215705164\n",
            "4 -10.843880223714587 False\n",
            "1 -11.509995892926003 False\n",
            "9 -9.070180154761154 False\n",
            "7 -2.3673957673885857 False\n",
            "5 -6.890753875802023 False\n",
            "8 -4.071101157390693 False\n",
            "Episode 692, Total Reward: -2044.7533070719833\n",
            "1 -2.2601094764485308 False\n",
            "4 -11.509995892926003 False\n",
            "5 -8.86012987256621 False\n",
            "9 -6.591803321334266 False\n",
            "3 -5.895412073873364 False\n",
            "8 -2.6150299035155595 False\n",
            "6 -5.004577401674917 False\n",
            "7 -9.189377103453513 False\n",
            "Episode 693, Total Reward: -1051.9264350457925\n",
            "1 -2.2601094764485308 False\n",
            "9 -9.070180154761154 False\n",
            "8 -7.853704773177191 False\n",
            "3 -2.6150299035155595 False\n",
            "6 -6.75623719662853 False\n",
            "Episode 694, Total Reward: -2528.555261504531\n",
            "4 -10.843880223714587 False\n",
            "8 -9.351745191179539 False\n",
            "7 -9.21539248558825 False\n",
            "3 -7.705775893101598 False\n",
            "1 -8.062794569850828 False\n",
            "2 -7.620784652302808 False\n",
            "5 -5.77799343429354 False\n",
            "Episode 695, Total Reward: -1558.5783664500314\n",
            "7 -8.756186467218008 False\n",
            "2 -1.1138456925079876 False\n",
            "5 -5.77799343429354 False\n",
            "3 -4.905091251117594 False\n",
            "6 -6.75623719662853 False\n",
            "Episode 696, Total Reward: -2527.309354041766\n",
            "1 -2.2601094764485308 False\n",
            "6 -2.0415606574273 False\n",
            "8 -5.004577401674917 False\n",
            "4 -9.351745191179539 False\n",
            "2 -4.585675628012074 False\n",
            "3 -6.841918956903541 False\n",
            "9 -5.895412073873364 False\n",
            "Episode 697, Total Reward: -1535.9809993855192\n",
            "2 -7.653020649610424 False\n",
            "4 -4.585675628012074 False\n",
            "5 -8.86012987256621 False\n",
            "7 -6.890753875802023 False\n",
            "9 -2.3673957673885857 False\n",
            "Episode 698, Total Reward: -2530.356975793379\n",
            "4 -10.843880223714587 False\n",
            "9 -2.4969092474766588 False\n",
            "5 -6.591803321334266 False\n",
            "8 -4.071101157390693 False\n",
            "2 -8.192416453410834 False\n",
            "7 -1.1138456925079876 False\n",
            "Episode 699, Total Reward: -2033.3099560958349\n",
            "4 -10.843880223714587 False\n",
            "8 -9.351745191179539 False\n",
            "7 -9.21539248558825 False\n",
            "3 -7.705775893101598 False\n",
            "6 -6.75623719662853 False\n",
            "9 -9.089599829761081 False\n"
          ]
        },
        {
          "output_type": "stream",
          "name": "stderr",
          "text": [
            "WARNING:absl:Skipping variable loading for optimizer 'Adam', because it has 13 variables whereas the saved optimizer has 1 variables. \n"
          ]
        },
        {
          "output_type": "stream",
          "name": "stdout",
          "text": [
            "5 -6.591803321334266 False\n",
            "Episode 700, Total Reward: -1559.5544341413079\n",
            "5 -1.9895625089960105 False\n"
          ]
        },
        {
          "output_type": "stream",
          "name": "stderr",
          "text": [
            "WARNING:absl:Skipping variable loading for optimizer 'Adam', because it has 13 variables whereas the saved optimizer has 1 variables. \n"
          ]
        },
        {
          "output_type": "stream",
          "name": "stdout",
          "text": [
            "2 -5.77799343429354 False\n",
            "9 -2.2550833802954076 False\n"
          ]
        },
        {
          "output_type": "stream",
          "name": "stderr",
          "text": [
            "WARNING:absl:Skipping variable loading for optimizer 'Adam', because it has 13 variables whereas the saved optimizer has 1 variables. \n",
            "WARNING:absl:Skipping variable loading for optimizer 'Adam', because it has 13 variables whereas the saved optimizer has 1 variables. \n"
          ]
        },
        {
          "output_type": "stream",
          "name": "stdout",
          "text": [
            "6 -9.089599829761081 False\n"
          ]
        },
        {
          "output_type": "stream",
          "name": "stderr",
          "text": [
            "WARNING:absl:Skipping variable loading for optimizer 'Adam', because it has 13 variables whereas the saved optimizer has 1 variables. \n"
          ]
        },
        {
          "output_type": "stream",
          "name": "stdout",
          "text": [
            "3 -6.75623719662853 False\n",
            "7 -7.705775893101598 False\n"
          ]
        },
        {
          "output_type": "stream",
          "name": "stderr",
          "text": [
            "WARNING:absl:Skipping variable loading for optimizer 'Adam', because it has 13 variables whereas the saved optimizer has 1 variables. \n"
          ]
        },
        {
          "output_type": "stream",
          "name": "stdout",
          "text": [
            "Episode 701, Total Reward: -2033.5742522430762\n",
            "6 -0.557563640416601 False\n",
            "4 -11.374743052916678 False\n",
            "8 -9.351745191179539 False\n",
            "9 -7.853704773177191 False\n",
            "5 -6.591803321334266 False\n",
            "3 -4.905091251117594 False\n",
            "Episode 702, Total Reward: -2040.6346512301418\n",
            "6 -0.557563640416601 False\n",
            "5 -2.5146136553162997 False\n",
            "7 -6.890753875802023 False\n",
            "3 -7.705775893101598 False\n",
            "9 -5.895412073873364 False\n",
            "1 -9.070180154761154 False\n",
            "Episode 703, Total Reward: -2032.634299293271\n",
            "8 -4.569044986778715 False\n",
            "2 -8.192416453410834 False\n",
            "9 -2.2550833802954076 False\n",
            "1 -9.070180154761154 False\n",
            "6 -2.0415606574273 False\n",
            "7 -9.189377103453513 False\n",
            "Episode 704, Total Reward: -2035.317662736127\n",
            "3 -6.226340755216833 False\n",
            "5 -4.905091251117594 False\n",
            "4 -8.86012987256621 False\n",
            "1 -11.509995892926003 False\n",
            "7 -8.63933616755769 False\n",
            "Episode 705, Total Reward: -2540.140893939384\n",
            "7 -8.756186467218008 False\n",
            "3 -7.705775893101598 False\n",
            "9 -5.895412073873364 False\n",
            "6 -9.089599829761081 False\n",
            "5 -2.5146136553162997 False\n",
            "2 -5.77799343429354 False\n",
            "Episode 706, Total Reward: -2039.7395813535638\n",
            "2 -7.653020649610424 False\n",
            "5 -5.77799343429354 False\n",
            "9 -6.591803321334266 False\n",
            "6 -9.089599829761081 False\n",
            "7 -9.189377103453513 False\n",
            "3 -7.705775893101598 False\n",
            "Episode 707, Total Reward: -2046.0075702315544\n",
            "3 -6.226340755216833 False\n",
            "2 -6.841918956903541 False\n",
            "4 -4.585675628012074 False\n",
            "1 -11.509995892926003 False\n",
            "5 -3.2013328857401957 False\n",
            "Episode 708, Total Reward: -2532.365264118798\n",
            "3 -6.226340755216833 False\n",
            "2 -6.841918956903541 False\n",
            "6 -8.093492715402329 False\n",
            "7 -9.189377103453513 False\n",
            "5 -6.890753875802023 False\n",
            "8 -4.071101157390693 False\n",
            "Episode 709, Total Reward: -2041.312984564169\n",
            "3 -6.226340755216833 False\n",
            "8 -2.6150299035155595 False\n",
            "9 -7.853704773177191 False\n",
            "4 -2.4969092474766588 False\n",
            "7 -4.250813147599771 False\n",
            "5 -6.890753875802023 False\n",
            "Episode 710, Total Reward: -2030.3335517027879\n"
          ]
        },
        {
          "output_type": "stream",
          "name": "stderr",
          "text": [
            "WARNING:absl:Skipping variable loading for optimizer 'Adam', because it has 13 variables whereas the saved optimizer has 1 variables. \n"
          ]
        },
        {
          "output_type": "stream",
          "name": "stdout",
          "text": [
            "4 -10.843880223714587 False\n",
            "5 -8.86012987256621 False\n"
          ]
        },
        {
          "output_type": "stream",
          "name": "stderr",
          "text": [
            "WARNING:absl:Skipping variable loading for optimizer 'Adam', because it has 13 variables whereas the saved optimizer has 1 variables. \n",
            "WARNING:absl:Skipping variable loading for optimizer 'Adam', because it has 13 variables whereas the saved optimizer has 1 variables. \n"
          ]
        },
        {
          "output_type": "stream",
          "name": "stdout",
          "text": [
            "2 -5.77799343429354 False\n"
          ]
        },
        {
          "output_type": "stream",
          "name": "stderr",
          "text": [
            "WARNING:absl:Skipping variable loading for optimizer 'Adam', because it has 13 variables whereas the saved optimizer has 1 variables. \n"
          ]
        },
        {
          "output_type": "stream",
          "name": "stdout",
          "text": [
            "3 -6.841918956903541 False\n"
          ]
        },
        {
          "output_type": "stream",
          "name": "stderr",
          "text": [
            "WARNING:absl:Skipping variable loading for optimizer 'Adam', because it has 13 variables whereas the saved optimizer has 1 variables. \n"
          ]
        },
        {
          "output_type": "stream",
          "name": "stdout",
          "text": [
            "9 -5.895412073873364 False\n",
            "Episode 711, Total Reward: -2538.2193345613514\n",
            "6 -0.557563640416601 False\n",
            "7 -9.189377103453513 False\n",
            "9 -2.3673957673885857 False\n",
            "4 -2.4969092474766588 False\n",
            "5 -8.86012987256621 False\n",
            "8 -4.071101157390693 False\n",
            "Episode 712, Total Reward: -2027.5424767886925\n",
            "1 -2.2601094764485308 False\n",
            "9 -9.070180154761154 False\n",
            "6 -9.089599829761081 False\n",
            "8 -5.004577401674917 False\n",
            "5 -4.071101157390693 False\n",
            "7 -6.890753875802023 False\n",
            "Episode 713, Total Reward: -2036.3863218958384\n",
            "9 -8.579293986144062 False\n",
            "6 -9.089599829761081 False\n",
            "2 -8.093492715402329 False\n",
            "5 -5.77799343429354 False\n",
            "3 -4.905091251117594 False\n",
            "7 -7.705775893101598 False\n",
            "Episode 714, Total Reward: -2044.1512471098204\n",
            "5 -1.9895625089960105 False\n",
            "1 -3.2013328857401957 False\n",
            "6 -2.0415606574273 False\n",
            "8 -5.004577401674917 False\n",
            "2 -8.192416453410834 False\n",
            "4 -4.585675628012074 False\n",
            "7 -4.250813147599771 False\n",
            "Episode 715, Total Reward: -1529.2659386828611\n",
            "7 -8.756186467218008 False\n",
            "1 -8.63933616755769 False\n",
            "5 -3.2013328857401957 False\n",
            "8 -4.071101157390693 False\n",
            "2 -8.192416453410834 False\n",
            "Episode 716, Total Reward: -2532.8603731313174\n",
            "9 -8.579293986144062 False\n",
            "7 -2.3673957673885857 False\n",
            "2 -1.1138456925079876 False\n",
            "3 -6.841918956903541 False\n",
            "4 -6.980965374268762 False\n",
            "8 -9.351745191179539 False\n",
            "Episode 717, Total Reward: -2035.2351649683926\n",
            "6 -0.557563640416601 False\n",
            "4 -11.374743052916678 False\n",
            "2 -4.585675628012074 False\n",
            "8 -8.192416453410834 False\n",
            "Episode 718, Total Reward: -3024.710398774756\n",
            "6 -0.557563640416601 False\n",
            "4 -11.374743052916678 False\n",
            "3 -6.980965374268762 False\n",
            "5 -4.905091251117594 False\n",
            "8 -4.071101157390693 False\n",
            "1 -6.742121402603406 False\n",
            "7 -8.63933616755769 False\n",
            "Episode 719, Total Reward: -1543.2709220462716\n",
            "2 -7.653020649610424 False\n",
            "1 -7.620784652302808 False\n",
            "4 -11.509995892926003 False\n",
            "7 -4.250813147599771 False\n",
            "5 -6.890753875802023 False\n",
            "8 -4.071101157390693 False\n"
          ]
        },
        {
          "output_type": "stream",
          "name": "stderr",
          "text": [
            "WARNING:absl:Skipping variable loading for optimizer 'Adam', because it has 13 variables whereas the saved optimizer has 1 variables. \n"
          ]
        },
        {
          "output_type": "stream",
          "name": "stdout",
          "text": [
            "Episode 720, Total Reward: -2041.9964693756317\n",
            "9 -8.579293986144062 False\n"
          ]
        },
        {
          "output_type": "stream",
          "name": "stderr",
          "text": [
            "WARNING:absl:Skipping variable loading for optimizer 'Adam', because it has 13 variables whereas the saved optimizer has 1 variables. \n"
          ]
        },
        {
          "output_type": "stream",
          "name": "stdout",
          "text": [
            "8 -7.853704773177191 False\n",
            "3 -2.6150299035155595 False\n"
          ]
        },
        {
          "output_type": "stream",
          "name": "stderr",
          "text": [
            "WARNING:absl:Skipping variable loading for optimizer 'Adam', because it has 13 variables whereas the saved optimizer has 1 variables. \n",
            "WARNING:absl:Skipping variable loading for optimizer 'Adam', because it has 13 variables whereas the saved optimizer has 1 variables. \n"
          ]
        },
        {
          "output_type": "stream",
          "name": "stdout",
          "text": [
            "6 -6.75623719662853 False\n",
            "5 -2.5146136553162997 False\n"
          ]
        },
        {
          "output_type": "stream",
          "name": "stderr",
          "text": [
            "WARNING:absl:Skipping variable loading for optimizer 'Adam', because it has 13 variables whereas the saved optimizer has 1 variables. \n",
            "WARNING:absl:Skipping variable loading for optimizer 'Adam', because it has 13 variables whereas the saved optimizer has 1 variables. \n"
          ]
        },
        {
          "output_type": "stream",
          "name": "stdout",
          "text": [
            "2 -5.77799343429354 False\n",
            "1 -7.620784652302808 False\n"
          ]
        },
        {
          "output_type": "stream",
          "name": "stderr",
          "text": [
            "WARNING:absl:Skipping variable loading for optimizer 'Adam', because it has 13 variables whereas the saved optimizer has 1 variables. \n",
            "WARNING:absl:Skipping variable loading for optimizer 'Adam', because it has 13 variables whereas the saved optimizer has 1 variables. \n"
          ]
        },
        {
          "output_type": "stream",
          "name": "stdout",
          "text": [
            "7 -8.63933616755769 False\n",
            "Episode 721, Total Reward: -1050.3569937689358\n",
            "5 -1.9895625089960105 False\n",
            "4 -8.86012987256621 False\n",
            "8 -9.351745191179539 False\n",
            "2 -8.192416453410834 False\n",
            "1 -7.620784652302808 False\n",
            "Episode 722, Total Reward: -2536.0146386784554\n",
            "2 -7.653020649610424 False\n",
            "7 -1.1138456925079876 False\n",
            "9 -2.3673957673885857 False\n",
            "1 -9.070180154761154 False\n",
            "8 -6.742121402603406 False\n",
            "4 -9.351745191179539 False\n",
            "Episode 723, Total Reward: -2036.2983088580513\n",
            "1 -2.2601094764485308 False\n",
            "4 -11.509995892926003 False\n",
            "3 -6.980965374268762 False\n",
            "8 -2.6150299035155595 False\n",
            "6 -5.004577401674917 False\n",
            "9 -9.089599829761081 False\n",
            "7 -2.3673957673885857 False\n",
            "Episode 724, Total Reward: -1539.8276736459834\n",
            "6 -0.557563640416601 False\n",
            "8 -5.004577401674917 False\n",
            "2 -8.192416453410834 False\n",
            "3 -6.841918956903541 False\n",
            "9 -5.895412073873364 False\n",
            "1 -9.070180154761154 False\n",
            "Episode 725, Total Reward: -2035.5620686810403\n",
            "2 -7.653020649610424 False\n",
            "9 -2.2550833802954076 False\n",
            "1 -9.070180154761154 False\n",
            "5 -3.2013328857401957 False\n",
            "3 -4.905091251117594 False\n",
            "Episode 726, Total Reward: -2527.084708321525\n",
            "4 -10.843880223714587 False\n",
            "6 -11.374743052916678 False\n",
            "3 -6.75623719662853 False\n",
            "8 -2.6150299035155595 False\n",
            "1 -6.742121402603406 False\n",
            "7 -8.63933616755769 False\n",
            "Episode 727, Total Reward: -2046.9713479469365\n",
            "9 -8.579293986144062 False\n",
            "4 -2.4969092474766588 False\n",
            "2 -4.585675628012074 False\n",
            "5 -5.77799343429354 False\n",
            "7 -6.890753875802023 False\n",
            "6 -9.189377103453513 False\n",
            "1 -2.0415606574273 False\n",
            "Episode 728, Total Reward: -1539.561563932609\n",
            "8 -4.569044986778715 False\n",
            "6 -5.004577401674917 False\n",
            "2 -8.093492715402329 False\n",
            "5 -5.77799343429354 False\n",
            "3 -4.905091251117594 False\n",
            "1 -8.062794569850828 False\n",
            "Episode 729, Total Reward: -2036.4129943591179\n",
            "5 -1.9895625089960105 False\n",
            "2 -5.77799343429354 False\n",
            "7 -1.1138456925079876 False\n",
            "1 -8.63933616755769 False\n",
            "9 -9.070180154761154 False\n",
            "Episode 730, Total Reward: -2526.5909179581163\n",
            "3 -6.226340755216833 False\n"
          ]
        },
        {
          "output_type": "stream",
          "name": "stderr",
          "text": [
            "WARNING:absl:Skipping variable loading for optimizer 'Adam', because it has 13 variables whereas the saved optimizer has 1 variables. \n",
            "WARNING:absl:Skipping variable loading for optimizer 'Adam', because it has 13 variables whereas the saved optimizer has 1 variables. \n"
          ]
        },
        {
          "output_type": "stream",
          "name": "stdout",
          "text": [
            "9 -5.895412073873364 False\n"
          ]
        },
        {
          "output_type": "stream",
          "name": "stderr",
          "text": [
            "WARNING:absl:Skipping variable loading for optimizer 'Adam', because it has 13 variables whereas the saved optimizer has 1 variables. \n"
          ]
        },
        {
          "output_type": "stream",
          "name": "stdout",
          "text": [
            "1 -9.070180154761154 False\n",
            "4 -11.509995892926003 False\n"
          ]
        },
        {
          "output_type": "stream",
          "name": "stderr",
          "text": [
            "WARNING:absl:Skipping variable loading for optimizer 'Adam', because it has 13 variables whereas the saved optimizer has 1 variables. \n",
            "WARNING:absl:Skipping variable loading for optimizer 'Adam', because it has 13 variables whereas the saved optimizer has 1 variables. \n"
          ]
        },
        {
          "output_type": "stream",
          "name": "stdout",
          "text": [
            "5 -8.86012987256621 False\n",
            "8 -4.071101157390693 False\n"
          ]
        },
        {
          "output_type": "stream",
          "name": "stderr",
          "text": [
            "WARNING:absl:Skipping variable loading for optimizer 'Adam', because it has 13 variables whereas the saved optimizer has 1 variables. \n"
          ]
        },
        {
          "output_type": "stream",
          "name": "stdout",
          "text": [
            "Episode 731, Total Reward: -2045.6331599067344\n",
            "6 -0.557563640416601 False\n",
            "8 -5.004577401674917 False\n",
            "9 -7.853704773177191 False\n",
            "1 -9.070180154761154 False\n",
            "Episode 732, Total Reward: -3022.48602597003\n",
            "1 -2.2601094764485308 False\n",
            "4 -11.509995892926003 False\n",
            "2 -4.585675628012074 False\n",
            "6 -8.093492715402329 False\n",
            "9 -9.089599829761081 False\n",
            "Episode 733, Total Reward: -2535.53887354255\n",
            "9 -8.579293986144062 False\n",
            "4 -2.4969092474766588 False\n",
            "6 -11.374743052916678 False\n",
            "5 -2.5146136553162997 False\n",
            "7 -6.890753875802023 False\n",
            "8 -9.21539248558825 False\n",
            "Episode 734, Total Reward: -2041.0717063032437\n",
            "6 -0.557563640416601 False\n",
            "3 -6.75623719662853 False\n",
            "5 -4.905091251117594 False\n",
            "8 -4.071101157390693 False\n",
            "7 -9.21539248558825 False\n",
            "1 -8.63933616755769 False\n",
            "Episode 735, Total Reward: -2034.1447218986993\n",
            "4 -10.843880223714587 False\n",
            "2 -4.585675628012074 False\n",
            "3 -6.841918956903541 False\n",
            "6 -6.75623719662853 False\n",
            "7 -9.189377103453513 False\n",
            "5 -6.890753875802023 False\n",
            "Episode 736, Total Reward: -2045.107842984514\n",
            "5 -1.9895625089960105 False\n",
            "2 -5.77799343429354 False\n",
            "6 -8.093492715402329 False\n",
            "9 -9.089599829761081 False\n",
            "3 -5.895412073873364 False\n",
            "7 -7.705775893101598 False\n",
            "Episode 737, Total Reward: -2038.5518364554277\n",
            "4 -10.843880223714587 False\n",
            "3 -6.980965374268762 False\n",
            "6 -6.75623719662853 False\n",
            "9 -9.089599829761081 False\n",
            "2 -2.2550833802954076 False\n",
            "1 -7.620784652302808 False\n",
            "8 -6.742121402603406 False\n",
            "7 -9.21539248558825 False\n",
            "Episode 738, Total Reward: -1059.5040645451627\n",
            "5 -1.9895625089960105 False\n",
            "2 -5.77799343429354 False\n",
            "8 -8.192416453410834 False\n",
            "4 -9.351745191179539 False\n",
            "6 -11.374743052916678 False\n",
            "Episode 739, Total Reward: -2536.6864606407967\n",
            "9 -8.579293986144062 False\n",
            "4 -2.4969092474766588 False\n",
            "6 -11.374743052916678 False\n"
          ]
        },
        {
          "output_type": "stream",
          "name": "stderr",
          "text": [
            "WARNING:absl:Skipping variable loading for optimizer 'Adam', because it has 13 variables whereas the saved optimizer has 1 variables. \n"
          ]
        },
        {
          "output_type": "stream",
          "name": "stdout",
          "text": [
            "5 -2.5146136553162997 False\n",
            "Episode 740, Total Reward: -3024.9655599418534\n",
            "3 -6.226340755216833 False\n"
          ]
        },
        {
          "output_type": "stream",
          "name": "stderr",
          "text": [
            "WARNING:absl:Skipping variable loading for optimizer 'Adam', because it has 13 variables whereas the saved optimizer has 1 variables. \n"
          ]
        },
        {
          "output_type": "stream",
          "name": "stdout",
          "text": [
            "6 -6.75623719662853 False\n"
          ]
        },
        {
          "output_type": "stream",
          "name": "stderr",
          "text": [
            "WARNING:absl:Skipping variable loading for optimizer 'Adam', because it has 13 variables whereas the saved optimizer has 1 variables. \n"
          ]
        },
        {
          "output_type": "stream",
          "name": "stdout",
          "text": [
            "5 -2.5146136553162997 False\n",
            "4 -8.86012987256621 False\n"
          ]
        },
        {
          "output_type": "stream",
          "name": "stderr",
          "text": [
            "WARNING:absl:Skipping variable loading for optimizer 'Adam', because it has 13 variables whereas the saved optimizer has 1 variables. \n",
            "WARNING:absl:Skipping variable loading for optimizer 'Adam', because it has 13 variables whereas the saved optimizer has 1 variables. \n"
          ]
        },
        {
          "output_type": "stream",
          "name": "stdout",
          "text": [
            "1 -11.509995892926003 False\n"
          ]
        },
        {
          "output_type": "stream",
          "name": "stderr",
          "text": [
            "WARNING:absl:Skipping variable loading for optimizer 'Adam', because it has 13 variables whereas the saved optimizer has 1 variables. \n"
          ]
        },
        {
          "output_type": "stream",
          "name": "stdout",
          "text": [
            "8 -6.742121402603406 False\n",
            "Episode 741, Total Reward: -2042.6094387752573\n",
            "2 -7.653020649610424 False\n",
            "3 -6.841918956903541 False\n",
            "1 -8.062794569850828 False\n",
            "8 -6.742121402603406 False\n",
            "5 -4.071101157390693 False\n",
            "6 -2.5146136553162997 False\n",
            "7 -9.189377103453513 False\n",
            "9 -2.3673957673885857 False\n",
            "Episode 742, Total Reward: -1047.4423432625174\n",
            "7 -8.756186467218008 False\n",
            "3 -7.705775893101598 False\n",
            "9 -5.895412073873364 False\n",
            "5 -6.591803321334266 False\n",
            "8 -4.071101157390693 False\n",
            "Episode 743, Total Reward: -2533.020278912918\n",
            "5 -1.9895625089960105 False\n",
            "7 -6.890753875802023 False\n",
            "1 -8.63933616755769 False\n",
            "9 -9.070180154761154 False\n",
            "6 -9.089599829761081 False\n",
            "Episode 744, Total Reward: -2535.6794325368783\n",
            "1 -2.2601094764485308 False\n",
            "7 -8.63933616755769 False\n",
            "2 -1.1138456925079876 False\n",
            "5 -5.77799343429354 False\n",
            "8 -4.071101157390693 False\n",
            "4 -9.351745191179539 False\n",
            "Episode 745, Total Reward: -2031.2141311193782\n",
            "6 -0.557563640416601 False\n",
            "1 -2.0415606574273 False\n",
            "9 -9.070180154761154 False\n",
            "4 -2.4969092474766588 False\n",
            "Episode 746, Total Reward: -3014.1662137000817\n",
            "5 -1.9895625089960105 False\n",
            "1 -3.2013328857401957 False\n",
            "9 -9.070180154761154 False\n",
            "4 -2.4969092474766588 False\n",
            "2 -4.585675628012074 False\n",
            "6 -8.093492715402329 False\n",
            "8 -5.004577401674917 False\n",
            "Episode 747, Total Reward: -1534.4417305420634\n",
            "1 -2.2601094764485308 False\n",
            "5 -3.2013328857401957 False\n",
            "2 -5.77799343429354 False\n",
            "6 -8.093492715402329 False\n",
            "Episode 748, Total Reward: -3019.332928511885\n",
            "9 -8.579293986144062 False\n",
            "7 -2.3673957673885857 False\n",
            "8 -9.21539248558825 False\n",
            "4 -9.351745191179539 False\n",
            "1 -11.509995892926003 False\n",
            "2 -7.620784652302808 False\n",
            "Episode 749, Total Reward: -2048.644607975529\n",
            "1 -2.2601094764485308 False\n",
            "3 -8.062794569850828 False\n",
            "6 -6.75623719662853 False\n",
            "8 -5.004577401674917 False\n",
            "4 -9.351745191179539 False\n",
            "9 -2.4969092474766588 False\n",
            "Episode 750, Total Reward: -2033.9323730832589\n",
            "9 -8.579293986144062 False\n"
          ]
        },
        {
          "output_type": "stream",
          "name": "stderr",
          "text": [
            "WARNING:absl:Skipping variable loading for optimizer 'Adam', because it has 13 variables whereas the saved optimizer has 1 variables. \n",
            "WARNING:absl:Skipping variable loading for optimizer 'Adam', because it has 13 variables whereas the saved optimizer has 1 variables. \n"
          ]
        },
        {
          "output_type": "stream",
          "name": "stdout",
          "text": [
            "7 -2.3673957673885857 False\n"
          ]
        },
        {
          "output_type": "stream",
          "name": "stderr",
          "text": [
            "WARNING:absl:Skipping variable loading for optimizer 'Adam', because it has 13 variables whereas the saved optimizer has 1 variables. \n"
          ]
        },
        {
          "output_type": "stream",
          "name": "stdout",
          "text": [
            "3 -7.705775893101598 False\n"
          ]
        },
        {
          "output_type": "stream",
          "name": "stderr",
          "text": [
            "WARNING:absl:Skipping variable loading for optimizer 'Adam', because it has 13 variables whereas the saved optimizer has 1 variables. \n"
          ]
        },
        {
          "output_type": "stream",
          "name": "stdout",
          "text": [
            "4 -6.980965374268762 False\n"
          ]
        },
        {
          "output_type": "stream",
          "name": "stderr",
          "text": [
            "WARNING:absl:Skipping variable loading for optimizer 'Adam', because it has 13 variables whereas the saved optimizer has 1 variables. \n"
          ]
        },
        {
          "output_type": "stream",
          "name": "stdout",
          "text": [
            "5 -8.86012987256621 False\n"
          ]
        },
        {
          "output_type": "stream",
          "name": "stderr",
          "text": [
            "WARNING:absl:Skipping variable loading for optimizer 'Adam', because it has 13 variables whereas the saved optimizer has 1 variables. \n"
          ]
        },
        {
          "output_type": "stream",
          "name": "stdout",
          "text": [
            "2 -5.77799343429354 False\n",
            "6 -8.093492715402329 False\n"
          ]
        },
        {
          "output_type": "stream",
          "name": "stderr",
          "text": [
            "WARNING:absl:Skipping variable loading for optimizer 'Adam', because it has 13 variables whereas the saved optimizer has 1 variables. \n"
          ]
        },
        {
          "output_type": "stream",
          "name": "stdout",
          "text": [
            "Episode 751, Total Reward: -1548.3650470431653\n",
            "4 -10.843880223714587 False\n",
            "3 -6.980965374268762 False\n",
            "7 -7.705775893101598 False\n",
            "9 -2.3673957673885857 False\n",
            "8 -7.853704773177191 False\n",
            "6 -5.004577401674917 False\n",
            "Episode 752, Total Reward: -2040.7562994333257\n",
            "1 -2.2601094764485308 False\n",
            "4 -11.509995892926003 False\n",
            "7 -4.250813147599771 False\n",
            "8 -9.21539248558825 False\n",
            "5 -4.071101157390693 False\n",
            "Episode 753, Total Reward: -2531.307412159953\n",
            "9 -8.579293986144062 False\n",
            "7 -2.3673957673885857 False\n",
            "8 -9.21539248558825 False\n",
            "3 -2.6150299035155595 False\n",
            "5 -4.905091251117594 False\n",
            "Episode 754, Total Reward: -2527.6822033937538\n",
            "4 -10.843880223714587 False\n",
            "7 -4.250813147599771 False\n",
            "2 -1.1138456925079876 False\n",
            "5 -5.77799343429354 False\n",
            "8 -4.071101157390693 False\n",
            "Episode 755, Total Reward: -2526.057633655507\n",
            "4 -10.843880223714587 False\n",
            "6 -11.374743052916678 False\n",
            "9 -9.089599829761081 False\n",
            "3 -5.895412073873364 False\n",
            "1 -8.062794569850828 False\n",
            "Episode 756, Total Reward: -2545.2664297501165\n",
            "5 -1.9895625089960105 False\n",
            "7 -6.890753875802023 False\n",
            "1 -8.63933616755769 False\n",
            "9 -9.070180154761154 False\n",
            "6 -9.089599829761081 False\n",
            "Episode 757, Total Reward: -2535.6794325368783\n",
            "2 -7.653020649610424 False\n",
            "4 -4.585675628012074 False\n",
            "6 -11.374743052916678 False\n",
            "9 -9.089599829761081 False\n",
            "1 -9.070180154761154 False\n",
            "5 -3.2013328857401957 False\n",
            "Episode 758, Total Reward: -2044.9745522008016\n",
            "2 -7.653020649610424 False\n",
            "5 -5.77799343429354 False\n",
            "8 -4.071101157390693 False\n",
            "3 -2.6150299035155595 False\n",
            "9 -5.895412073873364 False\n",
            "1 -9.070180154761154 False\n",
            "Episode 759, Total Reward: -2035.0827373734446\n",
            "4 -10.843880223714587 False\n",
            "6 -11.374743052916678 False\n",
            "5 -2.5146136553162997 False\n",
            "8 -4.071101157390693 False\n",
            "1 -6.742121402603406 False\n",
            "9 -9.070180154761154 False\n",
            "Episode 760, Total Reward: -2044.6166396467029\n",
            "9 -8.579293986144062 False\n"
          ]
        },
        {
          "output_type": "stream",
          "name": "stderr",
          "text": [
            "WARNING:absl:Skipping variable loading for optimizer 'Adam', because it has 13 variables whereas the saved optimizer has 1 variables. \n",
            "WARNING:absl:Skipping variable loading for optimizer 'Adam', because it has 13 variables whereas the saved optimizer has 1 variables. \n"
          ]
        },
        {
          "output_type": "stream",
          "name": "stdout",
          "text": [
            "2 -2.2550833802954076 False\n",
            "3 -6.841918956903541 False\n"
          ]
        },
        {
          "output_type": "stream",
          "name": "stderr",
          "text": [
            "WARNING:absl:Skipping variable loading for optimizer 'Adam', because it has 13 variables whereas the saved optimizer has 1 variables. \n",
            "WARNING:absl:Skipping variable loading for optimizer 'Adam', because it has 13 variables whereas the saved optimizer has 1 variables. \n"
          ]
        },
        {
          "output_type": "stream",
          "name": "stdout",
          "text": [
            "8 -2.6150299035155595 False\n",
            "6 -5.004577401674917 False\n"
          ]
        },
        {
          "output_type": "stream",
          "name": "stderr",
          "text": [
            "WARNING:absl:Skipping variable loading for optimizer 'Adam', because it has 13 variables whereas the saved optimizer has 1 variables. \n",
            "WARNING:absl:Skipping variable loading for optimizer 'Adam', because it has 13 variables whereas the saved optimizer has 1 variables. \n"
          ]
        },
        {
          "output_type": "stream",
          "name": "stdout",
          "text": [
            "4 -11.374743052916678 False\n",
            "5 -8.86012987256621 False\n"
          ]
        },
        {
          "output_type": "stream",
          "name": "stderr",
          "text": [
            "WARNING:absl:Skipping variable loading for optimizer 'Adam', because it has 13 variables whereas the saved optimizer has 1 variables. \n",
            "WARNING:absl:Skipping variable loading for optimizer 'Adam', because it has 13 variables whereas the saved optimizer has 1 variables. \n"
          ]
        },
        {
          "output_type": "stream",
          "name": "stdout",
          "text": [
            "1 -3.2013328857401957 False\n",
            "Episode 761, Total Reward: -1048.7321094397564\n",
            "9 -8.579293986144062 False\n",
            "3 -5.895412073873364 False\n",
            "4 -6.980965374268762 False\n",
            "2 -4.585675628012074 False\n",
            "7 -1.1138456925079876 False\n",
            "Episode 762, Total Reward: -2527.155192754806\n",
            "2 -7.653020649610424 False\n",
            "8 -8.192416453410834 False\n",
            "6 -5.004577401674917 False\n",
            "5 -2.5146136553162997 False\n",
            "1 -3.2013328857401957 False\n",
            "7 -8.63933616755769 False\n",
            "3 -7.705775893101598 False\n",
            "Episode 763, Total Reward: -1542.911073106412\n",
            "3 -6.226340755216833 False\n",
            "7 -7.705775893101598 False\n",
            "1 -8.63933616755769 False\n",
            "8 -6.742121402603406 False\n",
            "9 -7.853704773177191 False\n",
            "Episode 764, Total Reward: -2537.1672789916565\n",
            "6 -0.557563640416601 False\n",
            "9 -9.089599829761081 False\n",
            "7 -2.3673957673885857 False\n",
            "1 -8.63933616755769 False\n",
            "4 -11.509995892926003 False\n",
            "8 -9.351745191179539 False\n",
            "Episode 765, Total Reward: -2041.5156364892296\n",
            "1 -2.2601094764485308 False\n",
            "6 -2.0415606574273 False\n",
            "3 -6.75623719662853 False\n",
            "4 -6.980965374268762 False\n",
            "5 -8.86012987256621 False\n",
            "9 -6.591803321334266 False\n",
            "Episode 766, Total Reward: -2033.4908058986737\n",
            "5 -1.9895625089960105 False\n",
            "2 -5.77799343429354 False\n",
            "9 -2.2550833802954076 False\n",
            "3 -5.895412073873364 False\n",
            "1 -8.062794569850828 False\n",
            "4 -11.509995892926003 False\n",
            "8 -9.351745191179539 False\n",
            "Episode 767, Total Reward: -1544.8425870514147\n",
            "1 -2.2601094764485308 False\n",
            "3 -8.062794569850828 False\n",
            "8 -2.6150299035155595 False\n",
            "6 -5.004577401674917 False\n",
            "9 -9.089599829761081 False\n",
            "5 -6.591803321334266 False\n",
            "Episode 768, Total Reward: -2033.6239145025852\n",
            "6 -0.557563640416601 False\n",
            "5 -2.5146136553162997 False\n",
            "2 -5.77799343429354 False\n",
            "4 -4.585675628012074 False\n",
            "3 -6.980965374268762 False\n",
            "7 -7.705775893101598 False\n",
            "Episode 769, Total Reward: -2028.1225876254089\n",
            "6 -0.557563640416601 False\n",
            "3 -6.75623719662853 False\n",
            "8 -2.6150299035155595 False\n",
            "7 -9.21539248558825 False\n",
            "5 -6.890753875802023 False\n",
            "1 -3.2013328857401957 False\n",
            "Episode 770, Total Reward: -2029.2363099876911\n",
            "6 -0.557563640416601 False\n"
          ]
        },
        {
          "output_type": "stream",
          "name": "stderr",
          "text": [
            "WARNING:absl:Skipping variable loading for optimizer 'Adam', because it has 13 variables whereas the saved optimizer has 1 variables. \n",
            "WARNING:absl:Skipping variable loading for optimizer 'Adam', because it has 13 variables whereas the saved optimizer has 1 variables. \n"
          ]
        },
        {
          "output_type": "stream",
          "name": "stdout",
          "text": [
            "8 -5.004577401674917 False\n",
            "9 -7.853704773177191 False\n"
          ]
        },
        {
          "output_type": "stream",
          "name": "stderr",
          "text": [
            "WARNING:absl:Skipping variable loading for optimizer 'Adam', because it has 13 variables whereas the saved optimizer has 1 variables. \n",
            "WARNING:absl:Skipping variable loading for optimizer 'Adam', because it has 13 variables whereas the saved optimizer has 1 variables. \n"
          ]
        },
        {
          "output_type": "stream",
          "name": "stdout",
          "text": [
            "3 -5.895412073873364 False\n",
            "2 -6.841918956903541 False\n"
          ]
        },
        {
          "output_type": "stream",
          "name": "stderr",
          "text": [
            "WARNING:absl:Skipping variable loading for optimizer 'Adam', because it has 13 variables whereas the saved optimizer has 1 variables. \n"
          ]
        },
        {
          "output_type": "stream",
          "name": "stdout",
          "text": [
            "Episode 771, Total Reward: -2526.1531768460454\n",
            "7 -8.756186467218008 False\n",
            "2 -1.1138456925079876 False\n",
            "9 -2.2550833802954076 False\n",
            "5 -6.591803321334266 False\n",
            "6 -2.5146136553162997 False\n",
            "8 -5.004577401674917 False\n",
            "1 -6.742121402603406 False\n",
            "Episode 772, Total Reward: -1532.9782313209505\n",
            "9 -8.579293986144062 False\n",
            "5 -6.591803321334266 False\n",
            "2 -5.77799343429354 False\n",
            "8 -8.192416453410834 False\n",
            "4 -9.351745191179539 False\n",
            "3 -6.980965374268762 False\n",
            "Episode 773, Total Reward: -2045.474217760631\n",
            "6 -0.557563640416601 False\n",
            "8 -5.004577401674917 False\n",
            "1 -6.742121402603406 False\n",
            "2 -7.620784652302808 False\n",
            "9 -2.2550833802954076 False\n",
            "Episode 774, Total Reward: -2522.1801304772935\n",
            "8 -4.569044986778715 False\n",
            "7 -9.21539248558825 False\n",
            "3 -7.705775893101598 False\n",
            "9 -5.895412073873364 False\n",
            "1 -9.070180154761154 False\n",
            "6 -2.0415606574273 False\n",
            "4 -11.374743052916678 False\n",
            "Episode 775, Total Reward: -1549.872109304447\n",
            "8 -4.569044986778715 False\n",
            "1 -6.742121402603406 False\n",
            "2 -7.620784652302808 False\n",
            "3 -6.841918956903541 False\n",
            "7 -7.705775893101598 False\n",
            "Episode 776, Total Reward: -2533.47964589169\n",
            "4 -10.843880223714587 False\n",
            "7 -4.250813147599771 False\n",
            "1 -8.63933616755769 False\n",
            "9 -9.070180154761154 False\n",
            "5 -6.591803321334266 False\n",
            "Episode 777, Total Reward: -2539.3960130149676\n",
            "5 -1.9895625089960105 False\n",
            "9 -6.591803321334266 False\n",
            "3 -5.895412073873364 False\n",
            "7 -7.705775893101598 False\n",
            "1 -8.63933616755769 False\n",
            "8 -6.742121402603406 False\n",
            "Episode 778, Total Reward: -2037.5640113674667\n",
            "8 -4.569044986778715 False\n",
            "4 -9.351745191179539 False\n",
            "5 -8.86012987256621 False\n",
            "1 -3.2013328857401957 False\n",
            "2 -7.620784652302808 False\n",
            "Episode 779, Total Reward: -2533.6030375885675\n",
            "3 -6.226340755216833 False\n",
            "8 -2.6150299035155595 False\n",
            "1 -6.742121402603406 False\n",
            "9 -9.070180154761154 False\n",
            "2 -2.2550833802954076 False\n",
            "7 -1.1138456925079876 False\n",
            "Episode 780, Total Reward: -2028.0226012889004\n",
            "2 -7.653020649610424 False\n"
          ]
        },
        {
          "output_type": "stream",
          "name": "stderr",
          "text": [
            "WARNING:absl:Skipping variable loading for optimizer 'Adam', because it has 13 variables whereas the saved optimizer has 1 variables. \n",
            "WARNING:absl:Skipping variable loading for optimizer 'Adam', because it has 13 variables whereas the saved optimizer has 1 variables. \n"
          ]
        },
        {
          "output_type": "stream",
          "name": "stdout",
          "text": [
            "7 -1.1138456925079876 False\n",
            "6 -9.189377103453513 False\n"
          ]
        },
        {
          "output_type": "stream",
          "name": "stderr",
          "text": [
            "WARNING:absl:Skipping variable loading for optimizer 'Adam', because it has 13 variables whereas the saved optimizer has 1 variables. \n",
            "WARNING:absl:Skipping variable loading for optimizer 'Adam', because it has 13 variables whereas the saved optimizer has 1 variables. \n"
          ]
        },
        {
          "output_type": "stream",
          "name": "stdout",
          "text": [
            "8 -5.004577401674917 False\n",
            "3 -2.6150299035155595 False\n"
          ]
        },
        {
          "output_type": "stream",
          "name": "stderr",
          "text": [
            "WARNING:absl:Skipping variable loading for optimizer 'Adam', because it has 13 variables whereas the saved optimizer has 1 variables. \n",
            "WARNING:absl:Skipping variable loading for optimizer 'Adam', because it has 13 variables whereas the saved optimizer has 1 variables. \n"
          ]
        },
        {
          "output_type": "stream",
          "name": "stdout",
          "text": [
            "5 -4.905091251117594 False\n"
          ]
        },
        {
          "output_type": "stream",
          "name": "stderr",
          "text": [
            "WARNING:absl:Skipping variable loading for optimizer 'Adam', because it has 13 variables whereas the saved optimizer has 1 variables. \n"
          ]
        },
        {
          "output_type": "stream",
          "name": "stdout",
          "text": [
            "1 -3.2013328857401957 False\n",
            "Episode 781, Total Reward: -1533.6822748876202\n",
            "5 -1.9895625089960105 False\n",
            "9 -6.591803321334266 False\n",
            "6 -9.089599829761081 False\n",
            "8 -5.004577401674917 False\n",
            "1 -6.742121402603406 False\n",
            "Episode 782, Total Reward: -2529.4176644643694\n",
            "5 -1.9895625089960105 False\n",
            "1 -3.2013328857401957 False\n",
            "3 -8.062794569850828 False\n",
            "7 -7.705775893101598 False\n",
            "6 -9.189377103453513 False\n",
            "2 -8.093492715402329 False\n",
            "9 -2.2550833802954076 False\n",
            "8 -7.853704773177191 False\n",
            "Episode 783, Total Reward: -1048.351123830017\n",
            "7 -8.756186467218008 False\n",
            "1 -8.63933616755769 False\n",
            "9 -9.070180154761154 False\n",
            "2 -2.2550833802954076 False\n",
            "6 -8.093492715402329 False\n",
            "8 -5.004577401674917 False\n",
            "Episode 784, Total Reward: -2041.8188562869095\n",
            "7 -8.756186467218008 False\n",
            "2 -1.1138456925079876 False\n",
            "6 -8.093492715402329 False\n",
            "1 -2.0415606574273 False\n",
            "9 -9.070180154761154 False\n",
            "Episode 785, Total Reward: -2529.075265687317\n",
            "9 -8.579293986144062 False\n",
            "5 -6.591803321334266 False\n",
            "1 -3.2013328857401957 False\n",
            "8 -6.742121402603406 False\n",
            "4 -9.351745191179539 False\n",
            "3 -6.980965374268762 False\n",
            "2 -6.841918956903541 False\n",
            "Episode 786, Total Reward: -1548.289181118174\n",
            "1 -2.2601094764485308 False\n",
            "6 -2.0415606574273 False\n",
            "5 -2.5146136553162997 False\n",
            "4 -8.86012987256621 False\n",
            "8 -9.351745191179539 False\n",
            "9 -7.853704773177191 False\n",
            "Episode 787, Total Reward: -2032.881863626115\n",
            "9 -8.579293986144062 False\n",
            "5 -6.591803321334266 False\n",
            "8 -4.071101157390693 False\n",
            "6 -5.004577401674917 False\n",
            "3 -6.75623719662853 False\n",
            "7 -7.705775893101598 False\n",
            "4 -4.250813147599771 False\n",
            "Episode 788, Total Reward: -1542.959602103874\n",
            "9 -8.579293986144062 False\n",
            "3 -5.895412073873364 False\n",
            "5 -4.905091251117594 False\n",
            "6 -2.5146136553162997 False\n",
            "7 -9.189377103453513 False\n",
            "8 -9.21539248558825 False\n",
            "1 -6.742121402603406 False\n",
            "Episode 789, Total Reward: -1547.0413019580965\n",
            "9 -8.579293986144062 False\n",
            "6 -9.089599829761081 False\n",
            "8 -5.004577401674917 False\n",
            "2 -8.192416453410834 False\n",
            "1 -7.620784652302808 False\n",
            "4 -11.509995892926003 False\n"
          ]
        },
        {
          "output_type": "stream",
          "name": "stderr",
          "text": [
            "WARNING:absl:Skipping variable loading for optimizer 'Adam', because it has 13 variables whereas the saved optimizer has 1 variables. \n"
          ]
        },
        {
          "output_type": "stream",
          "name": "stdout",
          "text": [
            "Episode 790, Total Reward: -2049.99666821622\n",
            "8 -4.569044986778715 False\n"
          ]
        },
        {
          "output_type": "stream",
          "name": "stderr",
          "text": [
            "WARNING:absl:Skipping variable loading for optimizer 'Adam', because it has 13 variables whereas the saved optimizer has 1 variables. \n"
          ]
        },
        {
          "output_type": "stream",
          "name": "stdout",
          "text": [
            "6 -5.004577401674917 False\n",
            "2 -8.093492715402329 False\n"
          ]
        },
        {
          "output_type": "stream",
          "name": "stderr",
          "text": [
            "WARNING:absl:Skipping variable loading for optimizer 'Adam', because it has 13 variables whereas the saved optimizer has 1 variables. \n",
            "WARNING:absl:Skipping variable loading for optimizer 'Adam', because it has 13 variables whereas the saved optimizer has 1 variables. \n"
          ]
        },
        {
          "output_type": "stream",
          "name": "stdout",
          "text": [
            "4 -4.585675628012074 False\n"
          ]
        },
        {
          "output_type": "stream",
          "name": "stderr",
          "text": [
            "WARNING:absl:Skipping variable loading for optimizer 'Adam', because it has 13 variables whereas the saved optimizer has 1 variables. \n"
          ]
        },
        {
          "output_type": "stream",
          "name": "stdout",
          "text": [
            "1 -11.509995892926003 False\n"
          ]
        },
        {
          "output_type": "stream",
          "name": "stderr",
          "text": [
            "WARNING:absl:Skipping variable loading for optimizer 'Adam', because it has 13 variables whereas the saved optimizer has 1 variables. \n"
          ]
        },
        {
          "output_type": "stream",
          "name": "stdout",
          "text": [
            "9 -9.070180154761154 False\n",
            "5 -6.591803321334266 False\n"
          ]
        },
        {
          "output_type": "stream",
          "name": "stderr",
          "text": [
            "WARNING:absl:Skipping variable loading for optimizer 'Adam', because it has 13 variables whereas the saved optimizer has 1 variables. \n"
          ]
        },
        {
          "output_type": "stream",
          "name": "stdout",
          "text": [
            "Episode 791, Total Reward: -1549.4247701008894\n",
            "4 -10.843880223714587 False\n",
            "8 -9.351745191179539 False\n",
            "2 -8.192416453410834 False\n",
            "5 -5.77799343429354 False\n",
            "1 -3.2013328857401957 False\n",
            "7 -8.63933616755769 False\n",
            "Episode 792, Total Reward: -2046.0067043558965\n",
            "9 -8.579293986144062 False\n",
            "2 -2.2550833802954076 False\n",
            "8 -8.192416453410834 False\n",
            "3 -2.6150299035155595 False\n",
            "Episode 793, Total Reward: -3021.6418237233656\n",
            "8 -4.569044986778715 False\n",
            "1 -6.742121402603406 False\n",
            "6 -2.0415606574273 False\n",
            "3 -6.75623719662853 False\n",
            "5 -4.905091251117594 False\n",
            "4 -8.86012987256621 False\n",
            "7 -4.250813147599771 False\n",
            "9 -2.3673957673885857 False\n",
            "Episode 794, Total Reward: -1040.4923942821101\n",
            "3 -6.226340755216833 False\n",
            "8 -2.6150299035155595 False\n",
            "4 -9.351745191179539 False\n",
            "2 -4.585675628012074 False\n",
            "6 -8.093492715402329 False\n",
            "1 -2.0415606574273 False\n",
            "9 -9.070180154761154 False\n",
            "Episode 795, Total Reward: -1541.9840250055147\n",
            "2 -7.653020649610424 False\n",
            "1 -7.620784652302808 False\n",
            "6 -2.0415606574273 False\n",
            "3 -6.75623719662853 False\n",
            "7 -7.705775893101598 False\n",
            "Episode 796, Total Reward: -2531.777379049071\n",
            "7 -8.756186467218008 False\n",
            "4 -4.250813147599771 False\n",
            "1 -11.509995892926003 False\n",
            "2 -7.620784652302808 False\n",
            "5 -5.77799343429354 False\n",
            "3 -4.905091251117594 False\n",
            "Episode 797, Total Reward: -2042.8208648454577\n",
            "6 -0.557563640416601 False\n",
            "9 -9.089599829761081 False\n",
            "1 -9.070180154761154 False\n",
            "3 -8.062794569850828 False\n",
            "Episode 798, Total Reward: -3026.7801381947893\n",
            "1 -2.2601094764485308 False\n",
            "3 -8.062794569850828 False\n",
            "8 -2.6150299035155595 False\n",
            "4 -9.351745191179539 False\n",
            "7 -4.250813147599771 False\n",
            "6 -9.189377103453513 False\n",
            "5 -2.5146136553162997 False\n",
            "Episode 799, Total Reward: -1538.244483047364\n",
            "8 -4.569044986778715 False\n",
            "3 -2.6150299035155595 False\n",
            "4 -6.980965374268762 False\n",
            "7 -4.250813147599771 False\n",
            "1 -8.63933616755769 False\n",
            "Episode 800, Total Reward: -2527.0551895797207\n",
            "Optimal Path: [0, 0, 5, 9, 2, 4, 7, 9, 1, 7, 7]\n",
            "Optimal Path Length: 39.74985007594496\n",
            "real_Optimal Path: [0, 6, 1, 5, 2, 7, 9, 4, 3, 8]\n",
            "real_Optimal Path Length: 31.721641589813903\n"
          ]
        }
      ],
      "source": [
        "# TSP 환경 생성\n",
        "numnodes, maxvalue = 10,10\n",
        "points = randcoord(numnodes, maxvalue)  # 간단한 예시 좌표\n",
        "tsp_env = Env(points)\n",
        "\n",
        "# DQN 에이전트 생성\n",
        "agent = Agent(states_size=2*tsp_env.n_stops, actions_size=len(points))\n",
        "\n",
        "# DQN 학습\n",
        "num_episodes = 800\n",
        "history = []\n",
        "for episode in range(num_episodes):\n",
        "    tsp_env, agent, total_reward = run_episode(tsp_env, agent, episode, verbose=1)\n",
        "    history.append(total_reward)\n",
        "    print(f\"Episode {episode + 1}, Total Reward: {total_reward}\")\n",
        "\n",
        "# 학습된 에이전트로 최적 경로 예측\n",
        "def predict_optimal_path(env, agent):\n",
        "    s = env.reset()\n",
        "    state = trans(s, [], agent.actions_size)\n",
        "    path = [s]\n",
        "\n",
        "    while len(path) < env.n_stops:\n",
        "        input_data = trans(s, path, agent.actions_size)\n",
        "        a = agent.act(input_data)\n",
        "        s_next, _, _ = env.step(s, a)\n",
        "        path.append(s_next)\n",
        "        s = s_next\n",
        "    path.append(s)\n",
        "    return path\n",
        "\n",
        "# 최적 경로 및 길이 출력\n",
        "optimal_path = predict_optimal_path(tsp_env, agent)\n",
        "optimal_length = sum([tsp_env.dist_matrix[optimal_path[i - 1]][optimal_path[i]] for i in range(1, len(optimal_path))])\n",
        "\n",
        "print(f\"Optimal Path: {optimal_path}\")\n",
        "print(f\"Optimal Path Length: {optimal_length}\")\n",
        "\n",
        "permutation, distance = Findoptsol(np.array(tsp_env.dist_matrix))\n",
        "print(f\"real_Optimal Path: {permutation}\")\n",
        "print(f\"real_Optimal Path Length: {distance}\")\n",
        "\n",
        "# 1000번까지 에피소드를 진행했으나 적합이 잘 되지 않음"
      ]
    }
  ],
  "metadata": {
    "colab": {
      "provenance": []
    },
    "kernelspec": {
      "display_name": "Python 3",
      "name": "python3"
    },
    "language_info": {
      "name": "python"
    }
  },
  "nbformat": 4,
  "nbformat_minor": 0
}